{
 "cells": [
  {
   "cell_type": "code",
   "execution_count": 42,
   "metadata": {},
   "outputs": [],
   "source": [
    "import numpy as np\n",
    "import matplotlib.pyplot as plt\n",
    "plt.style.use('bmh')"
   ]
  },
  {
   "cell_type": "markdown",
   "metadata": {},
   "source": [
    "Calculation of magnatic field of nickel film"
   ]
  },
  {
   "cell_type": "code",
   "execution_count": null,
   "metadata": {},
   "outputs": [],
   "source": [
    "µ0 = 4*np.pi*10**(-7) #vacuum permeability in N/A^2\n",
    "µB = 9.2740100783e-24 #in J/T\n",
    "\n",
    "lp = 0.352e-9/4 #lattice parameter of the fcc unit cell in m\n",
    "m_µB = 0.606 #magnetic moment in µB per nickel atom at 0 K\n",
    "m = m_µB*µB #magnetic moment in J/T\n",
    "\n",
    "m = np.array([0,0,1])*m\n",
    "\n",
    "nx = 2000 #number_of_dipoles in x\n",
    "ny = 5 #\n",
    "\n",
    "ax = nx*lp #length of the square of interest in m\n",
    "ay = ny*lp\n",
    "n_sensor = 100 #granularity of sensor positions\n",
    "standoff = 10e-9\n",
    "\n",
    "#try to calculate the magnetic field from the magnatic moment of several unit cells arragend in a cube beneath the measurement point\n",
    "dipole_positions = np.zeros((ny,nx,3))\n",
    "sensor_positions = np.zeros((n_sensor,3))\n",
    "\n",
    "dip_start=0\n",
    "dip_stop=ax\n",
    "dip_posx = np.linspace(dip_start, dip_stop,nx)\n",
    "\n",
    "dip_start=0\n",
    "dip_stop=ay\n",
    "dip_posy = np.linspace(dip_start, dip_stop,ny)\n",
    "\n",
    "sens_start=-ax*0.2\n",
    "sens_stop=ax*1.2\n",
    "sens_pos = np.linspace(sens_start, sens_stop,n_sensor)\n",
    "\n",
    "for i in range(ny):\n",
    "    for j in range(nx):\n",
    "        dipole_positions[i,j] = np.array([dip_posx[j],dip_posy[i],0])\n",
    "    \n",
    "for i in range(n_sensor):\n",
    "    sensor_positions[i] = np.array([sens_pos[i],ay/2,standoff])\n",
    "\n",
    "b_sensor = np.zeros_like(sensor_positions)\n",
    "\n",
    "for sn, s_pos in enumerate(sensor_positions):\n",
    "    for dny, d_posy in enumerate(dipole_positions):\n",
    "        for dn, d_pos in enumerate(d_posy):\n",
    "            r = s_pos - d_pos\n",
    "            B = µ0/(4*np.pi)*((3*r*np.dot(m,r))/np.linalg.norm(r)**5-m/np.linalg.norm(r)**3)\n",
    "            b_sensor[sn] += B\n",
    "        \n",
    "plt.plot(sens_pos, b_sensor[:,2])\n",
    "plt.show()"
   ]
  },
  {
   "cell_type": "code",
   "execution_count": 28,
   "metadata": {},
   "outputs": [
    {
     "data": {
      "text/plain": [
       "<enumerate at 0x25aa8bd7798>"
      ]
     },
     "execution_count": 28,
     "metadata": {},
     "output_type": "execute_result"
    }
   ],
   "source": [
    "enumerate(dipole_positions)"
   ]
  },
  {
   "cell_type": "markdown",
   "metadata": {},
   "source": [
    "Comparison with CrI3 from 'Direct visualization of magnetic domains and moiré\n",
    "magnetism in twisted 2D magnets'"
   ]
  },
  {
   "cell_type": "code",
   "execution_count": 31,
   "metadata": {
    "scrolled": true
   },
   "outputs": [
    {
     "name": "stdout",
     "output_type": "stream",
     "text": [
      "Maximum magnetization of FM region of twisted double-trilayer CrI3 in µB/nm^2: 30\n",
      "Maximum B field of FM region of twisted double-trilayer CrI3 in mT: 0.5\n",
      "Magnetization of one layer of unit cells of nickel in µB/nm^2 19.563533057851238\n",
      "Magnetization of one thin film of unit cells of nickel in µB/nm^2 277.8910945717505\n"
     ]
    }
   ],
   "source": [
    "print('Maximum magnetization of FM region of twisted double-trilayer CrI3 in µB/nm^2:',30)\n",
    "print('Maximum B field of FM region of twisted double-trilayer CrI3 in mT:',0.5)\n",
    "\n",
    "d = 5e-9\n",
    "A_total = (1e-9)**2\n",
    "A_unit_cell = lp**2\n",
    "m_Area_µB = A_total/A_unit_cell*m_unit_cell_µB\n",
    "m_Area_depth_µB = d/lp*m_Area_µB\n",
    "\n",
    "print('Magnetization of one layer of unit cells of nickel in µB/nm^2',m_Area_µB)\n",
    "print('Magnetization of one thin film of unit cells of nickel in µB/nm^2',m_Area_depth_µB)"
   ]
  },
  {
   "cell_type": "code",
   "execution_count": 23,
   "metadata": {},
   "outputs": [
    {
     "data": {
      "text/plain": [
       "170.45454545454544"
      ]
     },
     "execution_count": 23,
     "metadata": {},
     "output_type": "execute_result"
    }
   ],
   "source": [
    "d = 20e-9\n",
    "number_layers = d/lp*3\n",
    "number_layers"
   ]
  },
  {
   "cell_type": "code",
   "execution_count": 76,
   "metadata": {},
   "outputs": [
    {
     "name": "stdout",
     "output_type": "stream",
     "text": [
      "5.6200501074498e-24\n"
     ]
    }
   ],
   "source": [
    "m = m_µB*µB\n",
    "print(m)"
   ]
  },
  {
   "cell_type": "code",
   "execution_count": 82,
   "metadata": {},
   "outputs": [
    {
     "name": "stdout",
     "output_type": "stream",
     "text": [
      "5.652967784789106e-24\n",
      "516664.0\n"
     ]
    }
   ],
   "source": [
    "Msat_emu = 58 #in emu/g\n",
    "rho = 8.908 #in g/cm^3\n",
    "Msat = Msat_emu*rho*1000 #in A/m\n",
    "M = 58.6934 # in g/mol\n",
    "NA = 6.022e23 #in 1/mol\n",
    "n = rho*NA/M*1e6 #in atoms/m^3\n",
    "mu = Msat/n\n",
    "print(mu)\n",
    "print(Msat)"
   ]
  },
  {
   "cell_type": "code",
   "execution_count": 80,
   "metadata": {},
   "outputs": [
    {
     "name": "stdout",
     "output_type": "stream",
     "text": [
      "513655.4247714982\n"
     ]
    }
   ],
   "source": [
    "m = m_µB*µB\n",
    "rho = 8.908 #in g/cm^3\n",
    "M = 58.6934 # in g/mol\n",
    "NA = 6.022e23 #in 1/mol\n",
    "n = rho*NA/M*1e6 #in\n",
    "Msat = n*m\n",
    "print(Msat)"
   ]
  },
  {
   "cell_type": "code",
   "execution_count": 6,
   "metadata": {},
   "outputs": [
    {
     "name": "stdout",
     "output_type": "stream",
     "text": [
      "B field in T: 0.0004000000000000001\n",
      "B field in mT: 0.4000000000000001\n",
      "B field in Gauss: 4.000000000000001\n"
     ]
    }
   ],
   "source": [
    "µ0 = 4*np.pi*10**(-7) #vacuum permeability in N/A^2\n",
    "I = 0.1*10**(-3) #current in A\n",
    "r= 50*10**(-9) #radisu/distance in m\n",
    "\n",
    "B = µ0*I/(2*np.pi*r) #B field in T\n",
    "BmT = B*10**3 #B field in mT\n",
    "BG = B*10**4 #B field in Gauss\n",
    "print('B field in T:',B)\n",
    "print('B field in mT:',BmT)\n",
    "print('B field in Gauss:',BG)"
   ]
  }
 ],
 "metadata": {
  "kernelspec": {
   "display_name": "Python 3",
   "language": "python",
   "name": "python3"
  },
  "language_info": {
   "codemirror_mode": {
    "name": "ipython",
    "version": 3
   },
   "file_extension": ".py",
   "mimetype": "text/x-python",
   "name": "python",
   "nbconvert_exporter": "python",
   "pygments_lexer": "ipython3",
   "version": "3.6.5"
  }
 },
 "nbformat": 4,
 "nbformat_minor": 5
}
