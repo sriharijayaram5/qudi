{
 "cells": [
  {
   "cell_type": "code",
   "execution_count": 2,
   "metadata": {},
   "outputs": [],
   "source": [
    "import numpy as np\n",
    "import matplotlib.pyplot as plt\n",
    "import glob\n",
    "import re"
   ]
  },
  {
   "cell_type": "markdown",
   "metadata": {},
   "source": [
    "Get filenames"
   ]
  },
  {
   "cell_type": "code",
   "execution_count": 29,
   "metadata": {},
   "outputs": [],
   "source": [
    "base_path = \"G:\\\\Data\\\\Projects\\\\NbSe2\\\\Tc correlation measurements\\\\\"\n",
    "timetraces = glob.glob(base_path + \"Timetrace\\\\*.txt\")\n",
    "podmrs = glob.glob(base_path + \"PODMR\\\\*_range0.dat\")\n",
    "hechos = glob.glob(base_path + \"Hecho\\\\*_pulsed_measurement.dat\")"
   ]
  },
  {
   "cell_type": "markdown",
   "metadata": {},
   "source": [
    "Analyse timetraces"
   ]
  },
  {
   "cell_type": "code",
   "execution_count": 21,
   "metadata": {
    "scrolled": false
   },
   "outputs": [],
   "source": [
    "def autocorr(x):\n",
    "    result = np.correlate(x, x, mode='full')\n",
    "    ret = (result[(result.size // 2):])\n",
    "    return ret\n",
    "\n",
    "autocorr_sum = np.zeros(len(timetraces))\n",
    "temps = np.zeros(len(timetraces))\n",
    "\n",
    "for i in range(len(timetraces[:])):\n",
    "    path = timetraces[i]\n",
    "    data = np.loadtxt(path)\n",
    "    tempstr = re.search(r'\\d.\\dK', path)\n",
    "    temps[i] = float(tempstr.group()[:-1])\n",
    "    \n",
    "    binwidth = 100 #in us\n",
    "    total_time = 2e6 #in us\n",
    "    y = data.copy()\n",
    "\n",
    "    ycorr = autocorr(y/y.mean())\n",
    "    x_axis = np.linspace(0, total_time, int(total_time/binwidth))*1e-6\n",
    "    \n",
    "    autocorr_sum[i] = np.sum(ycorr[:])\n",
    "\n",
    "#     plt.plot(x_axis[1:], ycorr[1:], '-', linewidth=0.2)\n",
    "#     plt.xlabel(f'Time (s)')\n",
    "#     plt.ylabel('Autocorr. intensity (arb.u.)')\n",
    "#     plt.legend()\n",
    "\n",
    "#     plt.title(path)\n",
    "#     plt.show()\n",
    "\n",
    "plt.plot(temps, autocorr_sum,'o-')\n",
    "plt.show()"
   ]
  },
  {
   "cell_type": "markdown",
   "metadata": {},
   "source": [
    "Analyse PODMR"
   ]
  },
  {
   "cell_type": "code",
   "execution_count": 22,
   "metadata": {
    "scrolled": true
   },
   "outputs": [],
   "source": [
    "podmr_meas0 = np.zeros(len(podmrs))\n",
    "podmr_meas1 = np.zeros(len(podmrs))\n",
    "podmr_meas2 = np.zeros(len(podmrs))\n",
    "temps = np.zeros(len(podmrs))\n",
    "\n",
    "for i in range(len(podmrs)):\n",
    "    path = podmrs[i]\n",
    "    data_raw = np.loadtxt(path).T\n",
    "    \n",
    "    tempstr = re.search(r'\\d.\\dK', path)\n",
    "    temp = float(tempstr.group()[:-1])\n",
    "    \n",
    "    var_list,data = (data_raw[0],data_raw[1])\n",
    "\n",
    "    mode = ''\n",
    "\n",
    "    #Determine fit\n",
    "\n",
    "    if mode == 'double':\n",
    "        fit = afm_scanner_logic._fitlogic.make_lorentziandouble_fit(var_list,data,estimator=afm_scanner_logic._fitlogic.estimate_lorentziandouble_dip)\n",
    "        lm,_ = fitlogic.make_lorentziandouble_model()\n",
    "\n",
    "    elif mode == 'N15':\n",
    "        fit = afm_scanner_logic._fitlogic.make_lorentziandouble_fit(var_list,data,estimator=afm_scanner_logic._fitlogic.estimate_lorentziandouble_N15)\n",
    "        lm,_ = fitlogic.make_lorentziandouble_model()\n",
    "\n",
    "    elif mode == 'N14':\n",
    "        fit = afm_scanner_logic._fitlogic.make_lorentziandouble_fit(var_list,data,estimator=afm_scanner_logic._fitlogic.estimate_lorentziandouble_N14)\n",
    "        lm,_ = fitlogic.make_lorentziandouble_model()\n",
    "\n",
    "    else:    \n",
    "        fit = afm_scanner_logic._fitlogic.make_lorentzian_fit(var_list,data,estimator=afm_scanner_logic._fitlogic.estimate_lorentzian_dip)\n",
    "        lm,_ = fitlogic.make_lorentzian_model()\n",
    "\n",
    "    bias_res_freq = fit.params['center'].value\n",
    "\n",
    "    #Plot Data an\n",
    "#     plt.plot(var_list,data,'bo')\n",
    "\n",
    "#     x = np.linspace(var_list[0],var_list[-1],10000, endpoint=True)\n",
    "#     plt.plot(x, lm.eval(fit.params, x=x),'r-')\n",
    "#     plt.title(temp)\n",
    "\n",
    "#     plt.show()\n",
    "    fwhm_bias = fit.params['fwhm'].value*1e-6 #FWHM in MHz\n",
    "    fwhm_bias_err = fit.params['fwhm'].stderr*1e-6 #FWHM in MHz\n",
    "    bias_res_freq = fit.params['center'].value*1e-6 #FWHM in MHz\n",
    "    podmr_meas0[i] = fwhm_bias\n",
    "    podmr_meas1[i] = bias_res_freq\n",
    "    podmr_meas2[i] = fit.params['contrast'].value*-1\n",
    "    temps[i] = temp\n",
    "#     print(bias_res_freq,'MHz')\n",
    "#     print(fwhm_bias,'MHz')"
   ]
  },
  {
   "cell_type": "code",
   "execution_count": 23,
   "metadata": {
    "scrolled": true
   },
   "outputs": [],
   "source": [
    "plt.plot(temps, podmr_meas1)\n",
    "plt.ylabel(\"Res freq. (MHz)\")\n",
    "plt.xlabel(\"Temp. (K)\")\n",
    "plt.show()\n",
    "\n",
    "plt.plot(temps, podmr_meas0)\n",
    "plt.ylabel(\"FWHM (MHz)\")\n",
    "plt.xlabel(\"Temp. (K)\")\n",
    "plt.show()\n",
    "\n",
    "plt.plot(temps, podmr_meas2)\n",
    "plt.ylabel(\"Contrast (percent)\")\n",
    "plt.xlabel(\"Temp. (K)\")\n",
    "plt.show()"
   ]
  },
  {
   "cell_type": "markdown",
   "metadata": {},
   "source": [
    "Analyse HEcho"
   ]
  },
  {
   "cell_type": "code",
   "execution_count": 30,
   "metadata": {
    "scrolled": true
   },
   "outputs": [],
   "source": [
    "hecho_meas0 = np.zeros(len(hechos))\n",
    "hecho_meas0_err = np.zeros(len(hechos))\n",
    "hecho_meas1 = np.zeros(len(hechos))\n",
    "temp = np.zeros(len(hechos))\n",
    "\n",
    "for i in range(len(hechos[:])):\n",
    "    path = hechos[i]\n",
    "    data_raw = np.loadtxt(path).T\n",
    "    \n",
    "    tempstr = re.search(r'\\d.\\dK', path)\n",
    "    temp[i] = float(tempstr.group()[:-1])\n",
    "    \n",
    "    var_list = data_raw[0]\n",
    "\n",
    "    mode = 'exp_decay'\n",
    "    plot_option = 3 #1 = Signal1, 2 = Signal2, 3 = delta of signals\n",
    "    err = None\n",
    "\n",
    "    #Choose what to plot\n",
    "    if plot_option == 3:\n",
    "        data = data_raw[1] - data_raw[2]\n",
    "        shift = (data_raw.shape[0]-1)//2\n",
    "        err1 = abs(data_raw[1+shift])\n",
    "        err2 = abs(data_raw[2+shift])\n",
    "        err = err1+err2\n",
    "    else:\n",
    "        data = data_raw[plot_option]\n",
    "        shift = (data_raw.shape[0]-1)//2\n",
    "        err = data_raw[plot_option+shift]\n",
    "\n",
    "    plt.title(f\"{temp[i]}\")\n",
    "\n",
    "    plt.xlabel('Frequency (Hz)')\n",
    "\n",
    "    #Determine fi\n",
    "    if mode == 'exp_decay':\n",
    "        fit = afm_scanner_logic._fitlogic.make_decayexponential_fit(var_list[9:],data[9:],estimator=afm_scanner_logic._fitlogic.estimate_decayexponential)\n",
    "        lm,_ = fitlogic.make_decayexponential_model()\n",
    "        leg = f\"Lifetime ({mode}): {round(fit.params['lifetime']*1e6,2)} us +- {round(fit.params['lifetime'].stderr*1e6,2)} us\"\n",
    "        plt.xlabel('Time (s)')\n",
    "\n",
    "\n",
    "    #Plot Data an\n",
    "#     plt.plot(var_list,data,'bo')\n",
    "#     if not err is None:\n",
    "#         plt.errorbar(x=var_list, y=data,\n",
    "#                      yerr=err, fmt='-o', color='blue',\n",
    "#                      capsize=2, capthick=0.9,\n",
    "#                      elinewidth=1.2)\n",
    "\n",
    "#     x = np.linspace(var_list[0],var_list[-1],10000, endpoint=True)\n",
    "#     plt.plot(x, lm.eval(fit.params, x=x),'r-',label=leg)\n",
    "\n",
    "#     plt.legend()\n",
    "\n",
    "#     plt.rcParams['figure.figsize'] = (9, 6)\n",
    "#     fontsize = 12\n",
    "#     # with open(filepath+f'_jupyter_plot_{plot_option}_{mode}.png', 'wb') as f:\n",
    "#     #     plt.savefig(f,format='png',dpi=600)\n",
    "#     plt.show()\n",
    "    hecho_meas0[i] = fit.params['lifetime']*1e6\n",
    "    hecho_meas0_err[i] = fit.params['lifetime'].stderr*1e6\n",
    "\n"
   ]
  },
  {
   "cell_type": "code",
   "execution_count": 32,
   "metadata": {
    "scrolled": false
   },
   "outputs": [],
   "source": [
    "plt.style.use('default')\n",
    "# plt.plot(temp, hecho_meas0)\n",
    "\n",
    "color1 = (80/255,80/255,255/255)\n",
    "color2 = (255/255,80/255,80/255)\n",
    "\n",
    "plt.errorbar(x=temp, y=hecho_meas0,\n",
    "                     yerr=hecho_meas0_err, fmt='-o', color=color1,\n",
    "                     capsize=2, capthick=0.9,\n",
    "                     elinewidth=1.2)\n",
    "\n",
    "plt.xlabel('Temp. (K)')\n",
    "plt.ylabel('T2 time ($\\mu$s)')\n",
    "plt.xlim(1.5,10)\n",
    "plt.ylim(0.2,1.8)\n",
    "\n",
    "with open(base_path+f'_jupyter_plot_setD1.svg', 'wb') as f:\n",
    "    plt.savefig(f,format='svg',dpi=700)\n",
    "\n",
    "plt.show()"
   ]
  },
  {
   "cell_type": "code",
   "execution_count": 26,
   "metadata": {},
   "outputs": [],
   "source": [
    "print(temp)"
   ]
  },
  {
   "cell_type": "code",
   "execution_count": null,
   "metadata": {},
   "outputs": [],
   "source": []
  },
  {
   "cell_type": "code",
   "execution_count": null,
   "metadata": {},
   "outputs": [],
   "source": []
  }
 ],
 "metadata": {
  "kernelspec": {
   "display_name": "Qudi",
   "language": "python",
   "name": "sj5-qudi"
  },
  "language_info": {
   "codemirror_mode": {
    "name": "ipython",
    "version": "3.6.5"
   },
   "file_extension": ".py",
   "mimetype": "text/x-python",
   "name": "python",
   "nbconvert_exporter": "python",
   "pygments_lexer": "ipython3",
   "version": "3.6.5"
  }
 },
 "nbformat": 4,
 "nbformat_minor": 2
}
