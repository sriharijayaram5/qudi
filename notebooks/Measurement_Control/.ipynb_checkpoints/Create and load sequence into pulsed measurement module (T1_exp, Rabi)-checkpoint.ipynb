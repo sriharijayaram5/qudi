{
 "cells": [
  {
   "cell_type": "code",
   "execution_count": 2,
   "metadata": {},
   "outputs": [],
   "source": [
    "import logic.pulsed.pulse_objects as po\n",
    "from logic.pulsed.sampling_functions import SamplingFunctions as SF\n",
    "import time\n",
    "import matplotlib.pyplot as plt\n",
    "pml = pulsedmeasurementlogic\n",
    "pmal = pulsedmasterlogic"
   ]
  },
  {
   "cell_type": "markdown",
   "metadata": {},
   "source": [
    "#### Define pulse block creation class"
   ]
  },
  {
   "cell_type": "code",
   "execution_count": 5,
   "metadata": {},
   "outputs": [],
   "source": [
    "class qudi_pulse_block:\n",
    "\n",
    "    def __init__(self, pi_pulse=1e-9):\n",
    "        \n",
    "        self.pi_pulse = pi_pulse\n",
    "    \n",
    "    def make_t1_exp_pulse_block(self, tau_start, tau_stop, tau_num):\n",
    "        '''\n",
    "        '''\n",
    "        self.tau_arr = np.logspace(np.log10(tau_start), np.log10(tau_stop), num=tau_num)\n",
    "        ele = [] \n",
    "        \n",
    "        for tau in self.tau_arr:\n",
    "\n",
    "            a_ch = {'a_ch1': SF.DC(0.1), 'a_ch2': SF.DC(0)}\n",
    "            d_ch = { 'd_ch1': False, 'd_ch2': False, 'd_ch3': False, 'd_ch4': False, 'd_ch5': False, 'd_ch6': False, 'd_ch7': False, 'd_ch8': False}\n",
    "            ele.append(po.PulseBlockElement(init_length_s=1.5e-6,  pulse_function=a_ch, digital_high=d_ch))\n",
    "\n",
    "            a_ch = {'a_ch1': SF.DC(0.1), 'a_ch2': SF.DC(0)}\n",
    "            d_ch = { 'd_ch1': False, 'd_ch2': False, 'd_ch3': False, 'd_ch4': False, 'd_ch5': True, 'd_ch6': False, 'd_ch7': False, 'd_ch8': False}\n",
    "            ele.append(po.PulseBlockElement(init_length_s=self.pi_pulse,  pulse_function=a_ch, digital_high=d_ch))\n",
    "\n",
    "            a_ch = {'a_ch1': SF.DC(0.1), 'a_ch2': SF.DC(0)}\n",
    "            d_ch = { 'd_ch1': False, 'd_ch2': False, 'd_ch3': False, 'd_ch4': False, 'd_ch5': False, 'd_ch6': False, 'd_ch7': False, 'd_ch8': False}\n",
    "            ele.append(po.PulseBlockElement(init_length_s=1e-6,  pulse_function=a_ch, digital_high=d_ch))\n",
    "\n",
    "            a_ch = {'a_ch1': SF.DC(0.1), 'a_ch2': SF.DC(0)}\n",
    "            d_ch = { 'd_ch1': False, 'd_ch2': False, 'd_ch3': True, 'd_ch4': False, 'd_ch5': False, 'd_ch6': False, 'd_ch7': False, 'd_ch8': False}\n",
    "            ele.append(po.PulseBlockElement(init_length_s=tau,  pulse_function=a_ch, digital_high=d_ch))\n",
    "\n",
    "            a_ch = {'a_ch1': SF.DC(0.1), 'a_ch2': SF.DC(0)}\n",
    "            d_ch = { 'd_ch1': True, 'd_ch2': True, 'd_ch3': False, 'd_ch4': False, 'd_ch5': False, 'd_ch6': False, 'd_ch7': False, 'd_ch8': False}\n",
    "            ele.append(po.PulseBlockElement(init_length_s=3e-6,  pulse_function=a_ch, digital_high=d_ch))\n",
    "\n",
    "            a_ch = {'a_ch1': SF.DC(0.1), 'a_ch2': SF.DC(0)}\n",
    "            d_ch = { 'd_ch1': False, 'd_ch2': False, 'd_ch3': False, 'd_ch4': False, 'd_ch5': False, 'd_ch6': False, 'd_ch7': False, 'd_ch8': False}\n",
    "            ele.append(po.PulseBlockElement(init_length_s=1.5e-6,  pulse_function=a_ch, digital_high=d_ch))\n",
    "\n",
    "            a_ch = {'a_ch1': SF.DC(0.1), 'a_ch2': SF.DC(0)}\n",
    "            d_ch = { 'd_ch1': False, 'd_ch2': False, 'd_ch3': False, 'd_ch4': False, 'd_ch5': False, 'd_ch6': False, 'd_ch7': False, 'd_ch8': False}\n",
    "            ele.append(po.PulseBlockElement(init_length_s=self.pi_pulse,  pulse_function=a_ch, digital_high=d_ch))\n",
    "\n",
    "            a_ch = {'a_ch1': SF.DC(0.1), 'a_ch2': SF.DC(0)}\n",
    "            d_ch = { 'd_ch1': False, 'd_ch2': False, 'd_ch3': False, 'd_ch4': False, 'd_ch5': False, 'd_ch6': False, 'd_ch7': False, 'd_ch8': False}\n",
    "            ele.append(po.PulseBlockElement(init_length_s=1e-6,  pulse_function=a_ch, digital_high=d_ch))\n",
    "\n",
    "            a_ch = {'a_ch1': SF.DC(0.1), 'a_ch2': SF.DC(0)}\n",
    "            d_ch = { 'd_ch1': False, 'd_ch2': False, 'd_ch3': True, 'd_ch4': False, 'd_ch5': False, 'd_ch6': False, 'd_ch7': False, 'd_ch8': False}\n",
    "            ele.append(po.PulseBlockElement(init_length_s=tau,  pulse_function=a_ch, digital_high=d_ch))\n",
    "\n",
    "            a_ch = {'a_ch1': SF.DC(0.1), 'a_ch2': SF.DC(0)}\n",
    "            d_ch = { 'd_ch1': True, 'd_ch2': True, 'd_ch3': False, 'd_ch4': False, 'd_ch5': False, 'd_ch6': False, 'd_ch7': False, 'd_ch8': False}\n",
    "            ele.append(po.PulseBlockElement(init_length_s=3e-6,  pulse_function=a_ch, digital_high=d_ch))\n",
    "\n",
    "        pulse_block = po.PulseBlock(name='t1-exp-block-jupyter', element_list=ele)\n",
    "        sequencegeneratorlogic.save_block(pulse_block)\n",
    "    \n",
    "    def make_rabi_pulse_block(self, tau_start, tau_incr):\n",
    "        '''\n",
    "        '''\n",
    "        ele = [] \n",
    "        \n",
    "        a_ch = {'a_ch1': SF.DC(0.1), 'a_ch2': SF.DC(0)}\n",
    "        d_ch = { 'd_ch1': False, 'd_ch2': False, 'd_ch3': False, 'd_ch4': False, 'd_ch5': False, 'd_ch6': False, 'd_ch7': False, 'd_ch8': False}\n",
    "        ele.append(po.PulseBlockElement(init_length_s=1.5e-6,  pulse_function=a_ch, digital_high=d_ch))\n",
    "\n",
    "        a_ch = {'a_ch1': SF.DC(0.1), 'a_ch2': SF.DC(0)}\n",
    "        d_ch = { 'd_ch1': False, 'd_ch2': False, 'd_ch3': False, 'd_ch4': False, 'd_ch5': True, 'd_ch6': False, 'd_ch7': False, 'd_ch8': False}\n",
    "        ele.append(po.PulseBlockElement(init_length_s=tau_start, increment_s=tau_incr, pulse_function=a_ch, digital_high=d_ch))\n",
    "\n",
    "        a_ch = {'a_ch1': SF.DC(0.1), 'a_ch2': SF.DC(0)}\n",
    "        d_ch = { 'd_ch1': False, 'd_ch2': False, 'd_ch3': True, 'd_ch4': False, 'd_ch5': False, 'd_ch6': False, 'd_ch7': False, 'd_ch8': False}\n",
    "        ele.append(po.PulseBlockElement(init_length_s=1e-6,  pulse_function=a_ch, digital_high=d_ch))\n",
    "\n",
    "        a_ch = {'a_ch1': SF.DC(0.1), 'a_ch2': SF.DC(0)}\n",
    "        d_ch = { 'd_ch1': True, 'd_ch2': True, 'd_ch3': False, 'd_ch4': False, 'd_ch5': False, 'd_ch6': False, 'd_ch7': False, 'd_ch8': False}\n",
    "        ele.append(po.PulseBlockElement(init_length_s=3e-6,  pulse_function=a_ch, digital_high=d_ch))\n",
    "\n",
    "        pulse_block = po.PulseBlock(name='rabi-block-jupyter', element_list=ele)\n",
    "        sequencegeneratorlogic.save_block(pulse_block)"
   ]
  },
  {
   "cell_type": "markdown",
   "metadata": {},
   "source": [
    "#### Load and ready T1<sub>exp</sub> sequence"
   ]
  },
  {
   "cell_type": "code",
   "execution_count": 41,
   "metadata": {},
   "outputs": [
    {
     "name": "stdout",
     "output_type": "stream",
     "text": [
      "invoke_settings:\n",
      "  False\n",
      "controlled_variable:\n",
      "  [1.00000000e-06 3.32742119e-06 1.10717318e-05 3.68403150e-05\n",
      " 1.22583245e-04 4.07886087e-04 1.35720881e-03 4.51600535e-03\n",
      " 1.50266519e-02 5.00000000e-02]\n",
      "number_of_lasers:\n",
      "  20\n",
      "laser_ignore_list:\n",
      "  []\n",
      "alternating:\n",
      "  True\n",
      "units:\n",
      "  ('s', 'arb. u.')\n",
      "labels:\n",
      "  ['Tau', 'Signal']\n"
     ]
    }
   ],
   "source": [
    "PB = qudi_pulse_block(pi_pulse=135e-9)\n",
    "afm_scanner_logic.run_IQ_freq(2.76e9,2.74515e9,-15)\n",
    "tau_start, tau_stop, tau_num = (1e-6, 50e-3, 10)\n",
    "PB.make_t1_exp_pulse_block(tau_start, tau_stop, tau_num)\n",
    "\n",
    "tau_arr = PB.tau_arr\n",
    "# If the pulse sequence has been generated not using predefined methods (e.g. using the graphical table editor) the \n",
    "# measurement settings have to be given manually.\n",
    "# In the same way as setting the generation parameters you can either pass a settings dictionary or single keyword \n",
    "# arguments or a combination of both:\n",
    "pulsedmasterlogic.set_measurement_settings(invoke_settings=False, \n",
    "                                           controlled_variable=tau_arr,\n",
    "                                           number_of_lasers=tau_num*2, \n",
    "                                           laser_ignore_list=[], \n",
    "                                           alternating=True, \n",
    "                                           units=('s', 'arb. u.'))\n",
    "time.sleep(0.5)\n",
    "pulsedmasterlogic.set_fast_counter_settings(record_length=3e-6, number_of_gates=tau_num*2)\n",
    "time.sleep(0.5)\n",
    "for setting, value in pulsedmasterlogic.measurement_settings.items():\n",
    "    print('{0}:\\n  {1}'.format(setting, value))"
   ]
  },
  {
   "cell_type": "markdown",
   "metadata": {},
   "source": [
    "#### Load regular Rabi sequence"
   ]
  },
  {
   "cell_type": "code",
   "execution_count": 8,
   "metadata": {},
   "outputs": [],
   "source": [
    "PB = qudi_pulse_block()\n",
    "# afm_scanner_logic.run_IQ_freq(2.76e9,2.74515e9,-15)\n",
    "tau_start, tau_incr = (10e-9, 25e-9)\n",
    "PB.make_rabi_pulse_block(tau_start, tau_incr)"
   ]
  }
 ],
 "metadata": {
  "kernelspec": {
   "display_name": "Qudi",
   "language": "python",
   "name": "sj5-qudi"
  },
  "language_info": {
   "codemirror_mode": {
    "name": "ipython",
    "version": "3.6.5"
   },
   "file_extension": ".py",
   "mimetype": "text/x-python",
   "name": "python",
   "nbconvert_exporter": "python",
   "pygments_lexer": "ipython3",
   "version": "3.6.5"
  },
  "toc-autonumbering": true,
  "toc-showcode": true,
  "toc-showmarkdowntxt": true
 },
 "nbformat": 4,
 "nbformat_minor": 4
}
