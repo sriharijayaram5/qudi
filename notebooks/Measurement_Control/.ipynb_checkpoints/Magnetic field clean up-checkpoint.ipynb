{
 "cells": [
  {
   "cell_type": "markdown",
   "metadata": {},
   "source": [
    "The superconducting magnet shows hysteresis for performing in higher fields (e.g. 200mT). Thus, going straight to zero field, a residual field of several mT (e.g. 6.5mT) remains. This code helps to clean up and bring back the system to a close to zero field condition without warming up the  magnet above its critical temperature."
   ]
  },
  {
   "cell_type": "code",
   "execution_count": 19,
   "metadata": {},
   "outputs": [
    {
     "name": "stdout",
     "output_type": "stream",
     "text": [
      "Current position {'rho': 0.2699180245926529, 'theta': 54.87516187351408, 'phi': 178.5983892617904} \n",
      "\n",
      "\n",
      "{'rho': 0, 'theta': 2.1838404013321124, 'phi': 6.25872258496652}\n",
      "{'rho': 0.2699180245926529, 'theta': 2.1838404013321124, 'phi': 6.25872258496652}\n",
      "{'rho': 0, 'theta': 0.9577522522576807, 'phi': 3.117129931376727}\n",
      "{'rho': 0.13406885519866615, 'theta': 0.9577522522576807, 'phi': 3.117129931376727}\n",
      "{'rho': 0, 'theta': 2.1838404013321124, 'phi': 6.25872258496652}\n",
      "{'rho': 0.06659228468127347, 'theta': 2.1838404013321124, 'phi': 6.25872258496652}\n",
      "{'rho': 0, 'theta': 0.9577522522576807, 'phi': 3.117129931376727}\n",
      "{'rho': 0.033076529015635896, 'theta': 0.9577522522576807, 'phi': 3.117129931376727}\n",
      "{'rho': 0, 'theta': 2.1838404013321124, 'phi': 6.25872258496652}\n",
      "{'rho': 0.016429182103581814, 'theta': 2.1838404013321124, 'phi': 6.25872258496652}\n",
      "{'rho': 0, 'theta': 0.9577522522576807, 'phi': 3.117129931376727}\n",
      "{'rho': 0.008160409590288558, 'theta': 0.9577522522576807, 'phi': 3.117129931376727}\n",
      "{'rho': 0, 'theta': 2.1838404013321124, 'phi': 6.25872258496652}\n",
      "{'rho': 0.004053292748319792, 'theta': 2.1838404013321124, 'phi': 6.25872258496652}\n",
      "{'rho': 0, 'theta': 0.9577522522576807, 'phi': 3.117129931376727}\n",
      "{'rho': 0.002013279103432952, 'theta': 0.9577522522576807, 'phi': 3.117129931376727}\n",
      "{'rho': 0, 'theta': 2.1838404013321124, 'phi': 6.25872258496652}\n",
      "{'rho': 0.001, 'theta': 2.1838404013321124, 'phi': 6.25872258496652}\n",
      "{'rho': 0, 'theta': 0.9577522522576807, 'phi': 3.117129931376727}\n",
      "{'rho': 0.0, 'theta': 0.9577522522576807, 'phi': 3.117129931376727}\n"
     ]
    }
   ],
   "source": [
    "from tqdm import tqdm\n",
    "import time\n",
    "#First define the steps to ramp down the magnet\n",
    "# DEFINING MEASUREMENT PARAMETERS\n",
    "sweep_steps = 10\n",
    "\n",
    "# DEFINING MAGNETIC FIELD VECTORS\n",
    "curr_pos_dict = magnetlogic.get_pos() #get current position\n",
    "print('Current position', curr_pos_dict,\"\\n\\n\")\n",
    "theta = np.deg2rad(curr_pos_dict['theta'])\n",
    "phi = np.deg2rad(curr_pos_dict['phi'])\n",
    "rho = curr_pos_dict['rho']\n",
    "\n",
    "start = rho \n",
    "stop = 1e-3\n",
    "sweep_arr = np.zeros(sweep_steps)\n",
    "sweep_arr[:-1] = np.logspace(np.log10(start), np.log10(stop), num=sweep_steps-1)\n",
    "aps_magnet.check_precision = 0.0001\n",
    "magnetlogic._checktime = 0.2\n",
    "\n",
    "b_arr = []\n",
    "for idx, rho_val in enumerate(sweep_arr):\n",
    "    theta = np.pi-theta\n",
    "    phi = np.pi+phi\n",
    "    phi = phi if phi<2*np.pi else phi-2*np.pi\n",
    "    move_dict =  {'rho':0, 'theta':theta, 'phi': phi}\n",
    "    print(move_dict)\n",
    "    b_arr.append(move_dict)\n",
    "    move_dict =  {'rho':rho_val, 'theta':theta, 'phi': phi}\n",
    "    print(move_dict)\n",
    "    b_arr.append(move_dict)"
   ]
  },
  {
   "cell_type": "markdown",
   "metadata": {},
   "source": [
    "### Moving magnet along the ramp down directions"
   ]
  },
  {
   "cell_type": "code",
   "execution_count": null,
   "metadata": {},
   "outputs": [
    {
     "name": "stderr",
     "output_type": "stream",
     "text": [
      "\r",
      "  0%|                                                                                              | 0/20 [00:00<?, ?it/s]"
     ]
    },
    {
     "name": "stdout",
     "output_type": "stream",
     "text": [
      "Magnet check time out!\n"
     ]
    }
   ],
   "source": [
    "odmrlogic.stop_jupyter_meas = False\n",
    "for move_dict in tqdm(b_arr):    \n",
    "    check_start_time = time.time()\n",
    "    magnetlogic._magnet_device.move_abs(move_dict)\n",
    "    \n",
    "    while magnetlogic._check_is_moving():\n",
    "        if (time.time()-check_start_time)>30:\n",
    "            print('Magnet check time out!')\n",
    "            break\n",
    "        time.sleep(magnetlogic._checktime)\n",
    "    \n",
    "    if odmrlogic.stop_jupyter_meas:\n",
    "        print('Measurement force stopped!')\n",
    "        break"
   ]
  }
 ],
 "metadata": {
  "kernelspec": {
   "display_name": "Qudi",
   "language": "python",
   "name": "sj5-qudi"
  },
  "language_info": {
   "codemirror_mode": {
    "name": "ipython",
    "version": "3.6.5"
   },
   "file_extension": ".py",
   "mimetype": "text/x-python",
   "name": "python",
   "nbconvert_exporter": "python",
   "pygments_lexer": "ipython3",
   "version": "3.6.5"
  }
 },
 "nbformat": 4,
 "nbformat_minor": 2
}
