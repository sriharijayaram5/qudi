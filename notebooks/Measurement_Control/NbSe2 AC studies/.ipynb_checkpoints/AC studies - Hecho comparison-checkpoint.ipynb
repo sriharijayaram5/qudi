{
 "cells": [
  {
   "cell_type": "code",
   "execution_count": 1,
   "metadata": {},
   "outputs": [],
   "source": [
    "import numpy as np\n",
    "import matplotlib.pyplot as plt\n",
    "import glob\n",
    "import re"
   ]
  },
  {
   "cell_type": "code",
   "execution_count": 2,
   "metadata": {},
   "outputs": [],
   "source": [
    "def data_raw_to_data(data_raw, data_option):\n",
    "    plot_option = data_option #1 = Signal1, 2 = Signal2, 3 = delta of signals\n",
    "    err = None\n",
    "\n",
    "    #Choose what to plot\n",
    "    if plot_option == 3:\n",
    "        data = data_raw[1] - data_raw[2]\n",
    "        shift = (data_raw.shape[0]-1)//2\n",
    "        err1 = abs(data_raw[1+shift])\n",
    "        err2 = abs(data_raw[2+shift])\n",
    "        err = err1+err2\n",
    "    else:\n",
    "        data = data_raw[plot_option]\n",
    "        shift = (data_raw.shape[0]-1)//2\n",
    "        err = data_raw[plot_option+shift]\n",
    "        \n",
    "    return data, err"
   ]
  },
  {
   "cell_type": "code",
   "execution_count": 5,
   "metadata": {},
   "outputs": [],
   "source": [
    "base_path = \"G:\\\\Data\\\\Projects\\\\NbSe2\\\\S4\\\\AC studies\\\\\"\n",
    "hechos_OOC_paths_CS = glob.glob(base_path + \"Set C\\\\Hecho_8mTvs9mT\\\\*_OOC*_pulsed_measurement.dat\")\n",
    "hechos_OOC_paths_C0 = glob.glob(base_path + \"Set C\\\\Hecho_8mTvs9mT\\\\*_OOC*_pulsed_measurement.dat\")\n",
    "hechos_IC_paths_CS = glob.glob(base_path + \"Set C\\\\Hecho_8mTvs9mT\\\\*_IC*_pulsed_measurement.dat\")\n",
    "hechos_IC_paths_C0 = glob.glob(base_path + \"Set C\\\\Hecho_8mTvs9mT\\\\*_IC*_pulsed_measurement.dat\")"
   ]
  },
  {
   "cell_type": "code",
   "execution_count": 6,
   "metadata": {},
   "outputs": [
    {
     "name": "stderr",
     "output_type": "stream",
     "text": [
      "Traceback (most recent call last):\n",
      "  File \"C:\\Users\\yy3\\Documents\\Software\\qudi\\logic\\jupyterkernel\\qzmqkernel.py\", line 679, in run_code\n",
      "    exec(code_obj, self.user_global_ns, self.user_ns)\n",
      "  File \"<ipython-input-6-b82a7a91c657>\", line 10, in <module>\n",
      "    data_raw_IC_CS = np.loadtxt(hechos_IC_paths_CS[0]).T\n",
      "IndexError: list index out of range\n"
     ]
    }
   ],
   "source": [
    "fig = plt.figure(figsize=(35,20))\n",
    "ax1 = fig.add_subplot(2, 2, 1)\n",
    "ax2 = fig.add_subplot(2, 2, 2)\n",
    "# ax1.set_xscale('log')\n",
    "# ax2.set_xscale('log')\n",
    "\n",
    "data_raw_OOC_CS = np.loadtxt(hechos_OOC_paths_CS[0]).T\n",
    "#C0 is the siganl for case, where the MW is off-resonant to the NV. It is not needed for this calculation\n",
    "data_raw_OOC_C0 = np.loadtxt(hechos_OOC_paths_C0[0]).T\n",
    "data_raw_IC_CS = np.loadtxt(hechos_IC_paths_CS[0]).T\n",
    "data_raw_IC_C0 = np.loadtxt(hechos_IC_paths_C0[0]).T\n",
    "\n",
    "data_OOC_CS, err_OOC_CS = data_raw_to_data(data_raw_OOC_CS, 3)\n",
    "data_OOC_C0, err_OOC_C0 = data_raw_to_data(data_raw_OOC_C0, 2)\n",
    "data_IC_CS, err_IC_CS = data_raw_to_data(data_raw_IC_CS, 3)\n",
    "data_IC_C0, err_IC_C0 = data_raw_to_data(data_raw_IC_C0, 2)\n",
    "\n",
    "signal_OOC = data_OOC_CS\n",
    "signal_IC = data_IC_CS\n",
    "\n",
    "signal_err_OOC = err_OOC_CS\n",
    "signal_err_IC = err_IC_CS\n",
    "\n",
    "signal_err_OOC = np.sqrt((err_OOC_CS/signal_OOC[0])**2+(signal_OOC/signal_OOC[0]**2*err_OOC_CS[0])**2)\n",
    "\n",
    "signal_err_IC = np.sqrt((err_IC_CS/signal_IC[0])**2+(signal_IC/signal_IC[0]**2*err_IC_CS[0])**2)\n",
    "\n",
    "signal_delta = signal_OOC/signal_OOC[0]-signal_IC/signal_IC[0] #signal_OOC-signal_IC\n",
    "signal_delta_err = signal_err_OOC+signal_err_IC\n",
    "\n",
    "var_list = data_raw_OOC_CS[0]*1e6\n",
    "\n",
    "ax1.errorbar(x=var_list, y=signal_OOC/signal_OOC[0],\n",
    "                         yerr=signal_err_OOC, fmt='-o',\n",
    "                         capsize=2, capthick=0.9,\n",
    "                        elinewidth=1.2, label=f'Hahn Echo signal OOC', color='cornflowerblue')\n",
    "\n",
    "ax1.errorbar(x=var_list, y=signal_IC/signal_IC[0],\n",
    "                         yerr=signal_err_IC, fmt='-o',\n",
    "                         capsize=2, capthick=0.9,\n",
    "                        elinewidth=1.2, label=f'Hahn Echo signal IC', color='lightcoral')\n",
    "\n",
    "ax2.errorbar(x=var_list, y=signal_delta,\n",
    "                         yerr=signal_delta_err, fmt='-o',\n",
    "                         capsize=2, capthick=0.9,\n",
    "                        elinewidth=1.2, label=f'Hahn Echo signal delta', color='black')\n",
    "\n",
    "\n",
    "ax1.title.set_text('Hahn Echo signal')\n",
    "ax2.title.set_text('Hahn Echo signal delta')\n",
    "\n",
    "ax1.set_xlabel('Time (µs)')\n",
    "ax1.set_ylabel('Signal (a.u.)')\n",
    "ax2.set_xlabel('Time (µs)')\n",
    "ax2.set_ylabel('Signal (a.u.)')\n",
    "\n",
    "ax1.legend()\n",
    "ax2.legend()\n",
    "\n",
    "tau_max = 1.2\n",
    "ax1.vlines(tau_max,-1,1)\n",
    "ax2.vlines(tau_max,-1,1)\n",
    "\n",
    "plt.rcParams['figure.figsize'] = (9, 6)\n",
    "fontsize = 12\n",
    "plt.show()"
   ]
  },
  {
   "cell_type": "code",
   "execution_count": null,
   "metadata": {},
   "outputs": [],
   "source": []
  }
 ],
 "metadata": {
  "kernelspec": {
   "display_name": "Qudi",
   "language": "python",
   "name": "sj5-qudi"
  },
  "language_info": {
   "codemirror_mode": {
    "name": "ipython",
    "version": "3.6.5"
   },
   "file_extension": ".py",
   "mimetype": "text/x-python",
   "name": "python",
   "nbconvert_exporter": "python",
   "pygments_lexer": "ipython3",
   "version": "3.6.5"
  }
 },
 "nbformat": 4,
 "nbformat_minor": 2
}
