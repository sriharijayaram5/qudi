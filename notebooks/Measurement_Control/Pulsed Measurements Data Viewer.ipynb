{
 "cells": [
  {
   "cell_type": "code",
   "execution_count": 1,
   "metadata": {},
   "outputs": [],
   "source": [
    "import matplotlib.pyplot as plt\n",
    "from mpl_toolkits.axes_grid1 import make_axes_locatable\n",
    "import numpy as np\n",
    "import pickle\n",
    "plt.style.use('seaborn')"
   ]
  },
  {
   "cell_type": "markdown",
   "metadata": {},
   "source": [
    "### Define file location of pulsed measurement"
   ]
  },
  {
   "cell_type": "code",
   "execution_count": 1,
   "metadata": {},
   "outputs": [],
   "source": [
    "path = 'G:\\\\Data\\\\Qudi_Data\\\\2023\\\\11\\\\20231106\\\\PulsedMeasurement\\\\'\n",
    "# path = 'G:\\\\Data\\\\Qudi_Data\\\\2023\\\\10\\\\20231023\\\\PODMR\\\\'\n",
    "filebeginning = '20231106-0927-38_setD_24mTBnv_FC_10K_IC_-3dbm_T1_pulsed_measurement' #here the beginning of the filename, including the date and sample name, is needed\n",
    "filepath = path + filebeginning"
   ]
  },
  {
   "cell_type": "markdown",
   "metadata": {},
   "source": [
    "### Load and plot pulsed measurement"
   ]
  },
  {
   "cell_type": "code",
   "execution_count": 3,
   "metadata": {},
   "outputs": [
    {
     "data": {
      "image/png": "[encoded data removed]"
     },
     "metadata": {
      "image/png": {
       "height": 374,
       "width": 548
      }
     },
     "output_type": "display_data"
    }
   ],
   "source": [
    "#Gathering data from dictonary\n",
    "data_raw = np.loadtxt(filepath + '.dat').T\n",
    "var_list = data_raw[0]\n",
    "\n",
    "mode = 'bi_exp'\n",
    "plot_option = 2 #1 = Signal1, 2 = Signal2, 3 = delta of signals\n",
    "err = None\n",
    "\n",
    "#Choose what to plot\n",
    "if plot_option == 3:\n",
    "    data = data_raw[1] - data_raw[2]\n",
    "    shift = (data_raw.shape[0]-1)//2\n",
    "    err1 = abs(data_raw[1+shift])\n",
    "    err2 = abs(data_raw[2+shift])\n",
    "    err = err1+err2\n",
    "else:\n",
    "    data = data_raw[plot_option]\n",
    "    shift = (data_raw.shape[0]-1)//2\n",
    "    err = data_raw[plot_option+shift]\n",
    "leg = filebeginning+'\\n'\n",
    "\n",
    "plt.xlabel('Frequency (Hz)')\n",
    "\n",
    "#Determine fi\n",
    "if mode == 'exp_decay':\n",
    "    fit = afm_scanner_logic._fitlogic.make_decayexponential_fit(var_list,data,estimator=afm_scanner_logic._fitlogic.estimate_decayexponential)\n",
    "    lm,_ = fitlogic.make_decayexponential_model()\n",
    "    leg += f\"Lifetime ({mode}): {round(fit.params['lifetime']*1e6,2)} us +- {round(fit.params['lifetime'].stderr*1e6,2)} us\"\n",
    "    plt.xlabel('Time (s)')\n",
    "\n",
    "elif mode == 'exp_decay_stretched':\n",
    "    fit = afm_scanner_logic._fitlogic.make_decayexponentialstretched_fit(var_list,data,estimator=afm_scanner_logic._fitlogic.estimate_decayexponentialstretched)\n",
    "    lm,_ = fitlogic.make_decayexponentialstretched_model()\n",
    "    leg += f\"Lifetime ({mode}): {round(fit.params['lifetime']*1e6,2)} us +- {round(fit.params['lifetime'].stderr*1e6,2)} us\"\n",
    "    plt.xlabel('Time (s)')\n",
    "    \n",
    "elif mode == 'bi_exp':\n",
    "    fit = afm_scanner_logic._fitlogic.make_biexponential_fit(var_list,data,estimator=afm_scanner_logic._fitlogic.estimate_biexponential)\n",
    "    lm,_ = fitlogic.make_biexponential_model()\n",
    "#     leg += f\"Lifetime ({mode}): {round(fit.params['lifetime']*1e6,2)} us +- {round(fit.params['lifetime'].stderr*1e6,2)} us\"\n",
    "    plt.xlabel('Time (s)')    \n",
    "    \n",
    "elif mode == 'double':\n",
    "    fit = afm_scanner_logic._fitlogic.make_lorentziandouble_fit(var_list,data,estimator=afm_scanner_logic._fitlogic.estimate_lorentziandouble_dip)\n",
    "    lm,_ = fitlogic.make_lorentziandouble_model()\n",
    "    \n",
    "elif mode == 'N15':\n",
    "    fit = afm_scanner_logic._fitlogic.make_lorentziandouble_fit(var_list,data,estimator=afm_scanner_logic._fitlogic.estimate_lorentziandouble_N15)\n",
    "    lm,_ = fitlogic.make_lorentziandouble_model()\n",
    "    \n",
    "elif mode == 'N14':\n",
    "    fit = afm_scanner_logic._fitlogic.make_lorentziandouble_fit(var_list,data,estimator=afm_scanner_logic._fitlogic.estimate_lorentziandouble_N14)\n",
    "    lm,_ = fitlogic.make_lorentziandouble_model()\n",
    "    \n",
    "else:    \n",
    "    fit = afm_scanner_logic._fitlogic.make_lorentzian_fit(var_list,data,estimator=afm_scanner_logic._fitlogic.estimate_lorentzian_dip)\n",
    "    lm,_ = fitlogic.make_lorentzian_model()\n",
    "    leg += f\"FWHM ({mode}): {round(fit.params['fwhm']*1e-6,2)} MHz +- {round(fit.params['fwhm'].stderr*1e-6,2)} MHz\"\n",
    "\n",
    "# print(fit.fit_report())\n",
    "\n",
    "#Plot Data an\n",
    "plt.plot(var_list,data,'bo')\n",
    "# if not err is None:\n",
    "#     plt.errorbar(x=var_list, y=data,\n",
    "#                  yerr=err, fmt='-o', color='blue',\n",
    "#                  capsize=2, capthick=0.9,\n",
    "#                  elinewidth=1.2)\n",
    "\n",
    "x = np.linspace(var_list[0],var_list[-1],10000, endpoint=True)\n",
    "plt.plot(x, lm.eval(fit.params, x=x),'r-',label=leg)\n",
    "\n",
    "plt.legend()\n",
    "\n",
    "plt.rcParams['figure.figsize'] = (9, 6)\n",
    "fontsize = 12\n",
    "with open(filepath+f'_jupyter_plot_{plot_option}_{mode}.png', 'wb') as f:\n",
    "    plt.savefig(f,format='png',dpi=600)\n",
    "plt.show()\n",
    "\n"
   ]
  },
  {
   "cell_type": "code",
   "execution_count": null,
   "metadata": {},
   "outputs": [],
   "source": [
    "T1_1 = 2771e-6 #err 1007e-6"
   ]
  }
 ],
 "metadata": {
  "kernelspec": {
   "display_name": "Qudi",
   "language": "python",
   "name": "sj5-qudi"
  },
  "language_info": {
   "codemirror_mode": {
    "name": "ipython",
    "version": "3.6.5"
   },
   "file_extension": ".py",
   "mimetype": "text/x-python",
   "name": "python",
   "nbconvert_exporter": "python",
   "pygments_lexer": "ipython3",
   "version": "3.6.5"
  }
 },
 "nbformat": 4,
 "nbformat_minor": 2
}
