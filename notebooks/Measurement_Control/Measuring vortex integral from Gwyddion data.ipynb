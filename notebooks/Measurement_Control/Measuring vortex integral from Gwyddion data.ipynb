{
 "cells": [
  {
   "cell_type": "markdown",
   "metadata": {},
   "source": [
    "## Scan 68\n",
    "165mT 5.5K Fast"
   ]
  },
  {
   "cell_type": "code",
   "execution_count": 6,
   "metadata": {},
   "outputs": [],
   "source": [
    "path = 'G:\\\\Data\\\\Qudi_Data\\\\2023\\\\12\\\\20231224\\\\AttoDRY2200_Pi3_SPM\\\\'\n",
    "filebeginning = '20231224-0010-49_scan68_laser_0.06V_165mT_Bnv_FC_IC_step_5.5K_autosave_NbSe2_S2_A-T17-12_QAFM_jupyter_corrected_masked_JV' #here the beginning of the filename, including the date and sample name, is needed\n",
    "filepath = path + filebeginning + '.txt'"
   ]
  },
  {
   "cell_type": "code",
   "execution_count": 7,
   "metadata": {},
   "outputs": [
    {
     "name": "stdout",
     "output_type": "stream",
     "text": [
      "For:  G:\\Data\\Qudi_Data\\2023\\12\\20231224\\AttoDRY2200_Pi3_SPM\\20231224-0010-49_scan68_laser_0.06V_165mT_Bnv_FC_IC_step_5.5K_autosave_NbSe2_S2_A-T17-12_QAFM_jupyter_corrected_masked_JV.txt\n",
      "Sum of the masked area is:  8.048687700000001e-05\n"
     ]
    }
   ],
   "source": [
    "data_raw = np.loadtxt(filepath).T\n",
    "print('For: ', filepath)\n",
    "sum_JV = np.sum(data_raw)\n",
    "print('Sum of the masked area is: ', sum_JV)"
   ]
  },
  {
   "cell_type": "code",
   "execution_count": 8,
   "metadata": {},
   "outputs": [],
   "source": [
    "path = 'G:\\\\Data\\\\Qudi_Data\\\\2023\\\\12\\\\20231224\\\\AttoDRY2200_Pi3_SPM\\\\'\n",
    "filebeginning = '20231224-0010-49_scan68_laser_0.06V_165mT_Bnv_FC_IC_step_5.5K_autosave_NbSe2_S2_A-T17-12_QAFM_jupyter_corrected_masked_AV' #here the beginning of the filename, including the date and sample name, is needed\n",
    "filepath = path + filebeginning + '.txt'"
   ]
  },
  {
   "cell_type": "code",
   "execution_count": 9,
   "metadata": {},
   "outputs": [
    {
     "name": "stdout",
     "output_type": "stream",
     "text": [
      "For:  G:\\Data\\Qudi_Data\\2023\\12\\20231224\\AttoDRY2200_Pi3_SPM\\20231224-0010-49_scan68_laser_0.06V_165mT_Bnv_FC_IC_step_5.5K_autosave_NbSe2_S2_A-T17-12_QAFM_jupyter_corrected_masked_AV.txt\n",
      "Sum of the masked area is:  0.0001415548398\n"
     ]
    }
   ],
   "source": [
    "data_raw = np.loadtxt(filepath).T\n",
    "print('For: ', filepath)\n",
    "sum_AV = np.sum(data_raw)\n",
    "print('Sum of the masked area is: ', sum_AV)"
   ]
  },
  {
   "cell_type": "code",
   "execution_count": 10,
   "metadata": {},
   "outputs": [
    {
     "data": {
      "text/plain": [
       "0.5685914880319055"
      ]
     },
     "execution_count": 10,
     "metadata": {},
     "output_type": "execute_result"
    }
   ],
   "source": [
    "sum_JV/sum_AV"
   ]
  },
  {
   "cell_type": "markdown",
   "metadata": {},
   "source": [
    "## Scan 76\n",
    "165mT 5.5K Slow"
   ]
  },
  {
   "cell_type": "code",
   "execution_count": 1,
   "metadata": {},
   "outputs": [],
   "source": [
    "path = 'G:\\\\Data\\\\Qudi_Data\\\\2023\\\\12\\\\20231228\\\\AttoDRY2200_Pi3_SPM\\\\'\n",
    "filebeginning = '20231228-2158-43_scan76_laser_0.06V_165mT_Bnv_FC_slow_IC_step_5.5K_autosave_NbSe2_S2_A-T17-12_QAFM_jupyter_corrected_masked_JV' #here the beginning of the filename, including the date and sample name, is needed\n",
    "filepath = path + filebeginning + '.txt'"
   ]
  },
  {
   "cell_type": "code",
   "execution_count": 2,
   "metadata": {},
   "outputs": [
    {
     "name": "stdout",
     "output_type": "stream",
     "text": [
      "For:  G:\\Data\\Qudi_Data\\2023\\12\\20231228\\AttoDRY2200_Pi3_SPM\\20231228-2158-43_scan76_laser_0.06V_165mT_Bnv_FC_slow_IC_step_5.5K_autosave_NbSe2_S2_A-T17-12_QAFM_jupyter_corrected_masked_JV.txt\n",
      "Sum of the masked area is:  0.00014478895999999998\n"
     ]
    }
   ],
   "source": [
    "data_raw = np.loadtxt(filepath).T\n",
    "print('For: ', filepath)\n",
    "sum_JV = np.sum(data_raw)\n",
    "print('Sum of the masked area is: ', sum_JV)"
   ]
  },
  {
   "cell_type": "code",
   "execution_count": 3,
   "metadata": {},
   "outputs": [],
   "source": [
    "path = 'G:\\\\Data\\\\Qudi_Data\\\\2023\\\\12\\\\20231228\\\\AttoDRY2200_Pi3_SPM\\\\'\n",
    "filebeginning = '20231228-2158-43_scan76_laser_0.06V_165mT_Bnv_FC_slow_IC_step_5.5K_autosave_NbSe2_S2_A-T17-12_QAFM_jupyter_corrected_masked_AV' #here the beginning of the filename, including the date and sample name, is needed\n",
    "filepath = path + filebeginning + '.txt'"
   ]
  },
  {
   "cell_type": "code",
   "execution_count": 4,
   "metadata": {},
   "outputs": [
    {
     "name": "stdout",
     "output_type": "stream",
     "text": [
      "For:  G:\\Data\\Qudi_Data\\2023\\12\\20231228\\AttoDRY2200_Pi3_SPM\\20231228-2158-43_scan76_laser_0.06V_165mT_Bnv_FC_slow_IC_step_5.5K_autosave_NbSe2_S2_A-T17-12_QAFM_jupyter_corrected_masked_AV.txt\n",
      "Sum of the masked area is:  0.00021239314600000002\n"
     ]
    }
   ],
   "source": [
    "data_raw = np.loadtxt(filepath).T\n",
    "print('For: ', filepath)\n",
    "sum_AV = np.sum(data_raw)\n",
    "print('Sum of the masked area is: ', sum_AV)"
   ]
  },
  {
   "cell_type": "code",
   "execution_count": 5,
   "metadata": {},
   "outputs": [
    {
     "data": {
      "text/plain": [
       "0.6817026007044501"
      ]
     },
     "execution_count": 5,
     "metadata": {},
     "output_type": "execute_result"
    }
   ],
   "source": [
    "sum_JV/sum_AV"
   ]
  },
  {
   "cell_type": "markdown",
   "metadata": {},
   "source": [
    "## Scan 77\n",
    "165mT 3.1K Slow"
   ]
  },
  {
   "cell_type": "code",
   "execution_count": 14,
   "metadata": {},
   "outputs": [],
   "source": [
    "path = 'G:\\\\Data\\\\Qudi_Data\\\\2023\\\\12\\\\20231229\\\\AttoDRY2200_Pi3_SPM\\\\'\n",
    "filebeginning = '20231229-1502-15_scan77_laser_0.06V_165mT_Bnv_FC_slow_IC_step_3.1K_autosave_NbSe2_S2_A-T17-12_QAFM_jupyter_corrected_JV_masked' #here the beginning of the filename, including the date and sample name, is needed\n",
    "filepath = path + filebeginning + '.txt'"
   ]
  },
  {
   "cell_type": "code",
   "execution_count": 15,
   "metadata": {},
   "outputs": [
    {
     "name": "stdout",
     "output_type": "stream",
     "text": [
      "For:  G:\\Data\\Qudi_Data\\2023\\12\\20231229\\AttoDRY2200_Pi3_SPM\\20231229-1502-15_scan77_laser_0.06V_165mT_Bnv_FC_slow_IC_step_3.1K_autosave_NbSe2_S2_A-T17-12_QAFM_jupyter_corrected_JV_masked.txt\n",
      "Sum of the masked area is:  0.00163538624\n"
     ]
    }
   ],
   "source": [
    "data_raw = np.loadtxt(filepath).T\n",
    "print('For: ', filepath)\n",
    "sum_JV = np.sum(data_raw)\n",
    "print('Sum of the masked area is: ', sum_JV)"
   ]
  },
  {
   "cell_type": "code",
   "execution_count": 16,
   "metadata": {},
   "outputs": [],
   "source": [
    "path = 'G:\\\\Data\\\\Qudi_Data\\\\2023\\\\12\\\\20231229\\\\AttoDRY2200_Pi3_SPM\\\\'\n",
    "filebeginning = '20231229-1502-15_scan77_laser_0.06V_165mT_Bnv_FC_slow_IC_step_3.1K_autosave_NbSe2_S2_A-T17-12_QAFM_jupyter_corrected_AV_masked' #here the beginning of the filename, including the date and sample name, is needed\n",
    "filepath = path + filebeginning + '.txt'"
   ]
  },
  {
   "cell_type": "code",
   "execution_count": 17,
   "metadata": {},
   "outputs": [
    {
     "name": "stdout",
     "output_type": "stream",
     "text": [
      "For:  G:\\Data\\Qudi_Data\\2023\\12\\20231229\\AttoDRY2200_Pi3_SPM\\20231229-1502-15_scan77_laser_0.06V_165mT_Bnv_FC_slow_IC_step_3.1K_autosave_NbSe2_S2_A-T17-12_QAFM_jupyter_corrected_AV_masked.txt\n",
      "Sum of the masked area is:  0.0033572847530000003\n"
     ]
    }
   ],
   "source": [
    "data_raw = np.loadtxt(filepath).T\n",
    "print('For: ', filepath)\n",
    "sum_AV = np.sum(data_raw)\n",
    "print('Sum of the masked area is: ', sum_AV)"
   ]
  },
  {
   "cell_type": "code",
   "execution_count": 18,
   "metadata": {},
   "outputs": [
    {
     "data": {
      "text/plain": [
       "0.4871157379601634"
      ]
     },
     "execution_count": 18,
     "metadata": {},
     "output_type": "execute_result"
    },
    {
     "name": "stdout",
     "output_type": "stream",
     "text": [
      "Kernel alive\n"
     ]
    }
   ],
   "source": [
    "sum_JV/sum_AV"
   ]
  },
  {
   "cell_type": "markdown",
   "metadata": {},
   "source": [
    "## Scan 60\n",
    "200mT 3.1K Fast"
   ]
  },
  {
   "cell_type": "code",
   "execution_count": 9,
   "metadata": {},
   "outputs": [],
   "source": [
    "path = 'G:\\\\Data\\\\Qudi_Data\\\\2023\\\\12\\\\20231214\\\\AttoDRY2200_Pi3_SPM\\\\'\n",
    "filebeginning = '20231214-0411-42_scan60_laser_0.06V_200mT_Bnv_thick_edge_3.1K_autosave_NbSe2_S2_A-T17-12_QAFM_jupyter_corrected_JV_masked' #here the beginning of the filename, including the date and sample name, is needed\n",
    "filepath = path + filebeginning + '.txt'"
   ]
  },
  {
   "cell_type": "code",
   "execution_count": 10,
   "metadata": {},
   "outputs": [
    {
     "name": "stdout",
     "output_type": "stream",
     "text": [
      "For:  G:\\Data\\Qudi_Data\\2023\\12\\20231214\\AttoDRY2200_Pi3_SPM\\20231214-0411-42_scan60_laser_0.06V_200mT_Bnv_thick_edge_3.1K_autosave_NbSe2_S2_A-T17-12_QAFM_jupyter_corrected_JV_masked.txt\n",
      "Sum of the masked area is:  0.000565433101\n"
     ]
    }
   ],
   "source": [
    "data_raw = np.loadtxt(filepath).T\n",
    "print('For: ', filepath)\n",
    "sum_JV = np.sum(data_raw)\n",
    "print('Sum of the masked area is: ', sum_JV)"
   ]
  },
  {
   "cell_type": "code",
   "execution_count": 11,
   "metadata": {},
   "outputs": [],
   "source": [
    "path = 'G:\\\\Data\\\\Qudi_Data\\\\2023\\\\12\\\\20231214\\\\AttoDRY2200_Pi3_SPM\\\\'\n",
    "filebeginning = '20231214-0411-42_scan60_laser_0.06V_200mT_Bnv_thick_edge_3.1K_autosave_NbSe2_S2_A-T17-12_QAFM_jupyter_corrected_AV_masked' #here the beginning of the filename, including the date and sample name, is needed\n",
    "filepath = path + filebeginning + '.txt'"
   ]
  },
  {
   "cell_type": "code",
   "execution_count": 12,
   "metadata": {},
   "outputs": [
    {
     "name": "stdout",
     "output_type": "stream",
     "text": [
      "For:  G:\\Data\\Qudi_Data\\2023\\12\\20231214\\AttoDRY2200_Pi3_SPM\\20231214-0411-42_scan60_laser_0.06V_200mT_Bnv_thick_edge_3.1K_autosave_NbSe2_S2_A-T17-12_QAFM_jupyter_corrected_AV_masked.txt\n",
      "Sum of the masked area is:  0.0010397052\n"
     ]
    }
   ],
   "source": [
    "data_raw = np.loadtxt(filepath).T\n",
    "print('For: ', filepath)\n",
    "sum_AV = np.sum(data_raw)\n",
    "print('Sum of the masked area is: ', sum_AV)"
   ]
  },
  {
   "cell_type": "code",
   "execution_count": 13,
   "metadata": {},
   "outputs": [
    {
     "data": {
      "text/plain": [
       "0.5438398317138358"
      ]
     },
     "execution_count": 13,
     "metadata": {},
     "output_type": "execute_result"
    }
   ],
   "source": [
    "sum_JV/sum_AV"
   ]
  },
  {
   "cell_type": "markdown",
   "metadata": {},
   "source": [
    "## Scan 83\n",
    "70mT 3.1K Slow"
   ]
  },
  {
   "cell_type": "code",
   "execution_count": 1,
   "metadata": {},
   "outputs": [],
   "source": [
    "path = 'G:\\\\Data\\\\Qudi_Data\\\\2024\\\\01\\\\20240104\\\\AttoDRY2200_Pi3_SPM\\\\'\n",
    "filebeginning = '20240104-1026-04_scan83_laser_0.06V_70mT_Bnv_FC_slow_step_3.1K_autosave_NbSe2_S2_A-T17-12_QAFM_jupyter_corrected_masked_JV' #here the beginning of the filename, including the date and sample name, is needed\n",
    "filepath = path + filebeginning + '.txt'"
   ]
  },
  {
   "cell_type": "code",
   "execution_count": 2,
   "metadata": {},
   "outputs": [
    {
     "name": "stdout",
     "output_type": "stream",
     "text": [
      "For:  G:\\Data\\Qudi_Data\\2024\\01\\20240104\\AttoDRY2200_Pi3_SPM\\20240104-1026-04_scan83_laser_0.06V_70mT_Bnv_FC_slow_step_3.1K_autosave_NbSe2_S2_A-T17-12_QAFM_jupyter_corrected_masked_JV.txt\n",
      "Sum of the masked area is:  0.0021749846\n"
     ]
    }
   ],
   "source": [
    "data_raw = np.loadtxt(filepath).T\n",
    "print('For: ', filepath)\n",
    "sum_JV = np.sum(data_raw)\n",
    "print('Sum of the masked area is: ', sum_JV)"
   ]
  },
  {
   "cell_type": "code",
   "execution_count": 3,
   "metadata": {},
   "outputs": [],
   "source": [
    "path = 'G:\\\\Data\\\\Qudi_Data\\\\2024\\\\01\\\\20240104\\\\AttoDRY2200_Pi3_SPM\\\\'\n",
    "filebeginning = '20240104-1026-04_scan83_laser_0.06V_70mT_Bnv_FC_slow_step_3.1K_autosave_NbSe2_S2_A-T17-12_QAFM_jupyter_corrected_masked_AV' #here the beginning of the filename, including the date and sample name, is needed\n",
    "filepath = path + filebeginning + '.txt'"
   ]
  },
  {
   "cell_type": "code",
   "execution_count": 4,
   "metadata": {},
   "outputs": [
    {
     "name": "stdout",
     "output_type": "stream",
     "text": [
      "For:  G:\\Data\\Qudi_Data\\2024\\01\\20240104\\AttoDRY2200_Pi3_SPM\\20240104-1026-04_scan83_laser_0.06V_70mT_Bnv_FC_slow_step_3.1K_autosave_NbSe2_S2_A-T17-12_QAFM_jupyter_corrected_masked_AV.txt\n",
      "Sum of the masked area is:  0.00421513744\n"
     ]
    }
   ],
   "source": [
    "data_raw = np.loadtxt(filepath).T\n",
    "print('For: ', filepath)\n",
    "sum_AV = np.sum(data_raw)\n",
    "print('Sum of the masked area is: ', sum_AV)"
   ]
  },
  {
   "cell_type": "code",
   "execution_count": 5,
   "metadata": {
    "scrolled": true
   },
   "outputs": [
    {
     "data": {
      "text/plain": [
       "0.5159937560659943"
      ]
     },
     "execution_count": 5,
     "metadata": {},
     "output_type": "execute_result"
    }
   ],
   "source": [
    "sum_JV/sum_AV"
   ]
  },
  {
   "cell_type": "markdown",
   "metadata": {},
   "source": [
    "## Scan 86\n",
    "70mT 2.0K Slow"
   ]
  },
  {
   "cell_type": "code",
   "execution_count": 5,
   "metadata": {
    "scrolled": true
   },
   "outputs": [
    {
     "name": "stdout",
     "output_type": "stream",
     "text": [
      "For:  G:\\Data\\Qudi_Data\\2024\\01\\20240106\\AttoDRY2200_Pi3_SPM\\20240106-1145-16_scan86_laser_0.06V_70mT_Bnv_FC_slow_left_step_2.0K_autosave_NbSe2_S2_A-T17-12_QAFM_jupyter_corrected_maskedJV1_2.txt\n",
      "Sum of the masked area is:  0.00285239039\n",
      "For:  G:\\Data\\Qudi_Data\\2024\\01\\20240106\\AttoDRY2200_Pi3_SPM\\20240106-1145-16_scan86_laser_0.06V_70mT_Bnv_FC_slow_left_step_2.0K_autosave_NbSe2_S2_A-T17-12_QAFM_jupyter_corrected_maskedAV1_2.txt\n",
      "Sum of the masked area is:  0.007551954295\n",
      "\n",
      "Ratio:  0.37770228454487753\n"
     ]
    }
   ],
   "source": [
    "path = 'G:\\\\Data\\\\Qudi_Data\\\\2024\\\\01\\\\20240106\\\\AttoDRY2200_Pi3_SPM\\\\'\n",
    "filebeginning = '20240106-1145-16_scan86_laser_0.06V_70mT_Bnv_FC_slow_left_step_2.0K_autosave_NbSe2_S2_A-T17-12_QAFM_jupyter_corrected_maskedJV1_2' #here the beginning of the filename, including the date and sample name, is needed\n",
    "filepath = path + filebeginning + '.txt'\n",
    "\n",
    "data_raw = np.loadtxt(filepath).T\n",
    "print('For: ', filepath)\n",
    "sum_JV = np.sum(data_raw)\n",
    "print('Sum of the masked area is: ', sum_JV)\n",
    "\n",
    "path = 'G:\\\\Data\\\\Qudi_Data\\\\2024\\\\01\\\\20240106\\\\AttoDRY2200_Pi3_SPM\\\\'\n",
    "filebeginning = '20240106-1145-16_scan86_laser_0.06V_70mT_Bnv_FC_slow_left_step_2.0K_autosave_NbSe2_S2_A-T17-12_QAFM_jupyter_corrected_maskedAV1_2' #here the beginning of the filename, including the date and sample name, is needed\n",
    "filepath = path + filebeginning + '.txt'\n",
    "\n",
    "data_raw = np.loadtxt(filepath).T\n",
    "print('For: ', filepath)\n",
    "sum_AV = np.sum(data_raw)\n",
    "print('Sum of the masked area is: ', sum_AV)\n",
    "\n",
    "print('\\nRatio: ', sum_JV/sum_AV)"
   ]
  },
  {
   "cell_type": "markdown",
   "metadata": {},
   "source": [
    "## Scan 88\n",
    "70mT 3.9K Slow"
   ]
  },
  {
   "cell_type": "code",
   "execution_count": 6,
   "metadata": {},
   "outputs": [
    {
     "name": "stdout",
     "output_type": "stream",
     "text": [
      "For:  G:\\Data\\Qudi_Data\\2024\\01\\20240108\\AttoDRY2200_Pi3_SPM\\20240108-0702-41_scan88_laser_0.06V_70mT_Bnv_FC_slow_left_step_3.9K_autosave_NbSe2_S2_A-T17-12_QAFM_jupyter_corrected_masked_JV1.txt\n",
      "Sum of the masked area is:  0.0021413156900000003\n",
      "For:  G:\\Data\\Qudi_Data\\2024\\01\\20240108\\AttoDRY2200_Pi3_SPM\\20240108-0702-41_scan88_laser_0.06V_70mT_Bnv_FC_slow_left_step_3.9K_autosave_NbSe2_S2_A-T17-12_QAFM_jupyter_corrected_masked_AV1.txt\n",
      "Sum of the masked area is:  0.002729838953\n",
      "\n",
      "Ratio:  0.7844109952518508\n"
     ]
    }
   ],
   "source": [
    "path = 'G:\\\\Data\\\\Qudi_Data\\\\2024\\\\01\\\\20240108\\\\AttoDRY2200_Pi3_SPM\\\\'\n",
    "filebeginning = '20240108-0702-41_scan88_laser_0.06V_70mT_Bnv_FC_slow_left_step_3.9K_autosave_NbSe2_S2_A-T17-12_QAFM_jupyter_corrected_masked_JV1' #here the beginning of the filename, including the date and sample name, is needed\n",
    "filepath = path + filebeginning + '.txt'\n",
    "\n",
    "data_raw = np.loadtxt(filepath).T\n",
    "print('For: ', filepath)\n",
    "sum_JV = np.sum(data_raw)\n",
    "print('Sum of the masked area is: ', sum_JV)\n",
    "\n",
    "path = 'G:\\\\Data\\\\Qudi_Data\\\\2024\\\\01\\\\20240108\\\\AttoDRY2200_Pi3_SPM\\\\'\n",
    "filebeginning = '20240108-0702-41_scan88_laser_0.06V_70mT_Bnv_FC_slow_left_step_3.9K_autosave_NbSe2_S2_A-T17-12_QAFM_jupyter_corrected_masked_AV1' #here the beginning of the filename, including the date and sample name, is needed\n",
    "filepath = path + filebeginning + '.txt'\n",
    "\n",
    "data_raw = np.loadtxt(filepath).T\n",
    "print('For: ', filepath)\n",
    "sum_AV = np.sum(data_raw)\n",
    "print('Sum of the masked area is: ', sum_AV)\n",
    "\n",
    "print('\\nRatio: ', sum_JV/sum_AV)"
   ]
  },
  {
   "cell_type": "markdown",
   "metadata": {},
   "source": [
    "## Scan 87\n",
    "70mT 4.7K Slow"
   ]
  },
  {
   "cell_type": "code",
   "execution_count": 8,
   "metadata": {},
   "outputs": [
    {
     "name": "stdout",
     "output_type": "stream",
     "text": [
      "For:  G:\\Data\\Qudi_Data\\2024\\01\\20240107\\AttoDRY2200_Pi3_SPM\\20240107-0902-15_scan87_laser_0.06V_70mT_Bnv_FC_slow_left_step_4.7K_autosave_NbSe2_S2_A-T17-12_QAFM_jupyter_corrected_masked_JV1.txt\n",
      "Sum of the masked area is:  0.00151124718\n",
      "For:  G:\\Data\\Qudi_Data\\2024\\01\\20240107\\AttoDRY2200_Pi3_SPM\\20240107-0902-15_scan87_laser_0.06V_70mT_Bnv_FC_slow_left_step_4.7K_autosave_NbSe2_S2_A-T17-12_QAFM_jupyter_corrected_masked_AV1.txt\n",
      "Sum of the masked area is:  0.003630720416\n",
      "\n",
      "Ratio:  0.4162389297011626\n"
     ]
    }
   ],
   "source": [
    "path = 'G:\\\\Data\\\\Qudi_Data\\\\2024\\\\01\\\\20240107\\\\AttoDRY2200_Pi3_SPM\\\\'\n",
    "filebeginning = '20240107-0902-15_scan87_laser_0.06V_70mT_Bnv_FC_slow_left_step_4.7K_autosave_NbSe2_S2_A-T17-12_QAFM_jupyter_corrected_masked_JV1' #here the beginning of the filename, including the date and sample name, is needed\n",
    "filepath = path + filebeginning + '.txt'\n",
    "\n",
    "data_raw = np.loadtxt(filepath).T\n",
    "print('For: ', filepath)\n",
    "sum_JV = np.sum(data_raw)\n",
    "print('Sum of the masked area is: ', sum_JV)\n",
    "\n",
    "path = 'G:\\\\Data\\\\Qudi_Data\\\\2024\\\\01\\\\20240107\\\\AttoDRY2200_Pi3_SPM\\\\'\n",
    "filebeginning = '20240107-0902-15_scan87_laser_0.06V_70mT_Bnv_FC_slow_left_step_4.7K_autosave_NbSe2_S2_A-T17-12_QAFM_jupyter_corrected_masked_AV1' #here the beginning of the filename, including the date and sample name, is needed\n",
    "filepath = path + filebeginning + '.txt'\n",
    "\n",
    "data_raw = np.loadtxt(filepath).T\n",
    "print('For: ', filepath)\n",
    "sum_AV = np.sum(data_raw)\n",
    "print('Sum of the masked area is: ', sum_AV)\n",
    "\n",
    "print('\\nRatio: ', sum_JV/sum_AV)"
   ]
  },
  {
   "cell_type": "markdown",
   "metadata": {},
   "source": [
    "## Scan 89\n",
    "24mT 3.1KK Fast"
   ]
  },
  {
   "cell_type": "code",
   "execution_count": 1,
   "metadata": {},
   "outputs": [
    {
     "name": "stdout",
     "output_type": "stream",
     "text": [
      "For:  G:\\Data\\Qudi_Data\\2024\\01\\20240109\\AttoDRY2200_Pi3_SPM\\20240109-1545-56_scan89_laser_0.06V_70mT_Bnv_FC_slow_left_step_3.1K_autosave_NbSe2_S2_A-T17-12_QAFM_jupyter_corrected_masked_JV1.txt\n",
      "Sum of the masked area is:  0.004080568559999999\n",
      "For:  G:\\Data\\Qudi_Data\\2024\\01\\20240109\\AttoDRY2200_Pi3_SPM\\20240109-1545-56_scan89_laser_0.06V_70mT_Bnv_FC_slow_left_step_3.1K_autosave_NbSe2_S2_A-T17-12_QAFM_jupyter_corrected_masked_AV1.txt\n",
      "Sum of the masked area is:  0.01489744266\n",
      "\n",
      "Ratio:  0.2739106740082596\n"
     ]
    }
   ],
   "source": [
    "path = 'G:\\\\Data\\\\Qudi_Data\\\\2024\\\\01\\\\20240109\\\\AttoDRY2200_Pi3_SPM\\\\'\n",
    "filebeginning = '20240109-1545-56_scan89_laser_0.06V_70mT_Bnv_FC_slow_left_step_3.1K_autosave_NbSe2_S2_A-T17-12_QAFM_jupyter_corrected_masked_JV1' #here the beginning of the filename, including the date and sample name, is needed\n",
    "filepath = path + filebeginning + '.txt'\n",
    "\n",
    "data_raw = np.loadtxt(filepath).T\n",
    "print('For: ', filepath)\n",
    "sum_JV = np.sum(data_raw)\n",
    "print('Sum of the masked area is: ', sum_JV)\n",
    "\n",
    "path = 'G:\\\\Data\\\\Qudi_Data\\\\2024\\\\01\\\\20240109\\\\AttoDRY2200_Pi3_SPM\\\\'\n",
    "filebeginning = '20240109-1545-56_scan89_laser_0.06V_70mT_Bnv_FC_slow_left_step_3.1K_autosave_NbSe2_S2_A-T17-12_QAFM_jupyter_corrected_masked_AV1' #here the beginning of the filename, including the date and sample name, is needed\n",
    "filepath = path + filebeginning + '.txt'\n",
    "\n",
    "data_raw = np.loadtxt(filepath).T\n",
    "print('For: ', filepath)\n",
    "sum_AV = np.sum(data_raw)\n",
    "print('Sum of the masked area is: ', sum_AV)\n",
    "\n",
    "print('\\nRatio: ', sum_JV/sum_AV)"
   ]
  },
  {
   "cell_type": "markdown",
   "metadata": {},
   "source": [
    "## Scan 90\n",
    "24mT 3.1KK Fast"
   ]
  },
  {
   "cell_type": "code",
   "execution_count": 4,
   "metadata": {},
   "outputs": [
    {
     "name": "stdout",
     "output_type": "stream",
     "text": [
      "For:  G:\\Data\\Qudi_Data\\2024\\01\\20240110\\AttoDRY2200_Pi3_SPM\\20240110-1124-47_scan90_laser_0.06V_70mT_Bnv_FC_slow_left_step_3.1K_autosave_NbSe2_S2_A-T17-12_QAFM_jupyter_corrected_masked_JV1.txt\n",
      "Sum of the masked area is:  0.011235365633\n",
      "For:  G:\\Data\\Qudi_Data\\2024\\01\\20240110\\AttoDRY2200_Pi3_SPM\\20240110-1124-47_scan90_laser_0.06V_70mT_Bnv_FC_slow_left_step_3.1K_autosave_NbSe2_S2_A-T17-12_QAFM_jupyter_corrected_masked_AV1.txt\n",
      "Sum of the masked area is:  0.011242850779999999\n",
      "\n",
      "Ratio:  0.9993342305126637\n"
     ]
    }
   ],
   "source": [
    "path = 'G:\\\\Data\\\\Qudi_Data\\\\2024\\\\01\\\\20240110\\\\AttoDRY2200_Pi3_SPM\\\\'\n",
    "filebeginning = '20240110-1124-47_scan90_laser_0.06V_70mT_Bnv_FC_slow_left_step_3.1K_autosave_NbSe2_S2_A-T17-12_QAFM_jupyter_corrected_masked_JV1' #here the beginning of the filename, including the date and sample name, is needed\n",
    "filepath = path + filebeginning + '.txt'\n",
    "\n",
    "data_raw = np.loadtxt(filepath).T\n",
    "print('For: ', filepath)\n",
    "sum_JV = np.sum(data_raw)\n",
    "print('Sum of the masked area is: ', sum_JV)\n",
    "\n",
    "path = 'G:\\\\Data\\\\Qudi_Data\\\\2024\\\\01\\\\20240110\\\\AttoDRY2200_Pi3_SPM\\\\'\n",
    "filebeginning = '20240110-1124-47_scan90_laser_0.06V_70mT_Bnv_FC_slow_left_step_3.1K_autosave_NbSe2_S2_A-T17-12_QAFM_jupyter_corrected_masked_AV1' #here the beginning of the filename, including the date and sample name, is needed\n",
    "filepath = path + filebeginning + '.txt'\n",
    "\n",
    "data_raw = np.loadtxt(filepath).T\n",
    "print('For: ', filepath)\n",
    "sum_AV = np.sum(data_raw)\n",
    "print('Sum of the masked area is: ', sum_AV)\n",
    "\n",
    "print('\\nRatio: ', sum_JV/sum_AV)"
   ]
  },
  {
   "cell_type": "code",
   "execution_count": 5,
   "metadata": {},
   "outputs": [
    {
     "name": "stdout",
     "output_type": "stream",
     "text": [
      "For:  G:\\Data\\Qudi_Data\\2024\\01\\20240110\\AttoDRY2200_Pi3_SPM\\20240110-1124-47_scan90_laser_0.06V_70mT_Bnv_FC_slow_left_step_3.1K_autosave_NbSe2_S2_A-T17-12_QAFM_jupyter_corrected_masked_JV2.txt\n",
      "Sum of the masked area is:  0.008409079514999999\n",
      "For:  G:\\Data\\Qudi_Data\\2024\\01\\20240110\\AttoDRY2200_Pi3_SPM\\20240110-1124-47_scan90_laser_0.06V_70mT_Bnv_FC_slow_left_step_3.1K_autosave_NbSe2_S2_A-T17-12_QAFM_jupyter_corrected_masked_AV1.txt\n",
      "Sum of the masked area is:  0.011242850779999999\n",
      "\n",
      "Ratio:  0.7479490459803114\n"
     ]
    }
   ],
   "source": [
    "#ratio with a different JV\n",
    "\n",
    "path = 'G:\\\\Data\\\\Qudi_Data\\\\2024\\\\01\\\\20240110\\\\AttoDRY2200_Pi3_SPM\\\\'\n",
    "filebeginning = '20240110-1124-47_scan90_laser_0.06V_70mT_Bnv_FC_slow_left_step_3.1K_autosave_NbSe2_S2_A-T17-12_QAFM_jupyter_corrected_masked_JV2' #here the beginning of the filename, including the date and sample name, is needed\n",
    "filepath = path + filebeginning + '.txt'\n",
    "\n",
    "data_raw = np.loadtxt(filepath).T\n",
    "print('For: ', filepath)\n",
    "sum_JV = np.sum(data_raw)\n",
    "print('Sum of the masked area is: ', sum_JV)\n",
    "\n",
    "path = 'G:\\\\Data\\\\Qudi_Data\\\\2024\\\\01\\\\20240110\\\\AttoDRY2200_Pi3_SPM\\\\'\n",
    "filebeginning = '20240110-1124-47_scan90_laser_0.06V_70mT_Bnv_FC_slow_left_step_3.1K_autosave_NbSe2_S2_A-T17-12_QAFM_jupyter_corrected_masked_AV1' #here the beginning of the filename, including the date and sample name, is needed\n",
    "filepath = path + filebeginning + '.txt'\n",
    "\n",
    "data_raw = np.loadtxt(filepath).T\n",
    "print('For: ', filepath)\n",
    "sum_AV = np.sum(data_raw)\n",
    "print('Sum of the masked area is: ', sum_AV)\n",
    "\n",
    "print('\\nRatio: ', sum_JV/sum_AV)"
   ]
  },
  {
   "cell_type": "markdown",
   "metadata": {},
   "source": [
    "# Comparison between different AVs in sc77"
   ]
  },
  {
   "cell_type": "code",
   "execution_count": 16,
   "metadata": {},
   "outputs": [
    {
     "name": "stdout",
     "output_type": "stream",
     "text": [
      "For: AV1\n",
      "Sum of the masked area is:  0.001466995571\n",
      "For: AV2\n",
      "Sum of the masked area is:  0.00136811555\n",
      "For: AV3\n",
      "Sum of the masked area is:  0.0018742907999999999\n",
      "For: AV4\n",
      "Sum of the masked area is:  0.000913867489\n",
      "For: AV5\n",
      "Sum of the masked area is:  0.0013585595769999997\n"
     ]
    }
   ],
   "source": [
    "fluxes = []\n",
    "for id,i in enumerate(range(1,6)):\n",
    "    path = 'G:\\\\Data\\\\Qudi_Data\\\\2023\\\\12\\\\20231229\\\\AttoDRY2200_Pi3_SPM\\\\'\n",
    "    filebeginning = f'20231229-1502-15_scan77_laser_0.06V_165mT_Bnv_FC_slow_IC_step_3.1K_autosave_NbSe2_S2_A-T17-12_QAFM_jupyter_corrected - Copy_AV{i}' #here the beginning of the filename, including the date and sample name, is needed\n",
    "    filepath = path + filebeginning + '.txt'\n",
    "    \n",
    "    data_raw = np.loadtxt(filepath).T\n",
    "    print(f'For: AV{i}')\n",
    "    sum_AV = np.sum(data_raw)\n",
    "    print('Sum of the masked area is: ', sum_AV)\n",
    "    fluxes.append(sum_AV)\n",
    "fluxes = np.asarray(fluxes)"
   ]
  },
  {
   "cell_type": "code",
   "execution_count": 17,
   "metadata": {},
   "outputs": [
    {
     "name": "stdout",
     "output_type": "stream",
     "text": [
      "Mean: 1.3963657973999999mT Standard deviation : 0.30608262852274165mT\n",
      "Standard deviation : 21.91994598354244%\n"
     ]
    }
   ],
   "source": [
    "print(f'Mean: {np.mean(fluxes)*1e3}mT', f'Standard deviation : {np.std(fluxes)*1e3}mT')\n",
    "print(f'Standard deviation : {np.std(fluxes)/np.mean(fluxes)*100}%')"
   ]
  },
  {
   "cell_type": "markdown",
   "metadata": {},
   "source": [
    "Trial2 data has been individually marked by hand - first attempt was the same mask simply shifted onto different vortices. Would give inaccurate results possibly since the size and shape of the vortices slightly differ."
   ]
  },
  {
   "cell_type": "code",
   "execution_count": 23,
   "metadata": {},
   "outputs": [
    {
     "name": "stdout",
     "output_type": "stream",
     "text": [
      "For: AV1\n",
      "Sum of the masked area is:  0.0014775621710000002\n",
      "For: AV2\n",
      "Sum of the masked area is:  0.0014728888440000002\n",
      "For: AV3\n",
      "Sum of the masked area is:  0.0019376462559999997\n",
      "For: AV4\n",
      "Sum of the masked area is:  0.0010318813690000002\n",
      "For: AV5\n",
      "Sum of the masked area is:  0.0013852045669999996\n",
      "For: AV6\n",
      "Sum of the masked area is:  0.0016103858900000001\n"
     ]
    }
   ],
   "source": [
    "fluxes = []\n",
    "for id,i in enumerate(range(1,7)):\n",
    "    path = 'G:\\\\Data\\\\Qudi_Data\\\\2023\\\\12\\\\20231229\\\\AttoDRY2200_Pi3_SPM\\\\'\n",
    "    filebeginning = f'20231229-1502-15_scan77_laser_0.06V_165mT_Bnv_FC_slow_IC_step_3.1K_autosave_NbSe2_S2_A-T17-12_QAFM_jupyter_corrected - Copy-Trial2_AV{i}' #here the beginning of the filename, including the date and sample name, is needed\n",
    "    filepath = path + filebeginning + '.txt'\n",
    "    \n",
    "    data_raw = np.loadtxt(filepath).T\n",
    "    print(f'For: AV{i}')\n",
    "    sum_AV = np.sum(data_raw)\n",
    "    print('Sum of the masked area is: ', sum_AV)\n",
    "    fluxes.append(sum_AV)\n",
    "fluxes = np.asarray(fluxes)"
   ]
  },
  {
   "cell_type": "code",
   "execution_count": 24,
   "metadata": {},
   "outputs": [
    {
     "name": "stdout",
     "output_type": "stream",
     "text": [
      "Mean: 1.485928182833333mT Standard deviation : 0.2695931221144616mT\n",
      "Standard deviation : 18.143078866732832%\n"
     ]
    }
   ],
   "source": [
    "print(f'Mean: {np.mean(fluxes)*1e3}mT', f'Standard deviation : {np.std(fluxes)*1e3}mT')\n",
    "print(f'Standard deviation : {np.std(fluxes)/np.mean(fluxes)*100}%')"
   ]
  },
  {
   "cell_type": "markdown",
   "metadata": {},
   "source": [
    "Trial3 data was masked using segmentation in gwyddions grain features"
   ]
  },
  {
   "cell_type": "code",
   "execution_count": 25,
   "metadata": {},
   "outputs": [
    {
     "name": "stdout",
     "output_type": "stream",
     "text": [
      "For: AV1\n",
      "Sum of the masked area is:  0.0014973459599999998\n",
      "For: AV2\n",
      "Sum of the masked area is:  0.0013625214\n",
      "For: AV3\n",
      "Sum of the masked area is:  0.0018584936000000001\n",
      "For: AV4\n",
      "Sum of the masked area is:  0.0008883578\n",
      "For: AV5\n",
      "Sum of the masked area is:  0.001273986067\n",
      "For: AV6\n",
      "Sum of the masked area is:  0.0014973459599999998\n"
     ]
    }
   ],
   "source": [
    "fluxes = []\n",
    "for id,i in enumerate(range(1,7)):\n",
    "    path = 'G:\\\\Data\\\\Qudi_Data\\\\2023\\\\12\\\\20231229\\\\AttoDRY2200_Pi3_SPM\\\\'\n",
    "    filebeginning = f'20231229-1502-15_scan77_laser_0.06V_165mT_Bnv_FC_slow_IC_step_3.1K_autosave_NbSe2_S2_A-T17-12_QAFM_jupyter_corrected - Copy-Trial3_AV{i}' #here the beginning of the filename, including the date and sample name, is needed\n",
    "    filepath = path + filebeginning + '.txt'\n",
    "    \n",
    "    data_raw = np.loadtxt(filepath).T\n",
    "    print(f'For: AV{i}')\n",
    "    sum_AV = np.sum(data_raw)\n",
    "    print('Sum of the masked area is: ', sum_AV)\n",
    "    fluxes.append(sum_AV)\n",
    "fluxes = np.asarray(fluxes)"
   ]
  },
  {
   "cell_type": "code",
   "execution_count": 26,
   "metadata": {},
   "outputs": [
    {
     "name": "stdout",
     "output_type": "stream",
     "text": [
      "Mean: 1.3963417978333332mT Standard deviation : 0.2910184576127943mT\n",
      "Standard deviation : 20.841491536267124%\n"
     ]
    }
   ],
   "source": [
    "print(f'Mean: {np.mean(fluxes)*1e3}mT', f'Standard deviation : {np.std(fluxes)*1e3}mT')\n",
    "print(f'Standard deviation : {np.std(fluxes)/np.mean(fluxes)*100}%')"
   ]
  },
  {
   "cell_type": "code",
   "execution_count": null,
   "metadata": {},
   "outputs": [],
   "source": []
  }
 ],
 "metadata": {
  "kernelspec": {
   "display_name": "Qudi",
   "language": "python",
   "name": "sj5-qudi"
  },
  "language_info": {
   "codemirror_mode": {
    "name": "ipython",
    "version": "3.6.5"
   },
   "file_extension": ".py",
   "mimetype": "text/x-python",
   "name": "python",
   "nbconvert_exporter": "python",
   "pygments_lexer": "ipython3",
   "version": "3.6.5"
  }
 },
 "nbformat": 4,
 "nbformat_minor": 2
}
