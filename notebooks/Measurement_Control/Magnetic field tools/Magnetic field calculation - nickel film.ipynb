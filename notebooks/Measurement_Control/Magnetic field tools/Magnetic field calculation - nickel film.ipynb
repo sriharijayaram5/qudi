{
 "cells": [
  {
   "cell_type": "code",
   "execution_count": 1,
   "metadata": {},
   "outputs": [],
   "source": [
    "import numpy as np"
   ]
  },
  {
   "cell_type": "markdown",
   "metadata": {},
   "source": [
    "Calculation of magnatic field of nickel film"
   ]
  },
  {
   "cell_type": "code",
   "execution_count": 70,
   "metadata": {},
   "outputs": [
    {
     "name": "stdout",
     "output_type": "stream",
     "text": [
      "Btot: [-0.00635517  0.0028913   0.01662637]\n",
      "NV frequency shift: [-0.17794463  0.0809565   0.46553838]\n",
      "B_NV: 0.004420985806386787\n",
      "df_NV: 0.12378760257883004\n"
     ]
    }
   ],
   "source": [
    "µ0 = 4*np.pi*10**(-7) #vacuum permeability in N/A^2\n",
    "µB = 9.2740100783e-24 #in J/T\n",
    "atoms_unit_cell = 4 #number of atoms in one unit cell, bulk nickel has fcc unit cell\n",
    "lp = 0.352e-9 #lattice parameter of the fcc unit cell in m\n",
    "m_µB = 0.606 #magnetic moment in µB per nickel atom at 0 K\n",
    "m = m_µB*µB #magnetic moment in J/T\n",
    "m_unit_cell_µB = atoms_unit_cell*m_µB # magnetic moment in µB per unit cell\n",
    "m_unit_cell = atoms_unit_cell*m\n",
    "\n",
    "d_oxidelayer = 2e-9\n",
    "d = 5e-9-d_oxidelayer #thickness of nickel film on the sample in m\n",
    "a = 200e-9 #length of the square of interest in m\n",
    "\n",
    "theta = 54.7*np.pi/180\n",
    "phi = 0*np.pi/180\n",
    "e_NV = np.array([np.sin(theta)*np.cos(phi),np.sin(theta)*np.sin(phi), np.cos(theta)])\n",
    "NV_standoff = lp #55e-9+d_oxidelayer\n",
    "\n",
    "#try to calculate the magnetic field from the magnatic moment of several unit cells arragend in a cube beneath the measurement point\n",
    "r = np.array([-a/2,-a/2,-NV_standoff])\n",
    "\n",
    "m = e_NV*m_unit_cell #e_NV*m_unit_cell #np.array([0,1,0])*m_unit_cell\n",
    "Btot = np.array([0,0,0])\n",
    "\n",
    "for i in range(int(d/lp)):\n",
    "    rstartplane = r      \n",
    "    for j in range(int(a/lp)):\n",
    "        rstartrow = r \n",
    "        for k in range(int(a/lp)):\n",
    "            B = µ0/(4*np.pi)*((3*r*np.dot(m,r))/np.linalg.norm(r)**5-m/np.linalg.norm(r)**3)\n",
    "            Btot = Btot + B\n",
    "            r = r + np.array([lp,0,0])\n",
    "        r = rstartrow + np.array([0,lp,0])\n",
    "    r = rstartplane + np.array([0,0,-lp])\n",
    "    \n",
    "gamma_NV = 28 #in GHz/T\n",
    "df_tot = gamma_NV*Btot\n",
    "\n",
    "B_NV = np.dot(Btot,e_NV)*e_NV\n",
    "df_NV = np.dot(Btot,e_NV)*gamma_NV\n",
    "\n",
    "print('Btot:',Btot)\n",
    "print('NV frequency shift:',df_tot)\n",
    "print('B_NV:',np.dot(Btot,e_NV))\n",
    "print('df_NV:', df_NV)"
   ]
  },
  {
   "cell_type": "code",
   "execution_count": 66,
   "metadata": {},
   "outputs": [
    {
     "name": "stdout",
     "output_type": "stream",
     "text": [
      "[0.81613759 0.         0.57785762]\n"
     ]
    },
    {
     "data": {
      "text/plain": [
       "2.0"
      ]
     },
     "execution_count": 66,
     "metadata": {},
     "output_type": "execute_result"
    }
   ],
   "source": [
    "theta = 54.7*np.pi/180\n",
    "phi = 0*np.pi/180\n",
    "e_NV = np.array([np.sin(theta)*np.cos(phi),np.sin(theta)*np.sin(phi), np.cos(theta)])\n",
    "print(e_NV)"
   ]
  },
  {
   "cell_type": "markdown",
   "metadata": {},
   "source": [
    "Comparison with CrI3 from 'Direct visualization of magnetic domains and moiré\n",
    "magnetism in twisted 2D magnets'"
   ]
  },
  {
   "cell_type": "code",
   "execution_count": 31,
   "metadata": {
    "scrolled": true
   },
   "outputs": [
    {
     "name": "stdout",
     "output_type": "stream",
     "text": [
      "Maximum magnetization of FM region of twisted double-trilayer CrI3 in µB/nm^2: 30\n",
      "Maximum B field of FM region of twisted double-trilayer CrI3 in mT: 0.5\n",
      "Magnetization of one layer of unit cells of nickel in µB/nm^2 19.563533057851238\n",
      "Magnetization of one thin film of unit cells of nickel in µB/nm^2 277.8910945717505\n"
     ]
    }
   ],
   "source": [
    "print('Maximum magnetization of FM region of twisted double-trilayer CrI3 in µB/nm^2:',30)\n",
    "print('Maximum B field of FM region of twisted double-trilayer CrI3 in mT:',0.5)\n",
    "\n",
    "d = 5e-9\n",
    "A_total = (1e-9)**2\n",
    "A_unit_cell = lp**2\n",
    "m_Area_µB = A_total/A_unit_cell*m_unit_cell_µB\n",
    "m_Area_depth_µB = d/lp*m_Area_µB\n",
    "\n",
    "print('Magnetization of one layer of unit cells of nickel in µB/nm^2',m_Area_µB)\n",
    "print('Magnetization of one thin film of unit cells of nickel in µB/nm^2',m_Area_depth_µB)"
   ]
  },
  {
   "cell_type": "code",
   "execution_count": 23,
   "metadata": {},
   "outputs": [
    {
     "data": {
      "text/plain": [
       "170.45454545454544"
      ]
     },
     "execution_count": 23,
     "metadata": {},
     "output_type": "execute_result"
    }
   ],
   "source": [
    "d = 20e-9\n",
    "number_layers = d/lp*3\n",
    "number_layers"
   ]
  },
  {
   "cell_type": "code",
   "execution_count": 76,
   "metadata": {},
   "outputs": [
    {
     "name": "stdout",
     "output_type": "stream",
     "text": [
      "5.6200501074498e-24\n"
     ]
    }
   ],
   "source": [
    "m = m_µB*µB\n",
    "print(m)"
   ]
  },
  {
   "cell_type": "code",
   "execution_count": 82,
   "metadata": {},
   "outputs": [
    {
     "name": "stdout",
     "output_type": "stream",
     "text": [
      "5.652967784789106e-24\n",
      "516664.0\n"
     ]
    }
   ],
   "source": [
    "Msat_emu = 58 #in emu/g\n",
    "rho = 8.908 #in g/cm^3\n",
    "Msat = Msat_emu*rho*1000 #in A/m\n",
    "M = 58.6934 # in g/mol\n",
    "NA = 6.022e23 #in 1/mol\n",
    "n = rho*NA/M*1e6 #in atoms/m^3\n",
    "mu = Msat/n\n",
    "print(mu)\n",
    "print(Msat)"
   ]
  },
  {
   "cell_type": "code",
   "execution_count": 80,
   "metadata": {},
   "outputs": [
    {
     "name": "stdout",
     "output_type": "stream",
     "text": [
      "513655.4247714982\n"
     ]
    }
   ],
   "source": [
    "m = m_µB*µB\n",
    "rho = 8.908 #in g/cm^3\n",
    "M = 58.6934 # in g/mol\n",
    "NA = 6.022e23 #in 1/mol\n",
    "n = rho*NA/M*1e6 #in\n",
    "Msat = n*m\n",
    "print(Msat)"
   ]
  },
  {
   "cell_type": "code",
   "execution_count": 6,
   "metadata": {},
   "outputs": [
    {
     "name": "stdout",
     "output_type": "stream",
     "text": [
      "B field in T: 0.0004000000000000001\n",
      "B field in mT: 0.4000000000000001\n",
      "B field in Gauss: 4.000000000000001\n"
     ]
    }
   ],
   "source": [
    "µ0 = 4*np.pi*10**(-7) #vacuum permeability in N/A^2\n",
    "I = 0.1*10**(-3) #current in A\n",
    "r= 50*10**(-9) #radisu/distance in m\n",
    "\n",
    "B = µ0*I/(2*np.pi*r) #B field in T\n",
    "BmT = B*10**3 #B field in mT\n",
    "BG = B*10**4 #B field in Gauss\n",
    "print('B field in T:',B)\n",
    "print('B field in mT:',BmT)\n",
    "print('B field in Gauss:',BG)"
   ]
  }
 ],
 "metadata": {
  "kernelspec": {
   "display_name": "Python 3",
   "language": "python",
   "name": "python3"
  },
  "language_info": {
   "codemirror_mode": {
    "name": "ipython",
    "version": 3
   },
   "file_extension": ".py",
   "mimetype": "text/x-python",
   "name": "python",
   "nbconvert_exporter": "python",
   "pygments_lexer": "ipython3",
   "version": "3.6.5"
  }
 },
 "nbformat": 4,
 "nbformat_minor": 5
}
