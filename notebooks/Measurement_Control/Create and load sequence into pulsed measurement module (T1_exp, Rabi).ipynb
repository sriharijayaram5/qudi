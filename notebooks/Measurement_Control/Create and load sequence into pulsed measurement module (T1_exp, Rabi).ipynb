{
 "cells": [
  {
   "cell_type": "code",
   "execution_count": 1,
   "metadata": {},
   "outputs": [],
   "source": [
    "import logic.pulsed.pulse_objects as po\n",
    "from logic.pulsed.sampling_functions import SamplingFunctions as SF\n",
    "import time\n",
    "import matplotlib.pyplot as plt\n",
    "pml = pulsedmeasurementlogic\n",
    "pmal = pulsedmasterlogic"
   ]
  },
  {
   "cell_type": "code",
   "execution_count": 2,
   "metadata": {},
   "outputs": [
    {
     "name": "stdout",
     "output_type": "stream",
     "text": [
      "Sync 3.972e-07\n",
      "Rearm_time 3.2e-08\n"
     ]
    }
   ],
   "source": [
    "Sync_time = (16e-9+476.5/1.25e9)\n",
    "print(\"Sync\",Sync_time)\n",
    "\n",
    "Rearm_time = (40/1.25e9)\n",
    "print(\"Rearm_time\",Rearm_time)\n"
   ]
  },
  {
   "cell_type": "markdown",
   "metadata": {},
   "source": [
    "#### Define pulse block creation class"
   ]
  },
  {
   "cell_type": "code",
   "execution_count": 3,
   "metadata": {},
   "outputs": [],
   "source": [
    "class qudi_pulse_block:\n",
    "\n",
    "    def __init__(self, pi_pulse=1e-9, awg_sync_time=16e-9 + 476.5/1.25e9, laser_waiting_time=1.5e-6, mw_waiting_time=1e-6, read_out_time=3e-6,\n",
    "                LO_freq=3e9, target_freq=2.88e9, power=-20):\n",
    "        \n",
    "        self.pi_pulse = pi_pulse\n",
    "        self.awg_sync_time = awg_sync_time #Has to be determined with sample clock\n",
    "        self.laser_waiting_time = laser_waiting_time\n",
    "        self.mw_waiting_time = mw_waiting_time\n",
    "        self.read_out_time = read_out_time\n",
    "        self.laser_volt = podmrlogic.laser_power_voltage\n",
    "        self.LO_freq = LO_freq\n",
    "        self.target_freq = target_freq\n",
    "        self.power = power\n",
    "        print(\"Using laser voltage: \", self.laser_volt,\"V\")\n",
    "        print(\"Using LO_freq: \", self.LO_freq/1e9,\"GHz\")\n",
    "        print(\"Using target_freq: \", self.target_freq/1e9,\"GHz\")\n",
    "        print(\"Using power: \", self.power,\"dBm\")\n",
    "        \n",
    "        self.channel_names_PS = {'Laser': 'd_ch1',\n",
    "                                 'TT_Start': 'd_ch2',\n",
    "                                 'TT_Next': 'd_ch3',\n",
    "                                 'ASC500': 'd_ch4',\n",
    "                                 'MW_Switch': 'd_ch5',\n",
    "                                 'MW_Trig': 'd_ch6',                                \n",
    "                                 'AWG_Trig': 'd_ch7',\n",
    "                                 'AWG_Clock': 'd_ch8'\n",
    "                                }\n",
    "        \n",
    "    def ElementPS(self, channels={}, length=1e-9, laser_power=None, phase=0):\n",
    "        \"\"\"PulseBlock element list maker for PulseStreamer upload. Also makes the phase duration list for the AWG.\n",
    "        \"\"\"\n",
    "        a_ch = {'a_ch1': SF.DC(laser_power) if laser_power else SF.DC(self.laser_volt), 'a_ch2': SF.DC(0)}\n",
    "        d_ch = { 'd_ch1': False, 'd_ch2': False, 'd_ch3': False, 'd_ch4': False, 'd_ch5': False, 'd_ch6': False, 'd_ch7': False, 'd_ch8': False}\n",
    "        for key in channels:\n",
    "            PSkey = self.channel_names_PS[key]\n",
    "            if 'a_' in key:\n",
    "                a_ch[PSkey] = channels[key]\n",
    "            else:\n",
    "                d_ch[PSkey] = channels[key]\n",
    "        \n",
    "        self.BlockPS.append(po.PulseBlockElement(init_length_s=length, pulse_function=a_ch, digital_high=d_ch))\n",
    "        if isinstance(phase, tuple):\n",
    "            self.PhaseDuration.append((phase[0],length/2))\n",
    "            self.PhaseDuration.append((phase[1],length/2))\n",
    "        else:\n",
    "            self.PhaseDuration.append((phase,length))\n",
    "        \n",
    "    def AWG_reset(self):\n",
    "        afm_scanner_logic._AWG.pulser_off()\n",
    "        afm_scanner_logic._AWG.instance.init_all_channels()\n",
    "        afm_scanner_logic._mw.off()\n",
    "        \n",
    "    def AWG_start(self):\n",
    "        afm_scanner_logic._pulsed_master_AWG.pulsedmeasurementlogic().pulsegenerator().pulser_on(trigger=True)\n",
    "        afm_scanner_logic._mw.set_cw(frequency=self.LO_freq, power=self.power)\n",
    "        afm_scanner_logic._mw.cw_on()\n",
    "        \n",
    "    def sample_load_large_sine_AWG(self, name):\n",
    "        #Create large pulse block for the AWG\n",
    "        self.AWG_reset()\n",
    "        delta = abs(self.LO_freq - self.target_freq)\n",
    "        large_seq = []\n",
    "        #skipping first element since it is the AWG sync time\n",
    "        #skipping last element since AWG has a rearm time before the next averaging repetition trigger arrives\n",
    "        for PhaseElement in self.PhaseDuration[1:-1]:\n",
    "            phase, duration = PhaseElement\n",
    "            seq_part = {'channel_info' : [   {'name': 'a_ch0', 'amp': 1.0, 'freq': delta, 'phase': 0.00+phase},\n",
    "                         {'name': 'a_ch1', 'amp': 1.0, 'freq': delta, 'phase': 100.00+phase}],\n",
    "                         'duration' : duration}\n",
    "            large_seq.append(seq_part)\n",
    "        \n",
    "        load_large_sin_seq(large_seq=large_seq, identifier=name)\n",
    "        self.AWG_start()\n",
    "        \n",
    "    def sample_load_short_sine_AWG(self, name):\n",
    "        #Create large pulse block for the AWG\n",
    "        self.AWG_reset()\n",
    "        delta = abs(self.LO_freq - self.target_freq)\n",
    "        large_seq = []\n",
    "        duration = self.laser_waiting_time - self.awg_sync_time + self.pi_pulse + self.tau_arr[0]\n",
    "        if duration<self.pi_pulse:\n",
    "            print('Error: AWG play time is too small. Check self.laser_waiting_time and tau_start!')\n",
    "            return\n",
    "        #skipping first element since it is the AWG sync time\n",
    "        #skipping last element since AWG has a rearm time before the next averaging repetition trigger arrives\n",
    "        seq_part = {'channel_info' : [   {'name': 'a_ch0', 'amp': 1.00, 'freq': delta, 'phase': 0.00},\n",
    "                         {'name': 'a_ch1', 'amp': 1.00, 'freq': delta, 'phase': 100.00}],\n",
    "                         'duration' : duration}\n",
    "        large_seq.append(seq_part)\n",
    "        \n",
    "        load_large_sin_seq(large_seq=large_seq, identifier=name)\n",
    "        self.AWG_start()\n",
    "        \n",
    "    def Rabi(self, tau_start, tau_stop, tau_num):\n",
    "        '''\n",
    "        '''        \n",
    "        name = 'rabi-juptr'\n",
    "        self.tau_arr = np.linspace(tau_start, tau_stop, num=tau_num)\n",
    "        \n",
    "        #Create pulse sequence for the pulse streamer\n",
    "        self.BlockPS = []\n",
    "        self.PhaseDuration = []\n",
    "\n",
    "        #Trigger AWG to play its sequence, which includes one complete sweep of all waiting times        \n",
    "        self.ElementPS(channels={'AWG_Trig':True}, length=self.awg_sync_time)\n",
    "        \n",
    "        for tau in self.tau_arr:\n",
    "            #Break after Initalisation/read out\n",
    "            self.ElementPS(channels={}, length=self.laser_waiting_time) \n",
    "            #Pi pulse - reference\n",
    "            self.ElementPS(channels={'MW_Switch':True}, length=tau)\n",
    "            #Waiting time - tau\n",
    "            self.ElementPS(channels={'TT_Next':True}, length=self.mw_waiting_time)\n",
    "            #Read out\n",
    "            self.ElementPS(channels={'Laser':True, 'TT_Start':True}, length=self.read_out_time)\n",
    "\n",
    "        sample_load_ready_pulsed_measurement(name=name, \n",
    "                                             element_list=self.BlockPS, tau_arr=self.tau_arr, alternating=False)\n",
    "        self.sample_load_large_sine_AWG(name)\n",
    "    \n",
    "    def T1_optical_exp(self, tau_start, tau_stop, tau_num):\n",
    "        '''\n",
    "        '''\n",
    "        name = 't1-opti-exp-juptr'\n",
    "        self.tau_arr = np.logspace(np.log10(tau_start), np.log10(tau_stop), num=tau_num)\n",
    "        \n",
    "        #Create pulse sequence for the pulse streamer\n",
    "        self.BlockPS = []\n",
    "        self.PhaseDuration = []\n",
    "        \n",
    "        for tau in self.tau_arr:\n",
    "            #Break after Initalisation/read out\n",
    "            self.ElementPS(channels={}, length=self.laser_waiting_time) \n",
    "            #Waiting time - tau\n",
    "            self.ElementPS(channels={'TT_Next':True}, length=tau)\n",
    "            #Read out\n",
    "            self.ElementPS(channels={'Laser':True, 'TT_Start':True}, length=self.read_out_time)\n",
    "\n",
    "        sample_load_ready_pulsed_measurement(name=name, \n",
    "                                             element_list=self.BlockPS, tau_arr=self.tau_arr, alternating=False)\n",
    "    \n",
    "    def T1_alt_exp(self, tau_start, tau_stop, tau_num):\n",
    "        '''\n",
    "        '''        \n",
    "        name = 't1-alt-exp-juptr'\n",
    "        self.tau_arr = np.logspace(np.log10(tau_start), np.log10(tau_stop), num=tau_num)\n",
    "        \n",
    "        #Create pulse sequence for the pulse streamer\n",
    "        self.BlockPS = []\n",
    "        self.PhaseDuration = []\n",
    "\n",
    "        #Trigger AWG to play its sequence, which includes one complete sweep of all waiting times        \n",
    "        self.ElementPS(channels={'AWG_Trig':True}, length=self.awg_sync_time)\n",
    "        \n",
    "        for tau in self.tau_arr:\n",
    "            #Break after Initalisation/read out\n",
    "            self.ElementPS(channels={}, length=self.laser_waiting_time) \n",
    "            #Pi pulse - reference\n",
    "            self.ElementPS(channels={}, length=self.pi_pulse)\n",
    "            #Waiting time - tau\n",
    "            self.ElementPS(channels={'TT_Next':True}, length=tau)\n",
    "            #Read out\n",
    "            self.ElementPS(channels={'Laser':True, 'TT_Start':True}, length=self.read_out_time)\n",
    "            \n",
    "            #Alternating\n",
    "            #Break after Initalisation/read out\n",
    "            self.ElementPS(channels={}, length=self.laser_waiting_time)\n",
    "            #Pi pulse - reference\n",
    "            self.ElementPS(channels={'MW_Switch':True}, length=self.pi_pulse)\n",
    "            #Waiting time - tau\n",
    "            self.ElementPS(channels={'TT_Next':True}, length=tau)\n",
    "            #Read out\n",
    "            self.ElementPS(channels={'Laser':True, 'TT_Start':True}, length=self.read_out_time)\n",
    "\n",
    "        sample_load_ready_pulsed_measurement(name=name, \n",
    "                                             element_list=self.BlockPS, tau_arr=self.tau_arr, alternating=True)\n",
    "        self.sample_load_large_sine_AWG(name)\n",
    "        \n",
    "    def T1_alt_exp_test(self, tau_start, tau_stop, tau_num):\n",
    "        '''\n",
    "        '''        \n",
    "        name = 't1-alt-exp-test-juptr'\n",
    "        self.tau_arr = np.logspace(np.log10(tau_start), np.log10(tau_stop), num=tau_num)\n",
    "        \n",
    "        #Create pulse sequence for the pulse streamer\n",
    "        self.BlockPS = []\n",
    "        self.PhaseDuration = []\n",
    "        \n",
    "        for tau in self.tau_arr:\n",
    "            #Break after Initalisation/read out\n",
    "            self.ElementPS(channels={}, length=self.laser_waiting_time) \n",
    "            #Pi pulse - reference\n",
    "            self.ElementPS(channels={}, length=self.pi_pulse)\n",
    "            #Waiting time - tau\n",
    "            self.ElementPS(channels={'TT_Next':True}, length=tau)\n",
    "            #Read out\n",
    "            self.ElementPS(channels={'Laser':True, 'TT_Start':True}, length=self.read_out_time)\n",
    "            \n",
    "            #Alternating\n",
    "            #Break after Initalisation/read out\n",
    "            self.ElementPS(channels={'AWG_Trig':True}, length=self.laser_waiting_time)\n",
    "            #Pi pulse - reference\n",
    "            self.ElementPS(channels={'MW_Switch':True}, length=self.pi_pulse)\n",
    "            #Waiting time - tau\n",
    "            self.ElementPS(channels={'TT_Next':True}, length=tau)\n",
    "            #Read out\n",
    "            self.ElementPS(channels={'Laser':True, 'TT_Start':True}, length=self.read_out_time)\n",
    "\n",
    "        sample_load_ready_pulsed_measurement(name=name, \n",
    "                                             element_list=self.BlockPS, tau_arr=self.tau_arr, alternating=True)\n",
    "        self.sample_load_short_sine_AWG(name)\n",
    "    \n",
    "    def Ramsey_alt_phased(self, tau_start, tau_stop, tau_num):\n",
    "        '''\n",
    "        '''\n",
    "        name = 'ramsey-alt-phased-juptr'\n",
    "        self.tau_arr = np.linspace(tau_start, tau_stop, num=tau_num)\n",
    "        \n",
    "        #Create pulse sequence for the pulse streamer\n",
    "        self.BlockPS = []\n",
    "        self.PhaseDuration = []\n",
    "\n",
    "        #Trigger AWG to play its sequence, which includes one complete sweep of all waiting times        \n",
    "        self.ElementPS(channels={'AWG_Trig':True}, length=self.awg_sync_time)\n",
    "        \n",
    "        for tau in self.tau_arr:\n",
    "            #Break after Initalisation/read out\n",
    "            self.ElementPS(channels={}, length=self.laser_waiting_time)\n",
    "            #Pi/2 pulse\n",
    "            self.ElementPS(channels={'MW_Switch':True}, length=self.pi_pulse/2)\n",
    "            #First waiting time - tau\n",
    "            self.ElementPS(channels={}, length=tau)\n",
    "            #Pi/2 pulse\n",
    "            self.ElementPS(channels={'MW_Switch':True}, length=self.pi_pulse/2)\n",
    "            #Waiting time\n",
    "            self.ElementPS(channels={'TT_Next':True}, length=self.mw_waiting_time)\n",
    "            #Read out\n",
    "            self.ElementPS(channels={'Laser':True, 'TT_Start':True}, length=self.read_out_time)\n",
    "            \n",
    "            #Alternating run\n",
    "            #Break after Initalisation/read out\n",
    "            self.ElementPS(channels={}, length=self.laser_waiting_time)\n",
    "            #Pi/2 pulse\n",
    "            self.ElementPS(channels={'MW_Switch':True}, length=self.pi_pulse/2)\n",
    "            #Second waiting time + tau\n",
    "            self.ElementPS(channels={}, length=tau, phase=(0,180))\n",
    "            #Pi/2 pulse Phase change cause -pi/2 pulse - done by AWG\n",
    "            self.ElementPS(channels={'MW_Switch':True}, length=self.pi_pulse/2, phase=180)\n",
    "            #Waiting time\n",
    "            self.ElementPS(channels={'TT_Next':True}, length=self.mw_waiting_time, phase=180)\n",
    "            #Read out\n",
    "            self.ElementPS(channels={'Laser':True, 'TT_Start':True}, length=self.read_out_time, phase=180)\n",
    "        \n",
    "        sample_load_ready_pulsed_measurement(name=name, \n",
    "                                             element_list=self.BlockPS, tau_arr=self.tau_arr, alternating=True)\n",
    "        self.sample_load_large_sine_AWG(name)\n",
    "    \n",
    "    def Hecho_alt_phased(self, tau_start, tau_stop, tau_num):\n",
    "        '''\n",
    "        '''\n",
    "        name = 'hecho-alt-phased-juptr'\n",
    "        self.tau_arr = np.linspace(tau_start, tau_stop, num=tau_num)\n",
    "        \n",
    "        #Create pulse sequence for the pulse streamer\n",
    "        self.BlockPS = []\n",
    "        self.PhaseDuration = []\n",
    "\n",
    "        #Trigger AWG to play its sequence, which includes one complete sweep of all waiting times        \n",
    "        self.ElementPS(channels={'AWG_Trig':True}, length=self.awg_sync_time)\n",
    "        \n",
    "        for tau in self.tau_arr:\n",
    "            #Break after Initalisation/read out\n",
    "            self.ElementPS(channels={}, length=self.laser_waiting_time)\n",
    "            #Pi/2 pulse\n",
    "            self.ElementPS(channels={'MW_Switch':True}, length=self.pi_pulse/2)\n",
    "            #First waiting time + tau/2\n",
    "            self.ElementPS(channels={}, length=tau/2)\n",
    "            #Pi pulse\n",
    "            self.ElementPS(channels={'MW_Switch':True}, length=self.pi_pulse)\n",
    "            #Second waiting time + tau/2\n",
    "            self.ElementPS(channels={}, length=tau/2)\n",
    "            #Pi/2 pulse\n",
    "            self.ElementPS(channels={'MW_Switch':True}, length=self.pi_pulse/2)\n",
    "            #Waiting time\n",
    "            self.ElementPS(channels={'TT_Next':True}, length=self.mw_waiting_time)\n",
    "            #Read out\n",
    "            self.ElementPS(channels={'Laser':True, 'TT_Start':True}, length=self.read_out_time)\n",
    "            \n",
    "            #Alternating run\n",
    "            #Break after Initalisation/read out\n",
    "            self.ElementPS(channels={}, length=self.laser_waiting_time)\n",
    "            #Pi/2 pulse\n",
    "            self.ElementPS(channels={'MW_Switch':True}, length=self.pi_pulse/2)\n",
    "            #First waiting time + tau/2\n",
    "            self.ElementPS(channels={}, length=tau/2)\n",
    "            #Pi pulse\n",
    "            self.ElementPS(channels={'MW_Switch':True}, length=self.pi_pulse)\n",
    "            #Second waiting time + tau/2\n",
    "            self.ElementPS(channels={}, length=tau/2, phase=(0,180))\n",
    "            #Pi/2 pulse Phase change cause -pi/2 pulse - done by AWG\n",
    "            self.ElementPS(channels={'MW_Switch':True}, length=self.pi_pulse/2, phase=180)\n",
    "            #Waiting time\n",
    "            self.ElementPS(channels={'TT_Next':True}, length=self.mw_waiting_time, phase=180)\n",
    "            #Read out\n",
    "            self.ElementPS(channels={'Laser':True, 'TT_Start':True}, length=self.read_out_time, phase=180)\n",
    "        \n",
    "        sample_load_ready_pulsed_measurement(name=name, \n",
    "                                             element_list=self.BlockPS, tau_arr=self.tau_arr, alternating=True)\n",
    "        self.sample_load_large_sine_AWG(name)"
   ]
  },
  {
   "cell_type": "markdown",
   "metadata": {},
   "source": [
    "Helpers"
   ]
  },
  {
   "cell_type": "code",
   "execution_count": 4,
   "metadata": {},
   "outputs": [],
   "source": [
    "def load_sin(channels = [{'name': 'a_ch0', 'amp': 1.00}], dur=1e-6, identifier=''):\n",
    "        \"\"\"\n",
    "        Load a sine waveform to be played simultaneously on the specified channels.\n",
    "        \"\"\"\n",
    "        ele = []\n",
    "        a_ch = {'a_ch0': SF.DC(0), 'a_ch1': SF.DC(0), 'a_ch2': SF.DC(0), 'a_ch3': SF.DC(0)}\n",
    "        d_ch = {'d_ch0': False, 'd_ch1': False, 'd_ch2': False, 'd_ch4': False, 'd_ch3': False, 'd_ch5': False}\n",
    "        for ch in channels:\n",
    "            a_ch[ch['name']] = SF.Sin(amplitude=ch['amp'], frequency=ch['freq'], phase=ch['phase'])\n",
    "            \n",
    "        ele.append(po.PulseBlockElement(init_length_s=dur,  pulse_function=a_ch, digital_high=d_ch))\n",
    "        pulse_block = po.PulseBlock(name=f'SinJupyterHecho-031123-block{identifier}', element_list=ele)\n",
    "        afm_scanner_logic._pulsed_master_AWG.sequencegeneratorlogic().save_block(pulse_block)\n",
    "\n",
    "        block_list = []\n",
    "        block_list.append((pulse_block.name, 0))\n",
    "        auto_pulse_CW = po.PulseBlockEnsemble(f'SinJupyterHecho-031123{identifier}', block_list)\n",
    "\n",
    "        ensemble = auto_pulse_CW\n",
    "        ensemblename = auto_pulse_CW.name\n",
    "        afm_scanner_logic._pulsed_master_AWG.sequencegeneratorlogic().save_ensemble(ensemble)\n",
    "        afm_scanner_logic._pulsed_master_AWG.sequencegeneratorlogic().sample_pulse_block_ensemble(ensemblename)\n",
    "        afm_scanner_logic._pulsed_master_AWG.sequencegeneratorlogic().load_ensemble(ensemblename)\n",
    "\n",
    "def load_large_sin_seq(large_seq = [{'name': 'a_ch0', 'amp': 1.00}], identifier=''):\n",
    "        \"\"\"\n",
    "        Load a large sequence to be played on the AWG.\n",
    "        \"\"\"\n",
    "        \n",
    "        ele = []\n",
    "        \n",
    "        for step in large_seq:\n",
    "            channels = step['channel_info']\n",
    "            dur = step['duration']\n",
    "        \n",
    "            a_ch = {'a_ch0': SF.DC(0), 'a_ch1': SF.DC(0), 'a_ch2': SF.DC(0), 'a_ch3': SF.DC(0)}\n",
    "            d_ch = {'d_ch0': False, 'd_ch1': False, 'd_ch2': False, 'd_ch4': False, 'd_ch3': False, 'd_ch5': False}\n",
    "            for ch in channels:\n",
    "                a_ch[ch['name']] = SF.Sin(amplitude=ch['amp'], frequency=ch['freq'], phase=ch['phase'])\n",
    "\n",
    "            ele.append(po.PulseBlockElement(init_length_s=dur,  pulse_function=a_ch, digital_high=d_ch))\n",
    "        pulse_block = po.PulseBlock(name=f'Jupyter-block-{identifier}', element_list=ele)\n",
    "        afm_scanner_logic._pulsed_master_AWG.sequencegeneratorlogic().save_block(pulse_block)\n",
    "\n",
    "        block_list = []\n",
    "        block_list.append((pulse_block.name, 0))\n",
    "        auto_pulse_CW = po.PulseBlockEnsemble(f'Jupyter-ensemble-{identifier}', block_list)\n",
    "\n",
    "        ensemble = auto_pulse_CW\n",
    "        ensemblename = auto_pulse_CW.name\n",
    "        afm_scanner_logic._pulsed_master_AWG.sequencegeneratorlogic().save_ensemble(ensemble)\n",
    "        afm_scanner_logic._pulsed_master_AWG.sequencegeneratorlogic().sample_pulse_block_ensemble(ensemblename)\n",
    "#         afm_scanner_logic._pulsed_master_AWG.sequencegeneratorlogic().load_ensemble(ensemblename)\n",
    "        afm_scanner_logic._AWG.load_triggered_multi_replay([ensemblename])\n",
    "        \n",
    "def sample_load_ready_pulsed_measurement(name = 'pulse_measurement', element_list = [], tau_arr = [], alternating = False):\n",
    "    \n",
    "    pulse_block = po.PulseBlock(name=name, element_list=element_list)\n",
    "    sequencegeneratorlogic.save_block(pulse_block)\n",
    "    \n",
    "    block_list = []\n",
    "    block_list.append((pulse_block.name, 0))\n",
    "    pulse_block_ensemble = po.PulseBlockEnsemble(name, block_list)\n",
    "    \n",
    "    sequencegeneratorlogic.save_ensemble(pulse_block_ensemble)\n",
    "    sequencegeneratorlogic.sample_pulse_block_ensemble(name)\n",
    "    sequencegeneratorlogic.load_ensemble(name)\n",
    "    \n",
    "    tau_num = len(tau_arr) * 2 if alternating else len(tau_arr)\n",
    "    pulsedmasterlogic.set_measurement_settings(invoke_settings=False, \n",
    "                                           controlled_variable=tau_arr,\n",
    "                                           number_of_lasers=tau_num, \n",
    "                                           laser_ignore_list=[], \n",
    "                                           alternating=alternating, \n",
    "                                           units=('s', 'arb. u.'))\n",
    "    pulsedmeasurementlogic.alternative_data_type = 'None'\n",
    "    time.sleep(0.5)\n",
    "    pulsedmasterlogic.set_fast_counter_settings(record_length=3e-6, number_of_gates=tau_num)\n",
    "    time.sleep(0.5)\n",
    "    for setting, value in pulsedmasterlogic.measurement_settings.items():\n",
    "        print('{0}:\\n  {1}'.format(setting, value))\n",
    "    "
   ]
  },
  {
   "cell_type": "markdown",
   "metadata": {},
   "source": [
    "#### Define general measurement params"
   ]
  },
  {
   "cell_type": "code",
   "execution_count": 5,
   "metadata": {},
   "outputs": [],
   "source": [
    "pi_pulse = 65e-9 #if available \n",
    "LO_freq = 2.87e9\n",
    "target_freq = 2.85511e9\n",
    "power = -1"
   ]
  },
  {
   "cell_type": "markdown",
   "metadata": {},
   "source": [
    "#### Load and ready Rabi sequence"
   ]
  },
  {
   "cell_type": "code",
   "execution_count": 6,
   "metadata": {},
   "outputs": [
    {
     "name": "stdout",
     "output_type": "stream",
     "text": [
      "Using laser voltage:  0.08 V\n",
      "Using LO_freq:  2.87 GHz\n",
      "Using target_freq:  2.85511 GHz\n",
      "Using power:  -1 dBm\n",
      "invoke_settings:\n",
      "  False\n",
      "controlled_variable:\n",
      "  [1.0e-08 2.0e-08 3.0e-08 4.0e-08 5.0e-08 6.0e-08 7.0e-08 8.0e-08 9.0e-08\n",
      " 1.0e-07 1.1e-07 1.2e-07 1.3e-07 1.4e-07 1.5e-07 1.6e-07 1.7e-07 1.8e-07\n",
      " 1.9e-07 2.0e-07 2.1e-07 2.2e-07 2.3e-07 2.4e-07 2.5e-07 2.6e-07 2.7e-07\n",
      " 2.8e-07 2.9e-07 3.0e-07 3.1e-07 3.2e-07 3.3e-07 3.4e-07 3.5e-07 3.6e-07\n",
      " 3.7e-07 3.8e-07 3.9e-07 4.0e-07 4.1e-07 4.2e-07 4.3e-07 4.4e-07 4.5e-07\n",
      " 4.6e-07 4.7e-07 4.8e-07 4.9e-07 5.0e-07 5.1e-07 5.2e-07 5.3e-07 5.4e-07\n",
      " 5.5e-07 5.6e-07 5.7e-07 5.8e-07 5.9e-07 6.0e-07 6.1e-07 6.2e-07 6.3e-07\n",
      " 6.4e-07 6.5e-07 6.6e-07 6.7e-07 6.8e-07 6.9e-07 7.0e-07 7.1e-07 7.2e-07\n",
      " 7.3e-07 7.4e-07 7.5e-07 7.6e-07 7.7e-07 7.8e-07 7.9e-07 8.0e-07]\n",
      "number_of_lasers:\n",
      "  80\n",
      "laser_ignore_list:\n",
      "  []\n",
      "alternating:\n",
      "  False\n",
      "units:\n",
      "  ('s', 'arb. u.')\n",
      "labels:\n",
      "  ['Tau', 'Signal']\n"
     ]
    }
   ],
   "source": [
    "tau_start = 10e-9\n",
    "tau_stop = 800e-9\n",
    "tau_num = 80\n",
    "\n",
    "PB = qudi_pulse_block(pi_pulse=pi_pulse, LO_freq=LO_freq, target_freq=target_freq, power=power)\n",
    "PB.Rabi(tau_start, tau_stop, tau_num)"
   ]
  },
  {
   "cell_type": "markdown",
   "metadata": {},
   "source": [
    "#### Load and ready optical T1 sequence"
   ]
  },
  {
   "cell_type": "code",
   "execution_count": 10,
   "metadata": {},
   "outputs": [
    {
     "name": "stdout",
     "output_type": "stream",
     "text": [
      "Using laser voltage:  0.08 V\n",
      "Using LO_freq:  2.87 GHz\n",
      "Using target_freq:  2.85511 GHz\n",
      "Using power:  -1 dBm\n",
      "invoke_settings:\n",
      "  False\n",
      "controlled_variable:\n",
      "  [1.00000000e-06 1.31973401e-06 1.74169787e-06 2.29857792e-06\n",
      " 3.03351147e-06 4.00342827e-06 5.28346047e-06 6.97276249e-06\n",
      " 9.20219184e-06 1.21444456e-05 1.60274379e-05 2.11519550e-05\n",
      " 2.79149545e-05 3.68403150e-05 4.86194168e-05 6.41646981e-05\n",
      " 8.46803347e-05 1.11755518e-04 1.47487559e-04 1.94644348e-04\n",
      " 2.56878767e-04 3.39011646e-04 4.47405201e-04 5.90455862e-04\n",
      " 7.79244685e-04 1.02839572e-03 1.35720881e-03 1.79115463e-03\n",
      " 2.36384769e-03 3.11965020e-03 4.11710849e-03 5.43348811e-03\n",
      " 7.17075908e-03 9.46349468e-03 1.24892958e-02 1.64825485e-02\n",
      " 2.17525799e-02 2.87076197e-02 3.78864221e-02 5.00000000e-02]\n",
      "number_of_lasers:\n",
      "  40\n",
      "laser_ignore_list:\n",
      "  []\n",
      "alternating:\n",
      "  False\n",
      "units:\n",
      "  ('s', 'arb. u.')\n",
      "labels:\n",
      "  ['Tau', 'Signal']\n"
     ]
    }
   ],
   "source": [
    "tau_start = 1e-6\n",
    "tau_stop = 1e-3\n",
    "tau_num = 40\n",
    "\n",
    "PB = qudi_pulse_block(pi_pulse=pi_pulse, LO_freq=LO_freq, target_freq=target_freq, power=power)\n",
    "PB.T1_optical_exp(tau_start, tau_stop, tau_num)"
   ]
  },
  {
   "cell_type": "markdown",
   "metadata": {},
   "source": [
    "#### Load and ready T1 sequence (alternating)"
   ]
  },
  {
   "cell_type": "code",
   "execution_count": 12,
   "metadata": {},
   "outputs": [
    {
     "name": "stdout",
     "output_type": "stream",
     "text": [
      "Using laser voltage:  0.08 V\n",
      "Using LO_freq:  2.87 GHz\n",
      "Using target_freq:  2.85511 GHz\n",
      "Using power:  -1 dBm\n",
      "invoke_settings:\n",
      "  False\n",
      "controlled_variable:\n",
      "  [1.00000000e-06 1.26638017e-06 1.60371874e-06 2.03091762e-06\n",
      " 2.57191381e-06 3.25702066e-06 4.12462638e-06 5.22334507e-06\n",
      " 6.61474064e-06 8.37677640e-06 1.06081836e-05 1.34339933e-05\n",
      " 1.70125428e-05 2.15443469e-05 2.72833338e-05 3.45510729e-05\n",
      " 4.37547938e-05 5.54102033e-05 7.01703829e-05 8.88623816e-05\n",
      " 1.12533558e-04 1.42510267e-04 1.80472177e-04 2.28546386e-04\n",
      " 2.89426612e-04 3.66524124e-04 4.64158883e-04 5.87801607e-04\n",
      " 7.44380301e-04 9.42668455e-04 1.19377664e-03 1.51177507e-03\n",
      " 1.91448198e-03 2.42446202e-03 3.07029063e-03 3.88815518e-03\n",
      " 4.92388263e-03 6.23550734e-03 7.89652287e-03 1.00000000e-02]\n",
      "number_of_lasers:\n",
      "  80\n",
      "laser_ignore_list:\n",
      "  []\n",
      "alternating:\n",
      "  True\n",
      "units:\n",
      "  ('s', 'arb. u.')\n",
      "labels:\n",
      "  ['Tau', 'Signal']\n"
     ]
    }
   ],
   "source": [
    "tau_start = 1e-6\n",
    "tau_stop = 1e-3\n",
    "tau_num = 40\n",
    "\n",
    "PB = qudi_pulse_block(pi_pulse=pi_pulse, LO_freq=LO_freq, target_freq=target_freq, power=power)\n",
    "PB.T1_alt_exp(tau_start, tau_stop, tau_num)"
   ]
  },
  {
   "cell_type": "markdown",
   "metadata": {},
   "source": [
    "#### Load and ready Ramsey sequence with phase shift (alternating)"
   ]
  },
  {
   "cell_type": "code",
   "execution_count": 11,
   "metadata": {},
   "outputs": [
    {
     "name": "stdout",
     "output_type": "stream",
     "text": [
      "Using laser voltage:  0.08 V\n",
      "Using LO_freq:  2.87 GHz\n",
      "Using target_freq:  2.85511 GHz\n",
      "Using power:  -1 dBm\n",
      "invoke_settings:\n",
      "  False\n",
      "controlled_variable:\n",
      "  [1.00000000e-08 1.11836735e-07 2.13673469e-07 3.15510204e-07\n",
      " 4.17346939e-07 5.19183673e-07 6.21020408e-07 7.22857143e-07\n",
      " 8.24693878e-07 9.26530612e-07 1.02836735e-06 1.13020408e-06\n",
      " 1.23204082e-06 1.33387755e-06 1.43571429e-06 1.53755102e-06\n",
      " 1.63938776e-06 1.74122449e-06 1.84306122e-06 1.94489796e-06\n",
      " 2.04673469e-06 2.14857143e-06 2.25040816e-06 2.35224490e-06\n",
      " 2.45408163e-06 2.55591837e-06 2.65775510e-06 2.75959184e-06\n",
      " 2.86142857e-06 2.96326531e-06 3.06510204e-06 3.16693878e-06\n",
      " 3.26877551e-06 3.37061224e-06 3.47244898e-06 3.57428571e-06\n",
      " 3.67612245e-06 3.77795918e-06 3.87979592e-06 3.98163265e-06\n",
      " 4.08346939e-06 4.18530612e-06 4.28714286e-06 4.38897959e-06\n",
      " 4.49081633e-06 4.59265306e-06 4.69448980e-06 4.79632653e-06\n",
      " 4.89816327e-06 5.00000000e-06]\n",
      "number_of_lasers:\n",
      "  100\n",
      "laser_ignore_list:\n",
      "  []\n",
      "alternating:\n",
      "  True\n",
      "units:\n",
      "  ('s', 'arb. u.')\n",
      "labels:\n",
      "  ['Tau', 'Signal']\n"
     ]
    }
   ],
   "source": [
    "tau_start = 10e-9\n",
    "tau_stop = 5000e-9\n",
    "tau_num = 50\n",
    "\n",
    "PB = qudi_pulse_block(pi_pulse=pi_pulse, LO_freq=LO_freq, target_freq=target_freq, power=power)\n",
    "PB.Ramsey_alt_phased(tau_start, tau_stop, tau_num)"
   ]
  },
  {
   "cell_type": "markdown",
   "metadata": {},
   "source": [
    "#### Load and ready Hahn Echo sequence with phase shift (alternating)"
   ]
  },
  {
   "cell_type": "code",
   "execution_count": 7,
   "metadata": {},
   "outputs": [
    {
     "name": "stdout",
     "output_type": "stream",
     "text": [
      "Using laser voltage:  0.08 V\n",
      "Using LO_freq:  2.87 GHz\n",
      "Using target_freq:  2.85511 GHz\n",
      "Using power:  -1 dBm\n",
      "invoke_settings:\n",
      "  False\n",
      "controlled_variable:\n",
      "  [1.00000000e-07 4.04081633e-07 7.08163265e-07 1.01224490e-06\n",
      " 1.31632653e-06 1.62040816e-06 1.92448980e-06 2.22857143e-06\n",
      " 2.53265306e-06 2.83673469e-06 3.14081633e-06 3.44489796e-06\n",
      " 3.74897959e-06 4.05306122e-06 4.35714286e-06 4.66122449e-06\n",
      " 4.96530612e-06 5.26938776e-06 5.57346939e-06 5.87755102e-06\n",
      " 6.18163265e-06 6.48571429e-06 6.78979592e-06 7.09387755e-06\n",
      " 7.39795918e-06 7.70204082e-06 8.00612245e-06 8.31020408e-06\n",
      " 8.61428571e-06 8.91836735e-06 9.22244898e-06 9.52653061e-06\n",
      " 9.83061224e-06 1.01346939e-05 1.04387755e-05 1.07428571e-05\n",
      " 1.10469388e-05 1.13510204e-05 1.16551020e-05 1.19591837e-05\n",
      " 1.22632653e-05 1.25673469e-05 1.28714286e-05 1.31755102e-05\n",
      " 1.34795918e-05 1.37836735e-05 1.40877551e-05 1.43918367e-05\n",
      " 1.46959184e-05 1.50000000e-05]\n",
      "number_of_lasers:\n",
      "  100\n",
      "laser_ignore_list:\n",
      "  []\n",
      "alternating:\n",
      "  True\n",
      "units:\n",
      "  ('s', 'arb. u.')\n",
      "labels:\n",
      "  ['Tau', 'Signal']\n"
     ]
    }
   ],
   "source": [
    "tau_start = 100e-9\n",
    "tau_stop = 15000e-9\n",
    "tau_num = 50\n",
    "\n",
    "PB = qudi_pulse_block(pi_pulse=pi_pulse, LO_freq=LO_freq, target_freq=target_freq, power=power)\n",
    "PB.Hecho_alt_phased(tau_start, tau_stop, tau_num)"
   ]
  },
  {
   "cell_type": "markdown",
   "metadata": {},
   "source": [
    "Tests"
   ]
  },
  {
   "cell_type": "code",
   "execution_count": 7,
   "metadata": {},
   "outputs": [
    {
     "data": {
      "image/png": "[encoded data removed]"
     },
     "metadata": {
      "image/png": {
       "height": 361,
       "width": 563
      }
     },
     "output_type": "display_data"
    },
    {
     "name": "stdout",
     "output_type": "stream",
     "text": [
      "False\n",
      "dict_keys(['a_ch3', 'a_ch0', 'a_ch2', 'a_ch1'])\n"
     ]
    }
   ],
   "source": [
    "print(np.any(awg_spectrum.debug_analog_samples['a_ch1']>1))\n",
    "import matplotlib.pyplot as plt\n",
    "print(awg_spectrum.debug_analog_samples.keys())\n",
    "plt.plot(awg_spectrum.debug_analog_samples['a_ch1'])\n",
    "plt.xlim(0,100)\n",
    "plt.show()"
   ]
  },
  {
   "cell_type": "code",
   "execution_count": 8,
   "metadata": {},
   "outputs": [
    {
     "data": {
      "text/plain": [
       "(586750,)"
      ]
     },
     "execution_count": 8,
     "metadata": {},
     "output_type": "execute_result"
    }
   ],
   "source": [
    "awg_spectrum.debug_analog_samples['a_ch1'].shape"
   ]
  },
  {
   "cell_type": "code",
   "execution_count": 9,
   "metadata": {},
   "outputs": [
    {
     "data": {
      "text/plain": [
       "(586750,)"
      ]
     },
     "execution_count": 9,
     "metadata": {},
     "output_type": "execute_result"
    },
    {
     "data": {
      "image/png": "[encoded data removed]"
     },
     "metadata": {
      "image/png": {
       "height": 361,
       "width": 563
      }
     },
     "output_type": "display_data"
    },
    {
     "name": "stdout",
     "output_type": "stream",
     "text": [
      "False\n"
     ]
    }
   ],
   "source": [
    "print(np.any(awg_spectrum.debug_convert['a_ch1']>1))\n",
    "import matplotlib.pyplot as plt\n",
    "plt.plot(awg_spectrum.debug_convert['a_ch1'])\n",
    "plt.xlim(0,100)\n",
    "plt.show()\n",
    "awg_spectrum.debug_convert['a_ch1'].shape"
   ]
  },
  {
   "cell_type": "code",
   "execution_count": 10,
   "metadata": {},
   "outputs": [
    {
     "data": {
      "text/plain": [
       "(586750,)"
      ]
     },
     "execution_count": 10,
     "metadata": {},
     "output_type": "execute_result"
    },
    {
     "data": {
      "image/png": "[encoded data removed]"
     },
     "metadata": {
      "image/png": {
       "height": 361,
       "width": 572
      }
     },
     "output_type": "display_data"
    },
    {
     "name": "stdout",
     "output_type": "stream",
     "text": [
      "True\n"
     ]
    }
   ],
   "source": [
    "print(np.any(awg_spectrum.debug_full_signal['a_ch1']>1))\n",
    "import matplotlib.pyplot as plt\n",
    "plt.plot(awg_spectrum.debug_full_signal['a_ch1'])\n",
    "plt.xlim(0,100)\n",
    "plt.show()\n",
    "awg_spectrum.debug_full_signal['a_ch1'].shape"
   ]
  },
  {
   "cell_type": "code",
   "execution_count": 28,
   "metadata": {},
   "outputs": [],
   "source": [
    "exp_arr = awg_spectrum.debug_full_signal['a_ch1'].copy()"
   ]
  },
  {
   "cell_type": "code",
   "execution_count": 29,
   "metadata": {},
   "outputs": [
    {
     "name": "stdout",
     "output_type": "stream",
     "text": [
      "[ 32269  31753  31059 ... -20574 -22423 -24147]\n",
      "[32518 32260 31913 ...  6097  5172  4310]\n"
     ]
    }
   ],
   "source": [
    "print(awg_spectrum.debug_full_signal['a_ch1'])\n",
    "exp_arr //= 2 # for ch1 it is //4, //2 for ch0\n",
    "exp_arr +=  2 ** 14 #it is 15 for ch0\n",
    "# exp_arr += 2**14\n",
    "print(exp_arr)"
   ]
  },
  {
   "cell_type": "code",
   "execution_count": 30,
   "metadata": {},
   "outputs": [
    {
     "data": {
      "image/png": "[encoded data removed]"
     },
     "metadata": {
      "image/png": {
       "height": 361,
       "width": 572
      }
     },
     "output_type": "display_data"
    },
    {
     "data": {
      "image/png": "[encoded data removed]"
     },
     "metadata": {
      "image/png": {
       "height": 361,
       "width": 564
      }
     },
     "output_type": "display_data"
    }
   ],
   "source": [
    "plt.plot(awg_spectrum.debug_full_signal['a_ch1'])\n",
    "plt.xlim(0,100)\n",
    "plt.show()\n",
    "\n",
    "plt.plot(exp_arr)\n",
    "plt.xlim(0,100)\n",
    "plt.show()"
   ]
  },
  {
   "cell_type": "code",
   "execution_count": 14,
   "metadata": {},
   "outputs": [],
   "source": [
    "crd=awg_spectrum.instance.cards[0]"
   ]
  },
  {
   "cell_type": "code",
   "execution_count": 15,
   "metadata": {},
   "outputs": [
    {
     "data": {
      "image/png": "[encoded data removed]"
     },
     "metadata": {
      "image/png": {
       "height": 361,
       "width": 564
      }
     },
     "output_type": "display_data"
    }
   ],
   "source": [
    "pn_arr = crd.debug_pnbuffer[1:-1:2].copy()\n",
    "\n",
    "plt.plot(pn_arr)\n",
    "plt.xlim(0,100)\n",
    "plt.show()"
   ]
  },
  {
   "cell_type": "code",
   "execution_count": 27,
   "metadata": {},
   "outputs": [
    {
     "data": {
      "text/plain": [
       "32767"
      ]
     },
     "execution_count": 27,
     "metadata": {},
     "output_type": "execute_result"
    }
   ],
   "source": [
    "np.iinfo(np.int16).max//2 + 2**14"
   ]
  },
  {
   "cell_type": "code",
   "execution_count": 26,
   "metadata": {},
   "outputs": [
    {
     "data": {
      "text/plain": [
       "0"
      ]
     },
     "execution_count": 26,
     "metadata": {},
     "output_type": "execute_result"
    }
   ],
   "source": [
    "np.iinfo(np.int16).min//2 + 2**14"
   ]
  },
  {
   "cell_type": "code",
   "execution_count": null,
   "metadata": {},
   "outputs": [],
   "source": [
    "def load_waveform(self, load_dict):\n",
    "        \"\"\" Loads a waveform from the waveform folder on disk to all specified channels of the pulsing device.\n",
    "\n",
    "        The file on disk has to have the corresponding channel name in the file name. eg.\n",
    "            hahn_echo_a_ch0.pkl\n",
    "            hahn_echo_d_ch1.pkl\n",
    "        will be loaded into analog ch0 and digital ch1 respectively.\n",
    "\n",
    "\n",
    "        @param dict|list load_dict: a dictionary with keys being one of the available channel\n",
    "                                    index and values being the name of the already written\n",
    "                                    waveform to load into the channel.\n",
    "                                    Examples:   {1: rabi_ch1, 2: rabi_ch2} or\n",
    "                                                {1: rabi_ch2, 2: rabi_ch1}\n",
    "                                    If just a list of waveform names if given, the channel\n",
    "                                    association will be invoked from the channel\n",
    "                                    suffix '_ch1', '_ch2' etc.\n",
    "\n",
    "                                        {1: rabi_ch1, 2: rabi_ch2}\n",
    "                                    or\n",
    "                                        {1: rabi_ch2, 2: rabi_ch1}\n",
    "\n",
    "                                    If just a list of waveform names if given,\n",
    "                                    the channel association will be invoked from\n",
    "                                    the channel suffix '_ch1', '_ch2' etc. A\n",
    "                                    possible configuration can be e.g.\n",
    "\n",
    "                                        ['rabi_ch1', 'rabi_ch2', 'rabi_ch3']\n",
    "\n",
    "        @return dict: Dictionary containing the actually loaded waveforms per\n",
    "                      channel.\n",
    "\n",
    "        For devices that have a workspace (i.e. AWG) this will load the waveform\n",
    "        from the device workspace into the channel. For a device without mass\n",
    "        memory, this will make the waveform/pattern that has been previously\n",
    "        written with self.write_waveform ready to play.\n",
    "\n",
    "        Please note that the channel index used here is not to be confused with the number suffix\n",
    "        in the generic channel descriptors (i.e. 'd_ch1', 'a_ch1'). The channel index used here is\n",
    "        highly hardware specific and corresponds to a collection of digital and analog channels\n",
    "        being associated to a SINGLE waveform asset.\n",
    "        \"\"\"\n",
    "\n",
    "        # create new dictionary with keys = num_of_ch and item = waveform\n",
    "\n",
    "        max_chunk_size = self.instance.max_chunk_size\n",
    "        empty_chunk_array_factor = self.instance.empty_chunk_array_factor\n",
    "\n",
    "        if isinstance(load_dict, list):\n",
    "            new_dict = dict()\n",
    "            for waveform in load_dict:\n",
    "                wave_name = waveform.rsplit('.pkl')[0]\n",
    "                channel_num = int(wave_name.rsplit('_ch', 1)[1])\n",
    "                # Map channel numbers to HW channel numbers\n",
    "                if '_a_ch' not in waveform:\n",
    "                    channel = channel_num + 4\n",
    "                else:\n",
    "                    channel = channel_num\n",
    "                new_dict[channel] = wave_name\n",
    "            load_dict = new_dict\n",
    "\n",
    "        if not load_dict:\n",
    "            self.log.error('No data to send to AWG')\n",
    "            return -1\n",
    "\n",
    "        # Get a list of  all pkl waveforms in waveform folder\n",
    "        path = self.waveform_folder\n",
    "        wave_form_list = self.get_waveform_names()\n",
    "\n",
    "        data_list = list()\n",
    "        data_sizes = list()\n",
    "        # this looks like 4 analog channels and 6 digital\n",
    "        # for i in range(4):\n",
    "        #     data_list.append(np.zeros(int(max_chunk_size * empty_chunk_array_factor), np.int16))\n",
    "        # for i in range(6):\n",
    "        #     data_list.append(np.zeros(int(max_chunk_size * empty_chunk_array_factor), np.bool))\n",
    "\n",
    "        for ch, value in load_dict.items():\n",
    "            if value in wave_form_list:\n",
    "                wavefile = '{0}.pkl'.format(value)\n",
    "                filepath = os.path.join(path, wavefile)\n",
    "                data = self.my_load_dict(filepath)\n",
    "                # data_list[ch][0:len(data)] = data\n",
    "                data_list.append(data.astype(np.float32))\n",
    "                data_sizes.append(len(data))\n",
    "                if '_a_ch' in value:\n",
    "                    chan_name = 'a_ch{0}'.format(value.rsplit('a_ch')[1])\n",
    "                    self.loaded_assets[chan_name] = value[:-6]\n",
    "                else:\n",
    "                    chan_name = 'd_ch{0}'.format(value.rsplit('d_ch')[1])\n",
    "                    self.loaded_assets[chan_name] = value[:-6]\n",
    "            else:\n",
    "                self.log.warn('Waveform {} not found in {}'.format(value, self.waveform_folder))\n",
    "                data_size = 0\n",
    "\n",
    "        # If data sizes don't match the first file, append empty rows\n",
    "        data_sizes = np.asarray(data_sizes)\n",
    "        max_size = np.max(data_sizes)\n",
    "        new_list = list()\n",
    "        if np.std(data_sizes)!=0:\n",
    "            for row in data_list:\n",
    "                new_row = np.zeros(max_size, np.float32)\n",
    "                new_row[0:len(row)] = row\n",
    "                new_list.append(new_row)\n",
    "            data_list = new_list\n",
    "\n",
    "        # See pg 80 in manual\n",
    "        count = 0\n",
    "        while not max_size % 32 == 0:\n",
    "            max_size += 1\n",
    "            count += 1\n",
    "        if not count == 1:\n",
    "            extra = np.zeros(count, np.float32)\n",
    "            new_list = list()\n",
    "            for row in data_list:\n",
    "                new_row = np.concatenate((row, extra), axis=0)\n",
    "                new_list.append(new_row)\n",
    "            data_list = new_list\n",
    "        self.instance.set_memory_size(int(max_size))\n",
    "\n",
    "        # Runs a threaded method to upload to both cards simultaneously\n",
    "        # data_list is a list of analog and digital values\n",
    "        # data_list[0, 1, 4, 5, 6] goes to card 0\n",
    "        # data_list[2, 3, 7, 8, 9] goes to card 1\n",
    "        if not max_size == 0:\n",
    "            self.instance.upload(data_list, max_size, mem_offset=0)\n",
    "            self.typeloaded = 'waveform'\n",
    "            # print(data_list[0][0:5])\n",
    "        self.log.info('Loaded waveform!')\n",
    "        return load_dict"
   ]
  }
 ],
 "metadata": {
  "kernelspec": {
   "display_name": "Qudi",
   "language": "python",
   "name": "sj5-qudi"
  },
  "language_info": {
   "codemirror_mode": {
    "name": "ipython",
    "version": "3.6.5"
   },
   "file_extension": ".py",
   "mimetype": "text/x-python",
   "name": "python",
   "nbconvert_exporter": "python",
   "pygments_lexer": "ipython3",
   "version": "3.6.5"
  },
  "toc-autonumbering": true,
  "toc-showcode": true,
  "toc-showmarkdowntxt": true
 },
 "nbformat": 4,
 "nbformat_minor": 4
}
