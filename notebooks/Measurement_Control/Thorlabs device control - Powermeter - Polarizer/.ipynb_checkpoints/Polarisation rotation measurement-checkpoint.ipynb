{
 "cells": [
  {
   "cell_type": "code",
   "execution_count": 1,
   "metadata": {},
   "outputs": [],
   "source": [
    "import matplotlib.pyplot as plt\n",
    "import numpy as np\n",
    "import pulsestreamer as ps\n",
    "import time\n",
    "from tqdm import tqdm\n",
    "from scipy.optimize import curve_fit\n",
    "import visa\n",
    "from pylablib.devices import Thorlabs"
   ]
  },
  {
   "cell_type": "code",
   "execution_count": 2,
   "metadata": {},
   "outputs": [
    {
     "name": "stderr",
     "output_type": "stream",
     "text": [
      "Traceback (most recent call last):\n",
      "  File \"C:\\Users\\yy3\\Documents\\Software\\qudi\\logic\\jupyterkernel\\qzmqkernel.py\", line 679, in run_code\n",
      "    exec(code_obj, self.user_global_ns, self.user_ns)\n",
      "  File \"<ipython-input-2-da32290c461c>\", line 1, in <module>\n",
      "    Thorlabs.list_kinesis_devices()\n",
      "  File \"C:\\Users\\yy3\\anaconda3\\envs\\qudi\\lib\\site-packages\\pylablib\\devices\\Thorlabs\\kinesis.py\", line 26, in list_kinesis_devices\n",
      "    return KinesisDevice.list_devices(filter_ids=filter_ids)\n",
      "  File \"C:\\Users\\yy3\\anaconda3\\envs\\qudi\\lib\\site-packages\\pylablib\\devices\\Thorlabs\\kinesis.py\", line 101, in list_devices\n",
      "    ids=comm_backend.FT232DeviceBackend.list_resources(desc=True)\n",
      "AttributeError: module 'pylablib.core.devio.comm_backend' has no attribute 'FT232DeviceBackend'\n"
     ]
    }
   ],
   "source": [
    "Thorlabs.list_kinesis_devices()"
   ]
  },
  {
   "cell_type": "code",
   "execution_count": 7,
   "metadata": {},
   "outputs": [
    {
     "name": "stdout",
     "output_type": "stream",
     "text": [
      "('USB0::0x1313::0x8078::P0034869::INSTR', 'ASRL1::INSTR', 'ASRL3::INSTR', 'ASRL4::INSTR', 'ASRL5::INSTR')\n"
     ]
    }
   ],
   "source": [
    "conn = '74000603'\n",
    "rot_stage = Thorlabs.KinesisPiezoMotor(conn = conn)"
   ]
  },
  {
   "cell_type": "code",
   "execution_count": null,
   "metadata": {},
   "outputs": [],
   "source": [
    "step_range = np.linspace(0.0, 1000, 10)\n",
    "\n",
    "#Driving information for the first LO (SMBV)\n",
    "target_freq = 4.61651e9\n",
    "power = -1"
   ]
  },
  {
   "cell_type": "markdown",
   "metadata": {},
   "source": [
    "Measurement loop for polarisation without MW"
   ]
  },
  {
   "cell_type": "code",
   "execution_count": 16,
   "metadata": {},
   "outputs": [],
   "source": [
    "counts = np.zeros_like(step_range)\n",
    "counts_MW = np.zeros_like(step_range)\n",
    "contrast = np.zeros_like(step_range)\n",
    "\n",
    "for i, step in enumerate(tqdm(step_range)):\n",
    "    \n",
    "#     while rot_stage.is_moving():\n",
    "#         time.sleep(0.1)\n",
    "    rot_stage.wait_move()\n",
    "    rot_stage.move_to(position = step)\n",
    "    rot_stage.wait_move()\n",
    "    time.sleep(0.5)\n",
    "#     while rot_stage.is_moving():\n",
    "#         time.sleep(0.1)\n",
    "        \n",
    "    afm_scanner_logic._counter._tagger.sync()\n",
    "    t_int = 5 # time for integration in ms \n",
    "    afm_scanner_logic._counter.countrate.startFor(int(t_int*1e9), clear = True)\n",
    "    afm_scanner_logic._counter.countrate.waitUntilFinished(timeout=int(t_int*20))\n",
    "    counts[i] = np.nan_to_num(afm_scanner_logic._counter.countrate.getData())[0]"
   ]
  },
  {
   "cell_type": "markdown",
   "metadata": {},
   "source": [
    "Measurement loop for polarisation with MW"
   ]
  },
  {
   "cell_type": "code",
   "execution_count": null,
   "metadata": {},
   "outputs": [],
   "source": [
    "counts = np.zeros_like(step_range)\n",
    "counts_MW = np.zeros_like(step_range)\n",
    "\n",
    "mw_source_smbv.cw_off()\n",
    "mw_source_smbv.set_cw(target_freq, power)\n",
    "afm_scanner_logic.run_IQ_DC()\n",
    "\n",
    "for i, step in enumerate(tqdm(step_range)):\n",
    "\n",
    "#     while rot_stage.is_moving():\n",
    "#         time.sleep(0.1)\n",
    "    rot_stage.wait_move()\n",
    "    rot_stage.move_to(position = step)\n",
    "    rot_stage.wait_move()\n",
    "    time.sleep(0.5)\n",
    "#     while rot_stage.is_moving():\n",
    "#         time.sleep(0.1)\n",
    "        \n",
    "    #Run measurement with MW off\n",
    "    afm_scanner_logic._counter._tagger.sync()\n",
    "    t_int = 5 # time for integration in ms \n",
    "    afm_scanner_logic._counter.countrate.startFor(int(t_int*1e9), clear = True)\n",
    "    afm_scanner_logic._counter.countrate.waitUntilFinished(timeout=int(t_int*20))\n",
    "    counts[i] = np.nan_to_num(afm_scanner_logic._counter.countrate.getData())[0]\n",
    "    \n",
    "    #Run measurement with MW on\n",
    "    mw_source_smbv.cw_on()\n",
    "    afm_scanner_logic._counter._tagger.sync()\n",
    "    t_int = 5 # time for integration in ms \n",
    "    afm_scanner_logic._counter.countrate.startFor(int(t_int*1e9), clear = True)\n",
    "    afm_scanner_logic._counter.countrate.waitUntilFinished(timeout=int(t_int*20))\n",
    "    counts_MW[i] = np.nan_to_num(afm_scanner_logic._counter.countrate.getData())[0]\n",
    "    mw_source_smbv.cw_off()\n",
    "\n",
    "contrast = (1-counts_MW/counts)*100"
   ]
  },
  {
   "cell_type": "markdown",
   "metadata": {},
   "source": [
    "Plotting"
   ]
  },
  {
   "cell_type": "code",
   "execution_count": 17,
   "metadata": {},
   "outputs": [
    {
     "data": {
      "image/png": "[encoded data removed]"
     },
     "metadata": {
      "image/png": {
       "height": 381,
       "width": 563
      }
     },
     "output_type": "display_data"
    }
   ],
   "source": [
    "position = 5000\n",
    "\n",
    "fig, (ax1, ax2) = plt.subplots(1,2)\n",
    "ax1.plot(step_range, counts, 'b.' )\n",
    "ax1.plot(step_range, counts_MW, 'r.' )\n",
    "ax1.vlines(position,min(counts),max(counts))\n",
    "ax1.ticklabel_format(axis='both', style='sci', scilimits=(0,0))\n",
    "ax1.set_xlabel('Step (#)')\n",
    "ax1.set_ylabel('Counts (c/s)')\n",
    "\n",
    "ax2.plot(step_range, contrast, 'b.' )\n",
    "ax2.vlines(position,min(contrast),max(contrast))\n",
    "ax2.ticklabel_format(axis='both', style='sci', scilimits=(0,0))\n",
    "ax2.set_xlabel('Step (#)')\n",
    "ax2.set_ylabel('Contrast (%)')\n",
    "\n",
    "plt.legend()\n",
    "plt.show()\n"
   ]
  },
  {
   "cell_type": "code",
   "execution_count": null,
   "metadata": {},
   "outputs": [],
   "source": [
    "rot_stage.move_to(position = position)\n",
    "rot_stage.wait_move()"
   ]
  },
  {
   "cell_type": "markdown",
   "metadata": {},
   "source": [
    "Save routine"
   ]
  },
  {
   "cell_type": "code",
   "execution_count": 18,
   "metadata": {},
   "outputs": [],
   "source": [
    "filelabel = 'tip_A-T17-12_LT_IC'\n",
    "parameters = {}\n",
    "data =  {'Step (#), Counts (c/s)': np.array((step_range, counts)).T}\n",
    "filepath = savelogic.get_path_for_module(module_name='Polarisation')\n",
    "savelogic.save_data(data, parameters=parameters, filepath=filepath, filelabel=filelabel, plotfig=fig, delimiter='\\t')"
   ]
  }
 ],
 "metadata": {
  "kernelspec": {
   "display_name": "Qudi",
   "language": "python",
   "name": "sj5-qudi"
  },
  "language_info": {
   "codemirror_mode": {
    "name": "ipython",
    "version": "3.6.5"
   },
   "file_extension": ".py",
   "mimetype": "text/x-python",
   "name": "python",
   "nbconvert_exporter": "python",
   "pygments_lexer": "ipython3",
   "version": "3.6.5"
  }
 },
 "nbformat": 4,
 "nbformat_minor": 2
}
