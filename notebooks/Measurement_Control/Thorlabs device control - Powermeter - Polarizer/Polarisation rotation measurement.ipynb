{
 "cells": [
  {
   "cell_type": "code",
   "execution_count": 1,
   "metadata": {},
   "outputs": [],
   "source": [
    "import matplotlib.pyplot as plt\n",
    "import numpy as np\n",
    "import pulsestreamer as ps\n",
    "import time\n",
    "from tqdm import tqdm\n",
    "from scipy.optimize import curve_fit\n",
    "import visa\n",
    "from pylablib.devices import Thorlabs\n",
    "mw = mw_source_smbv"
   ]
  },
  {
   "cell_type": "code",
   "execution_count": 2,
   "metadata": {},
   "outputs": [],
   "source": [
    "def meas_counts(t_int = 5):\n",
    "    afm_scanner_logic._counter._tagger.sync()\n",
    "    afm_scanner_logic._counter.countrate.startFor(int(t_int*1e9), clear = True)\n",
    "    afm_scanner_logic._counter.countrate.waitUntilFinished(timeout=int(t_int*20))\n",
    "    return np.nan_to_num(afm_scanner_logic._counter.countrate.getData())[0]"
   ]
  },
  {
   "cell_type": "code",
   "execution_count": 3,
   "metadata": {},
   "outputs": [
    {
     "data": {
      "text/plain": [
       "[('74000603', 'Piezo Motor Controller')]"
      ]
     },
     "execution_count": 3,
     "metadata": {},
     "output_type": "execute_result"
    }
   ],
   "source": [
    "Thorlabs.list_kinesis_devices()"
   ]
  },
  {
   "cell_type": "code",
   "execution_count": 5,
   "metadata": {},
   "outputs": [
    {
     "data": {
      "text/plain": [
       "TPZMotorDriveParams(max_voltage=85, velocity=2000, acceleration=10000)"
      ]
     },
     "execution_count": 5,
     "metadata": {},
     "output_type": "execute_result"
    }
   ],
   "source": [
    "conn = '74000603'\n",
    "# if rot_stage:\n",
    "#     rot_stage.close()\n",
    "rot_stage = Thorlabs.KinesisPiezoMotor(conn = conn) #Make sure the Kensis program is closed\n",
    "rot_stage.setup_drive(max_voltage=85, velocity=2000, acceleration=10000)"
   ]
  },
  {
   "cell_type": "code",
   "execution_count": 20,
   "metadata": {},
   "outputs": [],
   "source": [
    "step_range = np.linspace(0.0, 8000, 30)\n",
    "N = 50\n",
    "\n",
    "#Driving information for the first LO (SMBV)\n",
    "target_freq = 2.87704e9\n",
    "power = -20"
   ]
  },
  {
   "cell_type": "markdown",
   "metadata": {},
   "source": [
    "Measurement loop for polarisation without MW"
   ]
  },
  {
   "cell_type": "code",
   "execution_count": 21,
   "metadata": {},
   "outputs": [
    {
     "name": "stderr",
     "output_type": "stream",
     "text": [
      "100%|######################################################################################| 30/30 [02:36<00:00,  5.22s/it]\n"
     ]
    }
   ],
   "source": [
    "counts = np.zeros_like(step_range)\n",
    "counts_err = np.zeros_like(step_range)\n",
    "counts_MW = np.zeros_like(step_range)\n",
    "counts_MW_err = np.zeros_like(step_range)\n",
    "contrast = np.zeros_like(step_range)#\n",
    "contrast_err = np.zeros_like(step_range)\n",
    "\n",
    "for i, step in enumerate(tqdm(step_range)):\n",
    "    \n",
    "    rot_stage.wait_move()\n",
    "    rot_stage.move_to(position = int(step))\n",
    "    rot_stage.wait_move()\n",
    "    \n",
    "    counts_temp = np.zeros(N)\n",
    "    for k in range(N):\n",
    "        counts_temp[k] = meas_counts()\n",
    "    counts[i] = np.mean(counts_temp)\n",
    "    counts_err[i] = np.std(counts_temp)"
   ]
  },
  {
   "cell_type": "markdown",
   "metadata": {},
   "source": [
    "Measurement loop for polarisation with MW"
   ]
  },
  {
   "cell_type": "code",
   "execution_count": 10,
   "metadata": {},
   "outputs": [
    {
     "name": "stderr",
     "output_type": "stream",
     "text": [
      "100%|####################################################################################| 20/20 [00:46<00:00,  2.32s/it]\n"
     ]
    }
   ],
   "source": [
    "counts = np.zeros_like(step_range)\n",
    "counts_err = np.zeros_like(step_range)\n",
    "counts_MW = np.zeros_like(step_range)\n",
    "counts_MW_err = np.zeros_like(step_range)\n",
    "contrast = np.zeros_like(step_range)#\n",
    "contrast_err = np.zeros_like(step_range)\n",
    "\n",
    "mw.off()\n",
    "mw.set_cw(target_freq, power)\n",
    "afm_scanner_logic.run_IQ_DC()\n",
    "\n",
    "for i, step in enumerate(tqdm(step_range)):\n",
    "\n",
    "    rot_stage.wait_move()\n",
    "    rot_stage.move_to(position = int(step))\n",
    "    rot_stage.wait_move()\n",
    "\n",
    "        \n",
    "    #Run measurement with MW off\n",
    "    counts_temp = np.zeros(N)\n",
    "    for k in range(N):\n",
    "        counts_temp[k] = meas_counts()\n",
    "    counts[i] = np.mean(counts_temp)\n",
    "    counts_err[i] = np.std(counts_temp)\n",
    "    \n",
    "    #Run measurement with MW on\n",
    "    mw.cw_on()\n",
    "    counts_temp = np.zeros(N)\n",
    "    for k in range(N):\n",
    "        counts_temp[k] = meas_counts()\n",
    "    counts_MW[i] = np.mean(counts_temp)\n",
    "    counts_MW_err[i] = np.std(counts_temp)\n",
    "    mw.off()\n",
    "\n",
    "contrast = (1-counts_MW/counts)*100\n",
    "contrast_err = np.sqrt((-100/counts*counts_MW_err)**2+(100*counts_MW/counts**2*counts_err)**2)"
   ]
  },
  {
   "cell_type": "markdown",
   "metadata": {},
   "source": [
    "Plotting"
   ]
  },
  {
   "cell_type": "code",
   "execution_count": 32,
   "metadata": {},
   "outputs": [
    {
     "data": {
      "image/png": "[encoded data removed]"
     },
     "metadata": {
      "image/png": {
       "height": 382,
       "width": 553
      }
     },
     "output_type": "display_data"
    }
   ],
   "source": [
    "position = 4150\n",
    "\n",
    "fig, (ax1, ax2) = plt.subplots(1,2)\n",
    "ax1.errorbar(x=step_range, y=counts,\n",
    "                         yerr=counts_err, fmt='b.', label=f'MW OFF')\n",
    "# ax1.errorbar(x=step_range, y=counts_MW,\n",
    "#                          yerr=counts_MW_err, fmt='r.', label=f'MW ON')\n",
    "ax1.vlines(position,min(counts),max(counts))\n",
    "ax1.ticklabel_format(axis='both', style='sci', scilimits=(0,0))\n",
    "ax1.set_xlabel('Step (#)')\n",
    "ax1.set_ylabel('Counts (c/s)')\n",
    "\n",
    "ax2.errorbar(x=step_range, y=contrast,\n",
    "                         yerr=contrast_err, fmt='b.')\n",
    "ax2.vlines(position,min(contrast),max(contrast))\n",
    "ax2.ticklabel_format(axis='both', style='sci', scilimits=(0,0))\n",
    "ax2.set_xlabel('Step (#)')\n",
    "ax2.set_ylabel('Contrast (%)')\n",
    "\n",
    "ax1.legend()\n",
    "plt.show()\n"
   ]
  },
  {
   "cell_type": "code",
   "execution_count": 33,
   "metadata": {},
   "outputs": [],
   "source": [
    "rot_stage.move_to(position = position)\n",
    "rot_stage.wait_move()"
   ]
  },
  {
   "cell_type": "markdown",
   "metadata": {},
   "source": [
    "Save routine"
   ]
  },
  {
   "cell_type": "code",
   "execution_count": 16,
   "metadata": {},
   "outputs": [],
   "source": [
    "filelabel = 'A-H12-13'\n",
    "parameters = {}\n",
    "data =  {'Step (#), Counts (c/s)': np.array((step_range, counts)).T}\n",
    "filepath = savelogic.get_path_for_module(module_name='Polarisation')\n",
    "savelogic.save_data(data, parameters=parameters, filepath=filepath, filelabel=filelabel, plotfig=fig, delimiter='\\t')"
   ]
  }
 ],
 "metadata": {
  "kernelspec": {
   "display_name": "Qudi",
   "language": "python",
   "name": "sj5-qudi"
  },
  "language_info": {
   "codemirror_mode": {
    "name": "ipython",
    "version": "3.6.5"
   },
   "file_extension": ".py",
   "mimetype": "text/x-python",
   "name": "python",
   "nbconvert_exporter": "python",
   "pygments_lexer": "ipython3",
   "version": "3.6.5"
  }
 },
 "nbformat": 4,
 "nbformat_minor": 2
}
