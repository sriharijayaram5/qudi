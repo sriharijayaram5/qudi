{
 "cells": [
  {
   "cell_type": "code",
   "execution_count": 1,
   "id": "72841430",
   "metadata": {},
   "outputs": [],
   "source": [
    "import numpy as np"
   ]
  },
  {
   "cell_type": "code",
   "execution_count": 2,
   "id": "8dc74583",
   "metadata": {},
   "outputs": [],
   "source": [
    "w = 1000e-6 #track width\n",
    "s = 100e-6 #spacing\n",
    "h = 1000e-6 #substrate\n",
    "t = 35e-6 #Cu height\n",
    "Er = 4.5"
   ]
  },
  {
   "cell_type": "code",
   "execution_count": 3,
   "id": "8f3ca989",
   "metadata": {},
   "outputs": [
    {
     "name": "stdout",
     "output_type": "stream",
     "text": [
      "k 0.8333333333333333\n",
      "Ee 2.6221792529518573\n",
      "k'/k 0.8306627097852313\n",
      "k/k' 1.2038852589888918\n",
      "K 0.8306627097852313\n",
      "\n",
      "Z0 48.34645705968513\n"
     ]
    }
   ],
   "source": [
    "k = w/(w+2*s)\n",
    "print('k',k)\n",
    "kp = np.sqrt((1-k*k))\n",
    "\n",
    "Ee = 0.5*(Er+1)*(np.tanh(1.785*np.log10(h/s)+1.75) + (k*s/h)*(0.04-0.7*k+0.01*(1-0.1*Er) * (0.25+k))) \n",
    "print('Ee',Ee)\n",
    "\n",
    "# for 0.707 < k  < 1\n",
    "Kp_over_K = 1/np.pi * np.log(2 * (1+np.sqrt(kp))/(1-np.sqrt(kp)))\n",
    "# for 0.707 >= k\n",
    "K_over_Kp = 1/np.pi * np.log(2 * (1+np.sqrt(k))/(1-np.sqrt(k)))\n",
    "print(\"k'/k\",Kp_over_K)\n",
    "print(\"k/k'\",K_over_Kp)\n",
    "\n",
    "if k > 0.707:\n",
    "    K = Kp_over_K\n",
    "else:\n",
    "    K = 1/K_over_Kp\n",
    "print('K',K)\n",
    "\n",
    "Z0 = 30*np.pi/np.sqrt(Ee) * K\n",
    "print('\\nZ0',Z0)"
   ]
  },
  {
   "cell_type": "markdown",
   "id": "470af980",
   "metadata": {},
   "source": [
    "https://eng.libretexts.org/Bookshelves/Electrical_Engineering/Electronics/Microwave_and_RF_Design_II_-_Transmission_Lines_(Steer)/03%3A_Planar_Transmission_Lines/3.08%3A_Co-Planar_Waveguide"
   ]
  },
  {
   "cell_type": "markdown",
   "id": "920133a6",
   "metadata": {},
   "source": [
    "https://wcalc.sourceforge.net/cgi-bin/coplanar.cgi"
   ]
  }
 ],
 "metadata": {
  "kernelspec": {
   "display_name": "Python 3 (ipykernel)",
   "language": "python",
   "name": "python3"
  },
  "language_info": {
   "codemirror_mode": {
    "name": "ipython",
    "version": 3
   },
   "file_extension": ".py",
   "mimetype": "text/x-python",
   "name": "python",
   "nbconvert_exporter": "python",
   "pygments_lexer": "ipython3",
   "version": "3.11.4"
  }
 },
 "nbformat": 4,
 "nbformat_minor": 5
}
