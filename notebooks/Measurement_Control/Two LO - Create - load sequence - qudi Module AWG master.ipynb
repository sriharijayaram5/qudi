{
 "cells": [
  {
   "cell_type": "code",
   "execution_count": 1,
   "metadata": {},
   "outputs": [],
   "source": [
    "import logic.pulsed.pulse_objects as po\n",
    "from logic.pulsed.sampling_functions import SamplingFunctions as SF\n",
    "import time\n",
    "import matplotlib.pyplot as plt\n",
    "pjl = pulsedjupyterlogic_AWG #Make sure the Logic is started in the Qudi manager!!!!"
   ]
  },
  {
   "cell_type": "markdown",
   "metadata": {},
   "source": [
    "#### Current  philosophy of pulse sequence creation\n",
    "1. For all the pulsed measurement that involve possible multiple phases and different pulse lengths - it is preferred and also implement right now - a long AWG sequence covering all taus is run with a single trigger from the PulseStreamer\n",
    "\n",
    "2. For T1 sequence since it is very long and we have issues possibly due to memory - we individually trigger the AWG pi pulse before every needed pulse with the AWG sync time added in - this is also how the PODMR logic is implemented (albeit for many different freqs. so actually a different ensemble is being triggered unlike T1) - uses the sample_load_multi_short_sine_AWG function.\n",
    "\n",
    "3. This is also valid for any other pulse sequence imaginable where individual triggering would be preferred - as long as the length of the triggerable ensembles are equal or only single ensemble is necessary.\n",
    "\n",
    "4. Both cam be run in AWG switch mode = True (Zaswa is constantly on and AWG control the pulsing - signficantly better pulse shape and results compared to the other mode - highly recommended!).\n",
    "\n",
    "5. Tracking mode for qAFM is also implemented such that the MW switch is always on and the AWG is controlling the on - off times\n",
    "\n",
    "6. MW_0 and all _0 is associated with the primary (SMBV) MW source that will drive NV electron spin. MW_1 is for the secondary\n",
    "SGS100A device."
   ]
  },
  {
   "cell_type": "markdown",
   "metadata": {},
   "source": [
    "#### Define general measurement params"
   ]
  },
  {
   "cell_type": "code",
   "execution_count": 4,
   "metadata": {},
   "outputs": [],
   "source": [
    "#measurement parameters\n",
    "laser_power_volatge = 0.08\n",
    "pi_pulse = 69e-9 \n",
    "\n",
    "#Driving information for the first LO (SMBV)\n",
    "target_freq_0 = 2.15887e9\n",
    "LO_freq_0 = target_freq_0 + 100e6\n",
    "power_0 = -7\n",
    "\n",
    "\n",
    "#Driving information for the second LO (SGS)\n",
    "target_freq_1 = 2.15848e9\n",
    "LO_freq_1 = target_freq_1 + 100e6\n",
    "power_1 = -100#-20.7\n",
    "\n",
    "#additional information for save tag\n",
    "tip_name = 'L-R-07-24'\n",
    "sample = 'NbSe2_S4_rot'\n",
    "temperature = '2K'\n",
    "b_field = '24mT_Bnv'\n",
    "contact = 'OOC'\n",
    "extra = 'test'\n",
    "#x10.8µm_y4µm_Meissner_C0_SetA"
   ]
  },
  {
   "cell_type": "markdown",
   "metadata": {},
   "source": [
    "#### Load and ready Rabi sequence"
   ]
  },
  {
   "cell_type": "code",
   "execution_count": 6,
   "metadata": {
    "jupyter": {
     "outputs_hidden": true
    }
   },
   "outputs": [],
   "source": [
    "tau_start = 0\n",
    "tau_stop = 200e-9\n",
    "tau_num = 30\n",
    "\n",
    "pjl.initialize_ensemble(laser_power_volatge = laser_power_volatge, pi_pulse=pi_pulse, LO_freq_0=LO_freq_0, target_freq_0=target_freq_0, power_0=power_0, LO_freq_1=LO_freq_1, target_freq_1=target_freq_1, power_1=power_1)\n",
    "pjl.Rabi(tau_start, tau_stop, tau_num)\n",
    "pjl.start_measurement(measurement_type='Rabi', tip_name=tip_name, sample=sample, \n",
    "                      temperature=temperature, b_field=b_field, contact=contact, extra=extra)"
   ]
  },
  {
   "cell_type": "markdown",
   "metadata": {},
   "source": [
    "#### Load and ready PODMR sequence"
   ]
  },
  {
   "cell_type": "code",
   "execution_count": 9,
   "metadata": {},
   "outputs": [],
   "source": [
    "mw_start = 2.14e9\n",
    "mw_stop = 2.18e9\n",
    "mw_step = 1e6\n",
    "\n",
    "if LO_freq_0<mw_stop+mw_step:\n",
    "    print('!!!Warning! LO Freq too low. Sweep is too large in range!!!\\n\\n\\n')\n",
    "pjl.initialize_ensemble(laser_power_volatge = laser_power_volatge, pi_pulse=pi_pulse, LO_freq_0=LO_freq_0, target_freq_0=target_freq_0, power_0=power_0, LO_freq_1=LO_freq_1, target_freq_1=target_freq_1, power_1=power_1)\n",
    "pjl.PODMR(mw_start, mw_stop, mw_step)\n",
    "pjl.start_measurement(measurement_type='PODMR', tip_name=tip_name, sample=sample, \n",
    "                      temperature=temperature, b_field=b_field, contact=contact, extra=extra)"
   ]
  },
  {
   "cell_type": "markdown",
   "metadata": {},
   "source": [
    "#### Load and ready Tracking mode sequence"
   ]
  },
  {
   "cell_type": "code",
   "execution_count": 14,
   "metadata": {
    "jupyter": {
     "outputs_hidden": true
    }
   },
   "outputs": [],
   "source": [
    "res_freq = target_freq_0\n",
    "delta_freq = 5e6\n",
    "\n",
    "pjl.initialize_ensemble(laser_power_volatge = laser_power_volatge, pi_pulse=pi_pulse, LO_freq_0=LO_freq_0, target_freq_0=target_freq_0, power_0=power_0, LO_freq_1=LO_freq_1, target_freq_1=target_freq_1, power_1=power_1)\n",
    "pjl.Tracking(res_freq, delta_freq)\n",
    "pjl.start_measurement(measurement_type='Tracking', tip_name=tip_name, sample=sample, \n",
    "                      temperature=temperature, b_field=b_field, contact=contact, extra=extra)"
   ]
  },
  {
   "cell_type": "markdown",
   "metadata": {},
   "source": [
    "#### Load and ready optical T1 sequence"
   ]
  },
  {
   "cell_type": "code",
   "execution_count": 2,
   "metadata": {},
   "outputs": [],
   "source": [
    "tau_start = 1e-6\n",
    "tau_stop = 1e-3\n",
    "tau_num = 20\n",
    "\n",
    "pjl.initialize_ensemble(laser_power_volatge = laser_power_volatge, pi_pulse=pi_pulse, LO_freq_0=LO_freq_0, target_freq_0=target_freq_0, power_0=power_0, LO_freq_1=LO_freq_1, target_freq_1=target_freq_1, power_1=power_1)\n",
    "pjl.T1_optical_exp(tau_start, tau_stop, tau_num)\n",
    "pjl.start_measurement(measurement_type='T1-opt', tip_name=tip_name, sample=sample, \n",
    "                      temperature=temperature, b_field=b_field, contact=contact, extra=extra)"
   ]
  },
  {
   "cell_type": "markdown",
   "metadata": {},
   "source": [
    "#### Load and ready T1 sequence (alternating)"
   ]
  },
  {
   "cell_type": "code",
   "execution_count": 11,
   "metadata": {
    "collapsed": true,
    "jupyter": {
     "outputs_hidden": true
    }
   },
   "outputs": [
    {
     "name": "stdout",
     "output_type": "stream",
     "text": [
      "Using laser voltage:  0.08 V\n",
      "Using LO_freq:  2.54002 GHz\n",
      "Using target_freq:  2.44002 GHz\n",
      "Using power:  -1 dBm\n",
      "invoke_settings:\n",
      "  False\n",
      "controlled_variable:\n",
      "  [1.00000000e-06 1.99473660e-06 3.97897410e-06 7.93700526e-06\n",
      " 1.58322349e-05 3.15811383e-05 6.29960525e-05 1.25660531e-04\n",
      " 2.50659661e-04 5.00000000e-04]\n",
      "number_of_lasers:\n",
      "  20\n",
      "laser_ignore_list:\n",
      "  []\n",
      "alternating:\n",
      "  True\n",
      "units:\n",
      "  ('s', 'arb. u.')\n",
      "labels:\n",
      "  ['Tau', 'Signal']\n",
      "['Jupyter-ensemble-Pi']\n",
      "Save_tag:  T1-alt_A-T17-12_1.9K_200mT_Bnv_OOC_AWGSWitch-mode_pi_pulse_calc\n"
     ]
    }
   ],
   "source": [
    "tau_start = 1e-6\n",
    "tau_stop = 0.5e-3\n",
    "tau_num = 10\n",
    "\n",
    "pjl.initialize_ensemble(laser_power_volatge = laser_power_volatge, pi_pulse=pi_pulse, LO_freq_0=LO_freq_0, target_freq_0=target_freq_0, power_0=power_0, LO_freq_1=LO_freq_1, target_freq_1=target_freq_1, power_1=power_1)\n",
    "pjl.T1_alt_exp(tau_start, tau_stop, tau_num)\n",
    "pjl.start_measurement(measurement_type='T1-alt', tip_name=tip_name, sample=sample, \n",
    "                      temperature=temperature, b_field=b_field, contact=contact, extra=extra)"
   ]
  },
  {
   "cell_type": "markdown",
   "metadata": {},
   "source": [
    "#### Load and ready T1 sequence init dark (alternating)"
   ]
  },
  {
   "cell_type": "code",
   "execution_count": 3,
   "metadata": {
    "jupyter": {
     "outputs_hidden": true
    }
   },
   "outputs": [],
   "source": [
    "tau_start = 1e-6\n",
    "tau_stop = 500e-3\n",
    "tau_num = 5\n",
    "\n",
    "pjl.initialize_ensemble(laser_power_volatge = laser_power_volatge, pi_pulse=pi_pulse, LO_freq_0=LO_freq_0, target_freq_0=target_freq_0, power_0=power_0, LO_freq_1=LO_freq_1, target_freq_1=target_freq_1, power_1=power_1)\n",
    "pjl.T1_dark_init_alt_exp(tau_start, tau_stop, tau_num)\n",
    "pjl.start_measurement(measurement_type='T1-dark-init-alt', tip_name=tip_name, sample=sample, \n",
    "                      temperature=temperature, b_field=b_field, contact=contact, extra=extra)"
   ]
  },
  {
   "cell_type": "markdown",
   "metadata": {},
   "source": [
    "#### Load and ready T1 SQ sequence (alternating)"
   ]
  },
  {
   "cell_type": "code",
   "execution_count": 33,
   "metadata": {
    "collapsed": true,
    "jupyter": {
     "outputs_hidden": true
    }
   },
   "outputs": [
    {
     "name": "stdout",
     "output_type": "stream",
     "text": [
      "Using laser voltage:  0.08 V\n",
      "Using LO_freq:  2.54057 GHz\n",
      "Using target_freq:  2.44057 GHz\n",
      "Using power:  -1 dBm\n",
      "invoke_settings:\n",
      "  False\n",
      "controlled_variable:\n",
      "  [1.00000000e-06 1.74668135e-06 3.05089575e-06 5.32894271e-06\n",
      " 9.30796486e-06 1.62580486e-05 2.83976304e-05 4.96016115e-05\n",
      " 8.66382098e-05 1.51329346e-04 2.64324146e-04 4.61690057e-04\n",
      " 8.06425413e-04 1.40856823e-03 2.46031986e-03 4.29739482e-03\n",
      " 7.50617940e-03 1.31109036e-02 2.29005708e-02 4.00000000e-02]\n",
      "number_of_lasers:\n",
      "  40\n",
      "laser_ignore_list:\n",
      "  []\n",
      "alternating:\n",
      "  True\n",
      "units:\n",
      "  ('s', 'arb. u.')\n",
      "labels:\n",
      "  ['Tau', 'Signal']\n",
      "['Jupyter-ensemble-Pi']\n",
      "Save_tag:  T1-SQ-alt_A-T17-12_1.9K_200mT_Bnv_OOC_Set_A\n"
     ]
    }
   ],
   "source": [
    "tau_start = 1e-6\n",
    "tau_stop = 40e-3\n",
    "tau_num = 20\n",
    "\n",
    "pjl.initialize_ensemble(laser_power_volatge = laser_power_volatge, pi_pulse=pi_pulse, LO_freq_0=LO_freq_0, target_freq_0=target_freq_0, power_0=power_0, LO_freq_1=LO_freq_1, target_freq_1=target_freq_1, power_1=power_1)\n",
    "pjl.T1_SQ_alt_exp(tau_start, tau_stop, tau_num)\n",
    "pjl.start_measurement(measurement_type='T1-SQ-alt', tip_name=tip_name, sample=sample, \n",
    "                      temperature=temperature, b_field=b_field, contact=contact, extra=extra)"
   ]
  },
  {
   "cell_type": "markdown",
   "metadata": {},
   "source": [
    "#### Load and ready T1 DQ sequence (alternating)"
   ]
  },
  {
   "cell_type": "code",
   "execution_count": 13,
   "metadata": {
    "collapsed": true,
    "jupyter": {
     "outputs_hidden": true
    }
   },
   "outputs": [
    {
     "name": "stdout",
     "output_type": "stream",
     "text": [
      "Using laser voltage:  0.07 V\n",
      "Using LO_freq:  2.881845 GHz\n",
      "Using target_freq:  2.78469 GHz\n",
      "Using power:  -1 dBm\n",
      "invoke_settings:\n",
      "  False\n",
      "controlled_variable:\n",
      "  [1.00000000e-06 1.43844989e-06 2.06913808e-06 2.97635144e-06\n",
      " 4.28133240e-06 6.15848211e-06 8.85866790e-06 1.27427499e-05\n",
      " 1.83298071e-05 2.63665090e-05 3.79269019e-05 5.45559478e-05\n",
      " 7.84759970e-05 1.12883789e-04 1.62377674e-04 2.33572147e-04\n",
      " 3.35981829e-04 4.83293024e-04 6.95192796e-04 1.00000000e-03]\n",
      "number_of_lasers:\n",
      "  40\n",
      "laser_ignore_list:\n",
      "  []\n",
      "alternating:\n",
      "  True\n",
      "units:\n",
      "  ('s', 'arb. u.')\n",
      "labels:\n",
      "  ['Tau', 'Signal']\n",
      "Save_tag:  T1-DQ-alt_A-T17-12_1.9K_0mT_Bnv_OOC\n"
     ]
    }
   ],
   "source": [
    "tau_start = 1e-6\n",
    "tau_stop = 1e-3\n",
    "tau_num = 20\n",
    "\n",
    "pjl.initialize_ensemble(laser_power_volatge = laser_power_volatge, pi_pulse=pi_pulse, LO_freq_0=LO_freq_0, target_freq_0=target_freq_0, power_0=power_0, LO_freq_1=LO_freq_1, target_freq_1=target_freq_1, power_1=power_1)\n",
    "pjl.T1_DQ_alt_exp(tau_start, tau_stop, tau_num)\n",
    "pjl.start_measurement(measurement_type='T1-DQ-alt', tip_name=tip_name, sample=sample, \n",
    "                      temperature=temperature, b_field=b_field, contact=contact, extra=extra)"
   ]
  },
  {
   "cell_type": "markdown",
   "metadata": {},
   "source": [
    "#### Load and ready Ramsey sequence with phase shift (alternating)"
   ]
  },
  {
   "cell_type": "code",
   "execution_count": 39,
   "metadata": {
    "jupyter": {
     "outputs_hidden": true
    }
   },
   "outputs": [],
   "source": [
    "tau_start = 0\n",
    "tau_stop = 10e-6\n",
    "tau_num = 200\n",
    "\n",
    "pjl.initialize_ensemble(laser_power_volatge = laser_power_volatge, pi_pulse=pi_pulse, LO_freq_0=LO_freq_0, target_freq_0=target_freq_0, power_0=power_0, LO_freq_1=LO_freq_1, target_freq_1=target_freq_1, power_1=power_1)\n",
    "pjl.Ramsey_alt_phased(tau_start, tau_stop, tau_num)\n",
    "pjl.start_measurement(measurement_type='Ramsey-alt-phased', tip_name=tip_name, sample=sample, \n",
    "                      temperature=temperature, b_field=b_field, contact=contact, extra=extra)"
   ]
  },
  {
   "cell_type": "markdown",
   "metadata": {},
   "source": [
    "#### Load and ready Hahn Echo sequence with phase shift (alternating)"
   ]
  },
  {
   "cell_type": "code",
   "execution_count": 7,
   "metadata": {
    "jupyter": {
     "outputs_hidden": true
    }
   },
   "outputs": [],
   "source": [
    "tau_start = 200e-9\n",
    "tau_stop = 10e-6\n",
    "tau_num = 200\n",
    "\n",
    "pjl.initialize_ensemble(laser_power_volatge = laser_power_volatge, pi_pulse=pi_pulse, LO_freq_0=LO_freq_0, target_freq_0=target_freq_0, power_0=power_0, LO_freq_1=LO_freq_1, target_freq_1=target_freq_1, power_1=power_1)\n",
    "pjl.Hecho_alt_phased(tau_start, tau_stop, tau_num)\n",
    "pjl.start_measurement(measurement_type='Hecho-alt-phased', tip_name=tip_name, sample=sample, \n",
    "                      temperature=temperature, b_field=b_field, contact=contact, extra=extra)"
   ]
  },
  {
   "cell_type": "markdown",
   "metadata": {},
   "source": [
    "#### Load and ready DEER sequence with phase shift (alternating)"
   ]
  },
  {
   "cell_type": "code",
   "execution_count": 39,
   "metadata": {
    "collapsed": true,
    "jupyter": {
     "outputs_hidden": true
    }
   },
   "outputs": [
    {
     "name": "stdout",
     "output_type": "stream",
     "text": [
      "Using laser voltage:  0.0615 V\n",
      "invoke_settings:\n",
      "  False\n",
      "controlled_variable:\n",
      "  [5.300e+09 5.301e+09 5.302e+09 5.303e+09 5.304e+09 5.305e+09 5.306e+09\n",
      " 5.307e+09 5.308e+09 5.309e+09 5.310e+09 5.311e+09 5.312e+09 5.313e+09\n",
      " 5.314e+09 5.315e+09 5.316e+09 5.317e+09 5.318e+09 5.319e+09 5.320e+09\n",
      " 5.321e+09 5.322e+09 5.323e+09 5.324e+09 5.325e+09 5.326e+09 5.327e+09\n",
      " 5.328e+09 5.329e+09 5.330e+09 5.331e+09 5.332e+09 5.333e+09 5.334e+09\n",
      " 5.335e+09 5.336e+09 5.337e+09 5.338e+09 5.339e+09 5.340e+09 5.341e+09\n",
      " 5.342e+09 5.343e+09 5.344e+09 5.345e+09 5.346e+09 5.347e+09 5.348e+09\n",
      " 5.349e+09 5.350e+09 5.351e+09 5.352e+09 5.353e+09 5.354e+09 5.355e+09\n",
      " 5.356e+09 5.357e+09 5.358e+09 5.359e+09 5.360e+09 5.361e+09 5.362e+09\n",
      " 5.363e+09 5.364e+09 5.365e+09 5.366e+09 5.367e+09 5.368e+09 5.369e+09\n",
      " 5.370e+09 5.371e+09 5.372e+09 5.373e+09 5.374e+09 5.375e+09 5.376e+09\n",
      " 5.377e+09 5.378e+09 5.379e+09 5.380e+09 5.381e+09 5.382e+09 5.383e+09\n",
      " 5.384e+09 5.385e+09 5.386e+09 5.387e+09 5.388e+09 5.389e+09 5.390e+09\n",
      " 5.391e+09 5.392e+09 5.393e+09 5.394e+09 5.395e+09 5.396e+09 5.397e+09\n",
      " 5.398e+09 5.399e+09 5.400e+09 5.401e+09 5.402e+09 5.403e+09 5.404e+09\n",
      " 5.405e+09 5.406e+09 5.407e+09 5.408e+09 5.409e+09 5.410e+09 5.411e+09\n",
      " 5.412e+09 5.413e+09 5.414e+09 5.415e+09 5.416e+09 5.417e+09 5.418e+09\n",
      " 5.419e+09 5.420e+09 5.421e+09 5.422e+09 5.423e+09 5.424e+09 5.425e+09\n",
      " 5.426e+09 5.427e+09 5.428e+09 5.429e+09 5.430e+09 5.431e+09 5.432e+09\n",
      " 5.433e+09 5.434e+09 5.435e+09 5.436e+09 5.437e+09 5.438e+09 5.439e+09\n",
      " 5.440e+09 5.441e+09 5.442e+09 5.443e+09 5.444e+09 5.445e+09 5.446e+09\n",
      " 5.447e+09 5.448e+09 5.449e+09 5.450e+09 5.451e+09 5.452e+09 5.453e+09\n",
      " 5.454e+09 5.455e+09 5.456e+09 5.457e+09 5.458e+09 5.459e+09 5.460e+09\n",
      " 5.461e+09 5.462e+09 5.463e+09 5.464e+09 5.465e+09 5.466e+09 5.467e+09\n",
      " 5.468e+09 5.469e+09 5.470e+09 5.471e+09 5.472e+09 5.473e+09 5.474e+09\n",
      " 5.475e+09 5.476e+09 5.477e+09 5.478e+09 5.479e+09 5.480e+09 5.481e+09\n",
      " 5.482e+09 5.483e+09 5.484e+09 5.485e+09 5.486e+09 5.487e+09 5.488e+09\n",
      " 5.489e+09 5.490e+09 5.491e+09 5.492e+09 5.493e+09 5.494e+09 5.495e+09\n",
      " 5.496e+09 5.497e+09 5.498e+09 5.499e+09 5.500e+09 5.501e+09 5.502e+09\n",
      " 5.503e+09 5.504e+09 5.505e+09 5.506e+09 5.507e+09 5.508e+09 5.509e+09\n",
      " 5.510e+09 5.511e+09 5.512e+09 5.513e+09 5.514e+09 5.515e+09 5.516e+09\n",
      " 5.517e+09 5.518e+09 5.519e+09 5.520e+09 5.521e+09 5.522e+09 5.523e+09\n",
      " 5.524e+09 5.525e+09 5.526e+09 5.527e+09 5.528e+09 5.529e+09 5.530e+09\n",
      " 5.531e+09 5.532e+09 5.533e+09 5.534e+09 5.535e+09 5.536e+09 5.537e+09\n",
      " 5.538e+09 5.539e+09 5.540e+09 5.541e+09 5.542e+09 5.543e+09 5.544e+09\n",
      " 5.545e+09 5.546e+09 5.547e+09 5.548e+09 5.549e+09 5.550e+09 5.551e+09\n",
      " 5.552e+09 5.553e+09 5.554e+09 5.555e+09 5.556e+09 5.557e+09 5.558e+09\n",
      " 5.559e+09 5.560e+09 5.561e+09 5.562e+09 5.563e+09 5.564e+09 5.565e+09\n",
      " 5.566e+09 5.567e+09 5.568e+09 5.569e+09 5.570e+09 5.571e+09 5.572e+09\n",
      " 5.573e+09 5.574e+09 5.575e+09 5.576e+09 5.577e+09 5.578e+09 5.579e+09\n",
      " 5.580e+09 5.581e+09 5.582e+09 5.583e+09 5.584e+09 5.585e+09 5.586e+09\n",
      " 5.587e+09 5.588e+09 5.589e+09 5.590e+09 5.591e+09 5.592e+09 5.593e+09\n",
      " 5.594e+09 5.595e+09 5.596e+09 5.597e+09 5.598e+09 5.599e+09 5.600e+09\n",
      " 5.601e+09 5.602e+09 5.603e+09 5.604e+09 5.605e+09 5.606e+09 5.607e+09\n",
      " 5.608e+09 5.609e+09 5.610e+09 5.611e+09 5.612e+09 5.613e+09 5.614e+09\n",
      " 5.615e+09 5.616e+09 5.617e+09 5.618e+09 5.619e+09 5.620e+09 5.621e+09\n",
      " 5.622e+09 5.623e+09 5.624e+09 5.625e+09 5.626e+09 5.627e+09 5.628e+09\n",
      " 5.629e+09 5.630e+09 5.631e+09 5.632e+09 5.633e+09 5.634e+09 5.635e+09\n",
      " 5.636e+09 5.637e+09 5.638e+09 5.639e+09 5.640e+09]\n",
      "number_of_lasers:\n",
      "  682\n",
      "laser_ignore_list:\n",
      "  []\n",
      "alternating:\n",
      "  True\n",
      "units:\n",
      "  ('Hz', 'arb. u.')\n",
      "labels:\n",
      "  ['Tau', 'Signal']\n",
      "['Jupyter-ensemble-deer-alt-juptr']\n",
      "Save_tag:  DEER-alt-phased_A-T17-12_NbSe2_S2_7.0K_200mT_Bnv_OOC_test\n"
     ]
    }
   ],
   "source": [
    "mw_start = 5.3e9\n",
    "mw_stop = 5.64e9\n",
    "mw_step = 1e6\n",
    "tau_NV = 2e-6\n",
    "pi_pulse_dark_spin = tau_NV/2\n",
    "\n",
    "pjl.initialize_ensemble(laser_power_volatge = laser_power_volatge, pi_pulse=pi_pulse, LO_freq_0=LO_freq_0, target_freq_0=target_freq_0, power_0=power_0, LO_freq_1=LO_freq_1, target_freq_1=target_freq_1, power_1=power_1)\n",
    "pjl.DEER_alt_phased(tau_NV=tau_NV, pi_pulse_dark_spin=pi_pulse_dark_spin, mw_start=mw_start, mw_stop=mw_stop, mw_step=mw_step)\n",
    "pjl.start_measurement(measurement_type='DEER-alt-phased', tip_name=tip_name, sample=sample, \n",
    "                      temperature=temperature, b_field=b_field, contact=contact, extra=extra)"
   ]
  },
  {
   "cell_type": "markdown",
   "metadata": {},
   "source": [
    "#### Load and ready DEER CPMG sequence with phase shift (alternating)"
   ]
  },
  {
   "cell_type": "code",
   "execution_count": 10,
   "metadata": {
    "jupyter": {
     "outputs_hidden": true
    }
   },
   "outputs": [],
   "source": [
    "mw_start = 5.3e9\n",
    "mw_stop = 5.62e9\n",
    "mw_step = 1e6\n",
    "tau_NV = 10e-6\n",
    "N = 16\n",
    "pi_pulse_dark_spin = (tau_NV- 2*N*pi_pulse)/(2*N)\n",
    "\n",
    "pjl.initialize_ensemble(laser_power_volatge = laser_power_volatge, pi_pulse=pi_pulse, LO_freq_0=LO_freq_0, target_freq_0=target_freq_0, power_0=power_0, LO_freq_1=LO_freq_1, target_freq_1=target_freq_1, power_1=power_1)\n",
    "pjl.DEER_CPMG_alt_phased(tau_NV=tau_NV, pi_pulse_dark_spin=pi_pulse_dark_spin, mw_start=mw_start, mw_stop=mw_stop, mw_step=mw_step, N=N)\n",
    "pjl.start_measurement(measurement_type='DEER-CPMG-alt-phased', tip_name=tip_name, sample=sample, \n",
    "                        temperature=temperature, b_field=b_field, contact=contact, extra=extra)"
   ]
  },
  {
   "cell_type": "markdown",
   "metadata": {},
   "source": [
    "#### Load and ready CPMG sequence (alternating)"
   ]
  },
  {
   "cell_type": "code",
   "execution_count": 38,
   "metadata": {
    "collapsed": true,
    "jupyter": {
     "outputs_hidden": true
    }
   },
   "outputs": [
    {
     "name": "stdout",
     "output_type": "stream",
     "text": [
      "Using laser voltage:  0.0615 V\n",
      "invoke_settings:\n",
      "  False\n",
      "controlled_variable:\n",
      "  [8.00000000e-06 8.44444444e-06 8.88888889e-06 9.33333333e-06\n",
      " 9.77777778e-06 1.02222222e-05 1.06666667e-05 1.11111111e-05\n",
      " 1.15555556e-05 1.20000000e-05]\n",
      "number_of_lasers:\n",
      "  20\n",
      "laser_ignore_list:\n",
      "  []\n",
      "alternating:\n",
      "  True\n",
      "units:\n",
      "  ('s', 'arb. u.')\n",
      "labels:\n",
      "  ['Tau', 'Signal']\n",
      "['Jupyter-ensemble-cpmg-alt-phased-juptr']\n",
      "Save_tag:  CPMG(16)-alt-phased_A-T17-12_NbSe2_S2_7.0K_200mT_Bnv_OOC_test\n"
     ]
    }
   ],
   "source": [
    "tau_start = 8e-6\n",
    "tau_stop = 12e-6\n",
    "tau_num = 10\n",
    "N = 16\n",
    "\n",
    "if tau_start < 2*N*pi_pulse:\n",
    "    min_tau = pi_pulse*2*N*1e9 #minimum tau in ns\n",
    "    print(f'!!!Warning. tau_start value is too small!!!\\n It has to be larger than {min_tau} ns!')\n",
    "else:\n",
    "    \n",
    "    pjl.initialize_ensemble(laser_power_volatge = laser_power_volatge, pi_pulse=pi_pulse, LO_freq_0=LO_freq_0, target_freq_0=target_freq_0, power_0=power_0, LO_freq_1=LO_freq_1, target_freq_1=target_freq_1, power_1=power_1)\n",
    "    pjl.CPMG_alt_phased(tau_start, tau_stop, tau_num, N)\n",
    "    pjl.start_measurement(measurement_type=f'CPMG({N})-alt-phased', tip_name=tip_name, sample=sample, \n",
    "                          temperature=temperature, b_field=b_field, contact=contact, extra=extra)"
   ]
  },
  {
   "cell_type": "markdown",
   "metadata": {},
   "source": [
    "#### Load and ready XY4 sequence (alternating)"
   ]
  },
  {
   "cell_type": "code",
   "execution_count": null,
   "metadata": {},
   "outputs": [],
   "source": [
    "tau_start = 18e-6\n",
    "tau_stop = 36e-6\n",
    "tau_num = 200\n",
    "N = 8\n",
    "\n",
    "if tau_start/(4*N) < pi_pulse:\n",
    "    min_tau = pi_pulse*4*N*1e9 #minimum tau in ns\n",
    "    print('!!!Warning. tau_start value is too small!!!\\n It has to be larger than {min_tau} ns!')\n",
    "else:\n",
    "    pjl.initialize_ensemble(laser_power_volatge = laser_power_volatge, pi_pulse=pi_pulse, LO_freq_0=LO_freq_0, target_freq_0=target_freq_0, power_0=power_0, LO_freq_1=LO_freq_1, target_freq_1=target_freq_1, power_1=power_1)\n",
    "    pjl.XY4_alt_phased(tau_start, tau_stop, tau_num, N)\n",
    "    pjl.start_measurement(measurement_type=f'XY4({N})-alt-phased', tip_name=tip_name, sample=sample, \n",
    "                          temperature=temperature, b_field=b_field, contact=contact, extra=extra)"
   ]
  },
  {
   "cell_type": "code",
   "execution_count": null,
   "metadata": {},
   "outputs": [],
   "source": [
    "pi_pulse_spacing_start = 100e-9\n",
    "pi_pulse_spacing_stop = 600e-9\n",
    "pi_pulse_spacing_num = 100\n",
    "N = 8\n",
    "\n",
    "tau_start = pi_pulse_spacing_start*N*4\n",
    "tau_stop = pi_pulse_spacing_stop*N*4\n",
    "tau_num = pi_pulse_spacing_num\n",
    "\n",
    "\n",
    "if tau_start/(4*N) < pi_pulse:\n",
    "    min_tau = pi_pulse*4*N*1e9 #minimum tau in ns\n",
    "    print('!!!Warning. tau_start value is too small!!!\\n It has to be larger than {min_tau} ns!')\n",
    "else:\n",
    "    pjl.initialize_ensemble(laser_power_volatge = laser_power_volatge, pi_pulse=pi_pulse, LO_freq_0=LO_freq_0, target_freq_0=target_freq_0, power_0=power_0, LO_freq_1=LO_freq_1, target_freq_1=target_freq_1, power_1=power_1)\n",
    "    pjl.XY4_alt_phased(tau_start, tau_stop, tau_num, N)\n",
    "    pjl.start_measurement(measurement_type=f'XY4({N})-alt-phased', tip_name=tip_name, sample=sample, \n",
    "                          temperature=temperature, b_field=b_field, contact=contact, extra=extra)"
   ]
  },
  {
   "cell_type": "markdown",
   "metadata": {},
   "source": [
    "#### Load and ready XY8 sequence (alternating)"
   ]
  },
  {
   "cell_type": "code",
   "execution_count": 26,
   "metadata": {
    "collapsed": true,
    "jupyter": {
     "outputs_hidden": true
    }
   },
   "outputs": [
    {
     "name": "stdout",
     "output_type": "stream",
     "text": [
      "Using laser voltage:  0.059 V\n",
      "Using LO_freq:  2.53598 GHz\n",
      "Using target_freq:  2.43598 GHz\n",
      "Using power:  -1 dBm\n",
      "invoke_settings:\n",
      "  False\n",
      "controlled_variable:\n",
      "  [1.80000000e-05 1.80904523e-05 1.81809045e-05 1.82713568e-05\n",
      " 1.83618090e-05 1.84522613e-05 1.85427136e-05 1.86331658e-05\n",
      " 1.87236181e-05 1.88140704e-05 1.89045226e-05 1.89949749e-05\n",
      " 1.90854271e-05 1.91758794e-05 1.92663317e-05 1.93567839e-05\n",
      " 1.94472362e-05 1.95376884e-05 1.96281407e-05 1.97185930e-05\n",
      " 1.98090452e-05 1.98994975e-05 1.99899497e-05 2.00804020e-05\n",
      " 2.01708543e-05 2.02613065e-05 2.03517588e-05 2.04422111e-05\n",
      " 2.05326633e-05 2.06231156e-05 2.07135678e-05 2.08040201e-05\n",
      " 2.08944724e-05 2.09849246e-05 2.10753769e-05 2.11658291e-05\n",
      " 2.12562814e-05 2.13467337e-05 2.14371859e-05 2.15276382e-05\n",
      " 2.16180905e-05 2.17085427e-05 2.17989950e-05 2.18894472e-05\n",
      " 2.19798995e-05 2.20703518e-05 2.21608040e-05 2.22512563e-05\n",
      " 2.23417085e-05 2.24321608e-05 2.25226131e-05 2.26130653e-05\n",
      " 2.27035176e-05 2.27939698e-05 2.28844221e-05 2.29748744e-05\n",
      " 2.30653266e-05 2.31557789e-05 2.32462312e-05 2.33366834e-05\n",
      " 2.34271357e-05 2.35175879e-05 2.36080402e-05 2.36984925e-05\n",
      " 2.37889447e-05 2.38793970e-05 2.39698492e-05 2.40603015e-05\n",
      " 2.41507538e-05 2.42412060e-05 2.43316583e-05 2.44221106e-05\n",
      " 2.45125628e-05 2.46030151e-05 2.46934673e-05 2.47839196e-05\n",
      " 2.48743719e-05 2.49648241e-05 2.50552764e-05 2.51457286e-05\n",
      " 2.52361809e-05 2.53266332e-05 2.54170854e-05 2.55075377e-05\n",
      " 2.55979899e-05 2.56884422e-05 2.57788945e-05 2.58693467e-05\n",
      " 2.59597990e-05 2.60502513e-05 2.61407035e-05 2.62311558e-05\n",
      " 2.63216080e-05 2.64120603e-05 2.65025126e-05 2.65929648e-05\n",
      " 2.66834171e-05 2.67738693e-05 2.68643216e-05 2.69547739e-05\n",
      " 2.70452261e-05 2.71356784e-05 2.72261307e-05 2.73165829e-05\n",
      " 2.74070352e-05 2.74974874e-05 2.75879397e-05 2.76783920e-05\n",
      " 2.77688442e-05 2.78592965e-05 2.79497487e-05 2.80402010e-05\n",
      " 2.81306533e-05 2.82211055e-05 2.83115578e-05 2.84020101e-05\n",
      " 2.84924623e-05 2.85829146e-05 2.86733668e-05 2.87638191e-05\n",
      " 2.88542714e-05 2.89447236e-05 2.90351759e-05 2.91256281e-05\n",
      " 2.92160804e-05 2.93065327e-05 2.93969849e-05 2.94874372e-05\n",
      " 2.95778894e-05 2.96683417e-05 2.97587940e-05 2.98492462e-05\n",
      " 2.99396985e-05 3.00301508e-05 3.01206030e-05 3.02110553e-05\n",
      " 3.03015075e-05 3.03919598e-05 3.04824121e-05 3.05728643e-05\n",
      " 3.06633166e-05 3.07537688e-05 3.08442211e-05 3.09346734e-05\n",
      " 3.10251256e-05 3.11155779e-05 3.12060302e-05 3.12964824e-05\n",
      " 3.13869347e-05 3.14773869e-05 3.15678392e-05 3.16582915e-05\n",
      " 3.17487437e-05 3.18391960e-05 3.19296482e-05 3.20201005e-05\n",
      " 3.21105528e-05 3.22010050e-05 3.22914573e-05 3.23819095e-05\n",
      " 3.24723618e-05 3.25628141e-05 3.26532663e-05 3.27437186e-05\n",
      " 3.28341709e-05 3.29246231e-05 3.30150754e-05 3.31055276e-05\n",
      " 3.31959799e-05 3.32864322e-05 3.33768844e-05 3.34673367e-05\n",
      " 3.35577889e-05 3.36482412e-05 3.37386935e-05 3.38291457e-05\n",
      " 3.39195980e-05 3.40100503e-05 3.41005025e-05 3.41909548e-05\n",
      " 3.42814070e-05 3.43718593e-05 3.44623116e-05 3.45527638e-05\n",
      " 3.46432161e-05 3.47336683e-05 3.48241206e-05 3.49145729e-05\n",
      " 3.50050251e-05 3.50954774e-05 3.51859296e-05 3.52763819e-05\n",
      " 3.53668342e-05 3.54572864e-05 3.55477387e-05 3.56381910e-05\n",
      " 3.57286432e-05 3.58190955e-05 3.59095477e-05 3.60000000e-05]\n",
      "number_of_lasers:\n",
      "  400\n",
      "laser_ignore_list:\n",
      "  []\n",
      "alternating:\n",
      "  True\n",
      "units:\n",
      "  ('s', 'arb. u.')\n",
      "labels:\n",
      "  ['Tau', 'Signal']\n",
      "['Jupyter-ensemble-XY8-alt-phased-juptr']\n",
      "Save_tag:  XY8(8)-alt-phased_A-T17-12_8K_200mT_Bnv_IC_Nb_nuclear_spin\n"
     ]
    }
   ],
   "source": [
    "tau_start = 18e-6\n",
    "tau_stop = 36e-6\n",
    "tau_num = 200\n",
    "N = 8\n",
    "\n",
    "if tau_start/(8*N) < pi_pulse:\n",
    "    min_tau = pi_pulse*8*N*1e9 #minimum tau in ns\n",
    "    print('!!!Warning. tau_start value is too small!!!\\n It has to be larger than {min_tau} ns!')\n",
    "else:\n",
    "    pjl.initialize_ensemble(laser_power_volatge = laser_power_volatge, pi_pulse=pi_pulse, LO_freq_0=LO_freq_0, target_freq_0=target_freq_0, power_0=power_0, LO_freq_1=LO_freq_1, target_freq_1=target_freq_1, power_1=power_1)\n",
    "    pjl.XY8_alt_phased(tau_start, tau_stop, tau_num, N)\n",
    "    pjl.start_measurement(measurement_type=f'XY8({N})-alt-phased', tip_name=tip_name, sample=sample, \n",
    "                          temperature=temperature, b_field=b_field, contact=contact, extra=extra)"
   ]
  },
  {
   "cell_type": "code",
   "execution_count": null,
   "metadata": {},
   "outputs": [],
   "source": [
    "pi_pulse_spacing_start = 100e-9\n",
    "pi_pulse_spacing_stop = 600e-9\n",
    "pi_pulse_spacing_num = 100\n",
    "N = 8\n",
    "\n",
    "tau_start = pi_pulse_spacing_start*N*8\n",
    "tau_stop = pi_pulse_spacing_stop*N*8\n",
    "tau_num = pi_pulse_spacing_num\n",
    "\n",
    "\n",
    "if tau_start/(8*N) < pi_pulse:\n",
    "    min_tau = pi_pulse*8*N*1e9 #minimum tau in ns\n",
    "    print('!!!Warning. tau_start value is too small!!!\\n It has to be larger than {min_tau} ns!')\n",
    "else:\n",
    "    pjl.initialize_ensemble(laser_power_volatge = laser_power_volatge, pi_pulse=pi_pulse, LO_freq_0=LO_freq_0, target_freq_0=target_freq_0, power_0=power_0, LO_freq_1=LO_freq_1, target_freq_1=target_freq_1, power_1=power_1)\n",
    "    pjl.XY8_alt_phased(tau_start, tau_stop, tau_num, N)\n",
    "    pjl.start_measurement(measurement_type=f'XY8({N})-alt-phased', tip_name=tip_name, sample=sample, \n",
    "                          temperature=temperature, b_field=b_field, contact=contact, extra=extra)"
   ]
  },
  {
   "cell_type": "markdown",
   "metadata": {},
   "source": [
    "#### Load and ready XY16 sequence (alternating)"
   ]
  },
  {
   "cell_type": "code",
   "execution_count": null,
   "metadata": {},
   "outputs": [],
   "source": [
    "tau_start = 18e-6\n",
    "tau_stop = 36e-6\n",
    "tau_num = 200\n",
    "N = 8\n",
    "\n",
    "if tau_start/(16*N) < pi_pulse:\n",
    "    min_tau = pi_pulse*16*N*1e9 #minimum tau in ns\n",
    "    print('!!!Warning. tau_start value is too small!!!\\n It has to be larger than {min_tau} ns!')\n",
    "else:\n",
    "    pjl.initialize_ensemble(laser_power_volatge = laser_power_volatge, pi_pulse=pi_pulse, LO_freq_0=LO_freq_0, target_freq_0=target_freq_0, power_0=power_0, LO_freq_1=LO_freq_1, target_freq_1=target_freq_1, power_1=power_1)\n",
    "    pjl.XY16_alt_phased(tau_start, tau_stop, tau_num, N)\n",
    "    pjl.start_measurement(measurement_type=f'XY16({N})-alt-phased', tip_name=tip_name, sample=sample, \n",
    "                          temperature=temperature, b_field=b_field, contact=contact, extra=extra)"
   ]
  },
  {
   "cell_type": "code",
   "execution_count": 143,
   "metadata": {},
   "outputs": [],
   "source": [
    "pi_pulse_spacing_start = 100e-9\n",
    "pi_pulse_spacing_stop = 600e-9\n",
    "pi_pulse_spacing_num = 100\n",
    "N = 8\n",
    "\n",
    "tau_start = pi_pulse_spacing_start*N*16\n",
    "tau_stop = pi_pulse_spacing_stop*N*16\n",
    "tau_num = pi_pulse_spacing_num\n",
    "\n",
    "\n",
    "if tau_start/(16*N) < pi_pulse:\n",
    "    min_tau = pi_pulse*16*N*1e9 #minimum tau in ns\n",
    "    print('!!!Warning. tau_start value is too small!!!\\n It has to be larger than {min_tau} ns!')\n",
    "else:\n",
    "    pjl.initialize_ensemble(laser_power_volatge = laser_power_volatge, pi_pulse=pi_pulse, LO_freq_0=LO_freq_0, target_freq_0=target_freq_0, power_0=power_0, LO_freq_1=LO_freq_1, target_freq_1=target_freq_1, power_1=power_1)\n",
    "    pjl.XY16_alt_phased(tau_start, tau_stop, tau_num, N)\n",
    "    pjl.start_measurement(measurement_type=f'XY16({N})-alt-phased', tip_name=tip_name, sample=sample, \n",
    "                          temperature=temperature, b_field=b_field, contact=contact, extra=extra)"
   ]
  },
  {
   "cell_type": "code",
   "execution_count": 6,
   "metadata": {},
   "outputs": [
    {
     "data": {
      "text/plain": [
       "0"
      ]
     },
     "execution_count": 6,
     "metadata": {},
     "output_type": "execute_result"
    }
   ],
   "source": [
    "afm_scanner_logic._mw.off()\n",
    "afm_scanner_logic._mw1.off()"
   ]
  }
 ],
 "metadata": {
  "kernelspec": {
   "display_name": "Qudi",
   "language": "python",
   "name": "sj5-qudi"
  },
  "language_info": {
   "codemirror_mode": {
    "name": "ipython",
    "version": "3.6.5"
   },
   "file_extension": ".py",
   "mimetype": "text/x-python",
   "name": "python",
   "nbconvert_exporter": "python",
   "pygments_lexer": "ipython3",
   "version": "3.6.5"
  },
  "toc-autonumbering": true,
  "toc-showcode": true,
  "toc-showmarkdowntxt": true
 },
 "nbformat": 4,
 "nbformat_minor": 4
}
