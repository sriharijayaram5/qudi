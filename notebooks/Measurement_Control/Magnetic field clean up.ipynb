{
 "cells": [
  {
   "cell_type": "markdown",
   "metadata": {},
   "source": [
    "The superconducting magnet shows hysteresis for performing in higher fields (e.g. 200mT). Thus, going straight to zero field, a residual field of several mT (e.g. 6.5mT) remains. This code helps to clean up and bring back the system to a close to zero field condition without warming up the  magnet above its critical temperature."
   ]
  },
  {
   "cell_type": "code",
   "execution_count": 1,
   "metadata": {},
   "outputs": [
    {
     "name": "stdout",
     "output_type": "stream",
     "text": [
      "Kernel alive\n"
     ]
    }
   ],
   "source": [
    "print('Kernel alive')"
   ]
  },
  {
   "cell_type": "code",
   "execution_count": 2,
   "metadata": {},
   "outputs": [],
   "source": [
    "# Current position ={'rho': 0.069, 'theta': 58.9011, 'phi': 177.0225} "
   ]
  },
  {
   "cell_type": "code",
   "execution_count": 3,
   "metadata": {},
   "outputs": [],
   "source": [
    "from tqdm import tqdm\n",
    "import time\n",
    "\n",
    "def ramp_along_set_direction(sweep_steps=10, theta=None, phi=None, rho=None):\n",
    "    # !!! Rho is in T !!!\n",
    "    #First define the steps to ramp down the magnet\n",
    "    # DEFINING MEASUREMENT PARAMETERS\n",
    "    # DEFINING MAGNETIC FIELD VECTORS\n",
    "    curr_pos_dict = magnetlogic.get_pos() #get current position\n",
    "    print('Current position', curr_pos_dict,\"\\n\\n\")\n",
    "    if not theta:\n",
    "        theta = np.deg2rad(curr_pos_dict['theta'])\n",
    "    if not phi:\n",
    "        phi = np.deg2rad(curr_pos_dict['phi'])\n",
    "    if not rho:\n",
    "        rho = curr_pos_dict['rho']\n",
    "    start = rho\n",
    "\n",
    "    ###### Comment out for using current values\n",
    "    # theta = np.deg2rad(54.87516187351408)\n",
    "    # phi = np.deg2rad(178.5983892617904)\n",
    "    # start = 0.2699180245926529\n",
    "\n",
    "    stop = 0.01*rho\n",
    "    sweep_arr = np.zeros(sweep_steps)\n",
    "    sweep_arr[:-1] = np.logspace(np.log10(start), np.log10(stop), num=sweep_steps-1)\n",
    "    aps_magnet.check_precision = 0.00001\n",
    "    magnetlogic._checktime = 1.5\n",
    "\n",
    "    b_arr = []\n",
    "    for idx, rho_val in enumerate(sweep_arr):\n",
    "        theta = np.pi-theta\n",
    "        phi = np.pi+phi\n",
    "        phi = phi if phi<2*np.pi else phi-2*np.pi\n",
    "        move_dict =  {'rho':0, 'theta':np.rad2deg(theta), 'phi': np.rad2deg(phi)}\n",
    "        print(move_dict)\n",
    "        b_arr.append(move_dict)\n",
    "        move_dict =  {'rho':rho_val, 'theta':np.rad2deg(theta), 'phi': np.rad2deg(phi)}\n",
    "        print(move_dict)\n",
    "        b_arr.append(move_dict)\n",
    "    return b_arr\n",
    "\n",
    "def ramp_along_axes(sweep_steps=10, axis=\"z\", rho=None):\n",
    "    # !!! Rho is in T !!!\n",
    "    #First define the steps to ramp down the magnet\n",
    "    # DEFINING MEASUREMENT PARAMETERS\n",
    "    # DEFINING MAGNETIC FIELD VECTORS\n",
    "    curr_pos_dict = magnetlogic.get_pos() #get current position\n",
    "    print('Current position', curr_pos_dict,\"\\n\\n\")\n",
    "    if axis is \"x\":\n",
    "        theta = np.deg2rad(90)\n",
    "        phi = np.deg2rad(0)\n",
    "    if axis is \"y\":\n",
    "        theta = np.deg2rad(90)\n",
    "        phi = np.deg2rad(90)\n",
    "    if axis is \"z\":\n",
    "        theta = np.deg2rad(0)\n",
    "        phi = np.deg2rad(0)\n",
    "    if not rho:\n",
    "        rho = curr_pos_dict['rho']\n",
    "    start = rho\n",
    "\n",
    "    stop = 0.01*rho\n",
    "    sweep_arr = np.zeros(sweep_steps)\n",
    "    sweep_arr[:-1] = np.logspace(np.log10(start), np.log10(stop), num=sweep_steps-1)\n",
    "    aps_magnet.check_precision = 0.00001\n",
    "    magnetlogic._checktime = 1.5\n",
    "\n",
    "    b_arr = []\n",
    "    for idx, rho_val in enumerate(sweep_arr):\n",
    "        theta = np.pi-theta\n",
    "        phi = np.pi+phi\n",
    "        phi = phi if phi<2*np.pi else phi-2*np.pi\n",
    "        move_dict =  {'rho':0, 'theta':np.rad2deg(theta), 'phi': np.rad2deg(phi)}\n",
    "        print(move_dict)\n",
    "        b_arr.append(move_dict)\n",
    "        move_dict =  {'rho':rho_val, 'theta':np.rad2deg(theta), 'phi': np.rad2deg(phi)}\n",
    "        print(move_dict)\n",
    "        b_arr.append(move_dict)\n",
    "    return b_arr"
   ]
  },
  {
   "cell_type": "markdown",
   "metadata": {},
   "source": [
    "### Moving magnet along the ramp down directions"
   ]
  },
  {
   "cell_type": "code",
   "execution_count": 5,
   "metadata": {},
   "outputs": [
    {
     "name": "stderr",
     "output_type": "stream",
     "text": [
      "\r",
      "  0%|                                                                                               | 0/20 [00:00<?, ?it/s]"
     ]
    },
    {
     "name": "stdout",
     "output_type": "stream",
     "text": [
      "Current position {'rho': 0.0, 'theta': 0, 'phi': 0} \n",
      "\n",
      "\n",
      "{'rho': 0, 'theta': 90.0, 'phi': 180.0}\n",
      "{'rho': 0.049999999999999996, 'theta': 90.0, 'phi': 180.0}\n",
      "{'rho': 0, 'theta': 90.0, 'phi': 0.0}\n",
      "{'rho': 0.02811706625951745, 'theta': 90.0, 'phi': 0.0}\n",
      "{'rho': 0, 'theta': 90.0, 'phi': 180.0}\n",
      "{'rho': 0.015811388300841896, 'theta': 90.0, 'phi': 180.0}\n",
      "{'rho': 0, 'theta': 90.0, 'phi': 0.0}\n",
      "{'rho': 0.008891397050194613, 'theta': 90.0, 'phi': 0.0}\n",
      "{'rho': 0, 'theta': 90.0, 'phi': 180.0}\n",
      "{'rho': 0.004999999999999999, 'theta': 90.0, 'phi': 180.0}\n",
      "{'rho': 0, 'theta': 90.0, 'phi': 0.0}\n",
      "{'rho': 0.002811706625951745, 'theta': 90.0, 'phi': 0.0}\n",
      "{'rho': 0, 'theta': 90.0, 'phi': 180.0}\n",
      "{'rho': 0.0015811388300841895, 'theta': 90.0, 'phi': 180.0}\n",
      "{'rho': 0, 'theta': 90.0, 'phi': 0.0}\n",
      "{'rho': 0.0008891397050194613, 'theta': 90.0, 'phi': 0.0}\n",
      "{'rho': 0, 'theta': 90.0, 'phi': 180.0}\n",
      "{'rho': 0.0004999999999999999, 'theta': 90.0, 'phi': 180.0}\n",
      "{'rho': 0, 'theta': 90.0, 'phi': 0.0}\n",
      "{'rho': 0.0, 'theta': 90.0, 'phi': 0.0}\n"
     ]
    },
    {
     "name": "stderr",
     "output_type": "stream",
     "text": [
      "100%|######################################################################################| 20/20 [11:37<00:00, 34.90s/it]\n"
     ]
    }
   ],
   "source": [
    "# b_arr = ramp_along_set_direction(sweep_steps=10, theta=None, phi=None, rho=None)\n",
    "b_arr = ramp_along_axes(sweep_steps=10, axis=\"x\", rho=50e-3)\n",
    "\n",
    "odmrlogic.stop_jupyter_meas = False\n",
    "for move_dict in tqdm(b_arr):    \n",
    "    check_start_time = time.time()\n",
    "    magnetlogic._magnet_device.move_abs(move_dict)\n",
    "    \n",
    "    while magnetlogic._check_is_moving():\n",
    "        if (time.time()-check_start_time)>600:\n",
    "            print('Magnet check time out!')\n",
    "            break\n",
    "        time.sleep(magnetlogic._checktime)\n",
    "    \n",
    "    if odmrlogic.stop_jupyter_meas:\n",
    "        print('Measurement force stopped!')\n",
    "        break"
   ]
  },
  {
   "cell_type": "code",
   "execution_count": null,
   "metadata": {},
   "outputs": [],
   "source": []
  }
 ],
 "metadata": {
  "kernelspec": {
   "display_name": "Qudi",
   "language": "python",
   "name": "sj5-qudi"
  },
  "language_info": {
   "codemirror_mode": {
    "name": "ipython",
    "version": "3.6.5"
   },
   "file_extension": ".py",
   "mimetype": "text/x-python",
   "name": "python",
   "nbconvert_exporter": "python",
   "pygments_lexer": "ipython3",
   "version": "3.6.5"
  }
 },
 "nbformat": 4,
 "nbformat_minor": 2
}
