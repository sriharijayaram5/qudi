{
 "cells": [
  {
   "cell_type": "markdown",
   "metadata": {},
   "source": [
    "The superconducting magnet shows hysteresis for performing in higher fields (e.g. 200mT). Thus, going straight to zero field, a residual field of several mT (e.g. 6.5mT) remains. This code helps to clean up and bring back the system to a close to zero field condition without warming up the  magnet above its critical temperature."
   ]
  },
  {
   "cell_type": "code",
   "execution_count": 1,
   "metadata": {},
   "outputs": [
    {
     "name": "stdout",
     "output_type": "stream",
     "text": [
      "Kernel alive\n"
     ]
    }
   ],
   "source": [
    "print('Kernel alive')"
   ]
  },
  {
   "cell_type": "code",
   "execution_count": 4,
   "metadata": {},
   "outputs": [],
   "source": [
    "# Current position ={'rho': 0.069, 'theta': 58.9011, 'phi': 177.0225} "
   ]
  },
  {
   "cell_type": "code",
   "execution_count": 5,
   "metadata": {},
   "outputs": [],
   "source": [
    "from tqdm import tqdm\n",
    "import time\n",
    "\n",
    "def ramp_along_set_direction(sweep_steps=10, theta=None, phi=None, rho=None):\n",
    "    # !!! Rho is in T !!!\n",
    "    #First define the steps to ramp down the magnet\n",
    "    # DEFINING MEASUREMENT PARAMETERS\n",
    "    # DEFINING MAGNETIC FIELD VECTORS\n",
    "    curr_pos_dict = magnetlogic.get_pos() #get current position\n",
    "    print('Current position', curr_pos_dict,\"\\n\\n\")\n",
    "    if not theta:\n",
    "        theta = np.deg2rad(curr_pos_dict['theta'])\n",
    "    if not phi:\n",
    "        phi = np.deg2rad(curr_pos_dict['phi'])\n",
    "    if not rho:\n",
    "        rho = curr_pos_dict['rho']\n",
    "    start = rho\n",
    "\n",
    "    ###### Comment out for using current values\n",
    "    # theta = np.deg2rad(54.87516187351408)\n",
    "    # phi = np.deg2rad(178.5983892617904)\n",
    "    # start = 0.2699180245926529\n",
    "\n",
    "    stop = 0.01*rho\n",
    "    sweep_arr = np.zeros(sweep_steps)\n",
    "    sweep_arr[:-1] = np.logspace(np.log10(start), np.log10(stop), num=sweep_steps-1)\n",
    "    aps_magnet.check_precision = 0.00001\n",
    "    magnetlogic._checktime = 1.5\n",
    "\n",
    "    b_arr = []\n",
    "    for idx, rho_val in enumerate(sweep_arr):\n",
    "        theta = np.pi-theta\n",
    "        phi = np.pi+phi\n",
    "        phi = phi if phi<2*np.pi else phi-2*np.pi\n",
    "        move_dict =  {'rho':0, 'theta':np.rad2deg(theta), 'phi': np.rad2deg(phi)}\n",
    "        print(move_dict)\n",
    "        b_arr.append(move_dict)\n",
    "        move_dict =  {'rho':rho_val, 'theta':np.rad2deg(theta), 'phi': np.rad2deg(phi)}\n",
    "        print(move_dict)\n",
    "        b_arr.append(move_dict)\n",
    "    return b_arr\n",
    "\n",
    "def ramp_along_axes(sweep_steps=10, axis=\"z\", rho=None):\n",
    "    # !!! Rho is in T !!!\n",
    "    #First define the steps to ramp down the magnet\n",
    "    # DEFINING MEASUREMENT PARAMETERS\n",
    "    # DEFINING MAGNETIC FIELD VECTORS\n",
    "    curr_pos_dict = magnetlogic.get_pos() #get current position\n",
    "    print('Current position', curr_pos_dict,\"\\n\\n\")\n",
    "    if axis is \"x\":\n",
    "        theta = np.deg2rad(90)\n",
    "        phi = np.deg2rad(0)\n",
    "    if axis is \"y\":\n",
    "        theta = np.deg2rad(90)\n",
    "        phi = np.deg2rad(90)\n",
    "    if axis is \"z\":\n",
    "        theta = np.deg2rad(0)\n",
    "        phi = np.deg2rad(0)\n",
    "    if not rho:\n",
    "        rho = curr_pos_dict['rho']\n",
    "    start = rho\n",
    "\n",
    "    stop = 0.01*rho\n",
    "    sweep_arr = np.zeros(sweep_steps)\n",
    "    sweep_arr[:-1] = np.logspace(np.log10(start), np.log10(stop), num=sweep_steps-1)\n",
    "    aps_magnet.check_precision = 0.00001\n",
    "    magnetlogic._checktime = 1.5\n",
    "\n",
    "    b_arr = []\n",
    "    for idx, rho_val in enumerate(sweep_arr):\n",
    "        theta = np.pi-theta\n",
    "        phi = np.pi+phi\n",
    "        phi = phi if phi<2*np.pi else phi-2*np.pi\n",
    "        move_dict =  {'rho':0, 'theta':np.rad2deg(theta), 'phi': np.rad2deg(phi)}\n",
    "        print(move_dict)\n",
    "        b_arr.append(move_dict)\n",
    "        move_dict =  {'rho':rho_val, 'theta':np.rad2deg(theta), 'phi': np.rad2deg(phi)}\n",
    "        print(move_dict)\n",
    "        b_arr.append(move_dict)\n",
    "    return b_arr"
   ]
  },
  {
   "cell_type": "markdown",
   "metadata": {},
   "source": [
    "### Moving magnet along the ramp down directions"
   ]
  },
  {
   "cell_type": "code",
   "execution_count": 6,
   "metadata": {},
   "outputs": [
    {
     "name": "stderr",
     "output_type": "stream",
     "text": [
      "\r",
      "  0%|                                                                                          | 0/20 [00:00<?, ?it/s]"
     ]
    },
    {
     "name": "stdout",
     "output_type": "stream",
     "text": [
      "Current position {'rho': 0.06969770440982974, 'theta': 58.90113983754255, 'phi': 177.0225335355159} \n",
      "\n",
      "\n",
      "{'rho': 0, 'theta': 121.09886016245746, 'phi': 357.0225335355159}\n",
      "{'rho': 0.06969770440982975, 'theta': 121.09886016245746, 'phi': 357.0225335355159}\n",
      "{'rho': 0, 'theta': 58.90113983754254, 'phi': 177.02253353551583}\n",
      "{'rho': 0.0391938994605489, 'theta': 58.90113983754254, 'phi': 177.02253353551583}\n",
      "{'rho': 0, 'theta': 121.09886016245746, 'phi': 357.02253353551583}\n",
      "{'rho': 0.022040349362022378, 'theta': 121.09886016245746, 'phi': 357.02253353551583}\n",
      "{'rho': 0, 'theta': 58.90113983754254, 'phi': 177.02253353551583}\n",
      "{'rho': 0.012394199267897928, 'theta': 58.90113983754254, 'phi': 177.02253353551583}\n",
      "{'rho': 0, 'theta': 121.09886016245746, 'phi': 357.02253353551583}\n",
      "{'rho': 0.006969770440982975, 'theta': 121.09886016245746, 'phi': 357.02253353551583}\n",
      "{'rho': 0, 'theta': 58.90113983754254, 'phi': 177.02253353551583}\n",
      "{'rho': 0.00391938994605489, 'theta': 58.90113983754254, 'phi': 177.02253353551583}\n",
      "{'rho': 0, 'theta': 121.09886016245746, 'phi': 357.02253353551583}\n",
      "{'rho': 0.002204034936202238, 'theta': 121.09886016245746, 'phi': 357.02253353551583}\n",
      "{'rho': 0, 'theta': 58.90113983754254, 'phi': 177.02253353551583}\n",
      "{'rho': 0.0012394199267897928, 'theta': 58.90113983754254, 'phi': 177.02253353551583}\n",
      "{'rho': 0, 'theta': 121.09886016245746, 'phi': 357.02253353551583}\n",
      "{'rho': 0.0006969770440982976, 'theta': 121.09886016245746, 'phi': 357.02253353551583}\n",
      "{'rho': 0, 'theta': 58.90113983754254, 'phi': 177.02253353551583}\n",
      "{'rho': 0.0, 'theta': 58.90113983754254, 'phi': 177.02253353551583}\n"
     ]
    },
    {
     "name": "stderr",
     "output_type": "stream",
     "text": [
      "100%|#################################################################################| 20/20 [16:12<00:00, 48.61s/it]\n"
     ]
    }
   ],
   "source": [
    "b_arr = ramp_along_set_direction(sweep_steps=10, theta=None, phi=None, rho=None)\n",
    "# b_arr = ramp_along_axes(sweep_steps=10, axis=\"y\", rho=50e-3)\n",
    "\n",
    "odmrlogic.stop_jupyter_meas = False\n",
    "for move_dict in tqdm(b_arr):    \n",
    "    check_start_time = time.time()\n",
    "    magnetlogic._magnet_device.move_abs(move_dict)\n",
    "    \n",
    "    while magnetlogic._check_is_moving():\n",
    "        if (time.time()-check_start_time)>600:\n",
    "            print('Magnet check time out!')\n",
    "            break\n",
    "        time.sleep(magnetlogic._checktime)\n",
    "    \n",
    "    if odmrlogic.stop_jupyter_meas:\n",
    "        print('Measurement force stopped!')\n",
    "        break"
   ]
  },
  {
   "cell_type": "code",
   "execution_count": null,
   "metadata": {},
   "outputs": [],
   "source": []
  }
 ],
 "metadata": {
  "kernelspec": {
   "display_name": "Qudi",
   "language": "python",
   "name": "sj5-qudi"
  },
  "language_info": {
   "codemirror_mode": {
    "name": "ipython",
    "version": "3.6.5"
   },
   "file_extension": ".py",
   "mimetype": "text/x-python",
   "name": "python",
   "nbconvert_exporter": "python",
   "pygments_lexer": "ipython3",
   "version": "3.6.5"
  }
 },
 "nbformat": 4,
 "nbformat_minor": 2
}
