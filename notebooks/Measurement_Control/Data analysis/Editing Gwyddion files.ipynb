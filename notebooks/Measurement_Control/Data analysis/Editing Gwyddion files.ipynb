{
 "cells": [
  {
   "cell_type": "code",
   "execution_count": 2,
   "metadata": {},
   "outputs": [],
   "source": [
    "import logic.gwyfile as gwyfile\n",
    "import numpy as np\n",
    "import pickle\n",
    "from logic.gwyfile.objects import GwyContainer, GwyDataField\n",
    "import matplotlib.pyplot as plt"
   ]
  },
  {
   "cell_type": "markdown",
   "metadata": {},
   "source": [
    "Define the dataset"
   ]
  },
  {
   "cell_type": "code",
   "execution_count": 15,
   "metadata": {},
   "outputs": [],
   "source": [
    "path = 'G:\\\\Data\\\\Qudi_Data\\\\2023\\\\04\\\\20230421\\\\AttoDRY2200_Pi3_SPM\\\\'\n",
    "filebeginning = '20230421-0913-07_FST_'\n",
    "gwyfilename = path+ '20230421-0913-07_FST_QAFM_corrected' \n",
    "filepath = path + filebeginning #here the beginning of the filename, including the date and sample name, is needed"
   ]
  },
  {
   "cell_type": "markdown",
   "metadata": {},
   "source": [
    "Load Gwyddion file"
   ]
  },
  {
   "cell_type": "code",
   "execution_count": 16,
   "metadata": {},
   "outputs": [
    {
     "name": "stdout",
     "output_type": "stream",
     "text": [
      "{'b_field_fw:Magnetic field ': GwyDataField([('xres', 125), ('yres', 100), ('xreal', 2.4999999999999998e-06), ('yreal', 2.0000000000000003e-06), ('xoff', 6e-06), ('yoff', 1e-06), ('si_unit_xy', GwySIUnit([('unitstr', 'm')])), ('si_unit_z', GwySIUnit([('unitstr', 'G')])), ('data', array([43.8899265 , 43.9131867 , 43.86334214, ..., 42.60163819,\n",
      "       42.62715164, 42.34680767]))]), 'Height(Dac)_fw:Height': GwyDataField([('xres', 125), ('yres', 100), ('xreal', 2.4999999999999998e-06), ('yreal', 2.0000000000000003e-06), ('xoff', 6e-06), ('yoff', 1e-06), ('si_unit_xy', GwySIUnit([('unitstr', 'm')])), ('si_unit_z', GwySIUnit([('unitstr', 'm')])), ('data', array([1.10310940e-06, 1.10443148e-06, 1.11132485e-06, ...,\n",
      "       1.28421518e-06, 1.28156427e-06, 1.28199876e-06]))]), 'b_field_fw_corrected:Magnetic field': GwyDataField([('xres', 125), ('yres', 100), ('xreal', 2.4999999999999998e-06), ('yreal', 2.0000000000000003e-06), ('xoff', 6e-06), ('yoff', 1e-06), ('si_unit_xy', GwySIUnit([('unitstr', 'm')])), ('si_unit_z', GwySIUnit([('unitstr', 'G')])), ('data', array([2009.66093279, 2009.67256288, 2009.61054032, ..., 2010.93846903,\n",
      "       2010.87963711, 2011.18275115]))]), 'counts_fw:Counts': GwyDataField([('xres', 125), ('yres', 100), ('xreal', 2.4999999999999998e-06), ('yreal', 2.0000000000000003e-06), ('xoff', 6e-06), ('yoff', 1e-06), ('si_unit_xy', GwySIUnit([('unitstr', 'm')])), ('si_unit_z', GwySIUnit([('unitstr', 'c/s')])), ('data', array([102800., 104600., 106400., ...,  47800.,  40800.,  45400.]))])}\n"
     ]
    }
   ],
   "source": [
    "# Load a Gwyddion file into memory\n",
    "obj = gwyfile.load(gwyfilename+'.gwy')\n",
    "# Return a dictionary with the datafield titles as keys and the\n",
    "# datafield objects as values.\n",
    "channels = gwyfile.util.get_datafields(obj)\n",
    "print(channels)"
   ]
  },
  {
   "cell_type": "markdown",
   "metadata": {},
   "source": [
    "Load data to add from pickle"
   ]
  },
  {
   "cell_type": "code",
   "execution_count": 5,
   "metadata": {},
   "outputs": [],
   "source": [
    "with open(filepath+'qafm_array_raw.pickle', 'rb') as f:\n",
    "    qafm_data = pickle.load(f)\n",
    "with open(filepath+'esr_array_raw.pickle', 'rb') as f:\n",
    "    esr_data = pickle.load(f)"
   ]
  },
  {
   "cell_type": "code",
   "execution_count": 6,
   "metadata": {},
   "outputs": [
    {
     "name": "stdout",
     "output_type": "stream",
     "text": [
      "[[2009.66093279 2009.67256288 2009.61054032 ... 2009.79160004\n",
      "  2009.85149309 2009.80293026]\n",
      " [2009.65331651 2009.68676798 2009.64888001 ... 2009.92036724\n",
      "  2009.85770843 2009.97520264]\n",
      " [2009.57788865 2009.65695065 2009.66472889 ... 2009.93015105\n",
      "  2009.89851245 2009.95415845]\n",
      " ...\n",
      " [2009.62750411 2009.60677072 2009.60266172 ... 2011.06258386\n",
      "  2011.14971667 2011.19044756]\n",
      " [2009.28599547 2009.55588759 2009.58332593 ... 2011.14545205\n",
      "  2010.91876797 2010.90319324]\n",
      " [2009.60285688 2009.4977477  2009.60283469 ... 2010.93846903\n",
      "  2010.87963711 2011.18275115]]\n"
     ]
    }
   ],
   "source": [
    "#Load esr array with B field from pickel\n",
    "with open(filepath+'esr_array_bfield_T.pickle', 'rb') as f:\n",
    "    esr_data = pickle.load(f)\n",
    "b_field = esr_data['esr_fw']['b_field']"
   ]
  },
  {
   "cell_type": "markdown",
   "metadata": {},
   "source": [
    "Add data to loaded gwyddion object"
   ]
  },
  {
   "cell_type": "code",
   "execution_count": 7,
   "metadata": {},
   "outputs": [
    {
     "name": "stdout",
     "output_type": "stream",
     "text": [
      "2009.3585931568741\n",
      "2011.284354222243\n"
     ]
    }
   ],
   "source": [
    "low_centile = 0.2\n",
    "high_centile = 99.8\n",
    "data = b_field*10**4\n",
    "si_unit_xy = 'm'\n",
    "si_unit_z = 'G'\n",
    "title = 'b_field_fw_corrected:Magnetic field'\n",
    "\n",
    "xreal = channels['b_field_fw:Magnetic field '].xreal\n",
    "xoff = channels['b_field_fw:Magnetic field '].xoff\n",
    "yreal = channels['b_field_fw:Magnetic field '].yreal\n",
    "yoff = channels['b_field_fw:Magnetic field '].yoff\n",
    "\n",
    "num_channels = len(channels.keys())\n",
    "datafield = f'/{num_channels}/data'\n",
    "obj[datafield+'/title'] = title\n",
    "obj[f'/{num_channels}/base/palette'] = 'Sky'\n",
    "obj[datafield] = GwyDataField(data = data, si_unit_xy = si_unit_xy, si_unit_z = si_unit_z)\n",
    "\n",
    "channel = gwyfile.util.get_datafields(obj)[title]\n",
    "channel.xreal = xreal\n",
    "channel.xoff = xoff\n",
    "channel.yreal = yreal\n",
    "channel.yoff = yoff\n",
    "\n",
    "print(np.nanpercentile(data, low_centile))\n",
    "print(np.nanpercentile(data, high_centile))"
   ]
  },
  {
   "cell_type": "code",
   "execution_count": null,
   "metadata": {},
   "outputs": [],
   "source": [
    "data = b_field*10**4\n",
    "print(np.nanpercentile(data, low_centile))\n",
    "print(np.nanpercentile(data, high_centile))"
   ]
  },
  {
   "cell_type": "code",
   "execution_count": 8,
   "metadata": {
    "scrolled": true
   },
   "outputs": [
    {
     "name": "stdout",
     "output_type": "stream",
     "text": [
      "{'b_field_fw:Magnetic field ': GwyDataField([('xreal', 2.4999999999999998e-06), ('yreal', 2.0000000000000003e-06), ('xoff', 6e-06), ('yoff', 1e-06), ('si_unit_xy', GwySIUnit([('unitstr', 'm')])), ('si_unit_z', GwySIUnit([('unitstr', 'G')])), ('xres', 125), ('yres', 100), ('data', array([43.8899265 , 43.9131867 , 43.86334214, ..., 42.60163819,\n",
      "       42.62715164, 42.34680767]))]), 'counts_fw:Counts': GwyDataField([('xreal', 2.4999999999999998e-06), ('yreal', 2.0000000000000003e-06), ('xoff', 6e-06), ('yoff', 1e-06), ('si_unit_xy', GwySIUnit([('unitstr', 'm')])), ('si_unit_z', GwySIUnit([('unitstr', 'c/s')])), ('xres', 125), ('yres', 100), ('data', array([102800., 104600., 106400., ...,  47800.,  40800.,  45400.]))]), 'Height(Dac)_fw:Height': GwyDataField([('xreal', 2.4999999999999998e-06), ('yreal', 2.0000000000000003e-06), ('xoff', 6e-06), ('yoff', 1e-06), ('si_unit_xy', GwySIUnit([('unitstr', 'm')])), ('si_unit_z', GwySIUnit([('unitstr', 'm')])), ('xres', 125), ('yres', 100), ('data', array([1.10310940e-06, 1.10443148e-06, 1.11132485e-06, ...,\n",
      "       1.28421518e-06, 1.28156427e-06, 1.28199876e-06]))]), 'b_field_fw_corrected:Magnetic field': GwyDataField([('xreal', 2.4999999999999998e-06), ('yreal', 2.0000000000000003e-06), ('xoff', 6e-06), ('yoff', 1e-06), ('si_unit_xy', GwySIUnit([('unitstr', 'm')])), ('si_unit_z', GwySIUnit([('unitstr', 'G')])), ('xres', 125), ('yres', 100), ('data', array([2009.66093279, 2009.67256288, 2009.61054032, ..., 2010.93846903,\n",
      "       2010.87963711, 2011.18275115]))])}\n"
     ]
    }
   ],
   "source": [
    "channels_test = gwyfile.util.get_datafields(obj)\n",
    "print(channels_test)"
   ]
  },
  {
   "cell_type": "markdown",
   "metadata": {},
   "source": [
    "Save edeted gwyddion file"
   ]
  },
  {
   "cell_type": "code",
   "execution_count": 10,
   "metadata": {},
   "outputs": [],
   "source": [
    "obj.tofile(gwyfilename+'_corrected'+'.gwy')"
   ]
  }
 ],
 "metadata": {
  "kernelspec": {
   "display_name": "Qudi",
   "language": "python",
   "name": "sj5-qudi"
  },
  "language_info": {
   "codemirror_mode": {
    "name": "ipython",
    "version": "3.6.5"
   },
   "file_extension": ".py",
   "mimetype": "text/x-python",
   "name": "python",
   "nbconvert_exporter": "python",
   "pygments_lexer": "ipython3",
   "version": "3.6.5"
  }
 },
 "nbformat": 4,
 "nbformat_minor": 2
}
