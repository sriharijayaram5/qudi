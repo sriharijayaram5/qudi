{
 "cells": [
  {
   "cell_type": "code",
   "execution_count": 12,
   "metadata": {},
   "outputs": [],
   "source": [
    "self = afm_scanner_logic\n",
    "import logic.gwyfile as gwy"
   ]
  },
  {
   "cell_type": "code",
   "execution_count": 73,
   "metadata": {},
   "outputs": [],
   "source": [
    "def _save_esr_to_gwyddion(self, dataobj,filename, datakeys=None,prefix=None):\n",
    "        \"\"\"\n",
    "            save_esr_to_gwyddion(): writes esr data object to gwy container file\n",
    "            input:  \n",
    "            - dataobj: proteusQ data object of from dataobj['data_key']\n",
    "            - filename: file path to save object\n",
    "            - prefix:  name to be prefixed to all head objects\n",
    "            \n",
    "            requirements:\n",
    "            dataobj must contain keys {coord0[], coord1[], coord2[],\n",
    "                                        data[,,], data_std[,,], data_fit[,,], parameters[]}\n",
    "        \"\"\"\n",
    "\n",
    "        # helper function for color generation\n",
    "        # r/g/bspec = (min,max,number,startvalue)\n",
    "        def colors(rspec=(0,1,10,0), gspec=(0,1,10,0), bspec=(0,1,10,0)):\n",
    "            reds = np.linspace(*rspec[:3])\n",
    "            reds =np.concatenate([reds[np.argwhere(reds >= rspec[-1])], \n",
    "                                reds[np.argwhere(reds < rspec[-1])]]).flatten()\n",
    "\n",
    "            greens = np.linspace(*gspec[:3])\n",
    "            greens =np.concatenate([greens[np.argwhere(greens >= gspec[-1])], \n",
    "                                greens[np.argwhere(greens < gspec[-1])]]).flatten()\n",
    "\n",
    "            blues = np.linspace(*bspec[:3])\n",
    "            blues =np.concatenate([blues[np.argwhere(blues >= bspec[-1])], \n",
    "                                blues[np.argwhere(blues < bspec[-1])]]).flatten()\n",
    "\n",
    "            while True:\n",
    "                for r in reds:\n",
    "                    for g in greens:\n",
    "                        for b in blues:\n",
    "                            yield [('color.red', r), \n",
    "                                   ('color.green', g), \n",
    "                                   ('color.blue',b)]\n",
    "        \n",
    "\n",
    "        # check for existance of valid object names\n",
    "        if datakeys is None:\n",
    "            datakeys = list(dataobj.keys())\n",
    "        else:\n",
    "            if isinstance(datakeys,str):\n",
    "                datakeys = list(datakeys)\n",
    "            alloweddatakeys = list(dataobj.keys())\n",
    "            for n in datakeys:\n",
    "                if not n in alloweddatakeys:\n",
    "                    self.log.error(\"_save_esr_to_gwyddion():Invalid object name specified '{n}'\")\n",
    "\n",
    "        # determine if anything is to be done\n",
    "        if np.sum(dataobj['data']) == 0.0:\n",
    "            return False\n",
    "\n",
    "        # Output \n",
    "        # overall object container\n",
    "        esrobj = gwy.objects.GwyContainer()\n",
    "\n",
    "        # ESR mean data (quite dense)\n",
    "        # create curves\n",
    "        xdata = dataobj['coord2_arr']  # microwave frequency\n",
    "        curves = []\n",
    "        getcolors = colors((0,1,5,0.9),(0,1,5,0),(0,0.8,5,0))   # point color generator\n",
    "\n",
    "        #  specifies 1st curve is points(1), 2nd curve is line(2), others hidden(0)\n",
    "        ltypes = [1,2] \n",
    "        for j in range(dataobj['coord1_arr'].shape[0]):\n",
    "            for i in range(dataobj['coord0_arr'].shape[0]):\n",
    "                cols = next(getcolors)\n",
    "    \n",
    "                # measured data\n",
    "                ydata = dataobj['data'][j,i,:]\n",
    "                curve = gwy.objects.GwyGraphCurveModel(xdata=xdata, ydata=ydata)\n",
    "                curve.update(cols)\n",
    "                curve['description'] = f\"coord[{j},{i}]\"\n",
    "                curve['type'] = ltypes.pop(0) if ltypes else 0\n",
    "                curve['line_style'] = 0 \n",
    "                curves.append(curve)\n",
    "\n",
    "                # fit data\n",
    "                ydata = dataobj['data_fit'][j,i,:]\n",
    "                curve = gwy.objects.GwyGraphCurveModel(xdata=xdata, ydata=ydata)\n",
    "                curve.update(cols)\n",
    "                curve['description'] = f\"coord[{j},{i}]_fit\"\n",
    "                curve['type'] = ltypes.pop(0) if ltypes else 0\n",
    "                curve['line_style'] = 0 \n",
    "                curves.append(curve)\n",
    "\n",
    "        esrgraph = gwy.objects.GwyGraphModel()\n",
    "        esrgraph['title'] = 'ESR: data per pixel'\n",
    "        esrgraph['curves'] = curves\n",
    "        esrgraph['x_unit'] = gwy.objects.GwySIUnit(unitstr='Hz')\n",
    "        esrgraph['y_unit'] = gwy.objects.GwySIUnit(unitstr='c/s')\n",
    "        esrgraph['bottom_label'] = 'Microwave Frequency'\n",
    "        esrgraph['left_label'] = dataobj['nice_name'] + ' Count'\n",
    "\n",
    "        esrobj['/0/graph/graph/1'] = esrgraph \n",
    "        esrobj['/0/graph/graph/1/visible'] = False \n",
    "\n",
    "        esrobj.tofile(filename) \n",
    "        return esrobj"
   ]
  },
  {
   "cell_type": "code",
   "execution_count": 123,
   "metadata": {},
   "outputs": [],
   "source": [
    "with open('G:\\\\Data\\\\Qudi_Data\\\\2023\\\\03\\\\20230325\\\\AttoDRY2200_Pi3_SPM\\\\esr_array_raw.pickle', 'rb') as f:\n",
    "    esr_data = pickle.load(f)\n",
    "datobj = esr_data['esr_fw']\n",
    "filename = 'G:\\\\Data\\\\Qudi_Data\\\\2023\\\\03\\\\20230331\\\\AttoDRY2200_Pi3_SPM\\\\20230331-1309-01_FST_resave_data_esr_gwy_test.gwy'"
   ]
  },
  {
   "cell_type": "code",
   "execution_count": 124,
   "metadata": {},
   "outputs": [],
   "source": [
    "esrobj = _save_esr_to_gwyddion(self, datobj,filename, datakeys=None,prefix=None)"
   ]
  },
  {
   "cell_type": "code",
   "execution_count": 125,
   "metadata": {},
   "outputs": [
    {
     "name": "stdout",
     "output_type": "stream",
     "text": [
      "odict_keys(['/0/graph/graph/1', '/0/graph/graph/1/visible'])\n",
      "odict_keys(['title', 'curves', 'x_unit', 'y_unit', 'bottom_label', 'left_label'])\n"
     ]
    }
   ],
   "source": [
    "print(esrobj.keys())\n",
    "print(esrobj['/0/graph/graph/1'].keys())"
   ]
  },
  {
   "cell_type": "code",
   "execution_count": 156,
   "metadata": {},
   "outputs": [],
   "source": [
    "objout = gwy.objects.GwyContainer()"
   ]
  },
  {
   "cell_type": "code",
   "execution_count": 157,
   "metadata": {},
   "outputs": [
    {
     "data": {
      "text/plain": [
       "dict_keys(['data', 'data_std', 'data_fit', 'coord0_arr', 'coord1_arr', 'coord2_arr', 'measured_units', 'scale_fac', 'si_units', 'nice_name', 'params', 'display_range'])"
      ]
     },
     "execution_count": 157,
     "metadata": {},
     "output_type": "execute_result"
    }
   ],
   "source": [
    "datobj.keys()"
   ]
  },
  {
   "cell_type": "code",
   "execution_count": 158,
   "metadata": {},
   "outputs": [],
   "source": [
    "meas = datobj"
   ]
  },
  {
   "cell_type": "code",
   "execution_count": 159,
   "metadata": {},
   "outputs": [],
   "source": [
    "coord0 = meas['coord0_arr']\n",
    "coord1 = meas['coord1_arr']\n",
    "coord2 = meas['coord2_arr']\n",
    "data_si = meas['data'] #* scalefactor\n",
    "xy_units = gwy.objects.GwySIUnit(unitstr='m')\n",
    "z_units = gwy.objects.GwySIUnit(unitstr=meas['si_units'])\n",
    "measname = 'esr_fw' + \":\" + meas['nice_name']"
   ]
  },
  {
   "cell_type": "code",
   "execution_count": 160,
   "metadata": {},
   "outputs": [],
   "source": [
    "x,y,z = (data_si.shape[0], data_si.shape[1], data_si.shape[2])\n",
    "new_data = np.zeros((z,x,y))\n",
    "for i in range(z):\n",
    "    new_data[i] = data_si[:,:,i]\n",
    "data_si = new_data"
   ]
  },
  {
   "cell_type": "code",
   "execution_count": 161,
   "metadata": {},
   "outputs": [],
   "source": [
    "img = gwy.objects.GwyBrick(data=data_si.flatten(),\n",
    "                 xres=len(datobj['coord0_arr']), yres=len(datobj['coord1_arr']), zres=len(datobj['coord2_arr']),\n",
    "                 xreal=None, yreal=None, zreal=None,\n",
    "                 xoff=None, yoff=None, zoff=None,\n",
    "                 si_unit_x=xy_units, si_unit_y=xy_units, \n",
    "                 si_unit_z=gwy.objects.GwySIUnit(unitstr='Hz'), si_unit_w=z_units,\n",
    "                 typecodes=None)\n",
    "# img.data = data_si\n",
    "\n",
    "xstart = datobj['coord0_arr'][0]\n",
    "xstop = datobj['coord0_arr'][-1]\n",
    "img.xoff = xstart\n",
    "img.xreal = xstop - xstart\n",
    "\n",
    "ystart = datobj['coord1_arr'][0]\n",
    "ystop = datobj['coord1_arr'][-1]\n",
    "img.yoff = ystart\n",
    "img.yreal = ystop - ystart\n",
    "\n",
    "\n",
    "zstart = datobj['coord2_arr'][0]\n",
    "zstop = datobj['coord2_arr'][-1]\n",
    "img.zoff = zstart\n",
    "img.zreal = zstop - zstart\n"
   ]
  },
  {
   "cell_type": "code",
   "execution_count": 162,
   "metadata": {},
   "outputs": [],
   "source": [
    "basekey = '/' + 'brick/' + '0'\n",
    "objout[basekey] = img\n",
    "objout[basekey + '/title'] = measname\n",
    "objout[basekey + '/visible'] = True\n",
    "\n",
    "\n",
    "if objout:\n",
    "    objout.tofile(filename) "
   ]
  },
  {
   "cell_type": "code",
   "execution_count": 169,
   "metadata": {},
   "outputs": [
    {
     "data": {
      "text/plain": [
       "{'Parameters for': 'QAFM measurement', 'axis name for coord0': 'X', 'axis name for coord1': 'Y', 'measurement plane': 'XY', 'coord0_start (m)': 5.465e-06, 'coord0_stop (m)': 9.465e-06, 'coord0_num (#)': 100, 'coord1_start (m)': 6.398e-06, 'coord1_stop (m)': 1.0398e-05, 'coord1_num (#)': 100, 'ESR Frequency start (Hz)': 2850000000.0, 'ESR Frequency stop (Hz)': 2902000000.0, 'ESR Frequency points (#)': 27, 'ESR Count Frequency (Hz)': 100.0, 'ESR MW power (dBm)': -5.0, 'ESR Measurement runs (#)': 12, 'Expect one resonance dip': False, 'Optimize Period (s)': None, 'AFM integration time per pixel (s)': 0.004, 'AFM scan speed (s)': 1e-07, 'Measurement parameter list': \"['counts', 'b_field', 'Height(Dac)']\", 'Measurement start': '2023-03-24T14:36:13.861887', 'Measurement stop': '2023-03-25T02:50:12.547771', 'Total measurement time (s)': 44038.685884}"
      ]
     },
     "execution_count": 169,
     "metadata": {},
     "output_type": "execute_result"
    }
   ],
   "source": [
    "afm_scanner_logic._qafm_scan_array['counts_fw']['params']"
   ]
  },
  {
   "cell_type": "code",
   "execution_count": 170,
   "metadata": {},
   "outputs": [
    {
     "data": {
      "text/plain": [
       "False"
      ]
     },
     "execution_count": 170,
     "metadata": {},
     "output_type": "execute_result"
    }
   ],
   "source": []
  }
 ],
 "metadata": {
  "kernelspec": {
   "display_name": "Qudi",
   "language": "python",
   "name": "sj5-qudi"
  },
  "language_info": {
   "codemirror_mode": {
    "name": "ipython",
    "version": "3.6.5"
   },
   "file_extension": ".py",
   "mimetype": "text/x-python",
   "name": "python",
   "nbconvert_exporter": "python",
   "pygments_lexer": "ipython3",
   "version": "3.6.5"
  }
 },
 "nbformat": 4,
 "nbformat_minor": 2
}
