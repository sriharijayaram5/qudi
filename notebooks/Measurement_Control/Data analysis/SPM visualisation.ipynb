{
 "cells": [
  {
   "cell_type": "code",
   "execution_count": 1,
   "metadata": {},
   "outputs": [],
   "source": [
    "import numpy as np"
   ]
  },
  {
   "cell_type": "code",
   "execution_count": 2,
   "metadata": {},
   "outputs": [],
   "source": [
    "#measurement parameters\n",
    "pi_pulse = 84e-9\n",
    "\n",
    "#Driving information for the first LO (SMBV)\n",
    "target_freq_0 = 4.6641e9 #initial resonance frequency\n",
    "LO_freq_0 = target_freq_0 + 100e6\n",
    "power_0 = -1\n",
    "\n",
    "#Driving information for the second LO (SGS)\n",
    "target_freq_1 = 3e9\n",
    "LO_freq_1 = target_freq_1 + 100e6\n",
    "power_1 = -100#-20.7\n",
    "\n",
    "#Information for running tracking mode\n",
    "tracking_repetitions = 2\n",
    "delta_freq = 6e6\n",
    "#slope = 1.73e-9\n",
    "slope = 2 #afm_scanner_logic._podmr.vis_slope\n",
    "\n",
    "max_sweeps_tracking =150e3 #Number of sweeps for tracking pulsed measurements\n",
    "max_sweeps_T2 =400e3 #Number of sweeps for T2 related pulsed measurements\n",
    "\n",
    "#Information for running the fast Hahn Echo measurement\n",
    "tau_ref = 200e-9\n",
    "tau_max_T2 = 4.55e-6\n",
    "tau_max_ramsey = 1.1e-6\n",
    "\n",
    "#Scan area\n",
    "scan_start_x=14.6e-6\n",
    "scan_stop_x= 16.6e-6 \n",
    "scan_step_x=100\n",
    "\n",
    "scan_start_y=8e-6 \n",
    "scan_stop_y= 10e-6 \n",
    "scan_step_y=100\n",
    "\n",
    "#additional information for save tag\n",
    "tip_name = 'L-R-07-24'\n",
    "sample = 'NbSe2_S4'\n",
    "temperature = '2.0K'\n",
    "b_field = '70mT_Bnv_sFC'\n",
    "contact = 'IC'\n",
    "extra = 'Set_A'\n",
    "\n",
    "afm_scanner_logic.jupyter_meas_stop = False"
   ]
  },
  {
   "cell_type": "code",
   "execution_count": 69,
   "metadata": {},
   "outputs": [],
   "source": [
    "scan_array_x = np.linspace(scan_start_x, scan_stop_x, scan_step_x)\n",
    "scan_array_y = np.linspace(scan_start_y, scan_stop_y, scan_step_y)\n",
    "\n",
    "topography = np.random.rand(scan_step_y,scan_step_x)*2e-6 #np.zeros((scan_step_y,scan_step_x))\n",
    "counts = np.random.rand(scan_step_y,scan_step_x)*2e6\n",
    "res_freq = np.random.rand(scan_step_y,scan_step_x)\n",
    "T2_C0 = np.ones((scan_step_y,scan_step_x))\n",
    "T2_C0_S1 = np.random.rand(scan_step_y,scan_step_x)\n",
    "T2_C0_S2 = np.random.rand(scan_step_y,scan_step_x)\n",
    "T2_CS = np.random.rand(scan_step_y,scan_step_x)\n",
    "T2_CS_S1 = np.random.rand(scan_step_y,scan_step_x)\n",
    "T2_CS_S2 = np.random.rand(scan_step_y,scan_step_x)\n",
    "Ramsey_signal = np.random.rand(scan_step_y,scan_step_x)\n",
    "Ramsey_S1 = np.random.rand(scan_step_y,scan_step_x)\n",
    "Ramsey_S2 = np.random.rand(scan_step_y,scan_step_x)\n",
    "\n",
    "meas_dict = {}\n",
    "\n",
    "meas_dict = {'params': {'Parameters for': 'Resonance tracking and fast Hahn Echo scan'}}\n",
    "meas_dict['params']['axis name for coord0'] = 'X'\n",
    "meas_dict['params']['axis name for coord1'] = 'Y'\n",
    "meas_dict['params']['coord0_start (m)'] = scan_start_x\n",
    "meas_dict['params']['coord0_stop (m)'] = scan_stop_x\n",
    "meas_dict['params']['coord0_num (#)'] = scan_step_x\n",
    "meas_dict['params']['coord1_start (m)'] = scan_start_y\n",
    "meas_dict['params']['coord1_stop (m)'] = scan_stop_y\n",
    "meas_dict['params']['coord1_num (#)'] = scan_step_y\n",
    "\n",
    "meas_dict['params']['MW power (dBm)'] = power_0\n",
    "meas_dict['params']['Pi pulse Duration (s)'] = pi_pulse\n",
    "meas_dict['params']['Initial resonance frequency (Hz)'] = target_freq_0\n",
    "meas_dict['params']['Delta_0 (Hz)'] = delta_freq\n",
    "meas_dict['params']['Slope (a.u.)'] = slope\n",
    "meas_dict['params']['Tracking repetitions (#)'] = tracking_repetitions\n",
    "meas_dict['params']['Ramsey waiting time (s)'] = tau_max_ramsey\n",
    "meas_dict['params']['Hahn Echo waiting time (s)'] = tau_max_T2\n",
    "meas_dict['params']['Measurement runs tracking (#)'] = max_sweeps_tracking\n",
    "meas_dict['params']['Measurement runs T2/Ramsey (#)'] = max_sweeps_T2\n",
    "\n",
    "meas_dict.update({'Height(Dac)_fw': {'data': topography}})\n",
    "meas_dict['Height(Dac)_fw']['coord0_arr'] = scan_array_x\n",
    "meas_dict['Height(Dac)_fw']['coord1_arr'] = scan_array_y\n",
    "meas_dict['Height(Dac)_fw']['params'] = {'coord0_start': scan_start_x,'coord0_stop': scan_stop_x,'coord1_start': scan_start_y,'coord1_stop': scan_stop_y}\n",
    "meas_dict['Height(Dac)_fw']['xy_units'] = 'm'\n",
    "meas_dict['Height(Dac)_fw']['si_units'] = 'm'\n",
    "meas_dict['Height(Dac)_fw']['nice_name'] = 'Topography'\n",
    "meas_dict['Height(Dac)_fw']['scale_fac'] = 1e-6\n",
    "meas_dict['Height(Dac)_fw']['measured_units'] = 'µm'\n",
    "meas_dict['Height(Dac)_fw']['display_range'] = None\n",
    "meas_dict['Height(Dac)_fw']['corr_plane_coeff'] = [0.0, 0.0, 0.0] \n",
    "meas_dict['Height(Dac)_fw']['image_correction'] = False\n",
    "\n",
    "meas_dict.update({'counts_fw': {'data': counts}})\n",
    "meas_dict['counts_fw']['coord0_arr'] = scan_array_x\n",
    "meas_dict['counts_fw']['coord1_arr'] = scan_array_y\n",
    "meas_dict['counts_fw']['params'] = {'coord0_start': scan_start_x,'coord0_stop': scan_stop_x,'coord1_start': scan_start_y,'coord1_stop': scan_stop_y}\n",
    "meas_dict['counts_fw']['xy_units'] = 'm'\n",
    "meas_dict['counts_fw']['si_units'] = 'c/s'\n",
    "meas_dict['counts_fw']['nice_name'] = 'Flourescence'\n",
    "meas_dict['counts_fw']['scale_fac'] = 1\n",
    "meas_dict['counts_fw']['measured_units'] = 'c/s'\n",
    "meas_dict['counts_fw']['display_range'] = None\n",
    "meas_dict['counts_fw']['corr_plane_coeff'] = [0.0, 0.0, 0.0] \n",
    "meas_dict['counts_fw']['image_correction'] = False\n",
    "\n",
    "meas_dict.update({'b_field_fw': {'data': T2_CS/T2_C0}})\n",
    "meas_dict['b_field_fw']['coord0_arr'] = scan_array_x\n",
    "meas_dict['b_field_fw']['coord1_arr'] = scan_array_y\n",
    "meas_dict['b_field_fw']['params'] = {'coord0_start': scan_start_x,'coord0_stop': scan_stop_x,'coord1_start': scan_start_y,'coord1_stop': scan_stop_y}\n",
    "meas_dict['b_field_fw']['xy_units'] = 'm'\n",
    "meas_dict['b_field_fw']['si_units'] = 'a.u.'\n",
    "meas_dict['b_field_fw']['nice_name'] = 'Corrected T2 signal'\n",
    "meas_dict['b_field_fw']['scale_fac'] = 1\n",
    "meas_dict['b_field_fw']['measured_units'] = 'a.u.'\n",
    "meas_dict['b_field_fw']['display_range'] = None\n",
    "meas_dict['b_field_fw']['corr_plane_coeff'] = [0.0, 0.0, 0.0] \n",
    "meas_dict['b_field_fw']['image_correction'] = False"
   ]
  },
  {
   "cell_type": "code",
   "execution_count": 70,
   "metadata": {},
   "outputs": [],
   "source": [
    "afm_scanner_logic._qafm_scan_array = meas_dict"
   ]
  },
  {
   "cell_type": "code",
   "execution_count": 71,
   "metadata": {},
   "outputs": [],
   "source": [
    "qafm_gui._update_qafm_data()"
   ]
  },
  {
   "cell_type": "code",
   "execution_count": 14,
   "metadata": {},
   "outputs": [],
   "source": [
    "afm_scanner_logic.sigQAFMLineScanFinished.emit()"
   ]
  },
  {
   "cell_type": "code",
   "execution_count": 15,
   "metadata": {},
   "outputs": [],
   "source": [
    "qafm_gui.adjust_qafm_image()"
   ]
  }
 ],
 "metadata": {
  "kernelspec": {
   "display_name": "Qudi",
   "language": "python",
   "name": "sj5-qudi"
  },
  "language_info": {
   "codemirror_mode": {
    "name": "ipython",
    "version": "3.6.5"
   },
   "file_extension": ".py",
   "mimetype": "text/x-python",
   "name": "python",
   "nbconvert_exporter": "python",
   "pygments_lexer": "ipython3",
   "version": "3.6.5"
  }
 },
 "nbformat": 4,
 "nbformat_minor": 2
}
