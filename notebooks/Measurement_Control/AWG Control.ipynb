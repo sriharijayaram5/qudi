{
 "cells": [
  {
   "cell_type": "code",
   "execution_count": 47,
   "metadata": {},
   "outputs": [],
   "source": [
    "self = awg_spectrum"
   ]
  },
  {
   "cell_type": "code",
   "execution_count": 1,
   "metadata": {},
   "outputs": [],
   "source": [
    "import pickle\n",
    "from collections import OrderedDict\n",
    "\n",
    "import numpy as np\n",
    "import scipy.signal as sp\n",
    "\n",
    "from core.configoption import ConfigOption\n",
    "from core.module import Base\n",
    "from core.util.modules import get_home_dir\n",
    "from hardware.awg import SpectrumAWG35\n",
    "from interface.microwave_interface import AWGLimits\n",
    "from interface.pulser_interface import PulserInterface, PulserConstraints\n",
    "from hardware.thirdparty.spectrum.pyspcm import *"
   ]
  },
  {
   "cell_type": "markdown",
   "metadata": {},
   "source": [
    "### Function to load ensembles from memory for multi replay triggered mode"
   ]
  },
  {
   "cell_type": "markdown",
   "metadata": {},
   "source": [
    "Can also just use the function in the qudi hardware file"
   ]
  },
  {
   "cell_type": "code",
   "execution_count": 49,
   "metadata": {},
   "outputs": [],
   "source": [
    "def run_triggered_multi_from_list(seqs, memsize_seq=None):\n",
    "        \"\"\"\n",
    "        seqs should have the 'waveform_ch1.pkl' form, i.e a list of waveform name saved on memory\n",
    "        They should all be of equal length as far as I can understand. If not atleast the last should be the longest\n",
    "        Single segment memory size determines how much is played after a trigger\n",
    "        Eg: \n",
    "        ([\n",
    "        ['sinA_a_ch0.pkl', 'sinA_a_ch1.pkl', 'sinA_d_ch1.pkl', 'sinA_d_ch1.pkl']\n",
    "        ,['sinB_a_ch0.pkl', 'sinB_a_ch1.pkl', 'sinB_d_ch1.pkl', 'sinB_d_ch1.pkl']\n",
    "        ],  'sinA_d_ch0.pkl')\n",
    "        \n",
    "        OR \n",
    "        \n",
    "        ['sinA', 'sinB']\n",
    "        \"\"\"\n",
    "        self.instance.set_mode('multi')       \n",
    "        sample_rate = self.get_sample_rate()\n",
    "        self.set_reps(0)\n",
    "        path = self.waveform_folder\n",
    "        wave_form_list = self.get_waveform_names()\n",
    "        \n",
    "        # these are .pkl file names from saved_pulsed_asseets which simply have everything that happens in a channel during the\n",
    "        # entire ensmeble. Multiple ensembles can be sequenced into memory to play one after the other on receiving the trigger.\n",
    "        def wfm_l_maker(ensemble_names=[]):\n",
    "            wfm_l = []\n",
    "            for iens, ens in enumerate(ensemble_names):\n",
    "                l = [f'{ens}_a_ch{i}.pkl' for i in range(5)]\n",
    "                wfm_l.append(l)\n",
    "                l = [f'{ens}_d_ch{i}.pkl' for i in range(6)]\n",
    "                wfm_l[iens].extend(l)\n",
    "            return wfm_l\n",
    "        \n",
    "        if isinstance(seqs[0], str):\n",
    "            seqs = wfm_l_maker(seqs)            \n",
    "            \n",
    "        # load ensemble to determine the sequence size. This will determine how much is played after one external\n",
    "        # trigger. It is assumed that all the ensembles are of equal length.\n",
    "        waveform = seqs[-1][-1] if memsize_seq is None else memsize_seq\n",
    "        load_dict = dict()\n",
    "        wave_name = waveform.rsplit('.pkl')[0]\n",
    "        channel_num = int(wave_name.rsplit('_ch', 1)[1])\n",
    "        # Map channel numbers to HW channel numbers\n",
    "        if '_a_ch' not in waveform:\n",
    "            channel = channel_num + 4\n",
    "        else:\n",
    "            channel = channel_num\n",
    "        load_dict[channel] = wave_name\n",
    "\n",
    "        if not load_dict:\n",
    "            self.log.error('No data to send to AWG')\n",
    "            return -1\n",
    "\n",
    "        for ch, value in load_dict.items():\n",
    "            if value in wave_form_list:\n",
    "                wavefile = '{0}.pkl'.format(value)\n",
    "                filepath = os.path.join(path, wavefile)\n",
    "                data = self.my_load_dict(filepath)\n",
    "            else:\n",
    "                self.log.error('Cannot find waveform to send to AWG')\n",
    "                return -1\n",
    "        \n",
    "        max_seq = data\n",
    "        segment_size = int(len(max_seq))       \n",
    "        while not segment_size % 32 == 0:\n",
    "            segment_size += 1\n",
    "\n",
    "        self.instance.set_segment_size(segment_size)\n",
    "        self.instance.set_memory_size(segment_size * len(seqs))\n",
    "        self.instance.init_ext_trigger()\n",
    "        \n",
    "        # setting of seqment size,i.e, replay length, and init of trigger done.\n",
    "        \n",
    "        # loading of the ensemble data, separating into channel .pkl files and then writing into data list done here\n",
    "        # after data_list for entire ensemble is compiled, upload is done into AWG specifying the segment size\n",
    "        # and also the index this particular segment occupies in memory.\n",
    "        for iseq, seq in enumerate(seqs):\n",
    "            data_list = list()\n",
    "            for i in range(4):\n",
    "                data_list.append(np.zeros(int(segment_size), np.int16))\n",
    "            for i in range(6):\n",
    "                data_list.append(np.zeros(int(segment_size), np.bool))\n",
    "                \n",
    "            load_dict = seq\n",
    "            new_dict = dict()\n",
    "            for waveform in load_dict:\n",
    "                wave_name = waveform.rsplit('.pkl')[0]\n",
    "                channel_num = int(wave_name.rsplit('_ch', 1)[1])\n",
    "                if '_a_ch' not in waveform:\n",
    "                    channel = channel_num + 4\n",
    "                else:\n",
    "                    channel = channel_num\n",
    "                new_dict[channel] = wave_name\n",
    "            load_dict = new_dict\n",
    "\n",
    "            if not load_dict:\n",
    "                self.log.error('No data to send to AWG')\n",
    "                return -1\n",
    "\n",
    "            for ch, value in load_dict.items():\n",
    "                if value in wave_form_list:\n",
    "                    wavefile = '{0}.pkl'.format(value)\n",
    "                    filepath = os.path.join(path, wavefile)\n",
    "                    data = self.my_load_dict(filepath)\n",
    "                    data_list[ch] = data\n",
    "                    data_size = len(data)\n",
    "\n",
    "                    if '_a_ch' in value:\n",
    "                        chan_name = 'a_ch{0}'.format(value.rsplit('a_ch')[1])\n",
    "                        self.loaded_assets[chan_name] = value[:-6]\n",
    "                    else:\n",
    "                        chan_name = 'd_ch{0}'.format(value.rsplit('d_ch')[1])\n",
    "                        self.loaded_assets[chan_name] = value[:-6]\n",
    "                else:\n",
    "                    self.log.warn('Waveform {} not found in {}'.format(value, self.waveform_folder))\n",
    "                    data_size = 0\n",
    "\n",
    "            # See pg 130 in manual\n",
    "            count = 0\n",
    "            while not data_size % 32 == 0:\n",
    "                data_size += 1\n",
    "                count += 1\n",
    "            if not count == 1:\n",
    "                extra = np.zeros(count, np.int16)\n",
    "                new_list = list()\n",
    "                for row in data_list:\n",
    "                    new_row = np.concatenate((row, extra), axis=0)\n",
    "                    new_list.append(new_row)\n",
    "                data_list = new_list\n",
    "\n",
    "            self.log.info(f'Uploading waveform set {seq} to AWG...')\n",
    "            if not data_size == 0:\n",
    "                self.instance.upload(data_list, segment_size, segment_size * iseq)\n",
    "                self.typeloaded = 'waveform'\n",
    "        self.log.info('Upload to AWG complete')\n",
    "\n",
    "        del seqs"
   ]
  },
  {
   "cell_type": "markdown",
   "metadata": {},
   "source": [
    "## Functions to load DC and Sine test signals"
   ]
  },
  {
   "cell_type": "code",
   "execution_count": 2,
   "metadata": {},
   "outputs": [],
   "source": [
    "from logic.pulsed.sampling_functions import SamplingFunctions as SF\n",
    "import logic.pulsed.pulse_objects as po"
   ]
  },
  {
   "cell_type": "code",
   "execution_count": 22,
   "metadata": {},
   "outputs": [],
   "source": [
    "def load_sine(channels = [{'name': 'a_ch0', 'amp': 1.00, 'freq': 1e6, 'phase': 0.00}], dur=1e-6, identifier=''):\n",
    "    \"\"\"\n",
    "    Load a sine waveform to be played simultaneously on the specified channels.\n",
    "    \"\"\"\n",
    "    ele = []\n",
    "    a_ch = {'a_ch0': SF.DC(0), 'a_ch1': SF.DC(0), 'a_ch2': SF.DC(0), 'a_ch3': SF.DC(0)}\n",
    "    d_ch = {'d_ch0': False, 'd_ch1': False, 'd_ch2': False, 'd_ch4': False, 'd_ch3': False, 'd_ch5': False}\n",
    "    for ch in channels:\n",
    "        a_ch[ch['name']] = SF.Sin(amplitude=ch['amp'], frequency=ch['freq'], phase=ch['phase'])\n",
    "        \n",
    "    ele.append(po.PulseBlockElement(init_length_s=dur,  pulse_function=a_ch, digital_high=d_ch))\n",
    "    pulse_block = po.PulseBlock(name=f'SinAuto', element_list=ele)\n",
    "    sequencegeneratorlogic_AWG.save_block(pulse_block)\n",
    "\n",
    "    block_list = []\n",
    "    block_list.append((pulse_block.name, 0))\n",
    "    auto_pulse_CW = po.PulseBlockEnsemble(f'SinAuto{identifier}', block_list)\n",
    "\n",
    "    ensemble = auto_pulse_CW\n",
    "    ensemblename = auto_pulse_CW.name\n",
    "    sequencegeneratorlogic_AWG.save_ensemble(ensemble)\n",
    "    sequencegeneratorlogic_AWG.sample_pulse_block_ensemble(ensemblename)\n",
    "    sequencegeneratorlogic_AWG.load_ensemble(ensemblename)"
   ]
  },
  {
   "cell_type": "code",
   "execution_count": 41,
   "metadata": {},
   "outputs": [],
   "source": [
    "def load_dc(channels = [{'name': 'a_ch0', 'amp': 1.00}], dur=1e-6, identifier=''):\n",
    "    \"\"\"\n",
    "    Load a sine waveform to be played simultaneously on the specified channels.\n",
    "    \"\"\"\n",
    "    ele = []\n",
    "    a_ch = {'a_ch0': SF.DC(0), 'a_ch1': SF.DC(0), 'a_ch2': SF.DC(0), 'a_ch3': SF.DC(0)}\n",
    "    d_ch = {'d_ch0': False, 'd_ch1': False, 'd_ch2': False, 'd_ch4': False, 'd_ch3': False, 'd_ch5': False}\n",
    "    for ch in channels:\n",
    "        a_ch[ch['name']] = SF.DC(ch['amp'])\n",
    "        \n",
    "    ele.append(po.PulseBlockElement(init_length_s=dur,  pulse_function=a_ch, digital_high=d_ch))\n",
    "    pulse_block = po.PulseBlock(name=f'DCAuto', element_list=ele)\n",
    "    sequencegeneratorlogic_AWG.save_block(pulse_block)\n",
    "\n",
    "    block_list = []\n",
    "    block_list.append((pulse_block.name, 0))\n",
    "    auto_pulse_CW = po.PulseBlockEnsemble(f'DCAuto{identifier}', block_list)\n",
    "\n",
    "    ensemble = auto_pulse_CW\n",
    "    ensemblename = auto_pulse_CW.name\n",
    "    sequencegeneratorlogic_AWG.save_ensemble(ensemble)\n",
    "    sequencegeneratorlogic_AWG.sample_pulse_block_ensemble(ensemblename)\n",
    "    sequencegeneratorlogic_AWG.load_ensemble(ensemblename)"
   ]
  },
  {
   "cell_type": "markdown",
   "metadata": {},
   "source": [
    "## Run triggered DC and Sine test signals"
   ]
  },
  {
   "cell_type": "code",
   "execution_count": 123,
   "metadata": {},
   "outputs": [],
   "source": [
    "awg_spectrum.pulser_off()\n",
    "a_amp = 1.00\n",
    "b_amp = a_amp * 0.99\n",
    "\n",
    "ch = [\n",
    "    {'name': 'a_ch0', 'amp': a_amp, 'freq': 100e6, 'phase': 0.00},\n",
    "    {'name': 'a_ch1', 'amp': b_amp, 'freq': 100e6, 'phase': 90.00}\n",
    "    ]\n",
    "load_sine(channels = ch, dur = 100e-6, identifier = 'A')\n",
    "\n",
    "ch = [\n",
    "    {'name': 'a_ch0', 'amp': a_amp, 'freq': 100e6, 'phase': 90.00},\n",
    "    {'name': 'a_ch1', 'amp': b_amp, 'freq': 100e6, 'phase': 0.00}\n",
    "    ]\n",
    "load_sine(channels = ch, dur = 100e-6, identifier = 'B')"
   ]
  },
  {
   "cell_type": "code",
   "execution_count": 188,
   "metadata": {},
   "outputs": [],
   "source": [
    "awg_spectrum.pulser_off()\n",
    "amp = 2\n",
    "ch = [\n",
    "    {'name': 'a_ch0', 'amp': amp},\n",
    "    {'name': 'a_ch1', 'amp': amp}\n",
    "    ]\n",
    "load_dc(channels = ch, dur = 100e-6, identifier = 'A')\n",
    "\n",
    "ch = [\n",
    "    {'name': 'a_ch0', 'amp': amp},\n",
    "    {'name': 'a_ch1', 'amp': amp}\n",
    "    ]\n",
    "load_dc(channels = ch, dur = 100e-6, identifier = 'B')"
   ]
  },
  {
   "cell_type": "code",
   "execution_count": 124,
   "metadata": {},
   "outputs": [
    {
     "data": {
      "text/plain": [
       "1"
      ]
     },
     "execution_count": 124,
     "metadata": {},
     "output_type": "execute_result"
    }
   ],
   "source": [
    "awg_spectrum.pulser_off()\n",
    "awg_spectrum.load_triggered_multi_replay(['SinAutoA', 'SinAutoB'])\n",
    "awg_spectrum.pulser_on()"
   ]
  },
  {
   "cell_type": "code",
   "execution_count": 189,
   "metadata": {},
   "outputs": [
    {
     "data": {
      "text/plain": [
       "1"
      ]
     },
     "execution_count": 189,
     "metadata": {},
     "output_type": "execute_result"
    }
   ],
   "source": [
    "awg_spectrum.pulser_off()\n",
    "awg_spectrum.load_triggered_multi_replay(['DCAutoA', 'DCAutoB'])\n",
    "awg_spectrum.pulser_on()"
   ]
  },
  {
   "cell_type": "code",
   "execution_count": 372,
   "metadata": {},
   "outputs": [
    {
     "data": {
      "text/plain": [
       "1"
      ]
     },
     "execution_count": 372,
     "metadata": {},
     "output_type": "execute_result"
    }
   ],
   "source": [
    "awg_spectrum.pulser_off()"
   ]
  },
  {
   "cell_type": "code",
   "execution_count": 376,
   "metadata": {},
   "outputs": [
    {
     "data": {
      "text/plain": [
       "<hardware.awg.spectrumAWG_6631.AWG663 object at 0x000001CB39BC0CA8>"
      ]
     },
     "execution_count": 376,
     "metadata": {},
     "output_type": "execute_result"
    }
   ],
   "source": [
    "pulsedmasterlogic_AWG.pulsedmeasurementlogic().pulsegenerator()"
   ]
  },
  {
   "cell_type": "markdown",
   "metadata": {},
   "source": [
    "# MW Source - LO - CW control"
   ]
  },
  {
   "cell_type": "code",
   "execution_count": 350,
   "metadata": {},
   "outputs": [
    {
     "data": {
      "text/plain": [
       "0"
      ]
     },
     "execution_count": 350,
     "metadata": {},
     "output_type": "execute_result"
    }
   ],
   "source": [
    "mw_source_smbv.set_cw(frequency=2e9, power=5)\n",
    "mw_source_smbv.cw_on()"
   ]
  },
  {
   "cell_type": "code",
   "execution_count": 373,
   "metadata": {},
   "outputs": [
    {
     "data": {
      "text/plain": [
       "0"
      ]
     },
     "execution_count": 373,
     "metadata": {},
     "output_type": "execute_result"
    }
   ],
   "source": [
    "mw_source_smbv.off()"
   ]
  },
  {
   "cell_type": "code",
   "execution_count": 257,
   "metadata": {
    "scrolled": true
   },
   "outputs": [
    {
     "data": {
      "text/plain": [
       "1"
      ]
     },
     "execution_count": 257,
     "metadata": {},
     "output_type": "execute_result"
    }
   ],
   "source": [
    "awg_spectrum.pulser_off()\n",
    "a_amp = 2\n",
    "b_amp = a_amp * 1\n",
    "\n",
    "a_phase = 90\n",
    "b_phase = 0\n",
    "\n",
    "ch = [\n",
    "    {'name': 'a_ch0', 'amp': a_amp, 'freq': 100e6, 'phase': a_phase},\n",
    "    {'name': 'a_ch1', 'amp': b_amp, 'freq': 100e6, 'phase': b_phase}\n",
    "    ]\n",
    "load_sine(channels = ch, dur = 100e-6, identifier = 'A')\n",
    "\n",
    "awg_spectrum.pulser_off()\n",
    "awg_spectrum.load_triggered_multi_replay(['SinAutoA'])\n",
    "awg_spectrum.pulser_on()"
   ]
  },
  {
   "cell_type": "markdown",
   "metadata": {},
   "source": [
    "# Regular pulsing - no triggering necessary"
   ]
  },
  {
   "cell_type": "code",
   "execution_count": 370,
   "metadata": {},
   "outputs": [
    {
     "data": {
      "text/plain": [
       "1"
      ]
     },
     "execution_count": 370,
     "metadata": {},
     "output_type": "execute_result"
    }
   ],
   "source": [
    "awg_spectrum.pulser_off()\n",
    "awg_spectrum.instance.init_all_channels()\n",
    "a_amp = 1\n",
    "b_amp = a_amp *1.2\n",
    "\n",
    "a_phase = 0\n",
    "b_phase = 100\n",
    "\n",
    "# a_phase = 100\n",
    "# b_phase = 0\n",
    "\n",
    "ch = [\n",
    "    {'name': 'a_ch0', 'amp': a_amp, 'freq': 20e6, 'phase': a_phase},\n",
    "    {'name': 'a_ch1', 'amp': b_amp, 'freq': 20e6, 'phase': b_phase}\n",
    "    ]\n",
    "load_sine(channels = ch, dur = 100e-6, identifier = 'A')\n",
    "\n",
    "awg_spectrum.pulser_on()"
   ]
  },
  {
   "cell_type": "code",
   "execution_count": 377,
   "metadata": {},
   "outputs": [
    {
     "data": {
      "text/plain": [
       "1"
      ]
     },
     "execution_count": 377,
     "metadata": {},
     "output_type": "execute_result"
    }
   ],
   "source": [
    "awg_spectrum.pulser_off()\n",
    "awg_spectrum.instance.init_all_channels()\n",
    "amp = 1\n",
    "ch = [\n",
    "    {'name': 'a_ch0', 'amp': amp},\n",
    "    {'name': 'a_ch1', 'amp': amp*1.2}\n",
    "    ]\n",
    "load_dc(channels = ch, dur = 100e-6, identifier = 'A')\n",
    "\n",
    "awg_spectrum.pulser_on()"
   ]
  }
 ],
 "metadata": {
  "kernelspec": {
   "display_name": "Qudi",
   "language": "python",
   "name": "sj5-qudi"
  },
  "language_info": {
   "codemirror_mode": {
    "name": "ipython",
    "version": "3.6.5"
   },
   "file_extension": ".py",
   "mimetype": "text/x-python",
   "name": "python",
   "nbconvert_exporter": "python",
   "pygments_lexer": "ipython3",
   "version": "3.6.5"
  }
 },
 "nbformat": 4,
 "nbformat_minor": 2
}
