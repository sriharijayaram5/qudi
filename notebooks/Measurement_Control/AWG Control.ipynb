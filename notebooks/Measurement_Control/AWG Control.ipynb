{
 "cells": [
  {
   "cell_type": "code",
   "execution_count": 1,
   "metadata": {},
   "outputs": [],
   "source": [
    "self = awg_spectrum"
   ]
  },
  {
   "cell_type": "code",
   "execution_count": 12,
   "metadata": {},
   "outputs": [],
   "source": [
    "import pickle\n",
    "from collections import OrderedDict\n",
    "\n",
    "import numpy as np\n",
    "import scipy.signal as sp\n",
    "\n",
    "from core.configoption import ConfigOption\n",
    "from core.module import Base\n",
    "from core.util.modules import get_home_dir\n",
    "from hardware.awg import SpectrumAWG35\n",
    "from interface.microwave_interface import AWGLimits\n",
    "from interface.pulser_interface import PulserInterface, PulserConstraints\n",
    "from hardware.thirdparty.spectrum.pyspcm import *"
   ]
  },
  {
   "cell_type": "code",
   "execution_count": 322,
   "metadata": {},
   "outputs": [],
   "source": [
    "def run_triggered_multi_from_list(seqs, memsize_seq=None):\n",
    "        \"\"\"\n",
    "        seqs should have the 'waveform_ch1.pkl' form, i.e a list of waveform name saved on memory\n",
    "        They should all be of equal length as far as I can understand. If not atleast the last should be the longest\n",
    "        Single segment memory size determines how much is played after a trigger\n",
    "        Eg: \n",
    "        ([\n",
    "        ['sinA_a_ch0.pkl', 'sinA_a_ch1.pkl', 'sinA_d_ch1.pkl', 'sinA_d_ch1.pkl']\n",
    "        ,['sinB_a_ch0.pkl', 'sinB_a_ch1.pkl', 'sinB_d_ch1.pkl', 'sinB_d_ch1.pkl']\n",
    "        ],  'sinA_d_ch0.pkl')\n",
    "        \n",
    "        OR \n",
    "        \n",
    "        ['sinA', 'sinB']\n",
    "        \"\"\"\n",
    "        self.instance.set_mode('multi')       \n",
    "        sample_rate = self.get_sample_rate()\n",
    "        self.set_reps(0)\n",
    "        path = self.waveform_folder\n",
    "        wave_form_list = self.get_waveform_names()\n",
    "        \n",
    "        # these are .pkl file names from saved_pulsed_asseets which simply have everything that happens in a channel during the\n",
    "        # entire ensmeble. Multiple ensembles can be sequenced into memory to play one after the other on receiving the trigger.\n",
    "        def wfm_l_maker(ensemble_names=[]):\n",
    "            wfm_l = []\n",
    "            for iens, ens in enumerate(ensemble_names):\n",
    "                l = [f'{ens}_a_ch{i}.pkl' for i in range(5)]\n",
    "                wfm_l.append(l)\n",
    "                l = [f'{ens}_d_ch{i}.pkl' for i in range(6)]\n",
    "                wfm_l[iens].extend(l)\n",
    "            return wfm_l\n",
    "        \n",
    "        if isinstance(seqs[0], str):\n",
    "            seqs = wfm_l_maker(seqs)            \n",
    "            \n",
    "        # load ensemble to determine the sequence size. This will determine how much is played after one external\n",
    "        # trigger. It is assumed that all the ensembles are of equal length.\n",
    "        waveform = seqs[-1][-1] if memsize_seq is None else memsize_seq\n",
    "        load_dict = dict()\n",
    "        wave_name = waveform.rsplit('.pkl')[0]\n",
    "        channel_num = int(wave_name.rsplit('_ch', 1)[1])\n",
    "        # Map channel numbers to HW channel numbers\n",
    "        if '_a_ch' not in waveform:\n",
    "            channel = channel_num + 4\n",
    "        else:\n",
    "            channel = channel_num\n",
    "        load_dict[channel] = wave_name\n",
    "\n",
    "        if not load_dict:\n",
    "            self.log.error('No data to send to AWG')\n",
    "            return -1\n",
    "\n",
    "        for ch, value in load_dict.items():\n",
    "            if value in wave_form_list:\n",
    "                wavefile = '{0}.pkl'.format(value)\n",
    "                filepath = os.path.join(path, wavefile)\n",
    "                data = self.my_load_dict(filepath)\n",
    "            else:\n",
    "                self.log.error('Cannot find waveform to send to AWG')\n",
    "                return -1\n",
    "        \n",
    "        max_seq = data\n",
    "        segment_size = int(len(max_seq))       \n",
    "        while not segment_size % 32 == 0:\n",
    "            segment_size += 1\n",
    "\n",
    "        self.instance.set_segment_size(segment_size)\n",
    "        self.instance.set_memory_size(segment_size * len(seqs))\n",
    "        self.instance.init_ext_trigger()\n",
    "        \n",
    "        # setting of seqment size,i.e, replay length, and init of trigger done.\n",
    "        \n",
    "        # loading of the ensemble data, separating into channel .pkl files and then writing into data list done here\n",
    "        # after data_list for entire ensemble is compiled, upload is done into AWG specifying the segment size\n",
    "        # and also the index this particular segment occupies in memory.\n",
    "        for iseq, seq in enumerate(seqs):\n",
    "            data_list = list()\n",
    "            for i in range(4):\n",
    "                data_list.append(np.zeros(int(segment_size), np.int16))\n",
    "            for i in range(6):\n",
    "                data_list.append(np.zeros(int(segment_size), np.bool))\n",
    "                \n",
    "            load_dict = seq\n",
    "            new_dict = dict()\n",
    "            for waveform in load_dict:\n",
    "                wave_name = waveform.rsplit('.pkl')[0]\n",
    "                channel_num = int(wave_name.rsplit('_ch', 1)[1])\n",
    "                if '_a_ch' not in waveform:\n",
    "                    channel = channel_num + 4\n",
    "                else:\n",
    "                    channel = channel_num\n",
    "                new_dict[channel] = wave_name\n",
    "            load_dict = new_dict\n",
    "\n",
    "            if not load_dict:\n",
    "                self.log.error('No data to send to AWG')\n",
    "                return -1\n",
    "\n",
    "            for ch, value in load_dict.items():\n",
    "                if value in wave_form_list:\n",
    "                    wavefile = '{0}.pkl'.format(value)\n",
    "                    filepath = os.path.join(path, wavefile)\n",
    "                    data = self.my_load_dict(filepath)\n",
    "                    data_list[ch] = data\n",
    "                    data_size = len(data)\n",
    "\n",
    "                    if '_a_ch' in value:\n",
    "                        chan_name = 'a_ch{0}'.format(value.rsplit('a_ch')[1])\n",
    "                        self.loaded_assets[chan_name] = value[:-6]\n",
    "                    else:\n",
    "                        chan_name = 'd_ch{0}'.format(value.rsplit('d_ch')[1])\n",
    "                        self.loaded_assets[chan_name] = value[:-6]\n",
    "                else:\n",
    "                    self.log.warn('Waveform {} not found in {}'.format(value, self.waveform_folder))\n",
    "                    data_size = 0\n",
    "\n",
    "            # See pg 130 in manual\n",
    "            count = 0\n",
    "            while not data_size % 32 == 0:\n",
    "                data_size += 1\n",
    "                count += 1\n",
    "            if not count == 1:\n",
    "                extra = np.zeros(count, np.int16)\n",
    "                new_list = list()\n",
    "                for row in data_list:\n",
    "                    new_row = np.concatenate((row, extra), axis=0)\n",
    "                    new_list.append(new_row)\n",
    "                data_list = new_list\n",
    "\n",
    "            self.log.info(f'Uploading waveform set {seq} to AWG...')\n",
    "            if not data_size == 0:\n",
    "                self.instance.upload(data_list, segment_size, segment_size * iseq)\n",
    "                self.typeloaded = 'waveform'\n",
    "        self.log.info('Upload to AWG complete')\n",
    "\n",
    "        del seqs"
   ]
  },
  {
   "cell_type": "code",
   "execution_count": 323,
   "metadata": {},
   "outputs": [
    {
     "name": "stdout",
     "output_type": "stream",
     "text": [
      "here\n",
      "[['sinA_a_ch0.pkl', 'sinA_a_ch1.pkl', 'sinA_a_ch2.pkl', 'sinA_a_ch3.pkl', 'sinA_a_ch4.pkl', 'sinA_d_ch0.pkl', 'sinA_d_ch1.pkl', 'sinA_d_ch2.pkl', 'sinA_d_ch3.pkl', 'sinA_d_ch4.pkl', 'sinA_d_ch5.pkl'], ['sinB_a_ch0.pkl', 'sinB_a_ch1.pkl', 'sinB_a_ch2.pkl', 'sinB_a_ch3.pkl', 'sinB_a_ch4.pkl', 'sinB_d_ch0.pkl', 'sinB_d_ch1.pkl', 'sinB_d_ch2.pkl', 'sinB_d_ch3.pkl', 'sinB_d_ch4.pkl', 'sinB_d_ch5.pkl']]\n"
     ]
    },
    {
     "data": {
      "text/plain": [
       "1"
      ]
     },
     "execution_count": 323,
     "metadata": {},
     "output_type": "execute_result"
    }
   ],
   "source": [
    "self.pulser_off()\n",
    "run_triggered_multi_from_list(['sinA', 'sinB'])\n",
    "self.pulser_on()"
   ]
  },
  {
   "cell_type": "code",
   "execution_count": 266,
   "metadata": {},
   "outputs": [
    {
     "data": {
      "text/plain": [
       "1"
      ]
     },
     "execution_count": 266,
     "metadata": {},
     "output_type": "execute_result"
    }
   ],
   "source": [
    "self.pulser_off()"
   ]
  },
  {
   "cell_type": "code",
   "execution_count": null,
   "metadata": {},
   "outputs": [],
   "source": [
    "# wfm_l = (['sinA_d_ch0.pkl', 'sinA_d_ch1.pkl',\n",
    "#          'sinB_d_ch0.pkl', 'sinB_d_ch1.pkl'],  'sinA_d_ch0.pkl')"
   ]
  }
 ],
 "metadata": {
  "kernelspec": {
   "display_name": "Qudi",
   "language": "python",
   "name": "sj5-qudi"
  },
  "language_info": {
   "codemirror_mode": {
    "name": "ipython",
    "version": "3.6.5"
   },
   "file_extension": ".py",
   "mimetype": "text/x-python",
   "name": "python",
   "nbconvert_exporter": "python",
   "pygments_lexer": "ipython3",
   "version": "3.6.5"
  }
 },
 "nbformat": 4,
 "nbformat_minor": 2
}
