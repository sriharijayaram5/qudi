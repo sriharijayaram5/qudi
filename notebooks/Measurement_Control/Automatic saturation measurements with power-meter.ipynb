{
 "cells": [
  {
   "cell_type": "code",
   "execution_count": 3,
   "metadata": {},
   "outputs": [],
   "source": [
    "import matplotlib.pyplot as plt\n",
    "import numpy as np\n",
    "import pulsestreamer as ps\n",
    "import time\n",
    "from scipy.optimize import curve_fit\n",
    "import visa\n",
    "from ThorlabsPM100 import ThorlabsPM100"
   ]
  },
  {
   "cell_type": "code",
   "execution_count": 7,
   "metadata": {},
   "outputs": [],
   "source": [
    "rm = visa.ResourceManager()\n",
    "inst = rm.open_resource('USB0::0x1313::0x8078::P0034869::INSTR', timeout=1)\n",
    "power_meter = ThorlabsPM100(inst=inst)"
   ]
  },
  {
   "cell_type": "code",
   "execution_count": 8,
   "metadata": {},
   "outputs": [
    {
     "name": "stdout",
     "output_type": "stream",
     "text": [
      "Measurement type : POW\n",
      "Current value    : 0.000936342811\n"
     ]
    }
   ],
   "source": [
    "power_meter.configure.scalar.power()\n",
    "print(\"Measurement type :\", power_meter.getconfigure)\n",
    "print(\"Current value    :\", power_meter.read)"
   ]
  },
  {
   "cell_type": "code",
   "execution_count": 9,
   "metadata": {},
   "outputs": [],
   "source": [
    "pulsestreamer.pulse_streamer.constant(ps.OutputState([0], 0.04, 0))"
   ]
  },
  {
   "cell_type": "markdown",
   "metadata": {},
   "source": [
    "Measurement loop for saturation"
   ]
  },
  {
   "cell_type": "code",
   "execution_count": 10,
   "metadata": {},
   "outputs": [],
   "source": [
    "vol_range = np.linspace(0.0, 0.1, 20)\n",
    "pow_range = np.zeros_like(vol_range)\n",
    "counts = np.zeros_like(vol_range)\n",
    "for i, vol in enumerate(vol_range):\n",
    "    pulsestreamer.pulse_streamer.constant(ps.OutputState([0], vol, 0))\n",
    "    time.sleep(6)\n",
    "    pow_range[i] = power_meter.read\n",
    "    counts[i] = np.mean(counterlogic.countdata)"
   ]
  },
  {
   "cell_type": "markdown",
   "metadata": {},
   "source": [
    "Plotting and fitting [Momenzadeh Thesis]"
   ]
  },
  {
   "cell_type": "code",
   "execution_count": 14,
   "metadata": {},
   "outputs": [
    {
     "data": {
      "image/png": "[encoded data removed]"
     },
     "metadata": {
      "image/png": {
       "height": 382,
       "width": 557
      }
     },
     "output_type": "display_data"
    },
    {
     "name": "stdout",
     "output_type": "stream",
     "text": [
      "Fs(MC/s) 11.717038655771745\n",
      "Ps(mW) 0.7509941214157613\n"
     ]
    }
   ],
   "source": [
    "def objective(P, Fs, Ps):\n",
    "    return Fs/(1+(Ps/P))\n",
    "\n",
    "ratio = 0.4\n",
    "\n",
    "popt,_ = curve_fit(objective, pow_range*ratio, counts, p0 = [400000, 30e-6])\n",
    "\n",
    "x_fit = np.linspace(pow_range.min()*ratio, pow_range.max()*ratio, 100)\n",
    "\n",
    "fig, ax = plt.subplots()\n",
    "ax.plot(x_fit*1e6, objective(x_fit, *popt), 'r-')\n",
    "ax.plot(pow_range*ratio*1e6, counts, 'b.')\n",
    "\n",
    "ax.ticklabel_format(axis='both', style='sci', scilimits=(0,0))\n",
    "ax.set_xlabel('Power (uW)')\n",
    "ax.set_ylabel('Counts/s')\n",
    "plt.show()\n",
    "Fs = popt[0]/1e6\n",
    "Ps = popt[1]*1e3\n",
    "print('Fs(MC/s)',Fs)\n",
    "print('Ps(mW)',Ps)"
   ]
  },
  {
   "cell_type": "markdown",
   "metadata": {},
   "source": [
    "Save routine"
   ]
  },
  {
   "cell_type": "code",
   "execution_count": 8,
   "metadata": {},
   "outputs": [],
   "source": [
    "filelabel = 'tip_R03C-F7-C9_LT'\n",
    "parameters = {'Fs':popt[0], 'Ps': popt[1]}\n",
    "data =  {'Pow (W), Counts (c/s)': np.array((pow_range*0.738, counts)).T}\n",
    "filepath = savelogic.get_path_for_module(module_name='Saturation')\n",
    "savelogic.save_data(data, parameters=parameters, filepath=filepath, filelabel=filelabel, plotfig=fig, delimiter='\\t')"
   ]
  }
 ],
 "metadata": {
  "kernelspec": {
   "display_name": "Qudi",
   "language": "python",
   "name": "sj5-qudi"
  },
  "language_info": {
   "codemirror_mode": {
    "name": "ipython",
    "version": "3.6.5"
   },
   "file_extension": ".py",
   "mimetype": "text/x-python",
   "name": "python",
   "nbconvert_exporter": "python",
   "pygments_lexer": "ipython3",
   "version": "3.6.5"
  }
 },
 "nbformat": 4,
 "nbformat_minor": 2
}
