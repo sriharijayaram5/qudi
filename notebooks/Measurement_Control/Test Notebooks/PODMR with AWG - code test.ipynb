{
 "cells": [
  {
   "cell_type": "code",
   "execution_count": 1,
   "metadata": {},
   "outputs": [],
   "source": [
    "import matplotlib.pyplot as plt\n",
    "import numpy as np\n",
    "import time\n",
    "self = afm_scanner_logic\n",
    "from hardware.timetagger_counter import HWRecorderMode"
   ]
  },
  {
   "cell_type": "code",
   "execution_count": 9,
   "metadata": {},
   "outputs": [
    {
     "data": {
      "image/png": "[encoded data removed]"
     },
     "metadata": {
      "image/png": {
       "height": 374,
       "width": 555
      }
     },
     "output_type": "display_data"
    }
   ],
   "source": [
    "freq_start = 2.85e9\n",
    "freq_stop = 2.87e9\n",
    "freq_points = 21\n",
    "num_runs = 60000\n",
    "mw_power = -3\n",
    "pi_half_duration = 250e-9\n",
    "\n",
    "var_start = freq_start\n",
    "var_stop = freq_stop\n",
    "var_incr = round((var_stop-var_start)/freq_points,0)\n",
    "self.mw_tracking_mode_runs = 1 #for PODMR mode, perform only one measurement per pixel\n",
    "mw_tracking_mode_runs = self.mw_tracking_mode_runs\n",
    "alternating = False\n",
    "laser_pulses = freq_points # is normally not used for mw_list_mode or mw_tracking_mode\n",
    "bin_width_s = self._podmr.bin_width_s\n",
    "record_length_s = self._podmr.record_length_s\n",
    "analysis_settings = self._podmr.pulsed_analysis_settings\n",
    "analysis_settings['method'] = 'mean_norm'\n",
    "\n",
    "var_list = np.arange(var_start, var_stop+var_incr, var_incr)\n",
    "\n",
    "sweep_return = self._podmr.set_AWG_sweep(var_start, var_stop, var_incr, mw_power, pi_half_duration)\n",
    "mw_start, mw_stop, mw_step, self.sweep_mw_power, mode, freq_points = sweep_return\n",
    "\n",
    "ret_val = self._counter.configure_recorder(mode= HWRecorderMode.GENERAL_PULSED,params={\n",
    "    'laser_pulses': freq_points,'bin_width_s': bin_width_s,'record_length_s': record_length_s,'max_counts': int(num_runs-1)} )\n",
    "\n",
    "self._pulser.load_swabian_sequence(self._make_pulse_sequence(mode = 'PODMR_AWG', pi_half_pulse = pi_half_duration))\n",
    "self._podmr_seq = self._pulser._seq\n",
    "self._pulser.load_swabian_sequence(self._make_pulse_sequence('NextTrigger'))\n",
    "self._next_trigger_seq = self._pulser._seq\n",
    "\n",
    "self._mw.cw_on_3()\n",
    "\n",
    "if self._counter.recorder.getHistogramIndex()==-1:\n",
    "    self._pulser._seq = self._next_trigger_seq\n",
    "    self._pulser.pulser_on(n=1)\n",
    "    while True:\n",
    "        if self._pulser.pulse_streamer.hasFinished():\n",
    "            break\n",
    "self._pulser._seq = self._podmr_seq\n",
    "self._counter.start_recorder(arm=True)\n",
    "\n",
    "self._podmr._pulsed_master_AWG.pulsedmeasurementlogic().pulsegenerator().pulser_on(trigger=True)\n",
    "\n",
    "self._pulser.pulser_on(trigger=False, n=int(num_runs*freq_points), final= None)\n",
    "\n",
    "pulsed_meas = self._counter.get_measurements()[0]\n",
    "\n",
    "pulsed_ret0, pulsed_ret1 = self.analyse_pulsed_meas(analysis_settings, pulsed_meas, alternating, mw_list_mode, mw_tracking_mode)\n",
    "\n",
    "self._mw.off()\n",
    "self._counter.stop_measurement()\n",
    "self._pulser.pulser_off()\n",
    "\n",
    "plt.plot(var_list,pulsed_ret0,'bo')\n",
    "plt.show()"
   ]
  },
  {
   "cell_type": "code",
   "execution_count": 5,
   "metadata": {},
   "outputs": [
    {
     "name": "stdout",
     "output_type": "stream",
     "text": [
      "2850000000.0 2881428571.0 1428571.0\n",
      "23 23\n"
     ]
    },
    {
     "data": {
      "text/plain": [
       "0"
      ]
     },
     "execution_count": 5,
     "metadata": {},
     "output_type": "execute_result"
    }
   ],
   "source": [
    "freq_start = 2.85e9\n",
    "freq_stop = 2.88e9\n",
    "freq_points = 21\n",
    "num_runs = 60000\n",
    "mw_power = -3\n",
    "pi_half_duration = 250e-9\n",
    "mw_list_mode = True\n",
    "mw_tracking_mode = False\n",
    "n = 1\n",
    "\n",
    "var_start = freq_start\n",
    "var_stop = freq_stop\n",
    "var_incr = round((var_stop-var_start)/freq_points,0)\n",
    "self.mw_tracking_mode_runs = 1 #for PODMR mode, perform only one measurement per pixel\n",
    "mw_tracking_mode_runs = self.mw_tracking_mode_runs\n",
    "alternating = False\n",
    "laser_pulses = freq_points # is normally not used for mw_list_mode or mw_tracking_mode\n",
    "bin_width_s = self._podmr.bin_width_s\n",
    "record_length_s = self._podmr.record_length_s\n",
    "analysis_settings = self._podmr.pulsed_analysis_settings\n",
    "analysis_settings['method'] = 'mean_norm'\n",
    "var_list = np.linspace(var_start, var_stop, freq_points, endpoint=True)\n",
    "\n",
    "# sweep_return = self._podmr.set_AWG_sweep(var_start, var_stop, var_incr, mw_power, pi_half_duration)\n",
    "\n",
    "\n",
    "\n",
    "mw_start = freq_start\n",
    "mw_stop = freq_stop\n",
    "mw_step = var_incr\n",
    "\n",
    "sweep_return = self._podmr.set_AWG_sweep(mw_start, mw_stop, mw_step, mw_power, pi_half_duration)\n",
    "mw_start, mw_stop, mw_step, sweep_mw_power, mode, freq_points = sweep_return\n",
    "\n",
    "final_freq_list = np.arange(mw_start, mw_stop + mw_step, mw_step)\n",
    "print(mw_start, mw_stop + mw_step, mw_step)\n",
    "print(len(final_freq_list), freq_points)\n",
    "laser_pulses = len(final_freq_list)\n",
    "err_code = self._podmr._mw_device.cw_on()\n",
    "\n",
    "mode, is_running = self._podmr._mw_device.get_status()\n",
    "\n",
    "\n",
    "ret_val = self._podmr._odmr_counter._sc_device.configure_recorder(\n",
    "                        mode=11, # pulsed mode\n",
    "                        params={'laser_pulses': laser_pulses,\n",
    "                                'bin_width_s': bin_width_s,\n",
    "                                'record_length_s': record_length_s,\n",
    "                                'max_counts': num_runs-1} )\n",
    "\n",
    "self._podmr._odmr_counter._sc_device.start_recorder(arm=True)\n",
    "\n",
    "self._podmr.set_up_next_trigger()\n",
    "\n",
    "self._podmr._odmr_counter._pulser.pulser_on(n=int(1))\n",
    "# return\n",
    "\n",
    "while True:\n",
    "    time.sleep(0.001)\n",
    "    if self._podmr._odmr_counter._pulser.pulse_streamer.hasFinished():\n",
    "        break\n",
    "\n",
    "self._podmr.set_up_odmr(pi_half_duration)\n",
    "\n",
    "self._podmr._pulsed_master_AWG.pulsedmeasurementlogic().pulsegenerator().pulser_on(trigger=True)\n",
    "self._podmr._odmr_counter._pulser.pulser_on(n = num_runs*laser_pulses)"
   ]
  },
  {
   "cell_type": "code",
   "execution_count": 6,
   "metadata": {},
   "outputs": [
    {
     "data": {
      "image/png": "[encoded data removed]"
     },
     "metadata": {
      "image/png": {
       "height": 361,
       "width": 549
      }
     },
     "output_type": "display_data"
    }
   ],
   "source": [
    "# pulsed_meas = self._counter.get_measurements()[0]\n",
    "\n",
    "# pulsed_ret0, pulsed_ret1 = self.analyse_pulsed_meas(analysis_settings, pulsed_meas, alternating, mw_list_mode, mw_tracking_mode)\n",
    "\n",
    "laser_data = self._podmr._odmr_counter._sc_device.get_measurements()[0]\n",
    "data, err = self._podmr.analyse_pulsed_meas(self._podmr.pulsed_analysis_settings, laser_data)\n",
    "\n",
    "plt.plot(data,'bo')\n",
    "plt.show()\n"
   ]
  },
  {
   "cell_type": "code",
   "execution_count": 91,
   "metadata": {},
   "outputs": [
    {
     "data": {
      "text/plain": [
       "0"
      ]
     },
     "execution_count": 91,
     "metadata": {},
     "output_type": "execute_result"
    }
   ],
   "source": [
    "self._podmr.mw_off()\n",
    "self._podmr._stop_odmr_counter()\n",
    "self._podmr._odmr_counter._pulser.pulser_off()\n",
    "# self._podmr._pulsed_master_AWG.toggle_pulse_generator(False)"
   ]
  }
 ],
 "metadata": {
  "kernelspec": {
   "display_name": "Qudi",
   "language": "python",
   "name": "sj5-qudi"
  },
  "language_info": {
   "codemirror_mode": {
    "name": "ipython",
    "version": "3.6.5"
   },
   "file_extension": ".py",
   "mimetype": "text/x-python",
   "name": "python",
   "nbconvert_exporter": "python",
   "pygments_lexer": "ipython3",
   "version": "3.6.5"
  }
 },
 "nbformat": 4,
 "nbformat_minor": 2
}
