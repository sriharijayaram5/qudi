{
 "cells": [
  {
   "cell_type": "code",
   "execution_count": 47,
   "metadata": {},
   "outputs": [],
   "source": [
    "self = awg_spectrum"
   ]
  },
  {
   "cell_type": "code",
   "execution_count": 2,
   "metadata": {},
   "outputs": [],
   "source": [
    "import pickle\n",
    "from collections import OrderedDict\n",
    "\n",
    "import numpy as np\n",
    "import scipy.signal as sp\n",
    "\n",
    "from core.configoption import ConfigOption\n",
    "from core.module import Base\n",
    "from core.util.modules import get_home_dir\n",
    "from hardware.awg import SpectrumAWG35\n",
    "from interface.microwave_interface import AWGLimits\n",
    "from interface.pulser_interface import PulserInterface, PulserConstraints\n",
    "from hardware.thirdparty.spectrum.pyspcm import *"
   ]
  },
  {
   "cell_type": "markdown",
   "metadata": {},
   "source": [
    "### Function to load ensembles from memory for multi replay triggered mode"
   ]
  },
  {
   "cell_type": "markdown",
   "metadata": {},
   "source": [
    "Can also just use the function in the qudi hardware file"
   ]
  },
  {
   "cell_type": "code",
   "execution_count": 49,
   "metadata": {},
   "outputs": [],
   "source": [
    "def run_triggered_multi_from_list(seqs, memsize_seq=None):\n",
    "        \"\"\"\n",
    "        seqs should have the 'waveform_ch1.pkl' form, i.e a list of waveform name saved on memory\n",
    "        They should all be of equal length as far as I can understand. If not atleast the last should be the longest\n",
    "        Single segment memory size determines how much is played after a trigger\n",
    "        Eg: \n",
    "        ([\n",
    "        ['sinA_a_ch0.pkl', 'sinA_a_ch1.pkl', 'sinA_d_ch1.pkl', 'sinA_d_ch1.pkl']\n",
    "        ,['sinB_a_ch0.pkl', 'sinB_a_ch1.pkl', 'sinB_d_ch1.pkl', 'sinB_d_ch1.pkl']\n",
    "        ],  'sinA_d_ch0.pkl')\n",
    "        \n",
    "        OR \n",
    "        \n",
    "        ['sinA', 'sinB']\n",
    "        \"\"\"\n",
    "        self.instance.set_mode('multi')       \n",
    "        sample_rate = self.get_sample_rate()\n",
    "        self.set_reps(0)\n",
    "        path = self.waveform_folder\n",
    "        wave_form_list = self.get_waveform_names()\n",
    "        \n",
    "        # these are .pkl file names from saved_pulsed_asseets which simply have everything that happens in a channel during the\n",
    "        # entire ensmeble. Multiple ensembles can be sequenced into memory to play one after the other on receiving the trigger.\n",
    "        def wfm_l_maker(ensemble_names=[]):\n",
    "            wfm_l = []\n",
    "            for iens, ens in enumerate(ensemble_names):\n",
    "                l = [f'{ens}_a_ch{i}.pkl' for i in range(5)]\n",
    "                wfm_l.append(l)\n",
    "                l = [f'{ens}_d_ch{i}.pkl' for i in range(6)]\n",
    "                wfm_l[iens].extend(l)\n",
    "            return wfm_l\n",
    "        \n",
    "        if isinstance(seqs[0], str):\n",
    "            seqs = wfm_l_maker(seqs)            \n",
    "            \n",
    "        # load ensemble to determine the sequence size. This will determine how much is played after one external\n",
    "        # trigger. It is assumed that all the ensembles are of equal length.\n",
    "        waveform = seqs[-1][-1] if memsize_seq is None else memsize_seq\n",
    "        load_dict = dict()\n",
    "        wave_name = waveform.rsplit('.pkl')[0]\n",
    "        channel_num = int(wave_name.rsplit('_ch', 1)[1])\n",
    "        # Map channel numbers to HW channel numbers\n",
    "        if '_a_ch' not in waveform:\n",
    "            channel = channel_num + 4\n",
    "        else:\n",
    "            channel = channel_num\n",
    "        load_dict[channel] = wave_name\n",
    "\n",
    "        if not load_dict:\n",
    "            self.log.error('No data to send to AWG')\n",
    "            return -1\n",
    "\n",
    "        for ch, value in load_dict.items():\n",
    "            if value in wave_form_list:\n",
    "                wavefile = '{0}.pkl'.format(value)\n",
    "                filepath = os.path.join(path, wavefile)\n",
    "                data = self.my_load_dict(filepath)\n",
    "            else:\n",
    "                self.log.error('Cannot find waveform to send to AWG')\n",
    "                return -1\n",
    "        \n",
    "        max_seq = data\n",
    "        segment_size = int(len(max_seq))       \n",
    "        while not segment_size % 32 == 0:\n",
    "            segment_size += 1\n",
    "\n",
    "        self.instance.set_segment_size(segment_size)\n",
    "        self.instance.set_memory_size(segment_size * len(seqs))\n",
    "        self.instance.init_ext_trigger()\n",
    "        \n",
    "        # setting of seqment size,i.e, replay length, and init of trigger done.\n",
    "        \n",
    "        # loading of the ensemble data, separating into channel .pkl files and then writing into data list done here\n",
    "        # after data_list for entire ensemble is compiled, upload is done into AWG specifying the segment size\n",
    "        # and also the index this particular segment occupies in memory.\n",
    "        for iseq, seq in enumerate(seqs):\n",
    "            data_list = list()\n",
    "            for i in range(4):\n",
    "                data_list.append(np.zeros(int(segment_size), np.int16))\n",
    "            for i in range(6):\n",
    "                data_list.append(np.zeros(int(segment_size), np.bool))\n",
    "                \n",
    "            load_dict = seq\n",
    "            new_dict = dict()\n",
    "            for waveform in load_dict:\n",
    "                wave_name = waveform.rsplit('.pkl')[0]\n",
    "                channel_num = int(wave_name.rsplit('_ch', 1)[1])\n",
    "                if '_a_ch' not in waveform:\n",
    "                    channel = channel_num + 4\n",
    "                else:\n",
    "                    channel = channel_num\n",
    "                new_dict[channel] = wave_name\n",
    "            load_dict = new_dict\n",
    "\n",
    "            if not load_dict:\n",
    "                self.log.error('No data to send to AWG')\n",
    "                return -1\n",
    "\n",
    "            for ch, value in load_dict.items():\n",
    "                if value in wave_form_list:\n",
    "                    wavefile = '{0}.pkl'.format(value)\n",
    "                    filepath = os.path.join(path, wavefile)\n",
    "                    data = self.my_load_dict(filepath)\n",
    "                    data_list[ch] = data\n",
    "                    data_size = len(data)\n",
    "\n",
    "                    if '_a_ch' in value:\n",
    "                        chan_name = 'a_ch{0}'.format(value.rsplit('a_ch')[1])\n",
    "                        self.loaded_assets[chan_name] = value[:-6]\n",
    "                    else:\n",
    "                        chan_name = 'd_ch{0}'.format(value.rsplit('d_ch')[1])\n",
    "                        self.loaded_assets[chan_name] = value[:-6]\n",
    "                else:\n",
    "                    self.log.warn('Waveform {} not found in {}'.format(value, self.waveform_folder))\n",
    "                    data_size = 0\n",
    "\n",
    "            # See pg 130 in manual\n",
    "            count = 0\n",
    "            while not data_size % 32 == 0:\n",
    "                data_size += 1\n",
    "                count += 1\n",
    "            if not count == 1:\n",
    "                extra = np.zeros(count, np.int16)\n",
    "                new_list = list()\n",
    "                for row in data_list:\n",
    "                    new_row = np.concatenate((row, extra), axis=0)\n",
    "                    new_list.append(new_row)\n",
    "                data_list = new_list\n",
    "\n",
    "            self.log.info(f'Uploading waveform set {seq} to AWG...')\n",
    "            if not data_size == 0:\n",
    "                self.instance.upload(data_list, segment_size, segment_size * iseq)\n",
    "                self.typeloaded = 'waveform'\n",
    "        self.log.info('Upload to AWG complete')\n",
    "\n",
    "        del seqs"
   ]
  },
  {
   "cell_type": "markdown",
   "metadata": {},
   "source": [
    "## Functions to load DC and Sine test signals"
   ]
  },
  {
   "cell_type": "code",
   "execution_count": 2,
   "metadata": {},
   "outputs": [],
   "source": [
    "from logic.pulsed.sampling_functions import SamplingFunctions as SF\n",
    "import logic.pulsed.pulse_objects as po"
   ]
  },
  {
   "cell_type": "code",
   "execution_count": 22,
   "metadata": {},
   "outputs": [],
   "source": [
    "def load_sine(channels = [{'name': 'a_ch0', 'amp': 1.00, 'freq': 1e6, 'phase': 0.00}], dur=1e-6, identifier=''):\n",
    "    \"\"\"\n",
    "    Load a sine waveform to be played simultaneously on the specified channels.\n",
    "    \"\"\"\n",
    "    ele = []\n",
    "    a_ch = {'a_ch0': SF.DC(0), 'a_ch1': SF.DC(0), 'a_ch2': SF.DC(0), 'a_ch3': SF.DC(0)}\n",
    "    d_ch = {'d_ch0': False, 'd_ch1': False, 'd_ch2': False, 'd_ch4': False, 'd_ch3': False, 'd_ch5': False}\n",
    "    for ch in channels:\n",
    "        a_ch[ch['name']] = SF.Sin(amplitude=ch['amp'], frequency=ch['freq'], phase=ch['phase'])\n",
    "        \n",
    "    ele.append(po.PulseBlockElement(init_length_s=dur,  pulse_function=a_ch, digital_high=d_ch))\n",
    "    pulse_block = po.PulseBlock(name=f'SinAuto', element_list=ele)\n",
    "    sequencegeneratorlogic_AWG.save_block(pulse_block)\n",
    "\n",
    "    block_list = []\n",
    "    block_list.append((pulse_block.name, 0))\n",
    "    auto_pulse_CW = po.PulseBlockEnsemble(f'SinAuto{identifier}', block_list)\n",
    "\n",
    "    ensemble = auto_pulse_CW\n",
    "    ensemblename = auto_pulse_CW.name\n",
    "    sequencegeneratorlogic_AWG.save_ensemble(ensemble)\n",
    "    sequencegeneratorlogic_AWG.sample_pulse_block_ensemble(ensemblename)\n",
    "    sequencegeneratorlogic_AWG.load_ensemble(ensemblename)"
   ]
  },
  {
   "cell_type": "code",
   "execution_count": 41,
   "metadata": {},
   "outputs": [],
   "source": [
    "def load_dc(channels = [{'name': 'a_ch0', 'amp': 1.00}], dur=1e-6, identifier=''):\n",
    "    \"\"\"\n",
    "    Load a sine waveform to be played simultaneously on the specified channels.\n",
    "    \"\"\"\n",
    "    ele = []\n",
    "    a_ch = {'a_ch0': SF.DC(0), 'a_ch1': SF.DC(0), 'a_ch2': SF.DC(0), 'a_ch3': SF.DC(0)}\n",
    "    d_ch = {'d_ch0': False, 'd_ch1': False, 'd_ch2': False, 'd_ch4': False, 'd_ch3': False, 'd_ch5': False}\n",
    "    for ch in channels:\n",
    "        a_ch[ch['name']] = SF.DC(ch['amp'])\n",
    "        \n",
    "    ele.append(po.PulseBlockElement(init_length_s=dur,  pulse_function=a_ch, digital_high=d_ch))\n",
    "    pulse_block = po.PulseBlock(name=f'DCAuto', element_list=ele)\n",
    "    sequencegeneratorlogic_AWG.save_block(pulse_block)\n",
    "\n",
    "    block_list = []\n",
    "    block_list.append((pulse_block.name, 0))\n",
    "    auto_pulse_CW = po.PulseBlockEnsemble(f'DCAuto{identifier}', block_list)\n",
    "\n",
    "    ensemble = auto_pulse_CW\n",
    "    ensemblename = auto_pulse_CW.name\n",
    "    sequencegeneratorlogic_AWG.save_ensemble(ensemble)\n",
    "    sequencegeneratorlogic_AWG.sample_pulse_block_ensemble(ensemblename)\n",
    "    sequencegeneratorlogic_AWG.load_ensemble(ensemblename)"
   ]
  },
  {
   "cell_type": "markdown",
   "metadata": {},
   "source": [
    "## Run triggered DC and Sine test signals"
   ]
  },
  {
   "cell_type": "code",
   "execution_count": 123,
   "metadata": {},
   "outputs": [],
   "source": [
    "awg_spectrum.pulser_off()\n",
    "a_amp = 1.00\n",
    "b_amp = a_amp * 0.99\n",
    "\n",
    "ch = [\n",
    "    {'name': 'a_ch0', 'amp': a_amp, 'freq': 100e6, 'phase': 0.00},\n",
    "    {'name': 'a_ch1', 'amp': b_amp, 'freq': 100e6, 'phase': 90.00}\n",
    "    ]\n",
    "load_sine(channels = ch, dur = 100e-6, identifier = 'A')\n",
    "\n",
    "ch = [\n",
    "    {'name': 'a_ch0', 'amp': a_amp, 'freq': 100e6, 'phase': 90.00},\n",
    "    {'name': 'a_ch1', 'amp': b_amp, 'freq': 100e6, 'phase': 0.00}\n",
    "    ]\n",
    "load_sine(channels = ch, dur = 100e-6, identifier = 'B')"
   ]
  },
  {
   "cell_type": "code",
   "execution_count": 188,
   "metadata": {},
   "outputs": [],
   "source": [
    "awg_spectrum.pulser_off()\n",
    "amp = 2\n",
    "ch = [\n",
    "    {'name': 'a_ch0', 'amp': amp},\n",
    "    {'name': 'a_ch1', 'amp': amp}\n",
    "    ]\n",
    "load_dc(channels = ch, dur = 100e-6, identifier = 'A')\n",
    "\n",
    "ch = [\n",
    "    {'name': 'a_ch0', 'amp': amp},\n",
    "    {'name': 'a_ch1', 'amp': amp}\n",
    "    ]\n",
    "load_dc(channels = ch, dur = 100e-6, identifier = 'B')"
   ]
  },
  {
   "cell_type": "code",
   "execution_count": 124,
   "metadata": {},
   "outputs": [
    {
     "data": {
      "text/plain": [
       "1"
      ]
     },
     "execution_count": 124,
     "metadata": {},
     "output_type": "execute_result"
    }
   ],
   "source": [
    "awg_spectrum.pulser_off()\n",
    "awg_spectrum.load_triggered_multi_replay(['SinAutoA', 'SinAutoB'])\n",
    "awg_spectrum.pulser_on()"
   ]
  },
  {
   "cell_type": "code",
   "execution_count": 189,
   "metadata": {},
   "outputs": [
    {
     "data": {
      "text/plain": [
       "1"
      ]
     },
     "execution_count": 189,
     "metadata": {},
     "output_type": "execute_result"
    }
   ],
   "source": [
    "awg_spectrum.pulser_off()\n",
    "awg_spectrum.load_triggered_multi_replay(['DCAutoA', 'DCAutoB'])\n",
    "awg_spectrum.pulser_on()"
   ]
  },
  {
   "cell_type": "code",
   "execution_count": 372,
   "metadata": {},
   "outputs": [
    {
     "data": {
      "text/plain": [
       "1"
      ]
     },
     "execution_count": 372,
     "metadata": {},
     "output_type": "execute_result"
    }
   ],
   "source": [
    "awg_spectrum.pulser_off()"
   ]
  },
  {
   "cell_type": "code",
   "execution_count": 376,
   "metadata": {},
   "outputs": [
    {
     "data": {
      "text/plain": [
       "<hardware.awg.spectrumAWG_6631.AWG663 object at 0x000001CB39BC0CA8>"
      ]
     },
     "execution_count": 376,
     "metadata": {},
     "output_type": "execute_result"
    }
   ],
   "source": [
    "pulsedmasterlogic_AWG.pulsedmeasurementlogic().pulsegenerator()"
   ]
  },
  {
   "cell_type": "markdown",
   "metadata": {},
   "source": [
    "# MW Source - LO - CW control"
   ]
  },
  {
   "cell_type": "code",
   "execution_count": 350,
   "metadata": {},
   "outputs": [
    {
     "data": {
      "text/plain": [
       "0"
      ]
     },
     "execution_count": 350,
     "metadata": {},
     "output_type": "execute_result"
    }
   ],
   "source": [
    "mw_source_smbv.set_cw(frequency=2e9, power=5)\n",
    "mw_source_smbv.cw_on()"
   ]
  },
  {
   "cell_type": "code",
   "execution_count": 373,
   "metadata": {},
   "outputs": [
    {
     "data": {
      "text/plain": [
       "0"
      ]
     },
     "execution_count": 373,
     "metadata": {},
     "output_type": "execute_result"
    }
   ],
   "source": [
    "mw_source_smbv.off()"
   ]
  },
  {
   "cell_type": "code",
   "execution_count": 257,
   "metadata": {
    "scrolled": true
   },
   "outputs": [
    {
     "data": {
      "text/plain": [
       "1"
      ]
     },
     "execution_count": 257,
     "metadata": {},
     "output_type": "execute_result"
    }
   ],
   "source": [
    "awg_spectrum.pulser_off()\n",
    "a_amp = 2\n",
    "b_amp = a_amp * 1\n",
    "\n",
    "a_phase = 90\n",
    "b_phase = 0\n",
    "\n",
    "ch = [\n",
    "    {'name': 'a_ch0', 'amp': a_amp, 'freq': 100e6, 'phase': a_phase},\n",
    "    {'name': 'a_ch1', 'amp': b_amp, 'freq': 100e6, 'phase': b_phase}\n",
    "    ]\n",
    "load_sine(channels = ch, dur = 100e-6, identifier = 'A')\n",
    "\n",
    "awg_spectrum.pulser_off()\n",
    "awg_spectrum.load_triggered_multi_replay(['SinAutoA'])\n",
    "awg_spectrum.pulser_on()"
   ]
  },
  {
   "cell_type": "markdown",
   "metadata": {},
   "source": [
    "# Regular pulsing - no triggering necessary"
   ]
  },
  {
   "cell_type": "code",
   "execution_count": 370,
   "metadata": {},
   "outputs": [
    {
     "data": {
      "text/plain": [
       "1"
      ]
     },
     "execution_count": 370,
     "metadata": {},
     "output_type": "execute_result"
    }
   ],
   "source": [
    "awg_spectrum.pulser_off()\n",
    "awg_spectrum.instance.init_all_channels()\n",
    "a_amp = 1\n",
    "b_amp = a_amp *1.2\n",
    "\n",
    "a_phase = 0\n",
    "b_phase = 100\n",
    "\n",
    "# a_phase = 100\n",
    "# b_phase = 0\n",
    "\n",
    "ch = [\n",
    "    {'name': 'a_ch0', 'amp': a_amp, 'freq': 20e6, 'phase': a_phase},\n",
    "    {'name': 'a_ch1', 'amp': b_amp, 'freq': 20e6, 'phase': b_phase}\n",
    "    ]\n",
    "load_sine(channels = ch, dur = 100e-6, identifier = 'A')\n",
    "\n",
    "awg_spectrum.pulser_on()"
   ]
  },
  {
   "cell_type": "code",
   "execution_count": 377,
   "metadata": {},
   "outputs": [
    {
     "data": {
      "text/plain": [
       "1"
      ]
     },
     "execution_count": 377,
     "metadata": {},
     "output_type": "execute_result"
    }
   ],
   "source": [
    "awg_spectrum.pulser_off()\n",
    "awg_spectrum.instance.init_all_channels()\n",
    "amp = 1\n",
    "ch = [\n",
    "    {'name': 'a_ch0', 'amp': amp},\n",
    "    {'name': 'a_ch1', 'amp': amp*1.2}\n",
    "    ]\n",
    "load_dc(channels = ch, dur = 100e-6, identifier = 'A')\n",
    "\n",
    "awg_spectrum.pulser_on()"
   ]
  },
  {
   "cell_type": "markdown",
   "metadata": {},
   "source": [
    "# AWG sequence mode tests"
   ]
  },
  {
   "cell_type": "code",
   "execution_count": null,
   "metadata": {},
   "outputs": [],
   "source": [
    "def load_sequence_segment(self, seqs, memsize_seq=None, segment_index=0):\n",
    "    \"\"\"\n",
    "    seqs should have the 'waveform_ch1.pkl' form, i.e a list of waveform name saved on memory\n",
    "    They should all be of equal length as far as I can understand. If not atleast the last should be the longest\n",
    "    Single segment memory size determines how much is played after a trigger\n",
    "    Eg: \n",
    "    ([\n",
    "    ['sinA_a_ch0.pkl', 'sinA_a_ch1.pkl', 'sinA_d_ch1.pkl', 'sinA_d_ch1.pkl']\n",
    "    ,['sinB_a_ch0.pkl', 'sinB_a_ch1.pkl', 'sinB_d_ch1.pkl', 'sinB_d_ch1.pkl']\n",
    "    ],  'sinA_d_ch0.pkl')\n",
    "\n",
    "    OR \n",
    "\n",
    "    ['sinA', 'sinB']\n",
    "    \"\"\"\n",
    "    \n",
    "    path = self.waveform_folder\n",
    "    wave_form_list = self.get_waveform_names()\n",
    "\n",
    "    # these are .pkl file names from saved_pulsed_assets which simply have everything that happens in a channel during the\n",
    "    # entire ensmeble. Multiple ensembles can be sequenced into memory to play one after the other on receiving the trigger.\n",
    "    def wfm_l_maker(ensemble_names=[]):\n",
    "        wfm_l = []\n",
    "        for iens, ens in enumerate(ensemble_names):\n",
    "            l = [f'{ens}_a_ch{i}.pkl' for i in range(5)]\n",
    "            wfm_l.append(l)\n",
    "            l = [f'{ens}_d_ch{i}.pkl' for i in range(6)]\n",
    "            wfm_l[iens].extend(l)\n",
    "        return wfm_l\n",
    "    if len(seqs)>1:\n",
    "        self.log.warning('Attempting to load multiple ensembles into one segement memory. Please load one ensemble into one segment!')\n",
    "        return -1\n",
    "    if isinstance(seqs[0], str):\n",
    "        seqs = wfm_l_maker(seqs)            \n",
    "\n",
    "    # load ensemble to determine the sequence size. This will determine how much is played after one external\n",
    "    # trigger. It is assumed that all the ensembles are of equal length.\n",
    "    waveform = seqs[-1][-1] if memsize_seq is None else memsize_seq\n",
    "    load_dict = dict()\n",
    "    wave_name = waveform.rsplit('.pkl')[0]\n",
    "    channel_num = int(wave_name.rsplit('_ch', 1)[1])\n",
    "    # Map channel numbers to HW channel numbers\n",
    "    if '_a_ch' not in waveform:\n",
    "        channel = channel_num + 4\n",
    "    else:\n",
    "        channel = channel_num\n",
    "    load_dict[channel] = wave_name\n",
    "\n",
    "    if not load_dict:\n",
    "        self.log.error('No data to send to AWG')\n",
    "        return -1\n",
    "\n",
    "    for ch, value in load_dict.items():\n",
    "        if value in wave_form_list:\n",
    "            wavefile = '{0}.pkl'.format(value)\n",
    "            filepath = os.path.join(path, wavefile)\n",
    "            data = self.my_load_dict(filepath)\n",
    "        else:\n",
    "            self.log.error('Cannot find waveform to send to AWG')\n",
    "            return -1\n",
    "\n",
    "    max_seq = data\n",
    "    segment_size = int(len(max_seq))       \n",
    "    while not segment_size % 32 == 0:\n",
    "        segment_size += 1\n",
    "\n",
    "    self.instance.set_current_segment(segment_index)\n",
    "    self.instance.set_memory_size(segment_size, True) #This will set the memory size of the single segment at segement_index\n",
    "    # setting of seqment size,i.e, replay length, and init of trigger done.\n",
    "\n",
    "    # loading of the ensemble data, separating into channel .pkl files and then writing into data list done here\n",
    "    # after data_list for entire ensemble is compiled, upload is done into AWG specifying the segment size\n",
    "    # and also the index this particular segment occupies in memory.\n",
    "    for iseq, seq in enumerate(seqs):\n",
    "        data_list = list()\n",
    "        for i in range(4):\n",
    "            data_list.append(np.zeros(int(segment_size), np.int16))\n",
    "        for i in range(6):\n",
    "            data_list.append(np.zeros(int(segment_size), np.bool))\n",
    "\n",
    "        load_dict = seq\n",
    "        new_dict = dict()\n",
    "        for waveform in load_dict:\n",
    "            wave_name = waveform.rsplit('.pkl')[0]\n",
    "            channel_num = int(wave_name.rsplit('_ch', 1)[1])\n",
    "            if '_a_ch' not in waveform:\n",
    "                channel = channel_num + 4\n",
    "            else:\n",
    "                channel = channel_num\n",
    "            new_dict[channel] = wave_name\n",
    "        load_dict = new_dict\n",
    "\n",
    "        if not load_dict:\n",
    "            self.log.error('No data to send to AWG')\n",
    "            return -1\n",
    "\n",
    "        for ch, value in load_dict.items():\n",
    "            if value in wave_form_list:\n",
    "                wavefile = '{0}.pkl'.format(value)\n",
    "                filepath = os.path.join(path, wavefile)\n",
    "                data = self.my_load_dict(filepath)\n",
    "                data_list[ch] = data\n",
    "                data_size = len(data)\n",
    "\n",
    "                if '_a_ch' in value:\n",
    "                    chan_name = 'a_ch{0}'.format(value.rsplit('a_ch')[1])\n",
    "                    self.loaded_assets[chan_name] = value[:-6]\n",
    "                else:\n",
    "                    chan_name = 'd_ch{0}'.format(value.rsplit('d_ch')[1])\n",
    "                    self.loaded_assets[chan_name] = value[:-6]\n",
    "            else:\n",
    "                self.log.warn('Waveform {} not found in {}'.format(value, self.waveform_folder))\n",
    "                data_size = 0\n",
    "\n",
    "        # See pg 130 in manual\n",
    "        count = 0\n",
    "        while not data_size % 32 == 0:\n",
    "            data_size += 1\n",
    "            count += 1\n",
    "        if count>0:\n",
    "            extra = np.zeros(count, np.int16)\n",
    "            new_list = list()\n",
    "            for row in data_list:\n",
    "                new_row = np.concatenate((row, extra), axis=0)\n",
    "                new_list.append(new_row)\n",
    "            data_list = new_list\n",
    "\n",
    "        # self.log.info(f'Uploading waveform set {seq} to AWG...')\n",
    "        if not data_size == 0:\n",
    "            self.instance.upload(data_list, segment_size, segment_size * iseq, True, True) #First flag is is_buffered, second is is_sequence_segment\n",
    "            self.typeloaded = 'waveform'\n",
    "    if self.print_log_info:\n",
    "        self.log.info('Upload to AWG complete')\n",
    "    del seqs\n",
    "    \n",
    "def load_ready_sequence_mode(self, sequence_step_list):\n",
    "    \"\"\"\n",
    "    This function will load and ready the card with a supplied sequence given a sequence step list of the \n",
    "    following format:\n",
    "    \n",
    "    sequence_step_list = [\n",
    "    {step_index = 0,\n",
    "    step_segment = 'name_of_ensemble',\n",
    "    step_loops = 10,\n",
    "    next_step_index = 1,\n",
    "    step_end_cond = 'always'\n",
    "    }, .....\n",
    "    \n",
    "    {step_index = 10,\n",
    "    step_segment = 'name_of_ensemble',\n",
    "    step_loops = 1,\n",
    "    next_step_index = 11,\n",
    "    step_end_cond = 'always'\n",
    "    }\n",
    "                        ]\n",
    "                        \n",
    "    step_end_cond can be 'always', 'on_trig', 'stop'\n",
    "    \"\"\"\n",
    "    def find_unique_segments(sequence_step_list):\n",
    "        \"\"\"Convenience function to find unique segments in sequence step\n",
    "        \"\"\"\n",
    "        segments = []\n",
    "        for step in sequence_step_list:\n",
    "            segments.append(step['step_segment'])\n",
    "        segments = list(set(segments)) # gives only the unique items\n",
    "        segment_and_index = {}\n",
    "        for index, seg in enumerate(segments):\n",
    "            segment_and_index[seg] = index\n",
    "        return segment_and_index, segments\n",
    "    \n",
    "    segment_and_index, segments = find_unique_segments(sequence_step_list)\n",
    "    self.instance.init_sequence_mode(len(segments))\n",
    "    \n",
    "    for iseg, seg in enumerate(segments):\n",
    "        self.load_sequence_segment(seqs=[seg], memsize_seq=None, segment_index=segment_and_index[seg])\n",
    "            \n",
    "    for istep, step in enumerate(sequence_step_list):\n",
    "        step_index = step['step_index']\n",
    "        mem_segment_index = segment_and_index[step['step_segment']]\n",
    "        loops = step['step_loops']\n",
    "        goto = step['next_step_index']\n",
    "        next_condition = step['step_end_cond']\n",
    "        self.instance.write_sequence_step(self, step_index, mem_segment_index, loops, goto, next_condition)\n",
    "        \n",
    "    "
   ]
  },
  {
   "cell_type": "markdown",
   "metadata": {},
   "source": [
    "## Code for sequence mode trigger tests"
   ]
  },
  {
   "cell_type": "code",
   "execution_count": 2,
   "metadata": {},
   "outputs": [
    {
     "data": {
      "text/plain": [
       "(['Jupyter-ensemble-trig', 'Jupyter-ensemble-meas'], [{'step_index': 0, 'step_segment': 'Jupyter-ensemble-trig', 'step_loops': 1, 'next_step_index': 0, 'step_end_cond': 'always'}, {'step_index': 1, 'step_segment': 'Jupyter-ensemble-meas', 'step_loops': 1, 'next_step_index': 1, 'step_end_cond': 'always'}])"
      ]
     },
     "execution_count": 2,
     "metadata": {},
     "output_type": "execute_result"
    }
   ],
   "source": [
    "#measurement parameters\n",
    "laser_power_volatge = 0.08\n",
    "pi_pulse = 69e-9 \n",
    "\n",
    "#Driving information for the first LO (SMBV)\n",
    "target_freq_0 = 200e6\n",
    "LO_freq_0 = target_freq_0 + 100e6\n",
    "power_0 = -20\n",
    "\n",
    "\n",
    "#Driving information for the second LO (SGS)\n",
    "target_freq_1 = 200e6\n",
    "LO_freq_1 = target_freq_1 + 100e6\n",
    "power_1 = -100#-20.7\n",
    "\n",
    "tau_start = 0\n",
    "tau_stop = 200e-9\n",
    "tau_num = 30\n",
    "\n",
    "self = pulsedjupyterlogic_AWG\n",
    "pjl = pulsedjupyterlogic_AWG\n",
    "\n",
    "pjl.initialize_ensemble(laser_power_volatge = laser_power_volatge, pi_pulse=pi_pulse, LO_freq_0=LO_freq_0, target_freq_0=target_freq_0, power_0=power_0, LO_freq_1=LO_freq_1, target_freq_1=target_freq_1, power_1=power_1)\n",
    "sample_load_ready_AWG_for_special(self, LO_freq_0, 1e6, 1, pi_pulse)\n"
   ]
  },
  {
   "cell_type": "code",
   "execution_count": 1,
   "metadata": {},
   "outputs": [],
   "source": [
    "def sample_load_ready_AWG_for_special(self, LO_freq, delta_freq, repetitions, pi_duration):\n",
    "    \"\"\"Function to loop through the PhaseDuration list defined with ElementPS/AWG for each measurement.\n",
    "        A list of all these small steps are made into an ensemble by load_large_sine_seq and is ready to be \n",
    "        played by trigger.\n",
    "        One big ensemble covering the entire tau sweep that is triggered once before every sweep. Not before every tau instance.\n",
    "    \"\"\"\n",
    "    def make_segment_block():\n",
    "        large_seq = []\n",
    "\n",
    "        for Element in self.BlockAWG:\n",
    "            phase_0, phase_1, duration, user_MW_0_true, user_MW_1_true, freq_0, freq_1, channels = Element\n",
    "            delta_0 = abs(self.LO_freq_0 - self.target_freq_0) if freq_0 is None else freq_0\n",
    "            delta_1 = abs(self.LO_freq_1 - self.target_freq_1) if freq_1 is None else freq_1\n",
    "\n",
    "            seq_part = {'channel_info' : [\n",
    "                {'name': 'a_ch0', 'amp': 0.5 if user_MW_0_true else 0.0, 'freq': delta_0, 'phase': 0+phase_0},\n",
    "                {'name': 'a_ch1', 'amp': 0.5 if user_MW_0_true else 0.0, 'freq': delta_0, 'phase': 100+phase_0},\n",
    "                {'name': 'a_ch2', 'amp': 0.5 if user_MW_1_true else 0.0, 'freq': delta_1, 'phase': 0+phase_1},\n",
    "                {'name': 'a_ch3', 'amp': 0.5 if user_MW_1_true else 0.0, 'freq': delta_1, 'phase': 100+phase_1}],\n",
    "                'duration' : duration}\n",
    "            for ch in channels:\n",
    "                seq_part['channel_info'].append({'name': self.channel_names_AWG[ch], 'high': channels[ch]})\n",
    "            large_seq.append(seq_part)\n",
    "        return large_seq\n",
    "\n",
    "    self.AWG_MW_reset()\n",
    "\n",
    "    #################################################################################\n",
    "    #Create large pulse block for the AWG\n",
    "    explicit_steps_list = []\n",
    "    ensemble_list_raw = []\n",
    "    names = [\"trig\", \"meas\"] #importan to define the names of sequence segments\n",
    "\n",
    "    #Create pulse sequence for the AWG - trigger in block\n",
    "    self.BlockAWG = []\n",
    "    #Trigger waiting block\n",
    "    self.ElementAWG(channels={'MW_0':True, 'MW_1':True}, length=1e-6, freq_0=1e6, freq_1=1e6)\n",
    "    ensemble_list_raw.append(make_segment_block())\n",
    "    explicit_steps_list.append({\"step_index\" : 0,\n",
    "                \"step_segment\" : \"Jupyter-ensemble-\"+names[0],\n",
    "                \"step_loops\" : 1,\n",
    "                \"next_step_index\" : 0,\n",
    "                \"step_end_cond\" : 'always'\n",
    "                })\n",
    "\n",
    "    #Create pulse sequence for the AWG - measurement block\n",
    "    self.BlockAWG = []\n",
    "\n",
    "    #Break after Initalisation/read out\n",
    "#     self.ElementAWG(channels={}, length=self.laser_waiting_time) \n",
    "    #Pi pulse - reference\n",
    "    self.ElementAWG(channels={'MW_0':True, 'MW_1':True}, length=1e-6, freq_0=10e6, freq_1=10e6)\n",
    "    ensemble_list_raw.append(make_segment_block())\n",
    "    explicit_steps_list.append({\"step_index\" : 1,\n",
    "                \"step_segment\" : \"Jupyter-ensemble-\"+names[1],\n",
    "                \"step_loops\" : repetitions,\n",
    "                \"next_step_index\" : 1,\n",
    "                \"step_end_cond\" : 'always'\n",
    "                })\n",
    "    #################################################################################\n",
    "\n",
    "    self.debug_ensemble_list_raw = ensemble_list_raw\n",
    "    ensemble_list = self.load_ensembles(large_seq=ensemble_list_raw, identifier=names)\n",
    "    self.debug_ensemble_list = ensemble_list\n",
    "    sequence_step_list = explicit_steps_list\n",
    "    self.debug_sequence_step_list = sequence_step_list\n",
    "    self.AWG.load_ready_sequence_mode(sequence_step_list)\n",
    "    return ensemble_list, sequence_step_list"
   ]
  },
  {
   "cell_type": "code",
   "execution_count": 38,
   "metadata": {},
   "outputs": [],
   "source": [
    "load = awg_spectrum.my_load_dict\n",
    "import matplotlib.pyplot as plt"
   ]
  },
  {
   "cell_type": "code",
   "execution_count": 43,
   "metadata": {},
   "outputs": [],
   "source": [
    "file = \"C:\\\\Users\\\\yy3\\\\saved_pulsed_assets\\\\waveform\\\\Jupyter-ensemble-meas_a_ch0.pkl\"\n",
    "data = load(file)"
   ]
  },
  {
   "cell_type": "code",
   "execution_count": 46,
   "metadata": {},
   "outputs": [
    {
     "data": {
      "text/plain": [
       "625"
      ]
     },
     "execution_count": 46,
     "metadata": {},
     "output_type": "execute_result"
    }
   ],
   "source": [
    "len(data)"
   ]
  },
  {
   "cell_type": "code",
   "execution_count": 50,
   "metadata": {},
   "outputs": [
    {
     "data": {
      "text/plain": [
       "2.48e-08"
      ]
     },
     "execution_count": 50,
     "metadata": {},
     "output_type": "execute_result"
    }
   ],
   "source": [
    "1/1.25e9 * 31"
   ]
  },
  {
   "cell_type": "code",
   "execution_count": 49,
   "metadata": {},
   "outputs": [
    {
     "data": {
      "image/png": "[encoded data removed]"
     },
     "metadata": {
      "image/png": {
       "height": 361,
       "width": 566
      }
     },
     "output_type": "display_data"
    }
   ],
   "source": [
    "plt.plot(data)\n",
    "plt.show()"
   ]
  }
 ],
 "metadata": {
  "kernelspec": {
   "display_name": "Qudi",
   "language": "python",
   "name": "sj5-qudi"
  },
  "language_info": {
   "codemirror_mode": {
    "name": "ipython",
    "version": "3.6.5"
   },
   "file_extension": ".py",
   "mimetype": "text/x-python",
   "name": "python",
   "nbconvert_exporter": "python",
   "pygments_lexer": "ipython3",
   "version": "3.6.5"
  }
 },
 "nbformat": 4,
 "nbformat_minor": 2
}
