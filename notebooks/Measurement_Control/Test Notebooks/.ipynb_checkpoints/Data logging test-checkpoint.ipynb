{
 "cells": [
  {
   "cell_type": "code",
   "execution_count": null,
   "metadata": {},
   "outputs": [],
   "source": [
    "from collections import OrderedDict\n",
    "import datetime\n",
    "import csv\n",
    "import time\n",
    "from decimal import Decimal"
   ]
  },
  {
   "cell_type": "code",
   "execution_count": 26,
   "metadata": {},
   "outputs": [],
   "source": [
    "timestamp = datetime.datetime.now()\n",
    "filepath = savelogic.get_path_for_module(module_name='TEST')\n",
    "filelabel = 'Test'\n",
    "filename = timestamp.strftime('%Y%m%d-%H%M-%S' + '_' + filelabel + '.dat')\n",
    "data = OrderedDict()\n",
    "data['time (s)'] = []\n",
    "data['Value 1 ()'] = []\n",
    "data['Value 2 ()'] = []\n",
    "\n",
    "savelogic.save_data(data,\n",
    "                   filepath=filepath,\n",
    "                   filename=filename,\n",
    "                   fmt='%.6e',\n",
    "                   delimiter='\\t')"
   ]
  },
  {
   "cell_type": "code",
   "execution_count": 22,
   "metadata": {},
   "outputs": [],
   "source": [
    "with open('G:\\\\Data\\\\Qudi_Data\\\\2024\\\\10\\\\20241002\\\\TEST\\\\20241002-1442-11_Test_log.dat', 'a') as file:\n",
    "    timestamp = 3\n",
    "    time = '%.6E' % Decimal(f'{timestamp}')\n",
    "    add_row = f'{time}' + '\\t' + '2' + '\\t' + '3' + '\\n'\n",
    "    file.write(add_row)"
   ]
  },
  {
   "cell_type": "code",
   "execution_count": 10,
   "metadata": {},
   "outputs": [
    {
     "data": {
      "text/plain": [
       "'time (s)'"
      ]
     },
     "execution_count": 10,
     "metadata": {},
     "output_type": "execute_result"
    }
   ],
   "source": [
    "list(data.keys())[0]"
   ]
  },
  {
   "cell_type": "code",
   "execution_count": 34,
   "metadata": {},
   "outputs": [
    {
     "name": "stdout",
     "output_type": "stream",
     "text": [
      "3.004678\n"
     ]
    }
   ],
   "source": [
    "time_1 = datetime.datetime.now()\n",
    "time.sleep(3)\n",
    "time_2 = datetime.datetime.now()\n",
    "time_delta = time_2 - time_1\n",
    "print(time_delta.total_seconds())"
   ]
  },
  {
   "cell_type": "code",
   "execution_count": null,
   "metadata": {},
   "outputs": [],
   "source": [
    "#Plotting logging data\n",
    "#Gathering data from dictonary\n",
    "directory = 'G:\\\\Data\\\\Qudi_Data\\\\2024\\\\10\\\\20241009\\\\tip_temperature_log\\\\'\n",
    "podrm_path = directory + '20241009-1644-22_tip_temperature_log'+'.dat'\n",
    "data_raw = np.loadtxt(podrm_path).T\n",
    "time,process_value,set_point,control_value = (data_raw[0],data_raw[1],data_raw[2],data_raw[3])\n"
   ]
  }
 ],
 "metadata": {
  "kernelspec": {
   "display_name": "Qudi",
   "language": "python",
   "name": "sj5-qudi"
  },
  "language_info": {
   "codemirror_mode": {
    "name": "ipython",
    "version": "3.6.5"
   },
   "file_extension": ".py",
   "mimetype": "text/x-python",
   "name": "python",
   "nbconvert_exporter": "python",
   "pygments_lexer": "ipython3",
   "version": "3.6.5"
  }
 },
 "nbformat": 4,
 "nbformat_minor": 2
}
