{
 "cells": [
  {
   "cell_type": "code",
   "execution_count": 3,
   "metadata": {},
   "outputs": [],
   "source": [
    "import numpy as np\n",
    "import math\n",
    "import matplotlib.pyplot as plt"
   ]
  },
  {
   "cell_type": "code",
   "execution_count": 16,
   "metadata": {},
   "outputs": [],
   "source": [
    "def rotate_around_point(xy, radians, origin=(0, 0)):\n",
    "    \"\"\"Rotate a point around a given point.\n",
    "    \"\"\"\n",
    "    x, y = xy\n",
    "    offset_x, offset_y = origin\n",
    "    adjusted_x = (x - offset_x)\n",
    "    adjusted_y = (y - offset_y)\n",
    "    cos_rad = math.cos(radians)\n",
    "    sin_rad = math.sin(radians)\n",
    "    qx = offset_x + cos_rad * adjusted_x + -sin_rad * adjusted_y\n",
    "    qy = offset_y + sin_rad * adjusted_x + cos_rad * adjusted_y\n",
    "\n",
    "    return qx, qy"
   ]
  },
  {
   "cell_type": "code",
   "execution_count": 24,
   "metadata": {},
   "outputs": [
    {
     "data": {
      "image/png": "[encoded data removed]"
     },
     "metadata": {
      "image/png": {
       "height": 357,
       "width": 536
      }
     },
     "output_type": "display_data"
    }
   ],
   "source": [
    "rotation = 45\n",
    "\n",
    "x_origin = 14\n",
    "x_range = 10\n",
    "x_num = 10\n",
    "\n",
    "y_origin = 18\n",
    "y_range = 10\n",
    "y_num = 10\n",
    "\n",
    "rotation_rad = math.radians(rotation)\n",
    "\n",
    "x_start = x_origin-x_range/2\n",
    "x_stop = x_origin+x_range/2\n",
    "x = np.linspace(x_start, x_stop, x_num)\n",
    "\n",
    "y_start = y_origin-y_range/2\n",
    "y_stop = y_origin+y_range/2\n",
    "y = np.linspace(y_start, y_stop, y_num)\n",
    "\n",
    "scan_arr = np.zeros((y_num, x_num, 2))\n",
    "\n",
    "for y_ind, y_val in enumerate(y):\n",
    "    for x_ind, x_val in enumerate(x):\n",
    "        plt.plot(x_val, y_val, 'bo')\n",
    "        \n",
    "        x_val_rot, y_val_rot = rotate_around_point_highperf((x_val, y_val), rotation_rad, origin=(x_origin, y_origin))\n",
    "        plt.plot(x_val_rot,y_val_rot,'ro')\n",
    "        scan_arr[y_ind, x_ind, 0] = x_val_rot\n",
    "        scan_arr[y_ind, x_ind, 1] = y_val_rot\n",
    "        \n",
    "plt.plot(x_origin, y_origin, 'xg')\n",
    "plt.show()\n",
    "        "
   ]
  },
  {
   "cell_type": "code",
   "execution_count": null,
   "metadata": {},
   "outputs": [],
   "source": []
  }
 ],
 "metadata": {
  "kernelspec": {
   "display_name": "Qudi",
   "language": "python",
   "name": "sj5-qudi"
  },
  "language_info": {
   "codemirror_mode": {
    "name": "ipython",
    "version": "3.6.5"
   },
   "file_extension": ".py",
   "mimetype": "text/x-python",
   "name": "python",
   "nbconvert_exporter": "python",
   "pygments_lexer": "ipython3",
   "version": "3.6.5"
  }
 },
 "nbformat": 4,
 "nbformat_minor": 2
}
