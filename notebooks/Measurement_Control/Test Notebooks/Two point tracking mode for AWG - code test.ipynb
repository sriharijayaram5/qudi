{
 "cells": [
  {
   "cell_type": "code",
   "execution_count": 4,
   "metadata": {},
   "outputs": [],
   "source": [
    "import matplotlib.pyplot as plt\n",
    "import numpy as np\n",
    "import time\n",
    "from hardware.timetagger_counter import HWRecorderMode"
   ]
  },
  {
   "cell_type": "code",
   "execution_count": 23,
   "metadata": {},
   "outputs": [
    {
     "name": "stdout",
     "output_type": "stream",
     "text": [
      "[2.85978e+09 2.86578e+09]\n"
     ]
    },
    {
     "data": {
      "image/png": "[encoded data removed]"
     },
     "metadata": {
      "image/png": {
       "height": 374,
       "width": 554
      }
     },
     "output_type": "display_data"
    }
   ],
   "source": [
    "self = afm_scanner_logic\n",
    "res_freq = 2.86278e9\n",
    "delta_0 = 3e6\n",
    "num_runs = 60000\n",
    "pi_half_duration = 250e-9\n",
    "mw_power = -3\n",
    "\n",
    "freq_points = 2\n",
    "var_start = round(res_freq - delta_0,0)\n",
    "var_stop = round(res_freq + delta_0,0)\n",
    "var_incr = round((var_stop-var_start)/freq_points,0)\n",
    "\n",
    "alternating = False\n",
    "laser_pulses = freq_points # is normally not used for mw_list_mode or mw_tracking_mode\n",
    "bin_width_s = self._podmr.bin_width_s\n",
    "record_length_s = self._podmr.record_length_s\n",
    "analysis_settings = self._podmr.pulsed_analysis_settings\n",
    "var_list = np.linspace(var_start, var_stop, freq_points, endpoint=True)\n",
    "print(var_list)\n",
    "    \n",
    "ret_val = self._counter.configure_recorder(\n",
    "                        mode=11,\n",
    "                        params={'laser_pulses': freq_points,\n",
    "                                'bin_width_s': bin_width_s,\n",
    "                                'record_length_s': record_length_s,\n",
    "                                'max_counts': int(num_runs-1)} )\n",
    "\n",
    "self._pulser.prepare_SPM_ensemble()\n",
    "# upload the IQ signal for + and - delta frequencies. Should be triggerable. Only the CW MW will change during scan\n",
    "self._pulsed_master_AWG.toggle_pulse_generator(False)\n",
    "# self._AWG.instance.init_all_channels()\n",
    "self.load_AWG_sine_for_IQ(delta_0, pi_half_duration)            \n",
    "self._AWG.load_triggered_multi_replay(['SinSPM0', 'SinSPM1']) # refer to load_AWG_sine_for_IQ for names\n",
    "\n",
    "self._pulsed_master_AWG.pulsedmeasurementlogic().pulsegenerator().pulser_on(trigger=True)\n",
    "\n",
    "#everything else can remain the same\n",
    "self._pulser.load_swabian_sequence(self._make_pulse_sequence(mode = 'PODMR_AWG', pi_half_pulse = pi_half_duration))\n",
    "self._podmr_seq = self._pulser._seq\n",
    "self._pulser.load_swabian_sequence(self._make_pulse_sequence('NextTrigger'))\n",
    "self._next_trigger_seq = self._pulser._seq\n",
    "\n",
    "self._mw.set_cw_2(res_freq, mw_power)\n",
    "\n",
    "num_runs *= freq_points # necessary for the two frequencies in mode to have enough reps\n",
    "\n",
    "for i in range(5):\n",
    "    \n",
    "    self._counter.start_recorder(arm=True)\n",
    "    # start actual scan\n",
    "    if self._counter.recorder.getHistogramIndex()==-1:\n",
    "        self._pulser._seq = self._next_trigger_seq\n",
    "        self._pulser.pulser_on(n=1)\n",
    "        while True:\n",
    "            if self._pulser.pulse_streamer.hasFinished():\n",
    "                break\n",
    "\n",
    "    self._pulser._seq = self._podmr_seq\n",
    "    self._mw.set_cw_3(res_freq, mw_power) # minimal cw set function _3 is used which does not repeat setting of power\n",
    "    self._mw.cw_on_3()\n",
    "\n",
    "    self._pulser.pulser_on(trigger=False, n=num_runs, final=None)\n",
    "\n",
    "    # obtain pulsed measurement\n",
    "    pulsed_meas = self._counter.get_measurements()[0]\n",
    "    pulsed_ret0, pulsed_ret1 = self.analyse_pulsed_meas(analysis_settings, pulsed_meas, alternating, False, True)\n",
    "    self._debug = pulsed_ret0\n",
    "\n",
    "    plt.plot(var_list,pulsed_ret0,'bo')\n",
    "plt.show()"
   ]
  },
  {
   "cell_type": "code",
   "execution_count": 14,
   "metadata": {},
   "outputs": [
    {
     "data": {
      "text/plain": [
       "0"
      ]
     },
     "execution_count": 14,
     "metadata": {},
     "output_type": "execute_result"
    },
    {
     "data": {
      "image/png": "[encoded data removed]"
     },
     "metadata": {
      "image/png": {
       "height": 374,
       "width": 549
      }
     },
     "output_type": "display_data"
    }
   ],
   "source": [
    "\n",
    "self._mw.off()\n",
    "self._counter.stop_measurement()\n",
    "self._pulser.pulser_off()"
   ]
  },
  {
   "cell_type": "code",
   "execution_count": 3,
   "metadata": {},
   "outputs": [],
   "source": [
    "import pickle"
   ]
  },
  {
   "cell_type": "code",
   "execution_count": 8,
   "metadata": {},
   "outputs": [],
   "source": [
    "f = \"G:\\\\Data\\\\Qudi_Data\\\\2024\\\\06\\\\20240621\\\\AttoDRY2200_Pi3_SPM\\\\\"\n",
    "filehandler = open(f+\"qafm_array\",\"wb\")\n",
    "pickle.dump(afm_scanner_logic._qafm_scan_array, filehandler)\n",
    "filehandler.close()"
   ]
  }
 ],
 "metadata": {
  "kernelspec": {
   "display_name": "Qudi",
   "language": "python",
   "name": "sj5-qudi"
  },
  "language_info": {
   "codemirror_mode": {
    "name": "ipython",
    "version": "3.6.5"
   },
   "file_extension": ".py",
   "mimetype": "text/x-python",
   "name": "python",
   "nbconvert_exporter": "python",
   "pygments_lexer": "ipython3",
   "version": "3.6.5"
  }
 },
 "nbformat": 4,
 "nbformat_minor": 2
}
