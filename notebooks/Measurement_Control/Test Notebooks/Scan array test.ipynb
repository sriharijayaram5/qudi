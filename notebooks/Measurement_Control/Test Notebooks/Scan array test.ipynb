{
 "cells": [
  {
   "cell_type": "code",
   "execution_count": 1,
   "metadata": {},
   "outputs": [],
   "source": [
    "import numpy as np\n",
    "import math\n",
    "import matplotlib.pyplot as plt\n",
    "import time"
   ]
  },
  {
   "cell_type": "code",
   "execution_count": 2,
   "metadata": {},
   "outputs": [],
   "source": [
    "def rotate_around_point(xy, radians, origin=(0, 0)):\n",
    "    \"\"\"Rotate a point around a given point.\n",
    "    \"\"\"\n",
    "    x, y = xy\n",
    "    offset_x, offset_y = origin\n",
    "    adjusted_x = (x - offset_x)\n",
    "    adjusted_y = (y - offset_y)\n",
    "    cos_rad = math.cos(radians)\n",
    "    sin_rad = math.sin(radians)\n",
    "    qx = offset_x + cos_rad * adjusted_x + -sin_rad * adjusted_y\n",
    "    qy = offset_y + sin_rad * adjusted_x + cos_rad * adjusted_y\n",
    "\n",
    "    return qx, qy"
   ]
  },
  {
   "cell_type": "code",
   "execution_count": 3,
   "metadata": {},
   "outputs": [
    {
     "data": {
      "image/png": "[encoded data removed]"
     },
     "metadata": {
      "image/png": {
       "height": 381,
       "width": 545
      }
     },
     "output_type": "display_data"
    }
   ],
   "source": [
    "rotation = 0\n",
    "\n",
    "x_origin = 4e-6\n",
    "x_range = 2e-6\n",
    "x_num = 10\n",
    "\n",
    "y_origin = 5e-6\n",
    "y_range = 2e-6\n",
    "y_num = 10\n",
    "\n",
    "rotation_rad = math.radians(rotation)\n",
    "\n",
    "x_start = x_origin-x_range/2\n",
    "x_stop = x_origin+x_range/2\n",
    "x = np.linspace(x_start, x_stop, x_num)\n",
    "\n",
    "y_start = y_origin-y_range/2\n",
    "y_stop = y_origin+y_range/2\n",
    "y = np.linspace(y_start, y_stop, y_num)\n",
    "\n",
    "scan_arr = np.zeros((y_num, x_num, 2))\n",
    "\n",
    "for y_ind, y_val in enumerate(y):\n",
    "    for x_ind, x_val in enumerate(x):\n",
    "        x_val_rot, y_val_rot = rotate_around_point((x_val, y_val), rotation_rad, origin=(x_origin, y_origin))\n",
    "        plt.plot(x_val_rot,y_val_rot,'ro')\n",
    "        scan_arr[y_ind, x_ind, 0] = x_val_rot\n",
    "        scan_arr[y_ind, x_ind, 1] = y_val_rot\n",
    "        \n",
    "plt.plot(x_origin, y_origin, 'xg')\n",
    "plt.show()\n",
    "        "
   ]
  },
  {
   "cell_type": "code",
   "execution_count": 5,
   "metadata": {},
   "outputs": [],
   "source": [
    "integration_time = 0\n",
    "move_speed = 500\n",
    "\n",
    "rotation = 0\n",
    "\n",
    "x_origin = 3e-6\n",
    "x_range = 2e-6\n",
    "x_num = 10\n",
    "\n",
    "y_origin = 3e-6\n",
    "y_range = 2e-6\n",
    "y_num = 10\n",
    "\n",
    "data_array = afm_scanner_logic.scan_area_qafm_fw_by_array(x_origin, x_range, x_num, y_origin, y_range, y_num, rotation, integration_time, move_speed)"
   ]
  },
  {
   "cell_type": "code",
   "execution_count": 3,
   "metadata": {},
   "outputs": [
    {
     "data": {
      "image/png": "[encoded data removed]"
     },
     "metadata": {
      "image/png": {
       "height": 381,
       "width": 545
      }
     },
     "output_type": "display_data"
    },
    {
     "name": "stdout",
     "output_type": "stream",
     "text": [
      "[[[1.99988e-06 1.99988e-06]\n",
      "  [2.22211e-06 1.99988e-06]\n",
      "  [2.44435e-06 1.99988e-06]\n",
      "  [2.66658e-06 1.99988e-06]\n",
      "  [2.88881e-06 1.99988e-06]\n",
      "  [3.11105e-06 1.99988e-06]\n",
      "  [3.33328e-06 1.99988e-06]\n",
      "  [3.55552e-06 1.99988e-06]\n",
      "  [3.77752e-06 1.99988e-06]\n",
      "  [3.99976e-06 1.99988e-06]]\n",
      "\n",
      " [[1.99988e-06 2.22211e-06]\n",
      "  [2.22211e-06 2.22211e-06]\n",
      "  [2.44435e-06 2.22211e-06]\n",
      "  [2.66658e-06 2.22211e-06]\n",
      "  [2.88881e-06 2.22211e-06]\n",
      "  [3.11105e-06 2.22211e-06]\n",
      "  [3.33328e-06 2.22211e-06]\n",
      "  [3.55552e-06 2.22211e-06]\n",
      "  [3.77752e-06 2.22211e-06]\n",
      "  [3.99976e-06 2.22211e-06]]\n",
      "\n",
      " [[1.99988e-06 2.44435e-06]\n",
      "  [2.22211e-06 2.44435e-06]\n",
      "  [2.44435e-06 2.44435e-06]\n",
      "  [2.66658e-06 2.44435e-06]\n",
      "  [2.88881e-06 2.44435e-06]\n",
      "  [3.11105e-06 2.44435e-06]\n",
      "  [3.33328e-06 2.44435e-06]\n",
      "  [3.55552e-06 2.44435e-06]\n",
      "  [3.77752e-06 2.44435e-06]\n",
      "  [3.99976e-06 2.44435e-06]]\n",
      "\n",
      " [[1.99988e-06 2.66658e-06]\n",
      "  [2.22211e-06 2.66658e-06]\n",
      "  [2.44435e-06 2.66658e-06]\n",
      "  [2.66658e-06 2.66658e-06]\n",
      "  [2.88881e-06 2.66658e-06]\n",
      "  [3.11105e-06 2.66658e-06]\n",
      "  [3.33328e-06 2.66658e-06]\n",
      "  [3.55552e-06 2.66658e-06]\n",
      "  [3.77752e-06 2.66658e-06]\n",
      "  [3.99976e-06 2.66658e-06]]\n",
      "\n",
      " [[1.99988e-06 2.88881e-06]\n",
      "  [2.22211e-06 2.88881e-06]\n",
      "  [2.44435e-06 2.88881e-06]\n",
      "  [2.66658e-06 2.88881e-06]\n",
      "  [2.88881e-06 2.88881e-06]\n",
      "  [3.11105e-06 2.88881e-06]\n",
      "  [3.33328e-06 2.88881e-06]\n",
      "  [3.55552e-06 2.88881e-06]\n",
      "  [3.77752e-06 2.88881e-06]\n",
      "  [3.99976e-06 2.88881e-06]]\n",
      "\n",
      " [[1.99988e-06 3.11105e-06]\n",
      "  [2.22211e-06 3.11105e-06]\n",
      "  [2.44435e-06 3.11105e-06]\n",
      "  [2.66658e-06 3.11105e-06]\n",
      "  [2.88881e-06 3.11105e-06]\n",
      "  [3.11105e-06 3.11105e-06]\n",
      "  [3.33328e-06 3.11105e-06]\n",
      "  [3.55552e-06 3.11105e-06]\n",
      "  [3.77752e-06 3.11105e-06]\n",
      "  [3.99976e-06 3.11105e-06]]\n",
      "\n",
      " [[1.99988e-06 3.33328e-06]\n",
      "  [2.22211e-06 3.33328e-06]\n",
      "  [2.44435e-06 3.33328e-06]\n",
      "  [2.66658e-06 3.33328e-06]\n",
      "  [2.88881e-06 3.33328e-06]\n",
      "  [3.11105e-06 3.33328e-06]\n",
      "  [3.33328e-06 3.33328e-06]\n",
      "  [3.55552e-06 3.33328e-06]\n",
      "  [3.77752e-06 3.33328e-06]\n",
      "  [3.99976e-06 3.33328e-06]]\n",
      "\n",
      " [[1.99988e-06 3.55552e-06]\n",
      "  [2.22211e-06 3.55552e-06]\n",
      "  [2.44435e-06 3.55552e-06]\n",
      "  [2.66658e-06 3.55552e-06]\n",
      "  [2.88881e-06 3.55552e-06]\n",
      "  [3.11105e-06 3.55552e-06]\n",
      "  [3.33328e-06 3.55552e-06]\n",
      "  [3.55552e-06 3.55552e-06]\n",
      "  [3.77752e-06 3.55552e-06]\n",
      "  [3.99976e-06 3.55552e-06]]\n",
      "\n",
      " [[1.99988e-06 3.77752e-06]\n",
      "  [2.22211e-06 3.77752e-06]\n",
      "  [2.44435e-06 3.77752e-06]\n",
      "  [2.66658e-06 3.77752e-06]\n",
      "  [2.88881e-06 3.77752e-06]\n",
      "  [3.11105e-06 3.77752e-06]\n",
      "  [3.33328e-06 3.77752e-06]\n",
      "  [3.55552e-06 3.77752e-06]\n",
      "  [3.77752e-06 3.77752e-06]\n",
      "  [3.99976e-06 3.77752e-06]]\n",
      "\n",
      " [[1.99988e-06 3.99976e-06]\n",
      "  [2.22211e-06 3.99976e-06]\n",
      "  [2.44435e-06 3.99976e-06]\n",
      "  [2.66658e-06 3.99976e-06]\n",
      "  [2.88881e-06 3.99976e-06]\n",
      "  [3.11105e-06 3.99976e-06]\n",
      "  [3.33328e-06 3.99976e-06]\n",
      "  [3.55552e-06 3.99976e-06]\n",
      "  [3.77752e-06 3.99976e-06]\n",
      "  [3.99976e-06 3.99976e-06]]]\n"
     ]
    }
   ],
   "source": [
    "for y_ind in range(y_num):\n",
    "    for x_ind in range(x_num):\n",
    "        x_val_rot, y_val_rot = afm_scanner_logic.pos_arr[y_ind, x_ind]\n",
    "        plt.plot(x_val_rot,y_val_rot,'ro')\n",
    "        \n",
    "plt.show()\n",
    "print(afm_scanner_logic.pos_arr)\n"
   ]
  },
  {
   "cell_type": "code",
   "execution_count": 4,
   "metadata": {},
   "outputs": [
    {
     "data": {
      "text/plain": [
       "dict_keys(['counts_fw', 'counts2_fw', 'counts_diff_fw', 'b_field_fw', 'fit_param_fw', 'Height(Dac)_fw', 'counts_bw', 'counts2_bw', 'counts_diff_bw', 'b_field_bw', 'fit_param_bw', 'Height(Dac)_bw'])"
      ]
     },
     "execution_count": 4,
     "metadata": {},
     "output_type": "execute_result"
    }
   ],
   "source": [
    "array.keys()"
   ]
  },
  {
   "cell_type": "code",
   "execution_count": 6,
   "metadata": {},
   "outputs": [
    {
     "data": {
      "text/plain": [
       "2.499886e-06"
      ]
     },
     "execution_count": 6,
     "metadata": {},
     "output_type": "execute_result"
    }
   ],
   "source": [
    "afm_scanner_logic.get_topo()"
   ]
  },
  {
   "cell_type": "code",
   "execution_count": 9,
   "metadata": {},
   "outputs": [],
   "source": [
    "afm_scanner_logic.afm_goto(4e-6,5e-6)"
   ]
  },
  {
   "cell_type": "code",
   "execution_count": 51,
   "metadata": {},
   "outputs": [
    {
     "name": "stdout",
     "output_type": "stream",
     "text": [
      "24150.0\n"
     ]
    }
   ],
   "source": [
    "afm_scanner_logic._counter._tagger.sync()\n",
    "t_int = 20 # time for integration in ms \n",
    "afm_scanner_logic._counter.countrate.startFor(int(t_int*1e9), clear = True)\n",
    "afm_scanner_logic._counter.countrate.waitUntilFinished(timeout=int(t_int*20))\n",
    "counts = np.nan_to_num(afm_scanner_logic._counter.countrate.getData())[0]\n",
    "print(counts)"
   ]
  },
  {
   "cell_type": "code",
   "execution_count": 3,
   "metadata": {},
   "outputs": [
    {
     "name": "stderr",
     "output_type": "stream",
     "text": [
      "Traceback (most recent call last):\n",
      "  File \"C:\\Users\\yy3\\Documents\\Software\\qudi\\logic\\jupyterkernel\\qzmqkernel.py\", line 679, in run_code\n",
      "    exec(code_obj, self.user_global_ns, self.user_ns)\n",
      "  File \"<ipython-input-3-bb0f1ff98b2b>\", line 1, in <module>\n",
      "    array = afm_scanner_logic.initialize_qafm_scan_array(2e-6,4e-6,10,2e-6,4e-6,10)\n",
      "TypeError: initialize_qafm_scan_array() missing 3 required positional arguments: 'rotation', 'meas_params', and 'meas_dir'\n"
     ]
    }
   ],
   "source": [
    "array = afm_scanner_logic.initialize_qafm_scan_array(2e-6,4e-6,10,2e-6,4e-6,10)"
   ]
  },
  {
   "cell_type": "code",
   "execution_count": 3,
   "metadata": {},
   "outputs": [
    {
     "data": {
      "text/plain": [
       "dict_keys(['counts_fw', 'counts2_fw', 'counts_diff_fw', 'b_field_fw', 'fit_param_fw', 'Height(Dac)_fw', 'counts_bw', 'counts2_bw', 'counts_diff_bw', 'b_field_bw', 'fit_param_bw', 'Height(Dac)_bw'])"
      ]
     },
     "execution_count": 3,
     "metadata": {},
     "output_type": "execute_result"
    }
   ],
   "source": [
    "array.keys()"
   ]
  },
  {
   "cell_type": "code",
   "execution_count": 9,
   "metadata": {},
   "outputs": [],
   "source": [
    "while True:\n",
    "    if spm._dev.base.getParameter(spm._dev.base.getConst('ID_SCAN_STATUS'), 0)==2:\n",
    "        time.sleep(0.01)\n",
    "    else:\n",
    "        break  \n",
    "afm_scanner_logic.set_afm_pos({'x': 3e-6, 'y': 3e-6})\n",
    "while True:\n",
    "    if spm._dev.base.getParameter(spm._dev.base.getConst('ID_SCAN_STATUS'), 0)!=2:\n",
    "        time.sleep(0.01)\n",
    "    else:\n",
    "        break  \n",
    "while True:\n",
    "    if spm._dev.base.getParameter(spm._dev.base.getConst('ID_SCAN_STATUS'), 0)==2:\n",
    "        time.sleep(0.01)\n",
    "    else:\n",
    "        break  "
   ]
  },
  {
   "cell_type": "code",
   "execution_count": 4,
   "metadata": {},
   "outputs": [],
   "source": [
    "afm_scanner_logic.afm_goto(2e-6,2e-6)"
   ]
  },
  {
   "cell_type": "code",
   "execution_count": 2,
   "metadata": {},
   "outputs": [
    {
     "data": {
      "image/png": "[encoded data removed]"
     },
     "metadata": {
      "image/png": {
       "height": 381,
       "width": 357
      }
     },
     "output_type": "display_data"
    }
   ],
   "source": [
    "rotation = 30\n",
    "\n",
    "x_origin = 4e-6\n",
    "x_range = 4e-6\n",
    "x_num = 30\n",
    "\n",
    "y_origin = 5e-6\n",
    "y_range = 4e-6\n",
    "y_num = 10\n",
    "\n",
    "scan_arr = afm_scanner_logic.create_scan_array(x_origin, x_range, x_num, y_origin, y_range, y_num, rotation)\n",
    "\n",
    "fig1, ax = plt.subplots()\n",
    "\n",
    "for y_ind in range(y_num):\n",
    "    for x_ind in range(x_num):\n",
    "        x_pos, y_pos = scan_arr[y_ind, x_ind]\n",
    "        ax.plot(x_pos,y_pos,'ro')\n",
    "ax.plot(x_origin, y_origin, 'xg')\n",
    "\n",
    "x_origin = 5e-6\n",
    "x_range = 1e-6\n",
    "x_num = 20\n",
    "\n",
    "y_origin = 6e-6\n",
    "y_range = 1e-6\n",
    "y_num = 10\n",
    "\n",
    "scan_arr = afm_scanner_logic.create_scan_array(x_origin, x_range, x_num, y_origin, y_range, y_num, rotation)\n",
    "\n",
    "for y_ind in range(y_num):\n",
    "    for x_ind in range(x_num):\n",
    "        x_pos, y_pos = scan_arr[y_ind, x_ind]\n",
    "        ax.plot(x_pos,y_pos,'bo')\n",
    "ax.plot(x_origin, y_origin, 'o')\n",
    "\n",
    "ax.set_xlim(1e-6, 7e-6)\n",
    "ax.set_ylim(2e-6, 8e-6)\n",
    "ax.set_box_aspect(1)\n",
    "x_pos, y_pos = scan_arr[0, 1]\n",
    "ax.plot(x_pos,y_pos,'bo')\n",
    "x_pos, y_pos = scan_arr[0, -1]\n",
    "ax.plot(x_pos,y_pos,'bo')\n",
    "x_pos, y_pos = scan_arr[-1, 0]\n",
    "ax.plot(x_pos,y_pos,'bo')\n",
    "x_pos, y_pos = scan_arr[-1, -1]\n",
    "ax.plot(x_pos,y_pos,'bo')\n",
    "\n",
    "# point_grid_dict = {\n",
    "#                 'bottom_left': [scan_arr[0, 0, 0], scan_arr[0, 0, 1]],\n",
    "#                 'bottom_right': [scan_arr[0, -1, 0], scan_arr[0, -1, 1]],\n",
    "#                 'top_left': [scan_arr[-1, 0, 0], scan_arr[-1, 0, 1]],\n",
    "#                 'top_right': [scan_arr[-1, -1, 0], scan_arr[-1, -1, 1]]}\n",
    "# ax.plot(point_grid_dict['bottom_left'][0],point_grid_dict['bottom_left'][1],'bo')\n",
    "plt.show()"
   ]
  },
  {
   "cell_type": "code",
   "execution_count": 2,
   "metadata": {},
   "outputs": [],
   "source": [
    "meas_params = ['Height(Dac)','counts','fit_param']\n",
    "scan_dir = ['fw']\n",
    "\n",
    "scan_point = {}\n",
    "\n",
    "for direction in scan_dir:\n",
    "    for param in meas_params:\n",
    "\n",
    "        name = f'{param}_{direction}' # this is the naming convention!\n",
    "        scan_point[name] = 0"
   ]
  },
  {
   "cell_type": "code",
   "execution_count": 8,
   "metadata": {},
   "outputs": [
    {
     "name": "stdout",
     "output_type": "stream",
     "text": [
      "['Jupyter-ensemble-podmr-(20000000.0,1000000.0,7e-08)', {'step_index': 1, 'step_segment': 'podmr-qafm-scan_test', 'step_loops': 1, 'next_step_index': 1, 'step_end_cond': 'always'}]\n",
      "['Jupyter-ensemble-podmr-(20000000.0,1000000.0,7e-08)', {'step_index': 1, 'step_segment': 'podmr-qafm-scan_test', 'step_loops': 1, 'next_step_index': 1, 'step_end_cond': 'always'}]\n"
     ]
    }
   ],
   "source": [
    "podmr_tracking_name ='podmr-qafm-scan'\n",
    "two_point_tracking_name = 'two-point-tracking-qafm-scan'\n",
    "current_uploaded_ensembles = awg_spectrum._current_uploaded_ensembles\n",
    "current_uploaded_ensembles.append(podmr_tracking_name+'_test')\n",
    "print(current_uploaded_ensembles)\n",
    "for idx, ensemble in enumerate(current_uploaded_ensembles):\n",
    "    if podmr_tracking_name in ensemble or two_point_tracking_name in ensemble:\n",
    "        del current_uploaded_ensembles[idx]\n",
    "print(current_uploaded_ensembles)"
   ]
  },
  {
   "cell_type": "code",
   "execution_count": 19,
   "metadata": {},
   "outputs": [
    {
     "name": "stdout",
     "output_type": "stream",
     "text": [
      "[{'step_index': 0, 'step_segment': 'Jupyter-ensemble-podmr-(20000000.0,1000000.0,7e-08)', 'step_loops': 150000, 'next_step_index': 0, 'step_end_cond': 'stop'}, {'step_index': 1, 'step_segment': 'podmr-qafm-scan_test', 'step_loops': 1, 'next_step_index': 1, 'step_end_cond': 'always'}]\n",
      "[{'step_index': 0, 'step_segment': 'Jupyter-ensemble-podmr-(20000000.0,1000000.0,7e-08)', 'step_loops': 150000, 'next_step_index': 0, 'step_end_cond': 'stop'}]\n",
      "[{'step_index': 0, 'step_segment': 'Jupyter-ensemble-podmr-(20000000.0,1000000.0,7e-08)', 'step_loops': 150000, 'next_step_index': 0, 'step_end_cond': 'stop'}]\n",
      "[{'step_index': 0, 'step_segment': 'Jupyter-ensemble-podmr-(20000000.0,1000000.0,7e-08)', 'step_loops': 100, 'next_step_index': 0, 'step_end_cond': 'always'}]\n"
     ]
    }
   ],
   "source": [
    "num_runs = 150000\n",
    "current_uploaded_sequence_step_list = awg_spectrum._current_uploaded_sequence_step_list\n",
    "step = {\"step_index\" : 1,\n",
    "        \"step_segment\" : podmr_tracking_name+'_test',\n",
    "        \"step_loops\" : 1,\n",
    "        \"next_step_index\" : 1,\n",
    "        \"step_end_cond\" : 'always'\n",
    "        }\n",
    "current_uploaded_sequence_step_list.append(step)\n",
    "print(current_uploaded_sequence_step_list)\n",
    "for idx, sequence_step in enumerate(current_uploaded_sequence_step_list):\n",
    "        if podmr_tracking_name in sequence_step['step_segment'] or two_point_tracking_name in sequence_step['step_segment']:\n",
    "            del current_uploaded_sequence_step_list[idx]\n",
    "print(current_uploaded_sequence_step_list)\n",
    "if len(current_uploaded_sequence_step_list) == 1:\n",
    "    current_uploaded_sequence_step_list[0]['step_index'] = 0\n",
    "    current_uploaded_sequence_step_list[0]['step_loops'] = num_runs\n",
    "    current_uploaded_sequence_step_list[0]['next_step_index'] = 0\n",
    "    current_uploaded_sequence_step_list[0]['step_end_cond'] = 'stop'\n",
    "    \n",
    "print(current_uploaded_sequence_step_list)\n",
    "for idx, step in enumerate(current_uploaded_sequence_step_list):\n",
    "    step['step_index'] = idx\n",
    "    step['step_loops'] = 100\n",
    "    step['next_step_index'] = 0 if idx+1 == len(current_uploaded_sequence_step_list) else idx+1\n",
    "    step['step_end_cond'] = 'always'\n",
    "    "
   ]
  },
  {
   "cell_type": "code",
   "execution_count": 4,
   "metadata": {},
   "outputs": [
    {
     "name": "stdout",
     "output_type": "stream",
     "text": [
      "['Height(Dac)_fw', 'counts_fw', 'fit_param_fw']\n"
     ]
    }
   ],
   "source": [
    "def make_meas_params(meas_param_names, scan_dir):\n",
    "        meas_params = []\n",
    "        for name in meas_param_names:\n",
    "            for dir in scan_dir:\n",
    "                meas_params.append(f'{name}_{dir}')\n",
    "        return meas_params\n",
    "    \n",
    "meas_params = make_meas_params(['Height(Dac)','counts','fit_param'],['fw'])\n",
    "print(meas_params)"
   ]
  },
  {
   "cell_type": "code",
   "execution_count": null,
   "metadata": {},
   "outputs": [],
   "source": []
  }
 ],
 "metadata": {
  "kernelspec": {
   "display_name": "Qudi",
   "language": "python",
   "name": "sj5-qudi"
  },
  "language_info": {
   "codemirror_mode": {
    "name": "ipython",
    "version": "3.6.5"
   },
   "file_extension": ".py",
   "mimetype": "text/x-python",
   "name": "python",
   "nbconvert_exporter": "python",
   "pygments_lexer": "ipython3",
   "version": "3.6.5"
  }
 },
 "nbformat": 4,
 "nbformat_minor": 2
}
