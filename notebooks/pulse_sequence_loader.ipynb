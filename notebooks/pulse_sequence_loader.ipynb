{
 "cells": [
  {
   "cell_type": "code",
   "execution_count": 2,
   "metadata": {},
   "outputs": [],
   "source": [
    "import sys \n",
    "import matplotlib.pyplot as plt\n",
    "\n",
    "pml = pulsedmeasurementlogic\n",
    "pmal = pulsedmasterlogic\n",
    "odmr = odmrlogic\n",
    "\n",
    "import logic.pulsed.pulse_objects as po\n",
    "import time\n",
    "import os"
   ]
  },
  {
   "cell_type": "code",
   "execution_count": 3,
   "metadata": {},
   "outputs": [],
   "source": [
    "class qudi_pulsed_measurements:\n",
    "\n",
    "    def __init__(self, laser_on = 3e-6, relaxation_pause = 10e-6):\n",
    "\n",
    "        self.laser_on = laser_on\n",
    "        self.relaxation_pause = relaxation_pause\n",
    "        self.pause_total_ns = (self.laser_on + self.relaxation_pause)*1e9\n",
    "        \n",
    "        self.max_samples = 2e9\n",
    "        \n",
    "        self.trigger_block = self.make_trigger_pulse_block()\n",
    "    \n",
    "    def make_next_pulse_block(self):\n",
    "        '''\n",
    "        Triggers the next histogram in the fast counter time differences measurement and also give the GUI the laser channel as d_ch8.\n",
    "        '''\n",
    "        ele = [] \n",
    "        \n",
    "        d_ch = {'d_ch1': False, 'd_ch2': False, 'd_ch4': False, 'd_ch3': True, 'd_ch5': False, 'd_ch6': False, 'd_ch7': False, 'd_ch8': True}\n",
    "        ele.append(po.PulseBlockElement(init_length_s=1e-6, increment_s=0, pulse_function=None, digital_high=d_ch, laser_on=False))\n",
    "\n",
    "        pulse_block = po.PulseBlock(name='next_block', element_list=ele)\n",
    "        \n",
    "        return pulse_block\n",
    "    \n",
    "    def make_trigger_pulse_block(self):\n",
    "        ele = [] \n",
    "        \n",
    "        d_ch = {'d_ch1': False, 'd_ch2': False, 'd_ch4': False, 'd_ch3': False, 'd_ch5': False, 'd_ch6': True, 'd_ch7': False, 'd_ch8': False}\n",
    "        ele.append(po.PulseBlockElement(init_length_s=1e-3, increment_s=0, pulse_function=None, digital_high=d_ch, laser_on=False))\n",
    "\n",
    "        pulse_block = po.PulseBlock(name='trigger_block', element_list=ele)\n",
    "        \n",
    "        return pulse_block\n",
    "    \n",
    "    def make_pulsed_ODMR_pulse_block(self, pi_pulse):\n",
    "        ele = []\n",
    "    \n",
    "        d_ch = {'d_ch1': False, 'd_ch2': False, 'd_ch4': False, 'd_ch3': False, 'd_ch5': True, 'd_ch6': False, 'd_ch7': False, 'd_ch8': False}\n",
    "        ele.append(po.PulseBlockElement(init_length_s=pi_pulse*1e-9, increment_s=0, pulse_function=None, digital_high=d_ch, laser_on=False))\n",
    "\n",
    "        d_ch = {'d_ch1': False, 'd_ch2': False, 'd_ch4': False, 'd_ch3': False, 'd_ch5': False, 'd_ch6': False, 'd_ch7': False, 'd_ch8': False}\n",
    "        ele.append(po.PulseBlockElement(init_length_s=50e-9, increment_s=0, pulse_function=None, digital_high=d_ch, laser_on=False))\n",
    "        \n",
    "        d_ch = {'d_ch1': True, 'd_ch2': True, 'd_ch4': False, 'd_ch3': False, 'd_ch5': False, 'd_ch6': False, 'd_ch7': False, 'd_ch8': False}\n",
    "        ele.append(po.PulseBlockElement(init_length_s=self.laser_on, increment_s=0, pulse_function=None, digital_high=d_ch, laser_on=False))\n",
    "\n",
    "        d_ch = {'d_ch1': False, 'd_ch2': False, 'd_ch4': False, 'd_ch3': False, 'd_ch5': False, 'd_ch6': False, 'd_ch7': False, 'd_ch8': False}\n",
    "        ele.append(po.PulseBlockElement(init_length_s=self.relaxation_pause, increment_s=0, pulse_function=None, digital_high=d_ch, laser_on=False))\n",
    "        \n",
    "        pulse_block = po.PulseBlock(name=f'pulsed_ODMR_qudi', element_list=ele)\n",
    "        \n",
    "        return pulse_block\n",
    "    \n",
    "    def make_podmr_ensemble(self, pulse, trig_mw, trig_counter, repetitions, n_freq):\n",
    "        block_list = []\n",
    "        for i in range(n_freq):\n",
    "            block_list.append((trig_mw, 0))\n",
    "            block_list.append((trig_counter, 0))\n",
    "            block_list.append((pulse, repetitions))\n",
    "        \n",
    "        return block_list\n",
    "    \n",
    "    def upload_pulsed_ODMR_ensemble(self, freq_list, pi_pulse, repetitions):\n",
    "        pulse = self.make_pulsed_ODMR_pulse_block(pi_pulse)\n",
    "        sequencegeneratorlogic.save_block(pulse)\n",
    "        \n",
    "        trig_mw = self.make_trigger_pulse_block()\n",
    "        sequencegeneratorlogic.save_block(trig_mw)\n",
    "        \n",
    "        trig_counter = self.make_next_pulse_block()\n",
    "        sequencegeneratorlogic.save_block(trig_counter)\n",
    "        \n",
    "        bl = self.make_podmr_ensemble(pulse.name, trig_mw.name, trig_counter.name, repetitions, len(freq_list))\n",
    "        auto_pulse_CW = po.PulseBlockEnsemble(name=f'pulsed_ODMR_qudi', block_list=bl, rotating_frame=False)\n",
    "\n",
    "        ensemble = auto_pulse_CW\n",
    "        ensemblename = auto_pulse_CW.name\n",
    "        sequencegeneratorlogic.save_ensemble(ensemble)\n",
    "        ret,_,_ = sequencegeneratorlogic.sample_pulse_block_ensemble(ensemblename)\n",
    "        sequencegeneratorlogic.load_ensemble(ensemblename)\n",
    "\n",
    "        return ret\n",
    "    \n",
    "    def pulsed_ODMR(self,freq_list, pi_pulse, repetitions):\n",
    "        pulsedmasterlogic.set_ext_microwave_settings(use_ext_microwave=False)\n",
    "        err = self.upload_pulsed_ODMR_ensemble(freq_list, pi_pulse, repetitions)\n",
    "        pulsedmasterlogic.set_measurement_settings(invoke_settings=False, \n",
    "                                                controlled_variable=freq_list,\n",
    "                                                number_of_lasers=len(freq_list), \n",
    "                                                laser_ignore_list=[], \n",
    "                                                alternating=False, \n",
    "                                                units=('Hz', 'arb. u.'))\n",
    "        pulsedmasterlogic.set_fast_counter_settings(record_length = self.laser_on)\n",
    "        time.sleep(0.5)\n",
    "        pulsedmasterlogic.set_alternative_data_type('None')\n",
    "        time.sleep(0.5)"
   ]
  },
  {
   "cell_type": "code",
   "execution_count": 14,
   "metadata": {},
   "outputs": [
    {
     "name": "stdout",
     "output_type": "stream",
     "text": [
      "41\n",
      "[2.8600e+09 2.8605e+09 2.8610e+09 2.8615e+09 2.8620e+09 2.8625e+09\n",
      " 2.8630e+09 2.8635e+09 2.8640e+09 2.8645e+09 2.8650e+09 2.8655e+09\n",
      " 2.8660e+09 2.8665e+09 2.8670e+09 2.8675e+09 2.8680e+09 2.8685e+09\n",
      " 2.8690e+09 2.8695e+09 2.8700e+09 2.8705e+09 2.8710e+09 2.8715e+09\n",
      " 2.8720e+09 2.8725e+09 2.8730e+09 2.8735e+09 2.8740e+09 2.8745e+09\n",
      " 2.8750e+09 2.8755e+09 2.8760e+09 2.8765e+09 2.8770e+09 2.8775e+09\n",
      " 2.8780e+09 2.8785e+09 2.8790e+09 2.8795e+09 2.8800e+09]\n"
     ]
    }
   ],
   "source": [
    "measurement = qudi_pulsed_measurements(laser_on = 4e-6, relaxation_pause = 2e-6)\n",
    "\n",
    "freq_start=2.86e9\n",
    "freq_step=500e3\n",
    "freq_stop=2.88e9\n",
    "\n",
    "odmrlogic.set_sweep_parameters([freq_start],[freq_stop], [freq_step],-15)\n",
    "odmrlogic.mw_sweep_on()\n",
    "time.sleep(1)\n",
    "odmrlogic.mw_off()\n",
    "freq_list = odmrlogic.final_freq_list\n",
    "print(len(freq_list))\n",
    "print(freq_list)\n",
    "measurement.pulsed_ODMR(freq_list, pi_pulse=213, repetitions=1000)"
   ]
  },
  {
   "cell_type": "code",
   "execution_count": 15,
   "metadata": {},
   "outputs": [
    {
     "data": {
      "text/plain": [
       "('list', True)"
      ]
     },
     "execution_count": 15,
     "metadata": {},
     "output_type": "execute_result"
    }
   ],
   "source": [
    "odmrlogic.mw_sweep_on()"
   ]
  },
  {
   "cell_type": "code",
   "execution_count": 17,
   "metadata": {},
   "outputs": [
    {
     "data": {
      "text/plain": [
       "('list', False)"
      ]
     },
     "execution_count": 17,
     "metadata": {},
     "output_type": "execute_result"
    }
   ],
   "source": [
    "odmrlogic.mw_off()"
   ]
  }
 ],
 "metadata": {
  "kernelspec": {
   "display_name": "Qudi",
   "language": "python",
   "name": "sj5-qudi"
  },
  "language_info": {
   "codemirror_mode": {
    "name": "ipython",
    "version": "3.6.5"
   },
   "file_extension": ".py",
   "mimetype": "text/x-python",
   "name": "python",
   "nbconvert_exporter": "python",
   "pygments_lexer": "ipython3",
   "version": "3.6.5"
  }
 },
 "nbformat": 4,
 "nbformat_minor": 5
}
